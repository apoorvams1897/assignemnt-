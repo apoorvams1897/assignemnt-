{
  "nbformat": 4,
  "nbformat_minor": 0,
  "metadata": {
    "colab": {
      "name": "NightHack Assignment.ipynb",
      "provenance": [],
      "collapsed_sections": []
    },
    "kernelspec": {
      "display_name": "Python 3",
      "name": "python3"
    }
  },
  "cells": [
    {
      "cell_type": "code",
      "metadata": {
        "colab": {
          "base_uri": "https://localhost:8080/"
        },
        "id": "qk9MyP-yIgeP",
        "outputId": "46218222-8541-4300-ddf7-a1b8cc00ebb2"
      },
      "source": [
        "from google.colab import drive\r\n",
        "drive.mount('/content/drive')"
      ],
      "execution_count": 1,
      "outputs": [
        {
          "output_type": "stream",
          "text": [
            "Drive already mounted at /content/drive; to attempt to forcibly remount, call drive.mount(\"/content/drive\", force_remount=True).\n"
          ],
          "name": "stdout"
        }
      ]
    },
    {
      "cell_type": "markdown",
      "metadata": {
        "id": "eu4O6Kfpb3N7"
      },
      "source": [
        "**Reading the CSV dataset into the DataFrame**"
      ]
    },
    {
      "cell_type": "code",
      "metadata": {
        "colab": {
          "base_uri": "https://localhost:8080/",
          "height": 221
        },
        "id": "hmaHiIsKIhts",
        "outputId": "b4e87b8f-8cb3-4492-f752-e2118ff31f3a"
      },
      "source": [
        "%cd /content/drive/My Drive/\r\n",
        "import pandas as pd\r\n",
        "df = pd.read_csv('./Masters/assignment.csv')\r\n",
        "df.head()"
      ],
      "execution_count": 2,
      "outputs": [
        {
          "output_type": "stream",
          "text": [
            "/content/drive/My Drive\n"
          ],
          "name": "stdout"
        },
        {
          "output_type": "execute_result",
          "data": {
            "text/html": [
              "<div>\n",
              "<style scoped>\n",
              "    .dataframe tbody tr th:only-of-type {\n",
              "        vertical-align: middle;\n",
              "    }\n",
              "\n",
              "    .dataframe tbody tr th {\n",
              "        vertical-align: top;\n",
              "    }\n",
              "\n",
              "    .dataframe thead th {\n",
              "        text-align: right;\n",
              "    }\n",
              "</style>\n",
              "<table border=\"1\" class=\"dataframe\">\n",
              "  <thead>\n",
              "    <tr style=\"text-align: right;\">\n",
              "      <th></th>\n",
              "      <th>Author</th>\n",
              "      <th>Title</th>\n",
              "      <th>Poetry Foundation ID</th>\n",
              "      <th>Content</th>\n",
              "      <th>Tag</th>\n",
              "    </tr>\n",
              "  </thead>\n",
              "  <tbody>\n",
              "    <tr>\n",
              "      <th>0</th>\n",
              "      <td>Wendy Videlock</td>\n",
              "      <td>!</td>\n",
              "      <td>55489</td>\n",
              "      <td>Dear Writers, I’m compiling the first in what ...</td>\n",
              "      <td>NaN</td>\n",
              "    </tr>\n",
              "    <tr>\n",
              "      <th>1</th>\n",
              "      <td>Hailey Leithauser</td>\n",
              "      <td>0</td>\n",
              "      <td>41729</td>\n",
              "      <td>Philosophic\\nin its complex, void emptiness,\\n...</td>\n",
              "      <td>novel</td>\n",
              "    </tr>\n",
              "    <tr>\n",
              "      <th>2</th>\n",
              "      <td>Jody Gladding</td>\n",
              "      <td>1-800-FEAR</td>\n",
              "      <td>57135</td>\n",
              "      <td>We'd  like  to  talk  with  you  about  fear t...</td>\n",
              "      <td>NaN</td>\n",
              "    </tr>\n",
              "    <tr>\n",
              "      <th>3</th>\n",
              "      <td>Joseph Brodsky</td>\n",
              "      <td>01-Jan-65</td>\n",
              "      <td>56736</td>\n",
              "      <td>The Wise Men will unlearn your name.\\nAbove yo...</td>\n",
              "      <td>poetry</td>\n",
              "    </tr>\n",
              "    <tr>\n",
              "      <th>4</th>\n",
              "      <td>Ted Berrigan</td>\n",
              "      <td>3 Pages</td>\n",
              "      <td>51624</td>\n",
              "      <td>For Jack Collom\\n10 Things I do Every Day\\n\\np...</td>\n",
              "      <td>novel</td>\n",
              "    </tr>\n",
              "  </tbody>\n",
              "</table>\n",
              "</div>"
            ],
            "text/plain": [
              "              Author  ...     Tag\n",
              "0     Wendy Videlock  ...     NaN\n",
              "1  Hailey Leithauser  ...   novel\n",
              "2      Jody Gladding  ...     NaN\n",
              "3     Joseph Brodsky  ...  poetry\n",
              "4       Ted Berrigan  ...   novel\n",
              "\n",
              "[5 rows x 5 columns]"
            ]
          },
          "metadata": {
            "tags": []
          },
          "execution_count": 2
        }
      ]
    },
    {
      "cell_type": "markdown",
      "metadata": {
        "id": "I8aXP-uicLaG"
      },
      "source": [
        "**Title of each column in the dataframe**"
      ]
    },
    {
      "cell_type": "code",
      "metadata": {
        "colab": {
          "base_uri": "https://localhost:8080/",
          "height": 49
        },
        "id": "DMPvHVDdIMUl",
        "outputId": "38388896-5314-404f-e7ef-3b5c566bef46"
      },
      "source": [
        "df.head(0) "
      ],
      "execution_count": 3,
      "outputs": [
        {
          "output_type": "execute_result",
          "data": {
            "text/html": [
              "<div>\n",
              "<style scoped>\n",
              "    .dataframe tbody tr th:only-of-type {\n",
              "        vertical-align: middle;\n",
              "    }\n",
              "\n",
              "    .dataframe tbody tr th {\n",
              "        vertical-align: top;\n",
              "    }\n",
              "\n",
              "    .dataframe thead th {\n",
              "        text-align: right;\n",
              "    }\n",
              "</style>\n",
              "<table border=\"1\" class=\"dataframe\">\n",
              "  <thead>\n",
              "    <tr style=\"text-align: right;\">\n",
              "      <th></th>\n",
              "      <th>Author</th>\n",
              "      <th>Title</th>\n",
              "      <th>Poetry Foundation ID</th>\n",
              "      <th>Content</th>\n",
              "      <th>Tag</th>\n",
              "    </tr>\n",
              "  </thead>\n",
              "  <tbody>\n",
              "  </tbody>\n",
              "</table>\n",
              "</div>"
            ],
            "text/plain": [
              "Empty DataFrame\n",
              "Columns: [Author, Title, Poetry Foundation ID, Content, Tag]\n",
              "Index: []"
            ]
          },
          "metadata": {
            "tags": []
          },
          "execution_count": 3
        }
      ]
    },
    {
      "cell_type": "markdown",
      "metadata": {
        "id": "F2lZGJLOcTK9"
      },
      "source": [
        "**Information on the contents pf the dataframe**"
      ]
    },
    {
      "cell_type": "code",
      "metadata": {
        "colab": {
          "base_uri": "https://localhost:8080/"
        },
        "id": "G6ydDkMQIOmo",
        "outputId": "b7f36835-126b-4e73-e82b-a763d4718e58"
      },
      "source": [
        "df.info() "
      ],
      "execution_count": 4,
      "outputs": [
        {
          "output_type": "stream",
          "text": [
            "<class 'pandas.core.frame.DataFrame'>\n",
            "RangeIndex: 45 entries, 0 to 44\n",
            "Data columns (total 5 columns):\n",
            " #   Column                Non-Null Count  Dtype \n",
            "---  ------                --------------  ----- \n",
            " 0   Author                45 non-null     object\n",
            " 1   Title                 45 non-null     object\n",
            " 2   Poetry Foundation ID  45 non-null     int64 \n",
            " 3   Content               45 non-null     object\n",
            " 4   Tag                   41 non-null     object\n",
            "dtypes: int64(1), object(4)\n",
            "memory usage: 1.9+ KB\n"
          ],
          "name": "stdout"
        }
      ]
    },
    {
      "cell_type": "markdown",
      "metadata": {
        "id": "hcJwpNlacZHw"
      },
      "source": [
        "**Dropping columns Author, Title and ID**"
      ]
    },
    {
      "cell_type": "code",
      "metadata": {
        "id": "WZ9_5kpsU4wa"
      },
      "source": [
        "df_1 = df.drop(df.columns[[0,1,2]],axis= 1) "
      ],
      "execution_count": 5,
      "outputs": []
    },
    {
      "cell_type": "code",
      "metadata": {
        "colab": {
          "base_uri": "https://localhost:8080/"
        },
        "id": "Jl6vhUVkVAhH",
        "outputId": "c0e31a24-8e7a-4af4-9890-1f4700ced9dc"
      },
      "source": [
        "df_1.columns"
      ],
      "execution_count": 6,
      "outputs": [
        {
          "output_type": "execute_result",
          "data": {
            "text/plain": [
              "Index(['Content', 'Tag'], dtype='object')"
            ]
          },
          "metadata": {
            "tags": []
          },
          "execution_count": 6
        }
      ]
    },
    {
      "cell_type": "markdown",
      "metadata": {
        "id": "FbR_17pgciQy"
      },
      "source": [
        "**Final DataFrame**"
      ]
    },
    {
      "cell_type": "code",
      "metadata": {
        "colab": {
          "base_uri": "https://localhost:8080/",
          "height": 204
        },
        "id": "1CkA9dicVT_L",
        "outputId": "b1a317a6-7152-456a-e9aa-031b92e57fe4"
      },
      "source": [
        "df_1.head()"
      ],
      "execution_count": 7,
      "outputs": [
        {
          "output_type": "execute_result",
          "data": {
            "text/html": [
              "<div>\n",
              "<style scoped>\n",
              "    .dataframe tbody tr th:only-of-type {\n",
              "        vertical-align: middle;\n",
              "    }\n",
              "\n",
              "    .dataframe tbody tr th {\n",
              "        vertical-align: top;\n",
              "    }\n",
              "\n",
              "    .dataframe thead th {\n",
              "        text-align: right;\n",
              "    }\n",
              "</style>\n",
              "<table border=\"1\" class=\"dataframe\">\n",
              "  <thead>\n",
              "    <tr style=\"text-align: right;\">\n",
              "      <th></th>\n",
              "      <th>Content</th>\n",
              "      <th>Tag</th>\n",
              "    </tr>\n",
              "  </thead>\n",
              "  <tbody>\n",
              "    <tr>\n",
              "      <th>0</th>\n",
              "      <td>Dear Writers, I’m compiling the first in what ...</td>\n",
              "      <td>NaN</td>\n",
              "    </tr>\n",
              "    <tr>\n",
              "      <th>1</th>\n",
              "      <td>Philosophic\\nin its complex, void emptiness,\\n...</td>\n",
              "      <td>novel</td>\n",
              "    </tr>\n",
              "    <tr>\n",
              "      <th>2</th>\n",
              "      <td>We'd  like  to  talk  with  you  about  fear t...</td>\n",
              "      <td>NaN</td>\n",
              "    </tr>\n",
              "    <tr>\n",
              "      <th>3</th>\n",
              "      <td>The Wise Men will unlearn your name.\\nAbove yo...</td>\n",
              "      <td>poetry</td>\n",
              "    </tr>\n",
              "    <tr>\n",
              "      <th>4</th>\n",
              "      <td>For Jack Collom\\n10 Things I do Every Day\\n\\np...</td>\n",
              "      <td>novel</td>\n",
              "    </tr>\n",
              "  </tbody>\n",
              "</table>\n",
              "</div>"
            ],
            "text/plain": [
              "                                             Content     Tag\n",
              "0  Dear Writers, I’m compiling the first in what ...     NaN\n",
              "1  Philosophic\\nin its complex, void emptiness,\\n...   novel\n",
              "2  We'd  like  to  talk  with  you  about  fear t...     NaN\n",
              "3  The Wise Men will unlearn your name.\\nAbove yo...  poetry\n",
              "4  For Jack Collom\\n10 Things I do Every Day\\n\\np...   novel"
            ]
          },
          "metadata": {
            "tags": []
          },
          "execution_count": 7
        }
      ]
    },
    {
      "cell_type": "markdown",
      "metadata": {
        "id": "UT1yWOayNJRn"
      },
      "source": [
        "# **Pre-processing the Data**"
      ]
    },
    {
      "cell_type": "code",
      "metadata": {
        "colab": {
          "base_uri": "https://localhost:8080/"
        },
        "id": "aA7jMr2zJCpM",
        "outputId": "df071a16-0da6-44ea-ba15-8ae8fc84155b"
      },
      "source": [
        "pip install nltk"
      ],
      "execution_count": 8,
      "outputs": [
        {
          "output_type": "stream",
          "text": [
            "Requirement already satisfied: nltk in /usr/local/lib/python3.6/dist-packages (3.2.5)\n",
            "Requirement already satisfied: six in /usr/local/lib/python3.6/dist-packages (from nltk) (1.15.0)\n"
          ],
          "name": "stdout"
        }
      ]
    },
    {
      "cell_type": "markdown",
      "metadata": {
        "id": "qkzEdZPrN8E2"
      },
      "source": [
        "## **convert all text to lower-case**"
      ]
    },
    {
      "cell_type": "code",
      "metadata": {
        "id": "1TX7ZYeHS4Jw"
      },
      "source": [
        "df_1['lowercase'] = df_1['Content'].apply(lambda Content: Content.lower())"
      ],
      "execution_count": 9,
      "outputs": []
    },
    {
      "cell_type": "code",
      "metadata": {
        "colab": {
          "base_uri": "https://localhost:8080/",
          "height": 204
        },
        "id": "AH8NUtUaWN6v",
        "outputId": "62a389e2-0930-426e-e012-c2752c097e7e"
      },
      "source": [
        "df_1.head()"
      ],
      "execution_count": 10,
      "outputs": [
        {
          "output_type": "execute_result",
          "data": {
            "text/html": [
              "<div>\n",
              "<style scoped>\n",
              "    .dataframe tbody tr th:only-of-type {\n",
              "        vertical-align: middle;\n",
              "    }\n",
              "\n",
              "    .dataframe tbody tr th {\n",
              "        vertical-align: top;\n",
              "    }\n",
              "\n",
              "    .dataframe thead th {\n",
              "        text-align: right;\n",
              "    }\n",
              "</style>\n",
              "<table border=\"1\" class=\"dataframe\">\n",
              "  <thead>\n",
              "    <tr style=\"text-align: right;\">\n",
              "      <th></th>\n",
              "      <th>Content</th>\n",
              "      <th>Tag</th>\n",
              "      <th>lowercase</th>\n",
              "    </tr>\n",
              "  </thead>\n",
              "  <tbody>\n",
              "    <tr>\n",
              "      <th>0</th>\n",
              "      <td>Dear Writers, I’m compiling the first in what ...</td>\n",
              "      <td>NaN</td>\n",
              "      <td>dear writers, i’m compiling the first in what ...</td>\n",
              "    </tr>\n",
              "    <tr>\n",
              "      <th>1</th>\n",
              "      <td>Philosophic\\nin its complex, void emptiness,\\n...</td>\n",
              "      <td>novel</td>\n",
              "      <td>philosophic\\nin its complex, void emptiness,\\n...</td>\n",
              "    </tr>\n",
              "    <tr>\n",
              "      <th>2</th>\n",
              "      <td>We'd  like  to  talk  with  you  about  fear t...</td>\n",
              "      <td>NaN</td>\n",
              "      <td>we'd  like  to  talk  with  you  about  fear t...</td>\n",
              "    </tr>\n",
              "    <tr>\n",
              "      <th>3</th>\n",
              "      <td>The Wise Men will unlearn your name.\\nAbove yo...</td>\n",
              "      <td>poetry</td>\n",
              "      <td>the wise men will unlearn your name.\\nabove yo...</td>\n",
              "    </tr>\n",
              "    <tr>\n",
              "      <th>4</th>\n",
              "      <td>For Jack Collom\\n10 Things I do Every Day\\n\\np...</td>\n",
              "      <td>novel</td>\n",
              "      <td>for jack collom\\n10 things i do every day\\n\\np...</td>\n",
              "    </tr>\n",
              "  </tbody>\n",
              "</table>\n",
              "</div>"
            ],
            "text/plain": [
              "                                             Content  ...                                          lowercase\n",
              "0  Dear Writers, I’m compiling the first in what ...  ...  dear writers, i’m compiling the first in what ...\n",
              "1  Philosophic\\nin its complex, void emptiness,\\n...  ...  philosophic\\nin its complex, void emptiness,\\n...\n",
              "2  We'd  like  to  talk  with  you  about  fear t...  ...  we'd  like  to  talk  with  you  about  fear t...\n",
              "3  The Wise Men will unlearn your name.\\nAbove yo...  ...  the wise men will unlearn your name.\\nabove yo...\n",
              "4  For Jack Collom\\n10 Things I do Every Day\\n\\np...  ...  for jack collom\\n10 things i do every day\\n\\np...\n",
              "\n",
              "[5 rows x 3 columns]"
            ]
          },
          "metadata": {
            "tags": []
          },
          "execution_count": 10
        }
      ]
    },
    {
      "cell_type": "markdown",
      "metadata": {
        "id": "bTB3YjkwWZKS"
      },
      "source": [
        "## **Remove Numbers**"
      ]
    },
    {
      "cell_type": "code",
      "metadata": {
        "id": "-P0RfZi0Wb9X"
      },
      "source": [
        "import re\r\n",
        "import nltk\r\n",
        "df_1['no_free'] = df_1['lowercase'].apply( lambda no_free: re.sub(r'\\d+','', no_free))"
      ],
      "execution_count": 11,
      "outputs": []
    },
    {
      "cell_type": "code",
      "metadata": {
        "colab": {
          "base_uri": "https://localhost:8080/",
          "height": 204
        },
        "id": "mhoilicYWhtl",
        "outputId": "49344f30-9b64-49b7-d6eb-ac51e8474d0c"
      },
      "source": [
        "df_1.head()"
      ],
      "execution_count": 12,
      "outputs": [
        {
          "output_type": "execute_result",
          "data": {
            "text/html": [
              "<div>\n",
              "<style scoped>\n",
              "    .dataframe tbody tr th:only-of-type {\n",
              "        vertical-align: middle;\n",
              "    }\n",
              "\n",
              "    .dataframe tbody tr th {\n",
              "        vertical-align: top;\n",
              "    }\n",
              "\n",
              "    .dataframe thead th {\n",
              "        text-align: right;\n",
              "    }\n",
              "</style>\n",
              "<table border=\"1\" class=\"dataframe\">\n",
              "  <thead>\n",
              "    <tr style=\"text-align: right;\">\n",
              "      <th></th>\n",
              "      <th>Content</th>\n",
              "      <th>Tag</th>\n",
              "      <th>lowercase</th>\n",
              "      <th>no_free</th>\n",
              "    </tr>\n",
              "  </thead>\n",
              "  <tbody>\n",
              "    <tr>\n",
              "      <th>0</th>\n",
              "      <td>Dear Writers, I’m compiling the first in what ...</td>\n",
              "      <td>NaN</td>\n",
              "      <td>dear writers, i’m compiling the first in what ...</td>\n",
              "      <td>dear writers, i’m compiling the first in what ...</td>\n",
              "    </tr>\n",
              "    <tr>\n",
              "      <th>1</th>\n",
              "      <td>Philosophic\\nin its complex, void emptiness,\\n...</td>\n",
              "      <td>novel</td>\n",
              "      <td>philosophic\\nin its complex, void emptiness,\\n...</td>\n",
              "      <td>philosophic\\nin its complex, void emptiness,\\n...</td>\n",
              "    </tr>\n",
              "    <tr>\n",
              "      <th>2</th>\n",
              "      <td>We'd  like  to  talk  with  you  about  fear t...</td>\n",
              "      <td>NaN</td>\n",
              "      <td>we'd  like  to  talk  with  you  about  fear t...</td>\n",
              "      <td>we'd  like  to  talk  with  you  about  fear t...</td>\n",
              "    </tr>\n",
              "    <tr>\n",
              "      <th>3</th>\n",
              "      <td>The Wise Men will unlearn your name.\\nAbove yo...</td>\n",
              "      <td>poetry</td>\n",
              "      <td>the wise men will unlearn your name.\\nabove yo...</td>\n",
              "      <td>the wise men will unlearn your name.\\nabove yo...</td>\n",
              "    </tr>\n",
              "    <tr>\n",
              "      <th>4</th>\n",
              "      <td>For Jack Collom\\n10 Things I do Every Day\\n\\np...</td>\n",
              "      <td>novel</td>\n",
              "      <td>for jack collom\\n10 things i do every day\\n\\np...</td>\n",
              "      <td>for jack collom\\n things i do every day\\n\\npla...</td>\n",
              "    </tr>\n",
              "  </tbody>\n",
              "</table>\n",
              "</div>"
            ],
            "text/plain": [
              "                                             Content  ...                                            no_free\n",
              "0  Dear Writers, I’m compiling the first in what ...  ...  dear writers, i’m compiling the first in what ...\n",
              "1  Philosophic\\nin its complex, void emptiness,\\n...  ...  philosophic\\nin its complex, void emptiness,\\n...\n",
              "2  We'd  like  to  talk  with  you  about  fear t...  ...  we'd  like  to  talk  with  you  about  fear t...\n",
              "3  The Wise Men will unlearn your name.\\nAbove yo...  ...  the wise men will unlearn your name.\\nabove yo...\n",
              "4  For Jack Collom\\n10 Things I do Every Day\\n\\np...  ...  for jack collom\\n things i do every day\\n\\npla...\n",
              "\n",
              "[5 rows x 4 columns]"
            ]
          },
          "metadata": {
            "tags": []
          },
          "execution_count": 12
        }
      ]
    },
    {
      "cell_type": "markdown",
      "metadata": {
        "id": "qq3qbmlZWnaY"
      },
      "source": [
        "## **Remove Punctuation**"
      ]
    },
    {
      "cell_type": "code",
      "metadata": {
        "colab": {
          "base_uri": "https://localhost:8080/"
        },
        "id": "lvQQrf9jWqBC",
        "outputId": "9740113a-cb54-4980-a155-b7e2865cbd8c"
      },
      "source": [
        "nltk.download('punkt')"
      ],
      "execution_count": 13,
      "outputs": [
        {
          "output_type": "stream",
          "text": [
            "[nltk_data] Downloading package punkt to /root/nltk_data...\n",
            "[nltk_data]   Package punkt is already up-to-date!\n"
          ],
          "name": "stdout"
        },
        {
          "output_type": "execute_result",
          "data": {
            "text/plain": [
              "True"
            ]
          },
          "metadata": {
            "tags": []
          },
          "execution_count": 13
        }
      ]
    },
    {
      "cell_type": "code",
      "metadata": {
        "id": "JwJYst99WtJY"
      },
      "source": [
        "#re.sub(r'[^\\w\\s]','',s)\r\n",
        "df_1['punc_free'] = df_1['no_free'].apply( lambda punc_free: re.sub(r'[^\\w\\s]','',punc_free))"
      ],
      "execution_count": 14,
      "outputs": []
    },
    {
      "cell_type": "code",
      "metadata": {
        "colab": {
          "base_uri": "https://localhost:8080/",
          "height": 272
        },
        "id": "JKSA-R8fWw29",
        "outputId": "fb6e210a-f578-4d8f-dfe9-861b81ca42d5"
      },
      "source": [
        "df_1.head()"
      ],
      "execution_count": 15,
      "outputs": [
        {
          "output_type": "execute_result",
          "data": {
            "text/html": [
              "<div>\n",
              "<style scoped>\n",
              "    .dataframe tbody tr th:only-of-type {\n",
              "        vertical-align: middle;\n",
              "    }\n",
              "\n",
              "    .dataframe tbody tr th {\n",
              "        vertical-align: top;\n",
              "    }\n",
              "\n",
              "    .dataframe thead th {\n",
              "        text-align: right;\n",
              "    }\n",
              "</style>\n",
              "<table border=\"1\" class=\"dataframe\">\n",
              "  <thead>\n",
              "    <tr style=\"text-align: right;\">\n",
              "      <th></th>\n",
              "      <th>Content</th>\n",
              "      <th>Tag</th>\n",
              "      <th>lowercase</th>\n",
              "      <th>no_free</th>\n",
              "      <th>punc_free</th>\n",
              "    </tr>\n",
              "  </thead>\n",
              "  <tbody>\n",
              "    <tr>\n",
              "      <th>0</th>\n",
              "      <td>Dear Writers, I’m compiling the first in what ...</td>\n",
              "      <td>NaN</td>\n",
              "      <td>dear writers, i’m compiling the first in what ...</td>\n",
              "      <td>dear writers, i’m compiling the first in what ...</td>\n",
              "      <td>dear writers im compiling the first in what i ...</td>\n",
              "    </tr>\n",
              "    <tr>\n",
              "      <th>1</th>\n",
              "      <td>Philosophic\\nin its complex, void emptiness,\\n...</td>\n",
              "      <td>novel</td>\n",
              "      <td>philosophic\\nin its complex, void emptiness,\\n...</td>\n",
              "      <td>philosophic\\nin its complex, void emptiness,\\n...</td>\n",
              "      <td>philosophic\\nin its complex void emptiness\\na ...</td>\n",
              "    </tr>\n",
              "    <tr>\n",
              "      <th>2</th>\n",
              "      <td>We'd  like  to  talk  with  you  about  fear t...</td>\n",
              "      <td>NaN</td>\n",
              "      <td>we'd  like  to  talk  with  you  about  fear t...</td>\n",
              "      <td>we'd  like  to  talk  with  you  about  fear t...</td>\n",
              "      <td>wed  like  to  talk  with  you  about  fear th...</td>\n",
              "    </tr>\n",
              "    <tr>\n",
              "      <th>3</th>\n",
              "      <td>The Wise Men will unlearn your name.\\nAbove yo...</td>\n",
              "      <td>poetry</td>\n",
              "      <td>the wise men will unlearn your name.\\nabove yo...</td>\n",
              "      <td>the wise men will unlearn your name.\\nabove yo...</td>\n",
              "      <td>the wise men will unlearn your name\\nabove you...</td>\n",
              "    </tr>\n",
              "    <tr>\n",
              "      <th>4</th>\n",
              "      <td>For Jack Collom\\n10 Things I do Every Day\\n\\np...</td>\n",
              "      <td>novel</td>\n",
              "      <td>for jack collom\\n10 things i do every day\\n\\np...</td>\n",
              "      <td>for jack collom\\n things i do every day\\n\\npla...</td>\n",
              "      <td>for jack collom\\n things i do every day\\n\\npla...</td>\n",
              "    </tr>\n",
              "  </tbody>\n",
              "</table>\n",
              "</div>"
            ],
            "text/plain": [
              "                                             Content  ...                                          punc_free\n",
              "0  Dear Writers, I’m compiling the first in what ...  ...  dear writers im compiling the first in what i ...\n",
              "1  Philosophic\\nin its complex, void emptiness,\\n...  ...  philosophic\\nin its complex void emptiness\\na ...\n",
              "2  We'd  like  to  talk  with  you  about  fear t...  ...  wed  like  to  talk  with  you  about  fear th...\n",
              "3  The Wise Men will unlearn your name.\\nAbove yo...  ...  the wise men will unlearn your name\\nabove you...\n",
              "4  For Jack Collom\\n10 Things I do Every Day\\n\\np...  ...  for jack collom\\n things i do every day\\n\\npla...\n",
              "\n",
              "[5 rows x 5 columns]"
            ]
          },
          "metadata": {
            "tags": []
          },
          "execution_count": 15
        }
      ]
    },
    {
      "cell_type": "markdown",
      "metadata": {
        "id": "bHBVbKSlW0Xp"
      },
      "source": [
        "## **Remove Whitespaces** "
      ]
    },
    {
      "cell_type": "code",
      "metadata": {
        "id": "6S5ED-0MW2z-"
      },
      "source": [
        "#' '.join(.split())\r\n",
        "\r\n",
        "df_1['space_free'] = df_1['punc_free'].apply( lambda space: ' '.join(space.split()))\r\n",
        "#df_1.head()"
      ],
      "execution_count": 16,
      "outputs": []
    },
    {
      "cell_type": "code",
      "metadata": {
        "colab": {
          "base_uri": "https://localhost:8080/",
          "height": 289
        },
        "id": "EeLWE39iW5xW",
        "outputId": "14dd6ee2-0f69-427e-d519-6eeab2a1739d"
      },
      "source": [
        "df_1.head()"
      ],
      "execution_count": 17,
      "outputs": [
        {
          "output_type": "execute_result",
          "data": {
            "text/html": [
              "<div>\n",
              "<style scoped>\n",
              "    .dataframe tbody tr th:only-of-type {\n",
              "        vertical-align: middle;\n",
              "    }\n",
              "\n",
              "    .dataframe tbody tr th {\n",
              "        vertical-align: top;\n",
              "    }\n",
              "\n",
              "    .dataframe thead th {\n",
              "        text-align: right;\n",
              "    }\n",
              "</style>\n",
              "<table border=\"1\" class=\"dataframe\">\n",
              "  <thead>\n",
              "    <tr style=\"text-align: right;\">\n",
              "      <th></th>\n",
              "      <th>Content</th>\n",
              "      <th>Tag</th>\n",
              "      <th>lowercase</th>\n",
              "      <th>no_free</th>\n",
              "      <th>punc_free</th>\n",
              "      <th>space_free</th>\n",
              "    </tr>\n",
              "  </thead>\n",
              "  <tbody>\n",
              "    <tr>\n",
              "      <th>0</th>\n",
              "      <td>Dear Writers, I’m compiling the first in what ...</td>\n",
              "      <td>NaN</td>\n",
              "      <td>dear writers, i’m compiling the first in what ...</td>\n",
              "      <td>dear writers, i’m compiling the first in what ...</td>\n",
              "      <td>dear writers im compiling the first in what i ...</td>\n",
              "      <td>dear writers im compiling the first in what i ...</td>\n",
              "    </tr>\n",
              "    <tr>\n",
              "      <th>1</th>\n",
              "      <td>Philosophic\\nin its complex, void emptiness,\\n...</td>\n",
              "      <td>novel</td>\n",
              "      <td>philosophic\\nin its complex, void emptiness,\\n...</td>\n",
              "      <td>philosophic\\nin its complex, void emptiness,\\n...</td>\n",
              "      <td>philosophic\\nin its complex void emptiness\\na ...</td>\n",
              "      <td>philosophic in its complex void emptiness a sk...</td>\n",
              "    </tr>\n",
              "    <tr>\n",
              "      <th>2</th>\n",
              "      <td>We'd  like  to  talk  with  you  about  fear t...</td>\n",
              "      <td>NaN</td>\n",
              "      <td>we'd  like  to  talk  with  you  about  fear t...</td>\n",
              "      <td>we'd  like  to  talk  with  you  about  fear t...</td>\n",
              "      <td>wed  like  to  talk  with  you  about  fear th...</td>\n",
              "      <td>wed like to talk with you about fear they said...</td>\n",
              "    </tr>\n",
              "    <tr>\n",
              "      <th>3</th>\n",
              "      <td>The Wise Men will unlearn your name.\\nAbove yo...</td>\n",
              "      <td>poetry</td>\n",
              "      <td>the wise men will unlearn your name.\\nabove yo...</td>\n",
              "      <td>the wise men will unlearn your name.\\nabove yo...</td>\n",
              "      <td>the wise men will unlearn your name\\nabove you...</td>\n",
              "      <td>the wise men will unlearn your name above your...</td>\n",
              "    </tr>\n",
              "    <tr>\n",
              "      <th>4</th>\n",
              "      <td>For Jack Collom\\n10 Things I do Every Day\\n\\np...</td>\n",
              "      <td>novel</td>\n",
              "      <td>for jack collom\\n10 things i do every day\\n\\np...</td>\n",
              "      <td>for jack collom\\n things i do every day\\n\\npla...</td>\n",
              "      <td>for jack collom\\n things i do every day\\n\\npla...</td>\n",
              "      <td>for jack collom things i do every day play pok...</td>\n",
              "    </tr>\n",
              "  </tbody>\n",
              "</table>\n",
              "</div>"
            ],
            "text/plain": [
              "                                             Content  ...                                         space_free\n",
              "0  Dear Writers, I’m compiling the first in what ...  ...  dear writers im compiling the first in what i ...\n",
              "1  Philosophic\\nin its complex, void emptiness,\\n...  ...  philosophic in its complex void emptiness a sk...\n",
              "2  We'd  like  to  talk  with  you  about  fear t...  ...  wed like to talk with you about fear they said...\n",
              "3  The Wise Men will unlearn your name.\\nAbove yo...  ...  the wise men will unlearn your name above your...\n",
              "4  For Jack Collom\\n10 Things I do Every Day\\n\\np...  ...  for jack collom things i do every day play pok...\n",
              "\n",
              "[5 rows x 6 columns]"
            ]
          },
          "metadata": {
            "tags": []
          },
          "execution_count": 17
        }
      ]
    },
    {
      "cell_type": "markdown",
      "metadata": {
        "id": "KdwzW94_XTeK"
      },
      "source": [
        "## **Remove Stopwords**\r\n"
      ]
    },
    {
      "cell_type": "code",
      "metadata": {
        "id": "Wrgl5uWfXVer"
      },
      "source": [
        "from nltk.corpus import stopwords\r\n",
        "def stop_word(text):\r\n",
        "  text = str(text)\r\n",
        "  return([w for w in nltk.word_tokenize(text) if w not in stopwords.words('english')])\r\n"
      ],
      "execution_count": 18,
      "outputs": []
    },
    {
      "cell_type": "code",
      "metadata": {
        "colab": {
          "base_uri": "https://localhost:8080/"
        },
        "id": "RDjRSlrYXaJb",
        "outputId": "87b0750e-e280-4a49-d2b9-fe0d55f79bf7"
      },
      "source": [
        "nltk.download('stopwords')"
      ],
      "execution_count": 19,
      "outputs": [
        {
          "output_type": "stream",
          "text": [
            "[nltk_data] Downloading package stopwords to /root/nltk_data...\n",
            "[nltk_data]   Package stopwords is already up-to-date!\n"
          ],
          "name": "stdout"
        },
        {
          "output_type": "execute_result",
          "data": {
            "text/plain": [
              "True"
            ]
          },
          "metadata": {
            "tags": []
          },
          "execution_count": 19
        }
      ]
    },
    {
      "cell_type": "code",
      "metadata": {
        "colab": {
          "base_uri": "https://localhost:8080/"
        },
        "id": "L9TVLbOeXdGT",
        "outputId": "dac7188e-c651-4a85-f5f1-eb1757d826e7"
      },
      "source": [
        "%%time\r\n",
        "df_1['final_review'] = df_1['space_free'].apply(lambda text: [w for w in nltk.word_tokenize(text) if w not in stopwords.words('english')])"
      ],
      "execution_count": 20,
      "outputs": [
        {
          "output_type": "stream",
          "text": [
            "CPU times: user 749 ms, sys: 105 ms, total: 853 ms\n",
            "Wall time: 860 ms\n"
          ],
          "name": "stdout"
        }
      ]
    },
    {
      "cell_type": "code",
      "metadata": {
        "colab": {
          "base_uri": "https://localhost:8080/"
        },
        "id": "Mu-qMZ9SXhhA",
        "outputId": "09533f27-6fe3-4b8c-edfd-17136e3bf460"
      },
      "source": [
        "df_1['final_review'].head()"
      ],
      "execution_count": 21,
      "outputs": [
        {
          "output_type": "execute_result",
          "data": {
            "text/plain": [
              "0    [dear, writers, im, compiling, first, hope, se...\n",
              "1    [philosophic, complex, void, emptiness, skillf...\n",
              "2    [wed, like, talk, fear, said, many, people, li...\n",
              "3    [wise, men, unlearn, name, head, star, flame, ...\n",
              "4    [jack, collom, things, every, day, play, poker...\n",
              "Name: final_review, dtype: object"
            ]
          },
          "metadata": {
            "tags": []
          },
          "execution_count": 21
        }
      ]
    },
    {
      "cell_type": "code",
      "metadata": {
        "colab": {
          "base_uri": "https://localhost:8080/",
          "height": 289
        },
        "id": "Sy5jj0E_aQo-",
        "outputId": "80f3564c-d24b-43ef-c51f-becd13270e05"
      },
      "source": [
        "df_1.head()"
      ],
      "execution_count": 22,
      "outputs": [
        {
          "output_type": "execute_result",
          "data": {
            "text/html": [
              "<div>\n",
              "<style scoped>\n",
              "    .dataframe tbody tr th:only-of-type {\n",
              "        vertical-align: middle;\n",
              "    }\n",
              "\n",
              "    .dataframe tbody tr th {\n",
              "        vertical-align: top;\n",
              "    }\n",
              "\n",
              "    .dataframe thead th {\n",
              "        text-align: right;\n",
              "    }\n",
              "</style>\n",
              "<table border=\"1\" class=\"dataframe\">\n",
              "  <thead>\n",
              "    <tr style=\"text-align: right;\">\n",
              "      <th></th>\n",
              "      <th>Content</th>\n",
              "      <th>Tag</th>\n",
              "      <th>lowercase</th>\n",
              "      <th>no_free</th>\n",
              "      <th>punc_free</th>\n",
              "      <th>space_free</th>\n",
              "      <th>final_review</th>\n",
              "    </tr>\n",
              "  </thead>\n",
              "  <tbody>\n",
              "    <tr>\n",
              "      <th>0</th>\n",
              "      <td>Dear Writers, I’m compiling the first in what ...</td>\n",
              "      <td>NaN</td>\n",
              "      <td>dear writers, i’m compiling the first in what ...</td>\n",
              "      <td>dear writers, i’m compiling the first in what ...</td>\n",
              "      <td>dear writers im compiling the first in what i ...</td>\n",
              "      <td>dear writers im compiling the first in what i ...</td>\n",
              "      <td>[dear, writers, im, compiling, first, hope, se...</td>\n",
              "    </tr>\n",
              "    <tr>\n",
              "      <th>1</th>\n",
              "      <td>Philosophic\\nin its complex, void emptiness,\\n...</td>\n",
              "      <td>novel</td>\n",
              "      <td>philosophic\\nin its complex, void emptiness,\\n...</td>\n",
              "      <td>philosophic\\nin its complex, void emptiness,\\n...</td>\n",
              "      <td>philosophic\\nin its complex void emptiness\\na ...</td>\n",
              "      <td>philosophic in its complex void emptiness a sk...</td>\n",
              "      <td>[philosophic, complex, void, emptiness, skillf...</td>\n",
              "    </tr>\n",
              "    <tr>\n",
              "      <th>2</th>\n",
              "      <td>We'd  like  to  talk  with  you  about  fear t...</td>\n",
              "      <td>NaN</td>\n",
              "      <td>we'd  like  to  talk  with  you  about  fear t...</td>\n",
              "      <td>we'd  like  to  talk  with  you  about  fear t...</td>\n",
              "      <td>wed  like  to  talk  with  you  about  fear th...</td>\n",
              "      <td>wed like to talk with you about fear they said...</td>\n",
              "      <td>[wed, like, talk, fear, said, many, people, li...</td>\n",
              "    </tr>\n",
              "    <tr>\n",
              "      <th>3</th>\n",
              "      <td>The Wise Men will unlearn your name.\\nAbove yo...</td>\n",
              "      <td>poetry</td>\n",
              "      <td>the wise men will unlearn your name.\\nabove yo...</td>\n",
              "      <td>the wise men will unlearn your name.\\nabove yo...</td>\n",
              "      <td>the wise men will unlearn your name\\nabove you...</td>\n",
              "      <td>the wise men will unlearn your name above your...</td>\n",
              "      <td>[wise, men, unlearn, name, head, star, flame, ...</td>\n",
              "    </tr>\n",
              "    <tr>\n",
              "      <th>4</th>\n",
              "      <td>For Jack Collom\\n10 Things I do Every Day\\n\\np...</td>\n",
              "      <td>novel</td>\n",
              "      <td>for jack collom\\n10 things i do every day\\n\\np...</td>\n",
              "      <td>for jack collom\\n things i do every day\\n\\npla...</td>\n",
              "      <td>for jack collom\\n things i do every day\\n\\npla...</td>\n",
              "      <td>for jack collom things i do every day play pok...</td>\n",
              "      <td>[jack, collom, things, every, day, play, poker...</td>\n",
              "    </tr>\n",
              "  </tbody>\n",
              "</table>\n",
              "</div>"
            ],
            "text/plain": [
              "                                             Content  ...                                       final_review\n",
              "0  Dear Writers, I’m compiling the first in what ...  ...  [dear, writers, im, compiling, first, hope, se...\n",
              "1  Philosophic\\nin its complex, void emptiness,\\n...  ...  [philosophic, complex, void, emptiness, skillf...\n",
              "2  We'd  like  to  talk  with  you  about  fear t...  ...  [wed, like, talk, fear, said, many, people, li...\n",
              "3  The Wise Men will unlearn your name.\\nAbove yo...  ...  [wise, men, unlearn, name, head, star, flame, ...\n",
              "4  For Jack Collom\\n10 Things I do Every Day\\n\\np...  ...  [jack, collom, things, every, day, play, poker...\n",
              "\n",
              "[5 rows x 7 columns]"
            ]
          },
          "metadata": {
            "tags": []
          },
          "execution_count": 22
        }
      ]
    },
    {
      "cell_type": "markdown",
      "metadata": {
        "id": "b_ZCKO6ldDgo"
      },
      "source": [
        "## **Store dataframe into pickle file**"
      ]
    },
    {
      "cell_type": "code",
      "metadata": {
        "id": "8bMwUi6jj317"
      },
      "source": [
        "df_1.to_pickle('/content/drive/My Drive/Masters/final.pkl')"
      ],
      "execution_count": 23,
      "outputs": []
    },
    {
      "cell_type": "code",
      "metadata": {
        "colab": {
          "base_uri": "https://localhost:8080/",
          "height": 289
        },
        "id": "Mz2feljY4P9Z",
        "outputId": "0713c8a3-0cbc-4b2d-b547-fdc3a061a890"
      },
      "source": [
        "test_1 = pd.read_pickle('/content/drive/My Drive/Masters/final.pkl')\r\n",
        "test_1.head()"
      ],
      "execution_count": 24,
      "outputs": [
        {
          "output_type": "execute_result",
          "data": {
            "text/html": [
              "<div>\n",
              "<style scoped>\n",
              "    .dataframe tbody tr th:only-of-type {\n",
              "        vertical-align: middle;\n",
              "    }\n",
              "\n",
              "    .dataframe tbody tr th {\n",
              "        vertical-align: top;\n",
              "    }\n",
              "\n",
              "    .dataframe thead th {\n",
              "        text-align: right;\n",
              "    }\n",
              "</style>\n",
              "<table border=\"1\" class=\"dataframe\">\n",
              "  <thead>\n",
              "    <tr style=\"text-align: right;\">\n",
              "      <th></th>\n",
              "      <th>Content</th>\n",
              "      <th>Tag</th>\n",
              "      <th>lowercase</th>\n",
              "      <th>no_free</th>\n",
              "      <th>punc_free</th>\n",
              "      <th>space_free</th>\n",
              "      <th>final_review</th>\n",
              "    </tr>\n",
              "  </thead>\n",
              "  <tbody>\n",
              "    <tr>\n",
              "      <th>0</th>\n",
              "      <td>Dear Writers, I’m compiling the first in what ...</td>\n",
              "      <td>NaN</td>\n",
              "      <td>dear writers, i’m compiling the first in what ...</td>\n",
              "      <td>dear writers, i’m compiling the first in what ...</td>\n",
              "      <td>dear writers im compiling the first in what i ...</td>\n",
              "      <td>dear writers im compiling the first in what i ...</td>\n",
              "      <td>[dear, writers, im, compiling, first, hope, se...</td>\n",
              "    </tr>\n",
              "    <tr>\n",
              "      <th>1</th>\n",
              "      <td>Philosophic\\nin its complex, void emptiness,\\n...</td>\n",
              "      <td>novel</td>\n",
              "      <td>philosophic\\nin its complex, void emptiness,\\n...</td>\n",
              "      <td>philosophic\\nin its complex, void emptiness,\\n...</td>\n",
              "      <td>philosophic\\nin its complex void emptiness\\na ...</td>\n",
              "      <td>philosophic in its complex void emptiness a sk...</td>\n",
              "      <td>[philosophic, complex, void, emptiness, skillf...</td>\n",
              "    </tr>\n",
              "    <tr>\n",
              "      <th>2</th>\n",
              "      <td>We'd  like  to  talk  with  you  about  fear t...</td>\n",
              "      <td>NaN</td>\n",
              "      <td>we'd  like  to  talk  with  you  about  fear t...</td>\n",
              "      <td>we'd  like  to  talk  with  you  about  fear t...</td>\n",
              "      <td>wed  like  to  talk  with  you  about  fear th...</td>\n",
              "      <td>wed like to talk with you about fear they said...</td>\n",
              "      <td>[wed, like, talk, fear, said, many, people, li...</td>\n",
              "    </tr>\n",
              "    <tr>\n",
              "      <th>3</th>\n",
              "      <td>The Wise Men will unlearn your name.\\nAbove yo...</td>\n",
              "      <td>poetry</td>\n",
              "      <td>the wise men will unlearn your name.\\nabove yo...</td>\n",
              "      <td>the wise men will unlearn your name.\\nabove yo...</td>\n",
              "      <td>the wise men will unlearn your name\\nabove you...</td>\n",
              "      <td>the wise men will unlearn your name above your...</td>\n",
              "      <td>[wise, men, unlearn, name, head, star, flame, ...</td>\n",
              "    </tr>\n",
              "    <tr>\n",
              "      <th>4</th>\n",
              "      <td>For Jack Collom\\n10 Things I do Every Day\\n\\np...</td>\n",
              "      <td>novel</td>\n",
              "      <td>for jack collom\\n10 things i do every day\\n\\np...</td>\n",
              "      <td>for jack collom\\n things i do every day\\n\\npla...</td>\n",
              "      <td>for jack collom\\n things i do every day\\n\\npla...</td>\n",
              "      <td>for jack collom things i do every day play pok...</td>\n",
              "      <td>[jack, collom, things, every, day, play, poker...</td>\n",
              "    </tr>\n",
              "  </tbody>\n",
              "</table>\n",
              "</div>"
            ],
            "text/plain": [
              "                                             Content  ...                                       final_review\n",
              "0  Dear Writers, I’m compiling the first in what ...  ...  [dear, writers, im, compiling, first, hope, se...\n",
              "1  Philosophic\\nin its complex, void emptiness,\\n...  ...  [philosophic, complex, void, emptiness, skillf...\n",
              "2  We'd  like  to  talk  with  you  about  fear t...  ...  [wed, like, talk, fear, said, many, people, li...\n",
              "3  The Wise Men will unlearn your name.\\nAbove yo...  ...  [wise, men, unlearn, name, head, star, flame, ...\n",
              "4  For Jack Collom\\n10 Things I do Every Day\\n\\np...  ...  [jack, collom, things, every, day, play, poker...\n",
              "\n",
              "[5 rows x 7 columns]"
            ]
          },
          "metadata": {
            "tags": []
          },
          "execution_count": 24
        }
      ]
    },
    {
      "cell_type": "markdown",
      "metadata": {
        "id": "QOQlQV1Q6wYR"
      },
      "source": [
        "#**LSTM Model** \r\n"
      ]
    },
    {
      "cell_type": "code",
      "metadata": {
        "colab": {
          "base_uri": "https://localhost:8080/",
          "height": 289
        },
        "id": "KAkdY7og6zc0",
        "outputId": "ba97ff98-b58c-4eb0-f550-a7cb47717ea7"
      },
      "source": [
        "import pandas as pd\r\n",
        "words= pd.read_pickle('/content/drive/My Drive/Masters/final.pkl')\r\n",
        "words.head()"
      ],
      "execution_count": 25,
      "outputs": [
        {
          "output_type": "execute_result",
          "data": {
            "text/html": [
              "<div>\n",
              "<style scoped>\n",
              "    .dataframe tbody tr th:only-of-type {\n",
              "        vertical-align: middle;\n",
              "    }\n",
              "\n",
              "    .dataframe tbody tr th {\n",
              "        vertical-align: top;\n",
              "    }\n",
              "\n",
              "    .dataframe thead th {\n",
              "        text-align: right;\n",
              "    }\n",
              "</style>\n",
              "<table border=\"1\" class=\"dataframe\">\n",
              "  <thead>\n",
              "    <tr style=\"text-align: right;\">\n",
              "      <th></th>\n",
              "      <th>Content</th>\n",
              "      <th>Tag</th>\n",
              "      <th>lowercase</th>\n",
              "      <th>no_free</th>\n",
              "      <th>punc_free</th>\n",
              "      <th>space_free</th>\n",
              "      <th>final_review</th>\n",
              "    </tr>\n",
              "  </thead>\n",
              "  <tbody>\n",
              "    <tr>\n",
              "      <th>0</th>\n",
              "      <td>Dear Writers, I’m compiling the first in what ...</td>\n",
              "      <td>NaN</td>\n",
              "      <td>dear writers, i’m compiling the first in what ...</td>\n",
              "      <td>dear writers, i’m compiling the first in what ...</td>\n",
              "      <td>dear writers im compiling the first in what i ...</td>\n",
              "      <td>dear writers im compiling the first in what i ...</td>\n",
              "      <td>[dear, writers, im, compiling, first, hope, se...</td>\n",
              "    </tr>\n",
              "    <tr>\n",
              "      <th>1</th>\n",
              "      <td>Philosophic\\nin its complex, void emptiness,\\n...</td>\n",
              "      <td>novel</td>\n",
              "      <td>philosophic\\nin its complex, void emptiness,\\n...</td>\n",
              "      <td>philosophic\\nin its complex, void emptiness,\\n...</td>\n",
              "      <td>philosophic\\nin its complex void emptiness\\na ...</td>\n",
              "      <td>philosophic in its complex void emptiness a sk...</td>\n",
              "      <td>[philosophic, complex, void, emptiness, skillf...</td>\n",
              "    </tr>\n",
              "    <tr>\n",
              "      <th>2</th>\n",
              "      <td>We'd  like  to  talk  with  you  about  fear t...</td>\n",
              "      <td>NaN</td>\n",
              "      <td>we'd  like  to  talk  with  you  about  fear t...</td>\n",
              "      <td>we'd  like  to  talk  with  you  about  fear t...</td>\n",
              "      <td>wed  like  to  talk  with  you  about  fear th...</td>\n",
              "      <td>wed like to talk with you about fear they said...</td>\n",
              "      <td>[wed, like, talk, fear, said, many, people, li...</td>\n",
              "    </tr>\n",
              "    <tr>\n",
              "      <th>3</th>\n",
              "      <td>The Wise Men will unlearn your name.\\nAbove yo...</td>\n",
              "      <td>poetry</td>\n",
              "      <td>the wise men will unlearn your name.\\nabove yo...</td>\n",
              "      <td>the wise men will unlearn your name.\\nabove yo...</td>\n",
              "      <td>the wise men will unlearn your name\\nabove you...</td>\n",
              "      <td>the wise men will unlearn your name above your...</td>\n",
              "      <td>[wise, men, unlearn, name, head, star, flame, ...</td>\n",
              "    </tr>\n",
              "    <tr>\n",
              "      <th>4</th>\n",
              "      <td>For Jack Collom\\n10 Things I do Every Day\\n\\np...</td>\n",
              "      <td>novel</td>\n",
              "      <td>for jack collom\\n10 things i do every day\\n\\np...</td>\n",
              "      <td>for jack collom\\n things i do every day\\n\\npla...</td>\n",
              "      <td>for jack collom\\n things i do every day\\n\\npla...</td>\n",
              "      <td>for jack collom things i do every day play pok...</td>\n",
              "      <td>[jack, collom, things, every, day, play, poker...</td>\n",
              "    </tr>\n",
              "  </tbody>\n",
              "</table>\n",
              "</div>"
            ],
            "text/plain": [
              "                                             Content  ...                                       final_review\n",
              "0  Dear Writers, I’m compiling the first in what ...  ...  [dear, writers, im, compiling, first, hope, se...\n",
              "1  Philosophic\\nin its complex, void emptiness,\\n...  ...  [philosophic, complex, void, emptiness, skillf...\n",
              "2  We'd  like  to  talk  with  you  about  fear t...  ...  [wed, like, talk, fear, said, many, people, li...\n",
              "3  The Wise Men will unlearn your name.\\nAbove yo...  ...  [wise, men, unlearn, name, head, star, flame, ...\n",
              "4  For Jack Collom\\n10 Things I do Every Day\\n\\np...  ...  [jack, collom, things, every, day, play, poker...\n",
              "\n",
              "[5 rows x 7 columns]"
            ]
          },
          "metadata": {
            "tags": []
          },
          "execution_count": 25
        }
      ]
    },
    {
      "cell_type": "code",
      "metadata": {
        "colab": {
          "base_uri": "https://localhost:8080/",
          "height": 357
        },
        "id": "Nposq7Nm6DNC",
        "outputId": "e51027b9-efa2-4e3d-e544-95e1898be69e"
      },
      "source": [
        "words['final_review_text'] = words['final_review'].apply( lambda name : ' '.join(name))\r\n",
        "words.head()"
      ],
      "execution_count": 26,
      "outputs": [
        {
          "output_type": "execute_result",
          "data": {
            "text/html": [
              "<div>\n",
              "<style scoped>\n",
              "    .dataframe tbody tr th:only-of-type {\n",
              "        vertical-align: middle;\n",
              "    }\n",
              "\n",
              "    .dataframe tbody tr th {\n",
              "        vertical-align: top;\n",
              "    }\n",
              "\n",
              "    .dataframe thead th {\n",
              "        text-align: right;\n",
              "    }\n",
              "</style>\n",
              "<table border=\"1\" class=\"dataframe\">\n",
              "  <thead>\n",
              "    <tr style=\"text-align: right;\">\n",
              "      <th></th>\n",
              "      <th>Content</th>\n",
              "      <th>Tag</th>\n",
              "      <th>lowercase</th>\n",
              "      <th>no_free</th>\n",
              "      <th>punc_free</th>\n",
              "      <th>space_free</th>\n",
              "      <th>final_review</th>\n",
              "      <th>final_review_text</th>\n",
              "    </tr>\n",
              "  </thead>\n",
              "  <tbody>\n",
              "    <tr>\n",
              "      <th>0</th>\n",
              "      <td>Dear Writers, I’m compiling the first in what ...</td>\n",
              "      <td>NaN</td>\n",
              "      <td>dear writers, i’m compiling the first in what ...</td>\n",
              "      <td>dear writers, i’m compiling the first in what ...</td>\n",
              "      <td>dear writers im compiling the first in what i ...</td>\n",
              "      <td>dear writers im compiling the first in what i ...</td>\n",
              "      <td>[dear, writers, im, compiling, first, hope, se...</td>\n",
              "      <td>dear writers im compiling first hope series pu...</td>\n",
              "    </tr>\n",
              "    <tr>\n",
              "      <th>1</th>\n",
              "      <td>Philosophic\\nin its complex, void emptiness,\\n...</td>\n",
              "      <td>novel</td>\n",
              "      <td>philosophic\\nin its complex, void emptiness,\\n...</td>\n",
              "      <td>philosophic\\nin its complex, void emptiness,\\n...</td>\n",
              "      <td>philosophic\\nin its complex void emptiness\\na ...</td>\n",
              "      <td>philosophic in its complex void emptiness a sk...</td>\n",
              "      <td>[philosophic, complex, void, emptiness, skillf...</td>\n",
              "      <td>philosophic complex void emptiness skillful pu...</td>\n",
              "    </tr>\n",
              "    <tr>\n",
              "      <th>2</th>\n",
              "      <td>We'd  like  to  talk  with  you  about  fear t...</td>\n",
              "      <td>NaN</td>\n",
              "      <td>we'd  like  to  talk  with  you  about  fear t...</td>\n",
              "      <td>we'd  like  to  talk  with  you  about  fear t...</td>\n",
              "      <td>wed  like  to  talk  with  you  about  fear th...</td>\n",
              "      <td>wed like to talk with you about fear they said...</td>\n",
              "      <td>[wed, like, talk, fear, said, many, people, li...</td>\n",
              "      <td>wed like talk fear said many people live fear ...</td>\n",
              "    </tr>\n",
              "    <tr>\n",
              "      <th>3</th>\n",
              "      <td>The Wise Men will unlearn your name.\\nAbove yo...</td>\n",
              "      <td>poetry</td>\n",
              "      <td>the wise men will unlearn your name.\\nabove yo...</td>\n",
              "      <td>the wise men will unlearn your name.\\nabove yo...</td>\n",
              "      <td>the wise men will unlearn your name\\nabove you...</td>\n",
              "      <td>the wise men will unlearn your name above your...</td>\n",
              "      <td>[wise, men, unlearn, name, head, star, flame, ...</td>\n",
              "      <td>wise men unlearn name head star flame one wear...</td>\n",
              "    </tr>\n",
              "    <tr>\n",
              "      <th>4</th>\n",
              "      <td>For Jack Collom\\n10 Things I do Every Day\\n\\np...</td>\n",
              "      <td>novel</td>\n",
              "      <td>for jack collom\\n10 things i do every day\\n\\np...</td>\n",
              "      <td>for jack collom\\n things i do every day\\n\\npla...</td>\n",
              "      <td>for jack collom\\n things i do every day\\n\\npla...</td>\n",
              "      <td>for jack collom things i do every day play pok...</td>\n",
              "      <td>[jack, collom, things, every, day, play, poker...</td>\n",
              "      <td>jack collom things every day play poker drink ...</td>\n",
              "    </tr>\n",
              "  </tbody>\n",
              "</table>\n",
              "</div>"
            ],
            "text/plain": [
              "                                             Content  ...                                  final_review_text\n",
              "0  Dear Writers, I’m compiling the first in what ...  ...  dear writers im compiling first hope series pu...\n",
              "1  Philosophic\\nin its complex, void emptiness,\\n...  ...  philosophic complex void emptiness skillful pu...\n",
              "2  We'd  like  to  talk  with  you  about  fear t...  ...  wed like talk fear said many people live fear ...\n",
              "3  The Wise Men will unlearn your name.\\nAbove yo...  ...  wise men unlearn name head star flame one wear...\n",
              "4  For Jack Collom\\n10 Things I do Every Day\\n\\np...  ...  jack collom things every day play poker drink ...\n",
              "\n",
              "[5 rows x 8 columns]"
            ]
          },
          "metadata": {
            "tags": []
          },
          "execution_count": 26
        }
      ]
    },
    {
      "cell_type": "code",
      "metadata": {
        "colab": {
          "base_uri": "https://localhost:8080/",
          "height": 204
        },
        "id": "DGQuA_jA7R4i",
        "outputId": "9d525394-3f6b-4e7c-e681-fc0be4a9fe2f"
      },
      "source": [
        "new_df = words[['final_review_text', 'Tag']]\r\n",
        "new_df.head()"
      ],
      "execution_count": 27,
      "outputs": [
        {
          "output_type": "execute_result",
          "data": {
            "text/html": [
              "<div>\n",
              "<style scoped>\n",
              "    .dataframe tbody tr th:only-of-type {\n",
              "        vertical-align: middle;\n",
              "    }\n",
              "\n",
              "    .dataframe tbody tr th {\n",
              "        vertical-align: top;\n",
              "    }\n",
              "\n",
              "    .dataframe thead th {\n",
              "        text-align: right;\n",
              "    }\n",
              "</style>\n",
              "<table border=\"1\" class=\"dataframe\">\n",
              "  <thead>\n",
              "    <tr style=\"text-align: right;\">\n",
              "      <th></th>\n",
              "      <th>final_review_text</th>\n",
              "      <th>Tag</th>\n",
              "    </tr>\n",
              "  </thead>\n",
              "  <tbody>\n",
              "    <tr>\n",
              "      <th>0</th>\n",
              "      <td>dear writers im compiling first hope series pu...</td>\n",
              "      <td>NaN</td>\n",
              "    </tr>\n",
              "    <tr>\n",
              "      <th>1</th>\n",
              "      <td>philosophic complex void emptiness skillful pu...</td>\n",
              "      <td>novel</td>\n",
              "    </tr>\n",
              "    <tr>\n",
              "      <th>2</th>\n",
              "      <td>wed like talk fear said many people live fear ...</td>\n",
              "      <td>NaN</td>\n",
              "    </tr>\n",
              "    <tr>\n",
              "      <th>3</th>\n",
              "      <td>wise men unlearn name head star flame one wear...</td>\n",
              "      <td>poetry</td>\n",
              "    </tr>\n",
              "    <tr>\n",
              "      <th>4</th>\n",
              "      <td>jack collom things every day play poker drink ...</td>\n",
              "      <td>novel</td>\n",
              "    </tr>\n",
              "  </tbody>\n",
              "</table>\n",
              "</div>"
            ],
            "text/plain": [
              "                                   final_review_text     Tag\n",
              "0  dear writers im compiling first hope series pu...     NaN\n",
              "1  philosophic complex void emptiness skillful pu...   novel\n",
              "2  wed like talk fear said many people live fear ...     NaN\n",
              "3  wise men unlearn name head star flame one wear...  poetry\n",
              "4  jack collom things every day play poker drink ...   novel"
            ]
          },
          "metadata": {
            "tags": []
          },
          "execution_count": 27
        }
      ]
    },
    {
      "cell_type": "code",
      "metadata": {
        "colab": {
          "base_uri": "https://localhost:8080/"
        },
        "id": "Gvsg2cUf7jya",
        "outputId": "78d77ba3-8401-4cab-b47a-72240cea13bc"
      },
      "source": [
        "final_text = new_df['final_review_text'].values\r\n",
        "final_text"
      ],
      "execution_count": 28,
      "outputs": [
        {
          "output_type": "execute_result",
          "data": {
            "text/plain": [
              "array(['dear writers im compiling first hope series publications im calling artists among artists theme issue faggot dinosaur hope hear thank best wish',\n",
              "       'philosophic complex void emptiness skillful pundit coined sort stopgap doorstop quaint equations romans never dreamt form completely clever discretea mirror come unsilvered loose watch face without works hollowed globe tip toe unbroken evades grappling hooks mass tilts thin rim thing remains embryonic sum noncogito',\n",
              "       'wed like talk fear said many people live fear days drove four small car nice boy said beautiful dogs said friendly man ahead woman two waiting drive outside digging garden one home said selling anyway im interested said well nice day said heres card theres phone number call anytime houses road anyone else live wed like talk living fear',\n",
              "       'wise men unlearn name head star flame one weary sound hoarse roar gale shadows fall tired eyes lone bedside candle dies calendar breeds nights till stores candles fail prompts melancholy key long familiar melody sounds let let sound night let sound hour death gratefulness eyes lips sometimes makes us lift gaze far sky glare silence wall stocking gapes gifts clear old trust good saint nick late miracles suddenly lifting eyes heavens light realize life sheer gift',\n",
              "       'jack collom things every day play poker drink beer smoke pot jack curse waters manhattan flower positive amp negative go home read lunch poems hunker changes life goes quite merrily blue help wanted hunting whale weather plays fair im happy every day white dries clear heart attack congressional medal honor house country enough',\n",
              "       'winter time spent window summer go along day day summer around stores stores tell people live area writing others already written would like write today today sky blue burns country country one almost hear silence four seasons four seasons year permit us enjoy things recipe smear side pork chop mustard dredge flour book worm always nose stuck book little feeling defines feeling one gazing rock costa rica costa rica saw first coffee plantation happiness happiness nothing state mind money money buy fine dog government new program introduced government edward whole beautiful human lake lake attracts man wife members family sky see many different things look sky sexy thought male early day potatoes one go far without potatoes kitchen mother mother something modern times every four minutes car comes assembly line say ocean foamy waves wash shore treasures sacrifice damp sand today high density housing going around us real life could screamed day john proposed winterizing cottage living permanently alaska cold person year white man year white man year many beads loyalty loyalty feel big word something think perhaps mad scramble keep heads water miss point human nature must intent destroying everything touch company winifred little relieved gone',\n",
              "       'icy fields water flowing tank huddle together warm bodies pressing year goat sheep scholars debating chinese zodiac follower leader lead warm corner little ones toward bulkier bodies lead brush cuts icy wind another frigid night swooping arent worried ask friend lives ranch goats far near town ozona shrugs really know theyre goats',\n",
              "       'may never afraid especially muhammed ali telling truth well youre true arent talk wonderfully body protects physique voice raps within dance may never afraid rocked quaked mantilla lace whose black oak im dark im strong darkness strength universe whose blackness air starry lace im alive im strong life strong violets marlon brandos fist dissemblance flourished truth took id take ali see hard bright speck savage formalist authentic deed gossip kind body',\n",
              "       'dont ever get idea poet see racetrack day half drunk betting quarters sidewheelers straight thoroughs let tell women go money goes sometimes look whores onehundreddollar whores wonder sometimes nature isnt playing joke dealing much breast ass way hung together look look look cant believe ordinary women something else wants make tear paintings break albums beethoven across back john anyhow season dragging big boys getting busted nonpros producers cameraman pushers mary fur salesman owners saint louie running day sidewheeler broke got close ran head mean ugly put ten driver broke wide took fence hed alone even travel four times far thats way went way outer fence traveling two miles one like mad hell wasnt even tired biggest blonde ass breast hardly anything else went payoff window night couldnt destroy although springs shot sparks pounded walls later sat slip drinking old grandad said whats guy like living dump like said im poet threw back beautiful head laughed poet guess youre right said guess youre right still looked good still looked good thanks ugly horse wrote poem',\n",
              "       'geraldine monk love wouldnt say philosophy iloveyou didnt mean meant plus verray construction phrase caused badoldconcretelawmanvandalverbalmildewuponthegrape harvestandwarforraremineralsrequiredtomanufacturecommu nicationsdevices damage saying iloveyou damaged love subject object plus could prove two dense delphic languages suitable philosophy opera cursing racking nerves arti ficial intelligence machines perhaps could love would hardwired giammai dare say moved notsay iloveyou wakeupandspoilthecoffee ashtraylicking djinn start agree verbness impropriety eyes glob syringe youre giving blood semisolid spiralling perhaps active iloveyou sand drill honey set wasps crimson like stolen toga add value applying dye fight owner ship cite justify skilled outrage put name guarantor astronomical mortgage admit desertification comes relief oasis mirage maybe verb tendingto wards tightrope tropism station thats meeting ground plus cant disprove entire languages plus three little words arent meant saying icy drink stormlight lookedat leaf left transpire way sans iloveyou centuried moon rose dinnermint stone many men contin ued talking woman lifted sarsenet skirt peed green lilies utterly gracious walked archway join mixed group delighting word believe fresh air',\n",
              "       'heart let pity let live sad self hereafter kind charitable live tormented mind tormented mind tormenting yet cast comfort get groping round comfortless blind eyes dark day thirst find thirsts allinall world wet soul self come poor jackself advise jaded let call thoughts awhile elsewhere leave comfort rootroom let joy size god knows god knows whose smile wrung see unforeseen times rather skies betweenpie mountains lights lovely mile',\n",
              "       'shift sleepwalks suicides occasion owls demilune fog even god nodded wont taking prayers til ten ad interim put wants could keep warm say shibboleths thumb beads scry glass night creeps precipice broken rim reason breaks obsidian sky betrays every serrate shadow flays soon enough crow caw cock crow door close isnt coming back know wee wet hours grief relent thirty years might forget precisely tonights pain felt whose black house dwelt',\n",
              "       'fail retry possible gaps middle canyons crumbling lights scarification vinyl rides forest throbs small packet parallel seams scratch readable surface backs camels mirages separate planes bursting eclipse pronounceable service two spots forehead call country doubling masses highway cuts faces line city every stream ties knot opening sea lose digits moon one day bare parched piles breathing farms doorways promise morning accident prone murder chance every mouse dust kitchen harvest cold sickness scattering twigs answer mirrors double sings night prayer full ashes frozen cadavers hearts egg wound disappear wrapup invisible letters leave snow hunt deliver migration mushroom fields full returns beaches roads promise water turns home blame air longer wail spot cloud full planets bubble reenters womb explosions placards like front bus crossing vines prairie traced skin goat look picture many races blood horse bundle sleeping shorted connections change electrical chairs pools announcements battling showers tell stories war infants sight corner trading telephones buried answers barrooms sawdust piers songs isthmus circle beacon moon pull whisper moves sand stone weigh every mote eye fingers handshakes calibrate walks like wheels car reflect wave like untying knot bruise full ice number count eleven equality lifts like dough incarcerates mud clots showers vanishing thorn guide pillow softly omitted second hand sees gears hand cripple ditch face fine bury head leaves buses lost day looked arctic telephone poles marks equators mornings home could write name shepherd singing many shields entrance staring stars basement light chest follows walking pulls two seals trouble words empty one zeros raise shores piñatas line snow spreading phase recalling crosshairs hive singing never return breaking gives others prompt give air radio frequencies meant undress parrots knot hill head viewer see without even monkey grow molecules power black hole instead screen identity swimming surface every outlook reframes break circular lots parking spot full directions jacket sinks roll orange fez around trains mountains pantomime echoes valley shells call engine answer penalties cease skull another score gone pavement sound bell broken bear first weight sand',\n",
              "       'sleepwalker never die chemical soldier composite latex atropine hellfire warthogs desolation pride apaches lasers dust devils swirling screaming fire deaths machine worship young blond pilots flashing thumbs excited smiles interviewed military wives shrapnel paced rockeye antipersonnel bombs spraying death like fireflies texas barbecue human flesh stretching sixty miles across open desert armageddon eden algebraic mosaic witchcraft dot pattern magic omens signs victims never knowing hit vivid delivery hell nineveh incendiary reduction tissue shadows sand incineration boots human feet still pain mania technology history delirious victims bleeding eagle brains weak frightened victim beak unhappy fate grief shame helpless rage',\n",
              "       'nine stories high second avenue roof theres party friends watching light moon blazing sun go side planet light underside earth long bent telescopes friends watch friends shadow see bed inside head years ive loved dreams today years since wrote first time poem birthday wait long land good land highways go many good places many good people found home land whose song comes throat hummingbird amp ends sun goes across skies blue live',\n",
              "       'wasnt cheek mine last night gin streetlight somebody loves impossible reach broken paddock fence sign say impossible color god painted eyes cross storm ewerstream impossible wrong lovers without certificates stamped across foreheads impossible dear torch received kind invitation regret conflagration impossible must mean phantom hand waist ache absence mine impossible holy place emperors city peach stone impossible mask ram mask bull horn chips mischling torn doors impossible dance without footprints dance name room lovers touching impossible eyes one protecting sleeping sons dreaming one torchlit trying close impossible dear lion heres gazelle hold teeth biting impossible',\n",
              "       'july bagpipes big mad hitchcockian crows siren families striding hurrying want whole lot love sings joplin mimic white birch willow swings pollen cars shade way way gon na give love staying house crows outside winning car door muffled crowd gasp wheels top sky waits night skys visuals called untamed retribution rain fire objective sincerity war space two teenage girls screen sun eyes day time takes time bright canisters culverts girls read hills daylong trash truck heads street big engine emergency brake distance telephone pole queen palms trunk smoke loops back house front leaves signet cloud sidewalks scalding path neath countys ripe corn table globes eggshell romance girls layer tears back skin many dawns boys waving bends air crosses clouds hot nets increasing local tenors uprightness fumes exhume crowd stands openmouthed heads lifted send smoke falls head hair ears size limit love soundchamberd moons far place',\n",
              "       'th century bc beautiful wellbeloved body granite smites eyes like army banners lips red wine poured goatskin bags brows warriors fulldrawn bows glances arrows shoot therefrom hair mane lion tawny thick th century let us love tonight past mind stifle intent lest blazing passion unconfined provoke imperilment dark fierce desire would flare bright sight must tame blinding fire bank night luminating dawns return appetites increase lusty flame safely burn furious release th century since even modest airs prudish dress may deter rash beaux wantonness unsullied innocence oervault concupiscent intention assault sweet misgivings wear plainly insurmountable air ogling lechers hunting amrous game blush apologize flee shame th century ethereal nightingale gallantly singing heart rich melodies insentient stones earless trees indifferent insects forsake go winging town like dart mark implore serving courier bird tell waiting word im locked room cant come adore',\n",
              "       'sometimes would get hungry neighborhood walk sidewalk towards chestnut street speak rev holding lightskinned baby ask son come put new inner tube bike cross ludlow past mailbox corner risqué video dinos pizza emerald laundromat fruit trucks tucked th street left house eyes shut boards fringes children went store sunk street owned cambodian woman sold everything evening gowns soup walnut th muslim cat sells chicken wrapped pita draped cucumber sauce pregnant woman behind counter writes order arabic grab juice freezer chips eye bean sweet potato pies back hot breath west philly sun setting sky smeared squash tangerines glaze three girls one boy jump doubledutch white man hustles video store black plastic bag look money street steal flowers church lawn shit stain wino still step mr jim washing car cash john cleaning rims buju banton noel talking sweetly big blueeyed woman linda way restaurant sister wheelchair buzzes headphones one night man shot killed block right outside thick wood door today today one days come home walking world leave windows open start pot black beans smoke alice coltrane cut fruit toenails hold moment time taking blood pressure',\n",
              "       'im alone world said aint got nobody share bed aint got nobody hold hand truth matters aint got man big boy opened mouth said trouble aint got head head used mind could time answered babe must said share bed money',\n",
              "       'get suddenly bags baggage looking worse wear ones misfortune hasnt wrung anythingbutperfect strangers old buddies old loves old antagonists chat bar hilton lobby whitehaired nohaired dyedhaired ringers oldsters irrelevant proms cruising study halls going steadyto life knew smithereens yesteryear mostly orphans whove buried mom dad holding guadalcanal hazard heartsoreness edema angina sarcoma thrombosis casualties mount mias arent vexed arent screaming never mind upright dont time skip niceties never seemed nice sweat threats dead ever younger smile toward future senior yearbook late fallback plan tonight well savor motel cuisine pass inglenook believe theres nothing opulent departure',\n",
              "       'economy circular earn money institution owns businesses tend spend money economy quasimedieval tradecentered guildlike economy canonical economy misfortune recently befell economy admits foundational narratives economy language economy executioners reversal fortune economy essential features economy admits parallax critiques ideology economy owes something dead soldiers economy intimate would rather split hairs belongs economy cant stay things cant make thick things either economy questionable purchasing power economy surrogate economy interpretative skills rife interpretative communi ties economy trees chopped brooklyn gradual encir cling brick economy new red economy thrives shades gray economy unremarkable tuna sandwich missing slices tomato asked economy liter bottle poland spring water coming poland maine bought university cafeteria uptown manhattan quite number water foundations deliver water funky metallic aftertaste economy poem called first purchase month consisting two stanzas six eightword lines within larger poem could endless wont couldve outfit whitney biennial couldnt afford one need cares look zoo animals stupid reminds couldve trail mix snacked amp managed purchase tuna whole wheat lettuce jalapeños one liter bottle water poland spring asked tomato lady forgot puerto rican asked dont think said another one spanish let answer made think peppers economy needs contractions abbreviations economy fixed economy broken mispronounced economy cold feet even plenty socks home economy would like wholesome sound economy gift certificate enough id like end spending money store dislike first place never visit economy business lunch end paying bill instead person whod like work economy consists performing tasks receive quantifi able pay economy grows enough buy someone else drink meal economy allow say economy pretends booming instead shaky imploding doesnt matter economy predicated virtue posits purer economy exchange value id like think economy one resistance tactical difference economy disposable good surpluses economy already owe wrote economy derivative parasitical residual economy handmedown economy environmentally friendly although ravaging nonrenewable resources either economy doesnt force put money mouth pay say would different story thirteen cents word fair trade economy mistakes means trade futures theory economy result deliberate choice makeshift tagalong economy double standards economy attention deficit disorder economy symptom incurable disease economy even mine word count',\n",
              "       'im used emperors bitterness cant find sweet place unless make face face may look made touch make make oak say blossom stripped say swell avenue pavement say river make shirt cant take one nights without gathered make new day sweet place tomorrow whispering tonights last light make kissing without authorization want stop youll make ruined city woman interrupting sleep say say make',\n",
              "       'two oblong lobes rough ice methane ammonia fallen far kuiper belt perturbed jupiter nearer perihelion warm coma sublimes tail blurs trim probe relays images twilit surface gray vacant sleep small craft little boat dim soul afterlife attenuate gravity stifling quiet tuat weighed truth thoth anubis scales',\n",
              "       'men trading bullets worms spent lifetime building come mountains brought eggs table windowshade times couldnt bring anything many people walking hill walking almost passed grasped arm backed said look like',\n",
              "       'back junkhouse stacked cardtable covered ragged bedspread rest black platters whose music crackled hissed static like shuffling feet fox trot twostep slow dance needle riding merrygoround mothers head nestled fathers shoulder turned lost sway sounds summer nights faraway places syncopation time waltzing world never dreamed dance dust',\n",
              "       'joel nice day sweet october afternoon men walk sunshot avenues second third eyes intent elsewhere ears communing transistors shirt pockets bars full quiet discussion commercials pirates lead new york top th yankees base man nice day handsome women even dreamy jailbait walk nearly neglected mens eyes blank thoughts pittsburgh last half th score tied mazeroski leads pirates nd pitch simply sweetly crack belts clean leftfield wall blocks afternoon acres afternoon pennsylvania turnpikes afternoon one diamond stretches sun rd base line men come final score yanquis come home',\n",
              "       'bed watch birds telephone wire one flies another one left gone typewriter tombstone still reduced bird watching thought id let know fucker',\n",
              "       'danger others provoked change internal law flawed creature unpersuaded sure made case brutality tied fence began thrashing life meek deserve jubilee bodies defend selves supple registers bonum time confess never cruising bruising maybe cruising toward rapid intercession effervescent affection could gift beneficent fever among us angels arrived inhospitality hear body still groan aftermath desire grew screwup bucked fuckup thing took nine holes rotting obviously perils asleep en route sea wilderness somehow made beside spotted antidote toward reversal places biology doomed true witness clarified thighs chest throat quote flesh utah street room couple blocks away strangers elegy sinks toward earth keep watch community beyond shame stills weve put outside populace offset enmity singing way back assisi sissy im thrown ditch bitch knee failing much cycling groans though flesh worthy feeling thieves think im rich troubadour despite nasal whine valedictory hymn one poverty maybe bad mumbler since im much stumbler whim made inert violence cops long ago would round likes along market street thanks men making human humble stilled thing alive unto forces earth swallower corpses made dirt would know dirt tastes like cycling earth exceeded living bodies partitions wishing strewn parts long gone ones would reassemble gust florescence soundtracks promise legs brace supple clamor dead rise age thirty twentynine still ahead finest glamour thus became hammer darkest antimatter thus became ticking time bomb kingdom expectation gray hoodie sharp teeth bruce boone bring forth within save made changeless wave nerve enact fullness im raised waste hold vomit meat ive sucked peril ive soaked local commotion continent san francisco bottom pacific ocean equipping convenience kingdom swapping spit strangers giving dogs good scratch behind ears fighting bicycle cars could spell death papers drinking milkshakes mission diners cop knelt kissed feet priest threw sight security garden civility city boots scuffled along way impedimenta solace',\n",
              "       'brad gooch snort coke way party bring new album dance listen band two women whose husbands control speak language syllables obstacle love man love another theyre hurry could wait forever make lover theyll always find tigers stoned stoned dance till tired listen lyrics mouth like language feel hear inexpressible cant put words maybe dances show abba lives music long see put record play listen absolutely stunned feel know anyone say',\n",
              "       'identification highly important factor mechanism hysterical symptoms means patients enabled symptoms represent merely experiences experiences great number persons suffer whole mass people fill parts drama means personalities alone sigmund freud anne identified cate became bona fide illness boris left cate resulting psychic estrangement unconscious stream hostility directed boris new woman anne cate viewed rival cate remained excessively tender boris though cate totem animal gained power eating whereas boris patriarch anne ego alien whereas cate annes fixation anne ones obsession admitted psychiatric ward unbidden associations could induced abandon rare occasions slept manifest latent content dreams dance abandonment boris cate anne waking hours projected onto walls though screening silent film could induced abandon footage could induced abandon object love boris whose object choice egolibido identification cate felt friendship towards anne soon anne drew mental triangle every surface saw phallic concave sometimes triangle isosceles sometimes equilateral often right',\n",
              "       'cherubbeedee man doesnt read english well know cherubbeedum arent really wordsbeedee birds cherubbeedum stumbles reading sliding glass door cherubbeedee watch brother play dumdumyard cherubbeedee cherubbeedum like father says fine leave mother shoutsstupid dumb live small beedeenest one hallway beedumslam doors birds birds thanks father reading feathers first word ever taught pluck word used time cherubcherubbeedum mailthe mailboxthe school busthe asks read mail birdsmail dont read turn birds read best end feather two feathers end mother mother repeat cherubbeedee cherubbeedum read together bedtime',\n",
              "       'pack young flirts patrolling party cultural outsiders consumed notion beauty reflected shinemore mirror mans pants nothing midnight one counting practitioners admitted barman psychological materialism explaining read sartre beauvoir believed cerebellum thalamus lower brain lower upper parts must room nant nothingness aside indeed evening spectacular bacchanalia girls lugging blinddrunk partners around floor one sitting volume collected camus one imperious word beauvoirs club plunged almost total darkness violinists wandering playing soulful russian music guests ears possible tell truth exclaimed camus one point vodka champagne quantities extremely beautiful nice getting tight dancing cheek cheek exchange furtive kisses giggles every time one chaps said dont leave love ill always love took irrefutable evidence general greed human warmth ie touch even among agonized postadolescent dreamers morphed dance floor night naughty boys echoing girls questions shall live shall words without end without weight',\n",
              "       'life neither wrote read life didnt cut single tree didnt slit throat single calf life speak new york times behind back didnt raise voice soul except saying come please god cant refuse nevertheless case hopeless situation desperate godgiven rights grain salt tossed sea ladies gentlemen jury enemies client knows thing assure encounter entire crew aircraft carrier enterprise hed serve eggs sunnyside labneh fresh bag',\n",
              "       'glimmer sunken eyes question could answer lies digesting everything plain abdomen thin pain almost visible probe lump boyfriend noticed first left hand limp beneath pressure right aids think lymphomaswollen nodes tender spleen livers jutting edge strikes suddenly oblige hunger announces death near touch cold cavalier language beneath diaphragm told coming im going soft skin rocks body reveling wrecks internal hidden shoal treasures cant hide swallowed gold',\n",
              "       'angels dont come reservation bats maybe owls boxy mottled things coyotes mean thing death death eats angels guess havent seen angel fly valley ever gabriel never heard know guy named gabe though came one powwow stayed typical indian sure wings jailbird flies around stolen cars wherever stops kids grow like gourds womens bellies like said indian ive ever heard ever seen angel maybe christmas pageant something nazarene church holds one every december organized pastor johns wife wonder pastor johns son angeleveryone knows angels white quit bothering angels say theyre good indians remember happened last time white god came floating across ocean truth may angels angels living clouds sitting thrones across sea wearing velvet robes golden rings drinking whiskey silver cups better stay rich fat ugly xactly arein distant heavens better hope never see angels rez theyll marching zion oklahoma hell theyve mapped us',\n",
              "       'inside northern general theyre trying burn away small piece heart want know bit much holds questions live doctors call heart mean wide gap brain mind lineage bypassed hearts grateful literal know heart heart good running much else later sit borrowed bed get whole thing wrong call oblation offering sacriﬁce youd given something tiny ﬁre ritual could warm',\n",
              "       'one must naked get clean dad shrugs pajama shirt steps boxers tub brace whose long illness made shed modesty seated plastic bench holds soap like caught fish lap waiting test waters heat wrist turning nozzle toward pale skin leans doused hands soap might scrub shoulders neck suds sluicing spine buttock cleft like child wants washcloth cover eyes lather palmful pearlescent shampoo craniotomyscarred scalp rinse clear whatever soft hair left voices echo spray steam room long ago knelt tubs edge pour cups bathwater head reminds wash behind ears judges clean turn tap grips safety bar steadies stands turning body dripping frail pink although nearly forty one last thing teach hold open towel receive',\n",
              "       'abou ben adhem may tribe increase awoke one night deep dream peace saw within moonlight room making rich like lily bloom angel writing book gold exceeding peace made ben adhem bold presence room said writest thouthe vision raised head look made sweet accord answered names love lord mine one said abou nay replied angel abou spoke low cheerly still said pray thee write one loves fellow men angel wrote vanished next night came great wakening light showed names love god blest lo ben adhems name led rest',\n",
              "       'lives house swimming pool says job killing cant seem get rid novels keep coming back expect screams go new york pump hands publishers tell quit job go small room thing need assurance need something go word sign men think way van gogh wagner oh hell van gogh brother gave paints whenever needed look said im broads house today guy walks salesman know talk drove new car talked vacation said went friscosaw fidelio forgot wrote guy years old told fidelio beethovens opera told youre jerk whatcha mean asked mean youre jerk youre years old dont know anything happened walked mean left yes cant quit job said always trouble getting job walk look listen talk think right away ah ha hes intelligent job wont stay theres really sense hiring walk place dont trouble look like old wino look like guy needs job look think ah ha heres guy really needs work hire hell stay long time work hard people asks know writer write poetry never talk even hadnt seen magazine id never known thats right still id like tell people writer id still like tell well talk think horseplayer drunk well talk odd ways travel alone im friend yes talk id like defend id like tell write poetry leave alone work like well id like want know travel speak languages know music forget right ill respect wishes theres something else ive thinking getting piano ive thinking getting violin cant make mind buy piano think yes walks away thinking thinking figure always come violin sad music',\n",
              "       'thing shark isteeth one row one row beneath take close look find another row behind still closerhere ill hold hat third row behind look andlook oh ill never know well goodbye',\n",
              "       'finished clearing last section trail noon high ridgeside two thousand feet creek reached pass went beyond white pine groves granite shoulders small green meadow watered snow edged aspensun straight high blazing air cool ate cold fried trout trembling shadows spied glitter found flake black volcanic glassobsidian flower hands knees pushing bear grass thousands arrowhead leavings hundred yards one good head razor flakes hill snowed summer land fat summer deer came camp trails followed trail picked colddrill pick singlejack sack dynamite ten thousand years',\n",
              "       'one succeeds obtaining prominent place literature surrounding faithful steady circle admirers drawn fickle masses public unless possesses originality constant variety distinct personality quite possible gain moment readers imitating original feature another soon vanish writer remains alone forgotten others without belonging distinct group authors found standard moralists educators time obtained undying recognition',\n",
              "       'fifty years old today half century hurried since first lay mothers wondering arms sure old longer deceive believing still young illusion youth mental habit consciously encouraged defy face reality age twenty one feels reached mans estate nevertheless tests strength abilities early successes failures temporary fictitious standards youth',\n",
              "       'thorough study chinese child life made wall chinese exclusiveness broken homes east thrown open people west glimpses life however available sufficient number character give fairly good idea must playground means always hidden least street chinese nurse brings chinese rhymes stories games foreigners home amusement little ones chinese kindergarten methods appliances superior ingenuity ability interest well instruct matter travelling shows jugglers also country better supplied chiefly entertainment little ones'],\n",
              "      dtype=object)"
            ]
          },
          "metadata": {
            "tags": []
          },
          "execution_count": 28
        }
      ]
    },
    {
      "cell_type": "markdown",
      "metadata": {
        "id": "5MAxCEAa7yWN"
      },
      "source": [
        "**OneHot Encoding**"
      ]
    },
    {
      "cell_type": "code",
      "metadata": {
        "colab": {
          "base_uri": "https://localhost:8080/"
        },
        "id": "BnZpJn4I701G",
        "outputId": "9d1bc259-e324-47aa-a68d-b4f0cde71fc5"
      },
      "source": [
        "from tensorflow.keras.preprocessing.text import one_hot\r\n",
        "vocab_size = 5000 #vocabulary size\r\n",
        "onehot_re = [one_hot(words, vocab_size) for words in final_text ]\r\n",
        "onehot_re[1]"
      ],
      "execution_count": 100,
      "outputs": [
        {
          "output_type": "execute_result",
          "data": {
            "text/plain": [
              "[4393,\n",
              " 4713,\n",
              " 2887,\n",
              " 1851,\n",
              " 3391,\n",
              " 3798,\n",
              " 288,\n",
              " 3155,\n",
              " 1209,\n",
              " 1840,\n",
              " 1046,\n",
              " 4115,\n",
              " 1689,\n",
              " 3904,\n",
              " 1982,\n",
              " 2072,\n",
              " 2415,\n",
              " 2436,\n",
              " 4948,\n",
              " 4419,\n",
              " 1652,\n",
              " 4422,\n",
              " 2511,\n",
              " 1383,\n",
              " 3760,\n",
              " 4741,\n",
              " 1126,\n",
              " 2522,\n",
              " 2174,\n",
              " 512,\n",
              " 3579,\n",
              " 1670,\n",
              " 1635,\n",
              " 4131,\n",
              " 2983,\n",
              " 1534,\n",
              " 199,\n",
              " 3456,\n",
              " 34,\n",
              " 990,\n",
              " 4472,\n",
              " 158,\n",
              " 3083,\n",
              " 178]"
            ]
          },
          "metadata": {
            "tags": []
          },
          "execution_count": 100
        }
      ]
    },
    {
      "cell_type": "markdown",
      "metadata": {
        "id": "SNVtT5pb8I_N"
      },
      "source": [
        "**Word Embedding**"
      ]
    },
    {
      "cell_type": "code",
      "metadata": {
        "id": "QUqXvLaPfArB",
        "colab": {
          "base_uri": "https://localhost:8080/"
        },
        "outputId": "5f95031a-2a0a-409c-bee8-0e995cf936f3"
      },
      "source": [
        "from tensorflow.keras.layers import Embedding\r\n",
        "from tensorflow.keras.preprocessing.sequence import pad_sequences\r\n",
        "from tensorflow.keras.models import Sequential\r\n",
        "\r\n",
        "import numpy as np\r\n",
        "\r\n",
        "# word embedding\r\n",
        "maxlen = 500\r\n",
        "padding = pad_sequences(onehot_re, maxlen = maxlen,padding='post')\r\n",
        "padding[4]"
      ],
      "execution_count": 119,
      "outputs": [
        {
          "output_type": "execute_result",
          "data": {
            "text/plain": [
              "array([1890, 4789, 1023, 1162,  818,  781,  932, 2771, 1134, 1665, 2949,\n",
              "       1890, 3705, 4620, 3428, 3161, 4658, 4397, 2417, 4318, 1160, 1268,\n",
              "       4536,  435, 4828,  726,  506, 1196, 2302,  231, 2941, 1944, 3098,\n",
              "       1600, 3883, 2945, 4700, 4866, 3013, 3211, 1162,  818, 1540, 4919,\n",
              "       4220, 3628, 1501,  651, 4067, 2650, 2826, 3884, 3169,    0,    0,\n",
              "          0,    0,    0,    0,    0,    0,    0,    0,    0,    0,    0,\n",
              "          0,    0,    0,    0,    0,    0,    0,    0,    0,    0,    0,\n",
              "          0,    0,    0,    0,    0,    0,    0,    0,    0,    0,    0,\n",
              "          0,    0,    0,    0,    0,    0,    0,    0,    0,    0,    0,\n",
              "          0,    0,    0,    0,    0,    0,    0,    0,    0,    0,    0,\n",
              "          0,    0,    0,    0,    0,    0,    0,    0,    0,    0,    0,\n",
              "          0,    0,    0,    0,    0,    0,    0,    0,    0,    0,    0,\n",
              "          0,    0,    0,    0,    0,    0,    0,    0,    0,    0,    0,\n",
              "          0,    0,    0,    0,    0,    0,    0,    0,    0,    0,    0,\n",
              "          0,    0,    0,    0,    0,    0,    0,    0,    0,    0,    0,\n",
              "          0,    0,    0,    0,    0,    0,    0,    0,    0,    0,    0,\n",
              "          0,    0,    0,    0,    0,    0,    0,    0,    0,    0,    0,\n",
              "          0,    0,    0,    0,    0,    0,    0,    0,    0,    0,    0,\n",
              "          0,    0,    0,    0,    0,    0,    0,    0,    0,    0,    0,\n",
              "          0,    0,    0,    0,    0,    0,    0,    0,    0,    0,    0,\n",
              "          0,    0,    0,    0,    0,    0,    0,    0,    0,    0,    0,\n",
              "          0,    0,    0,    0,    0,    0,    0,    0,    0,    0,    0,\n",
              "          0,    0,    0,    0,    0,    0,    0,    0,    0,    0,    0,\n",
              "          0,    0,    0,    0,    0,    0,    0,    0,    0,    0,    0,\n",
              "          0,    0,    0,    0,    0,    0,    0,    0,    0,    0,    0,\n",
              "          0,    0,    0,    0,    0,    0,    0,    0,    0,    0,    0,\n",
              "          0,    0,    0,    0,    0,    0,    0,    0,    0,    0,    0,\n",
              "          0,    0,    0,    0,    0,    0,    0,    0,    0,    0,    0,\n",
              "          0,    0,    0,    0,    0,    0,    0,    0,    0,    0,    0,\n",
              "          0,    0,    0,    0,    0,    0,    0,    0,    0,    0,    0,\n",
              "          0,    0,    0,    0,    0,    0,    0,    0,    0,    0,    0,\n",
              "          0,    0,    0,    0,    0,    0,    0,    0,    0,    0,    0,\n",
              "          0,    0,    0,    0,    0,    0,    0,    0,    0,    0,    0,\n",
              "          0,    0,    0,    0,    0,    0,    0,    0,    0,    0,    0,\n",
              "          0,    0,    0,    0,    0,    0,    0,    0,    0,    0,    0,\n",
              "          0,    0,    0,    0,    0,    0,    0,    0,    0,    0,    0,\n",
              "          0,    0,    0,    0,    0,    0,    0,    0,    0,    0,    0,\n",
              "          0,    0,    0,    0,    0,    0,    0,    0,    0,    0,    0,\n",
              "          0,    0,    0,    0,    0,    0,    0,    0,    0,    0,    0,\n",
              "          0,    0,    0,    0,    0,    0,    0,    0,    0,    0,    0,\n",
              "          0,    0,    0,    0,    0,    0,    0,    0,    0,    0,    0,\n",
              "          0,    0,    0,    0,    0,    0,    0,    0,    0,    0,    0,\n",
              "          0,    0,    0,    0,    0,    0,    0,    0,    0,    0,    0,\n",
              "          0,    0,    0,    0,    0,    0,    0,    0,    0,    0,    0,\n",
              "          0,    0,    0,    0,    0,    0,    0,    0,    0,    0,    0,\n",
              "          0,    0,    0,    0,    0], dtype=int32)"
            ]
          },
          "metadata": {
            "tags": []
          },
          "execution_count": 119
        }
      ]
    },
    {
      "cell_type": "markdown",
      "metadata": {
        "id": "ur-D0u8M8hq3"
      },
      "source": [
        "**Training, Validaton and Testing Split**"
      ]
    },
    {
      "cell_type": "code",
      "metadata": {
        "colab": {
          "base_uri": "https://localhost:8080/"
        },
        "id": "lzkozqAF8nZ_",
        "outputId": "a496e18d-014e-4cb9-95ab-111ae708db0a"
      },
      "source": [
        "from sklearn.model_selection import train_test_split\r\n",
        "score = new_df['Tag'].factorize()\r\n",
        "score"
      ],
      "execution_count": 120,
      "outputs": [
        {
          "output_type": "execute_result",
          "data": {
            "text/plain": [
              "(array([-1,  0, -1,  1,  0,  0,  1,  1,  0,  0,  1,  1,  1,  1,  1,  1, -1,\n",
              "         1,  0,  0,  0, -1,  1,  1,  0,  1,  1,  1,  1,  1,  0,  0,  0,  0,\n",
              "         0,  0,  0,  0,  0,  0,  0,  0,  0,  0,  0]),\n",
              " Index(['novel', 'poetry'], dtype='object'))"
            ]
          },
          "metadata": {
            "tags": []
          },
          "execution_count": 120
        }
      ]
    },
    {
      "cell_type": "code",
      "metadata": {
        "id": "kMepbkU88r5s"
      },
      "source": [
        "X_train, X_test,y_train,y_test = train_test_split(padding,score[0], test_size = 0.2, random_state = 42)"
      ],
      "execution_count": 121,
      "outputs": []
    },
    {
      "cell_type": "code",
      "metadata": {
        "id": "BQcVZ2Tg8xqT"
      },
      "source": [
        "X_train, X_val, y_train, y_val = train_test_split(X_train,y_train,test_size= 0.2 , random_state = 42)"
      ],
      "execution_count": 122,
      "outputs": []
    },
    {
      "cell_type": "code",
      "metadata": {
        "id": "cMTWvaII80gS"
      },
      "source": [
        "dim = 2"
      ],
      "execution_count": 123,
      "outputs": []
    },
    {
      "cell_type": "markdown",
      "metadata": {
        "id": "-oUVmrR3dr3L"
      },
      "source": [
        "**LSTM model building**"
      ]
    },
    {
      "cell_type": "code",
      "metadata": {
        "colab": {
          "base_uri": "https://localhost:8080/"
        },
        "id": "LhAo0Jyj9E2R",
        "outputId": "35ef8840-ebe3-43fe-f717-1281fe9b271d"
      },
      "source": [
        "from keras.models import Sequential, Model\r\n",
        "from keras.layers import Embedding, Dense, Dropout, Activation, Input, LSTM\r\n",
        "\r\n",
        "model = Sequential()\r\n",
        "model.add(Embedding(vocab_size, dim, input_length=maxlen))\r\n",
        "model.add(Dropout(.2))\r\n",
        "model.add(LSTM(50))\r\n",
        "model.add(Dropout(.2))\r\n",
        "model.add(Dense(10,activation='relu'))\r\n",
        "model.add(Dense(1))\r\n",
        "\r\n",
        "\r\n",
        "model.compile(optimizer= 'adam',loss='binary_crossentropy', metrics= ['accuracy'])\r\n",
        "model.summary()"
      ],
      "execution_count": 125,
      "outputs": [
        {
          "output_type": "stream",
          "text": [
            "Model: \"sequential_7\"\n",
            "_________________________________________________________________\n",
            "Layer (type)                 Output Shape              Param #   \n",
            "=================================================================\n",
            "embedding_7 (Embedding)      (None, 500, 2)            10000     \n",
            "_________________________________________________________________\n",
            "dropout_14 (Dropout)         (None, 500, 2)            0         \n",
            "_________________________________________________________________\n",
            "lstm_7 (LSTM)                (None, 50)                10600     \n",
            "_________________________________________________________________\n",
            "dropout_15 (Dropout)         (None, 50)                0         \n",
            "_________________________________________________________________\n",
            "dense_14 (Dense)             (None, 10)                510       \n",
            "_________________________________________________________________\n",
            "dense_15 (Dense)             (None, 1)                 11        \n",
            "=================================================================\n",
            "Total params: 21,121\n",
            "Trainable params: 21,121\n",
            "Non-trainable params: 0\n",
            "_________________________________________________________________\n"
          ],
          "name": "stdout"
        }
      ]
    },
    {
      "cell_type": "markdown",
      "metadata": {
        "id": "bZviGVHXdxR7"
      },
      "source": [
        "**Model Fitting**"
      ]
    },
    {
      "cell_type": "code",
      "metadata": {
        "colab": {
          "base_uri": "https://localhost:8080/"
        },
        "id": "vCVx47uds43V",
        "outputId": "6e74358a-9615-4297-9b71-643ced965284"
      },
      "source": [
        "%%time\r\n",
        "model.fit(X_train,y_train,epochs=20,validation_data= (X_test,y_test),batch_size= 8)"
      ],
      "execution_count": 128,
      "outputs": [
        {
          "output_type": "stream",
          "text": [
            "Epoch 1/20\n",
            "4/4 [==============================] - 1s 250ms/step - loss: 0.5835 - accuracy: 0.4286 - val_loss: 0.6478 - val_accuracy: 0.6667\n",
            "Epoch 2/20\n",
            "4/4 [==============================] - 1s 224ms/step - loss: 0.5922 - accuracy: 0.4286 - val_loss: 0.6446 - val_accuracy: 0.6667\n",
            "Epoch 3/20\n",
            "4/4 [==============================] - 1s 230ms/step - loss: 0.6192 - accuracy: 0.4286 - val_loss: 0.6484 - val_accuracy: 0.6667\n",
            "Epoch 4/20\n",
            "4/4 [==============================] - 1s 231ms/step - loss: 0.6337 - accuracy: 0.4286 - val_loss: 0.6445 - val_accuracy: 0.6667\n",
            "Epoch 5/20\n",
            "4/4 [==============================] - 1s 226ms/step - loss: 0.5999 - accuracy: 0.4286 - val_loss: 0.6485 - val_accuracy: 0.6667\n",
            "Epoch 6/20\n",
            "4/4 [==============================] - 1s 230ms/step - loss: 0.5980 - accuracy: 0.4286 - val_loss: 0.6521 - val_accuracy: 0.6667\n",
            "Epoch 7/20\n",
            "4/4 [==============================] - 1s 227ms/step - loss: 0.6191 - accuracy: 0.4286 - val_loss: 0.6608 - val_accuracy: 0.6667\n",
            "Epoch 8/20\n",
            "4/4 [==============================] - 1s 225ms/step - loss: 0.6001 - accuracy: 0.4286 - val_loss: 0.6591 - val_accuracy: 0.6667\n",
            "Epoch 9/20\n",
            "4/4 [==============================] - 1s 230ms/step - loss: 0.6008 - accuracy: 0.4286 - val_loss: 0.6473 - val_accuracy: 0.6667\n",
            "Epoch 10/20\n",
            "4/4 [==============================] - 1s 229ms/step - loss: 0.6127 - accuracy: 0.4286 - val_loss: 0.6400 - val_accuracy: 0.6667\n",
            "Epoch 11/20\n",
            "4/4 [==============================] - 1s 230ms/step - loss: 0.5803 - accuracy: 0.4286 - val_loss: 0.6366 - val_accuracy: 0.6667\n",
            "Epoch 12/20\n",
            "4/4 [==============================] - 1s 231ms/step - loss: 0.6241 - accuracy: 0.4286 - val_loss: 0.6366 - val_accuracy: 0.6667\n",
            "Epoch 13/20\n",
            "4/4 [==============================] - 1s 239ms/step - loss: 0.6086 - accuracy: 0.4286 - val_loss: 0.6416 - val_accuracy: 0.6667\n",
            "Epoch 14/20\n",
            "4/4 [==============================] - 1s 230ms/step - loss: 0.5920 - accuracy: 0.4286 - val_loss: 0.6538 - val_accuracy: 0.6667\n",
            "Epoch 15/20\n",
            "4/4 [==============================] - 1s 295ms/step - loss: 0.5935 - accuracy: 0.4286 - val_loss: 0.6585 - val_accuracy: 0.6667\n",
            "Epoch 16/20\n",
            "4/4 [==============================] - 1s 240ms/step - loss: 0.6177 - accuracy: 0.4286 - val_loss: 0.6624 - val_accuracy: 0.6667\n",
            "Epoch 17/20\n",
            "4/4 [==============================] - 1s 252ms/step - loss: 0.6180 - accuracy: 0.4286 - val_loss: 0.6594 - val_accuracy: 0.6667\n",
            "Epoch 18/20\n",
            "4/4 [==============================] - 1s 232ms/step - loss: 0.5981 - accuracy: 0.4286 - val_loss: 0.6575 - val_accuracy: 0.6667\n",
            "Epoch 19/20\n",
            "4/4 [==============================] - 1s 224ms/step - loss: 0.5937 - accuracy: 0.4286 - val_loss: 0.6600 - val_accuracy: 0.6667\n",
            "Epoch 20/20\n",
            "4/4 [==============================] - 1s 229ms/step - loss: 0.5945 - accuracy: 0.4286 - val_loss: 0.6567 - val_accuracy: 0.6667\n",
            "CPU times: user 30.2 s, sys: 849 ms, total: 31.1 s\n",
            "Wall time: 18.2 s\n"
          ],
          "name": "stdout"
        },
        {
          "output_type": "execute_result",
          "data": {
            "text/plain": [
              "<tensorflow.python.keras.callbacks.History at 0x7efc603dfac8>"
            ]
          },
          "metadata": {
            "tags": []
          },
          "execution_count": 128
        }
      ]
    },
    {
      "cell_type": "markdown",
      "metadata": {
        "id": "jZBAbNxEd33d"
      },
      "source": [
        "**Confusion Matrix**  "
      ]
    },
    {
      "cell_type": "code",
      "metadata": {
        "colab": {
          "base_uri": "https://localhost:8080/"
        },
        "id": "105zhlo3s8oI",
        "outputId": "fea582c7-e342-400d-be07-63543f68d533"
      },
      "source": [
        "from sklearn.metrics import confusion_matrix\r\n",
        "predictions = (model.predict(X_test))\r\n",
        "predictions = np.round(predictions)\r\n",
        "cm= confusion_matrix(y_test, predictions)\r\n",
        "print(cm)"
      ],
      "execution_count": 129,
      "outputs": [
        {
          "output_type": "stream",
          "text": [
            "[[6 0]\n",
            " [3 0]]\n"
          ],
          "name": "stdout"
        }
      ]
    },
    {
      "cell_type": "code",
      "metadata": {
        "colab": {
          "base_uri": "https://localhost:8080/"
        },
        "id": "SpIkSGzGs-yx",
        "outputId": "83cac2b7-20e4-4113-e445-7469d748fbb2"
      },
      "source": [
        "from sklearn.metrics import accuracy_score\r\n",
        "\r\n",
        "# Getting score metrics from our model\r\n",
        "accuracy_score = model.evaluate(X_test, y_test, verbose=0)\r\n",
        "\r\n",
        "# Displays the accuracy of correct sentiment prediction over test data\r\n",
        "print(\"Accuracy: %.2f%%\" % (accuracy_score[1]*100))"
      ],
      "execution_count": 131,
      "outputs": [
        {
          "output_type": "stream",
          "text": [
            "Accuracy: 66.67%\n"
          ],
          "name": "stdout"
        }
      ]
    },
    {
      "cell_type": "code",
      "metadata": {
        "colab": {
          "base_uri": "https://localhost:8080/"
        },
        "id": "sHUsr-U1tCJZ",
        "outputId": "3bb84dba-86f4-4728-c8ed-68aac2ed5830"
      },
      "source": [
        "from sklearn.metrics import classification_report\r\n",
        "target_names = ['poetry','novel']\r\n",
        "print(classification_report(y_test,predictions, target_names=target_names))"
      ],
      "execution_count": 130,
      "outputs": [
        {
          "output_type": "stream",
          "text": [
            "              precision    recall  f1-score   support\n",
            "\n",
            "      poetry       0.67      1.00      0.80         6\n",
            "       novel       0.00      0.00      0.00         3\n",
            "\n",
            "    accuracy                           0.67         9\n",
            "   macro avg       0.33      0.50      0.40         9\n",
            "weighted avg       0.44      0.67      0.53         9\n",
            "\n"
          ],
          "name": "stdout"
        },
        {
          "output_type": "stream",
          "text": [
            "/usr/local/lib/python3.6/dist-packages/sklearn/metrics/_classification.py:1272: UndefinedMetricWarning: Precision and F-score are ill-defined and being set to 0.0 in labels with no predicted samples. Use `zero_division` parameter to control this behavior.\n",
            "  _warn_prf(average, modifier, msg_start, len(result))\n"
          ],
          "name": "stderr"
        }
      ]
    },
    {
      "cell_type": "code",
      "metadata": {
        "colab": {
          "base_uri": "https://localhost:8080/"
        },
        "id": "2apViqNP-USD",
        "outputId": "93af6133-0b72-4d75-9c83-eecf0b08ee9f"
      },
      "source": [
        "# predict on a sample text without padding.\r\n",
        "# to select the 4th poetry in the dataframe and to predict its category.\r\n",
        "predictions = model.predict(onehot_re[4])\r\n",
        "predictions[4]"
      ],
      "execution_count": 144,
      "outputs": [
        {
          "output_type": "execute_result",
          "data": {
            "text/plain": [
              "array([0.05393604], dtype=float32)"
            ]
          },
          "metadata": {
            "tags": []
          },
          "execution_count": 144
        }
      ]
    },
    {
      "cell_type": "code",
      "metadata": {
        "id": "FMqEKSrQed2C",
        "colab": {
          "base_uri": "https://localhost:8080/"
        },
        "outputId": "70da1d2f-b3f2-40ec-89e5-712051bf44fd"
      },
      "source": [
        "if (0 <= predictions[4] <= 1):\r\n",
        "  print(\"Text is Poetry\")\r\n",
        "elif(predictions[4] == 0):\r\n",
        "  print(\"Text is Novel \")\r\n",
        "else: \r\n",
        "  print(\"Text is N/A\")"
      ],
      "execution_count": 151,
      "outputs": [
        {
          "output_type": "stream",
          "text": [
            "Text is Poetry\n"
          ],
          "name": "stdout"
        }
      ]
    }
  ]
}