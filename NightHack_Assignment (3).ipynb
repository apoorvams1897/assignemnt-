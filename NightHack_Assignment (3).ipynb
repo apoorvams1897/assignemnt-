{
  "nbformat": 4,
  "nbformat_minor": 0,
  "metadata": {
    "colab": {
      "name": "NightHack Assignment.ipynb",
      "provenance": [],
      "collapsed_sections": []
    },
    "kernelspec": {
      "display_name": "Python 3",
      "name": "python3"
    }
  },
  "cells": [
    {
      "cell_type": "code",
      "metadata": {
        "colab": {
          "base_uri": "https://localhost:8080/"
        },
        "id": "qk9MyP-yIgeP",
        "outputId": "1e8754ae-d9cb-45a9-f26b-2dda34fa5c4e"
      },
      "source": [
        "from google.colab import drive\r\n",
        "drive.mount('/content/drive')"
      ],
      "execution_count": null,
      "outputs": [
        {
          "output_type": "stream",
          "text": [
            "Mounted at /content/drive\n"
          ],
          "name": "stdout"
        }
      ]
    },
    {
      "cell_type": "markdown",
      "metadata": {
        "id": "eu4O6Kfpb3N7"
      },
      "source": [
        "**Reading the CSV dataset into the DataFrame**"
      ]
    },
    {
      "cell_type": "code",
      "metadata": {
        "colab": {
          "base_uri": "https://localhost:8080/",
          "height": 221
        },
        "id": "hmaHiIsKIhts",
        "outputId": "109e7956-86ed-4978-a69f-df4955a12690"
      },
      "source": [
        "%cd /content/drive/My Drive/\r\n",
        "import pandas as pd\r\n",
        "df = pd.read_csv('./Masters/assignment.csv')\r\n",
        "df.head()"
      ],
      "execution_count": null,
      "outputs": [
        {
          "output_type": "stream",
          "text": [
            "/content/drive/My Drive\n"
          ],
          "name": "stdout"
        },
        {
          "output_type": "execute_result",
          "data": {
            "text/html": [
              "<div>\n",
              "<style scoped>\n",
              "    .dataframe tbody tr th:only-of-type {\n",
              "        vertical-align: middle;\n",
              "    }\n",
              "\n",
              "    .dataframe tbody tr th {\n",
              "        vertical-align: top;\n",
              "    }\n",
              "\n",
              "    .dataframe thead th {\n",
              "        text-align: right;\n",
              "    }\n",
              "</style>\n",
              "<table border=\"1\" class=\"dataframe\">\n",
              "  <thead>\n",
              "    <tr style=\"text-align: right;\">\n",
              "      <th></th>\n",
              "      <th>Author</th>\n",
              "      <th>Title</th>\n",
              "      <th>Poetry Foundation ID</th>\n",
              "      <th>Content</th>\n",
              "      <th>Tag</th>\n",
              "    </tr>\n",
              "  </thead>\n",
              "  <tbody>\n",
              "    <tr>\n",
              "      <th>0</th>\n",
              "      <td>Hailey Leithauser</td>\n",
              "      <td>0</td>\n",
              "      <td>41729</td>\n",
              "      <td>Philosophic\\nin its complex, void emptiness,\\n...</td>\n",
              "      <td>novel</td>\n",
              "    </tr>\n",
              "    <tr>\n",
              "      <th>1</th>\n",
              "      <td>Joseph Brodsky</td>\n",
              "      <td>01-Jan-65</td>\n",
              "      <td>56736</td>\n",
              "      <td>The Wise Men will unlearn your name.\\nAbove yo...</td>\n",
              "      <td>poetry</td>\n",
              "    </tr>\n",
              "    <tr>\n",
              "      <th>2</th>\n",
              "      <td>Ted Berrigan</td>\n",
              "      <td>3 Pages</td>\n",
              "      <td>51624</td>\n",
              "      <td>For Jack Collom\\n10 Things I do Every Day\\n\\np...</td>\n",
              "      <td>novel</td>\n",
              "    </tr>\n",
              "    <tr>\n",
              "      <th>3</th>\n",
              "      <td>Joe Brainard</td>\n",
              "      <td>30 One-Liners</td>\n",
              "      <td>58251</td>\n",
              "      <td>WINTER\\nMore time is spent at the window.\\n\\nS...</td>\n",
              "      <td>novel</td>\n",
              "    </tr>\n",
              "    <tr>\n",
              "      <th>4</th>\n",
              "      <td>Naomi Shihab Nye</td>\n",
              "      <td>300 Goats</td>\n",
              "      <td>58630</td>\n",
              "      <td>In icy fields.\\n\\nIs water flowing in the tank...</td>\n",
              "      <td>poetry</td>\n",
              "    </tr>\n",
              "  </tbody>\n",
              "</table>\n",
              "</div>"
            ],
            "text/plain": [
              "              Author  ...     Tag\n",
              "0  Hailey Leithauser  ...   novel\n",
              "1     Joseph Brodsky  ...  poetry\n",
              "2       Ted Berrigan  ...   novel\n",
              "3       Joe Brainard  ...   novel\n",
              "4   Naomi Shihab Nye  ...  poetry\n",
              "\n",
              "[5 rows x 5 columns]"
            ]
          },
          "metadata": {
            "tags": []
          },
          "execution_count": 2
        }
      ]
    },
    {
      "cell_type": "markdown",
      "metadata": {
        "id": "I8aXP-uicLaG"
      },
      "source": [
        "**Title of each column in the dataframe**"
      ]
    },
    {
      "cell_type": "code",
      "metadata": {
        "colab": {
          "base_uri": "https://localhost:8080/",
          "height": 49
        },
        "id": "DMPvHVDdIMUl",
        "outputId": "acd5aa66-20a9-4fb6-ef9c-cc6ca34fa804"
      },
      "source": [
        "df.head(0) "
      ],
      "execution_count": null,
      "outputs": [
        {
          "output_type": "execute_result",
          "data": {
            "text/html": [
              "<div>\n",
              "<style scoped>\n",
              "    .dataframe tbody tr th:only-of-type {\n",
              "        vertical-align: middle;\n",
              "    }\n",
              "\n",
              "    .dataframe tbody tr th {\n",
              "        vertical-align: top;\n",
              "    }\n",
              "\n",
              "    .dataframe thead th {\n",
              "        text-align: right;\n",
              "    }\n",
              "</style>\n",
              "<table border=\"1\" class=\"dataframe\">\n",
              "  <thead>\n",
              "    <tr style=\"text-align: right;\">\n",
              "      <th></th>\n",
              "      <th>Author</th>\n",
              "      <th>Title</th>\n",
              "      <th>Poetry Foundation ID</th>\n",
              "      <th>Content</th>\n",
              "      <th>Tag</th>\n",
              "    </tr>\n",
              "  </thead>\n",
              "  <tbody>\n",
              "  </tbody>\n",
              "</table>\n",
              "</div>"
            ],
            "text/plain": [
              "Empty DataFrame\n",
              "Columns: [Author, Title, Poetry Foundation ID, Content, Tag]\n",
              "Index: []"
            ]
          },
          "metadata": {
            "tags": []
          },
          "execution_count": 3
        }
      ]
    },
    {
      "cell_type": "markdown",
      "metadata": {
        "id": "F2lZGJLOcTK9"
      },
      "source": [
        "**Information on the contents pf the dataframe**"
      ]
    },
    {
      "cell_type": "code",
      "metadata": {
        "colab": {
          "base_uri": "https://localhost:8080/"
        },
        "id": "G6ydDkMQIOmo",
        "outputId": "a5a183ae-46eb-429b-f400-2ca74579901a"
      },
      "source": [
        "df.info() "
      ],
      "execution_count": null,
      "outputs": [
        {
          "output_type": "stream",
          "text": [
            "<class 'pandas.core.frame.DataFrame'>\n",
            "RangeIndex: 41 entries, 0 to 40\n",
            "Data columns (total 5 columns):\n",
            " #   Column                Non-Null Count  Dtype \n",
            "---  ------                --------------  ----- \n",
            " 0   Author                41 non-null     object\n",
            " 1   Title                 41 non-null     object\n",
            " 2   Poetry Foundation ID  41 non-null     int64 \n",
            " 3   Content               41 non-null     object\n",
            " 4   Tag                   41 non-null     object\n",
            "dtypes: int64(1), object(4)\n",
            "memory usage: 1.7+ KB\n"
          ],
          "name": "stdout"
        }
      ]
    },
    {
      "cell_type": "markdown",
      "metadata": {
        "id": "hcJwpNlacZHw"
      },
      "source": [
        "**Dropping columns Author, Title and ID**"
      ]
    },
    {
      "cell_type": "code",
      "metadata": {
        "id": "WZ9_5kpsU4wa"
      },
      "source": [
        "df_1 = df.drop(df.columns[[0,1,2]],axis= 1) "
      ],
      "execution_count": null,
      "outputs": []
    },
    {
      "cell_type": "code",
      "metadata": {
        "colab": {
          "base_uri": "https://localhost:8080/"
        },
        "id": "Jl6vhUVkVAhH",
        "outputId": "d40dddb2-a9aa-44f1-8123-a3faaa677f3b"
      },
      "source": [
        "df_1.columns"
      ],
      "execution_count": null,
      "outputs": [
        {
          "output_type": "execute_result",
          "data": {
            "text/plain": [
              "Index(['Content', 'Tag'], dtype='object')"
            ]
          },
          "metadata": {
            "tags": []
          },
          "execution_count": 6
        }
      ]
    },
    {
      "cell_type": "markdown",
      "metadata": {
        "id": "FbR_17pgciQy"
      },
      "source": [
        "**Final DataFrame**"
      ]
    },
    {
      "cell_type": "code",
      "metadata": {
        "colab": {
          "base_uri": "https://localhost:8080/",
          "height": 204
        },
        "id": "1CkA9dicVT_L",
        "outputId": "9fd89fd6-b742-4071-f272-5f8ad6c252c6"
      },
      "source": [
        "df_1.head()"
      ],
      "execution_count": null,
      "outputs": [
        {
          "output_type": "execute_result",
          "data": {
            "text/html": [
              "<div>\n",
              "<style scoped>\n",
              "    .dataframe tbody tr th:only-of-type {\n",
              "        vertical-align: middle;\n",
              "    }\n",
              "\n",
              "    .dataframe tbody tr th {\n",
              "        vertical-align: top;\n",
              "    }\n",
              "\n",
              "    .dataframe thead th {\n",
              "        text-align: right;\n",
              "    }\n",
              "</style>\n",
              "<table border=\"1\" class=\"dataframe\">\n",
              "  <thead>\n",
              "    <tr style=\"text-align: right;\">\n",
              "      <th></th>\n",
              "      <th>Content</th>\n",
              "      <th>Tag</th>\n",
              "    </tr>\n",
              "  </thead>\n",
              "  <tbody>\n",
              "    <tr>\n",
              "      <th>0</th>\n",
              "      <td>Philosophic\\nin its complex, void emptiness,\\n...</td>\n",
              "      <td>novel</td>\n",
              "    </tr>\n",
              "    <tr>\n",
              "      <th>1</th>\n",
              "      <td>The Wise Men will unlearn your name.\\nAbove yo...</td>\n",
              "      <td>poetry</td>\n",
              "    </tr>\n",
              "    <tr>\n",
              "      <th>2</th>\n",
              "      <td>For Jack Collom\\n10 Things I do Every Day\\n\\np...</td>\n",
              "      <td>novel</td>\n",
              "    </tr>\n",
              "    <tr>\n",
              "      <th>3</th>\n",
              "      <td>WINTER\\nMore time is spent at the window.\\n\\nS...</td>\n",
              "      <td>novel</td>\n",
              "    </tr>\n",
              "    <tr>\n",
              "      <th>4</th>\n",
              "      <td>In icy fields.\\n\\nIs water flowing in the tank...</td>\n",
              "      <td>poetry</td>\n",
              "    </tr>\n",
              "  </tbody>\n",
              "</table>\n",
              "</div>"
            ],
            "text/plain": [
              "                                             Content     Tag\n",
              "0  Philosophic\\nin its complex, void emptiness,\\n...   novel\n",
              "1  The Wise Men will unlearn your name.\\nAbove yo...  poetry\n",
              "2  For Jack Collom\\n10 Things I do Every Day\\n\\np...   novel\n",
              "3  WINTER\\nMore time is spent at the window.\\n\\nS...   novel\n",
              "4  In icy fields.\\n\\nIs water flowing in the tank...  poetry"
            ]
          },
          "metadata": {
            "tags": []
          },
          "execution_count": 7
        }
      ]
    },
    {
      "cell_type": "markdown",
      "metadata": {
        "id": "UT1yWOayNJRn"
      },
      "source": [
        "# **Pre-processing the Data**"
      ]
    },
    {
      "cell_type": "code",
      "metadata": {
        "colab": {
          "base_uri": "https://localhost:8080/"
        },
        "id": "aA7jMr2zJCpM",
        "outputId": "e337fc76-72b8-4dd9-c060-20c93548368b"
      },
      "source": [
        "pip install nltk"
      ],
      "execution_count": null,
      "outputs": [
        {
          "output_type": "stream",
          "text": [
            "Requirement already satisfied: nltk in /usr/local/lib/python3.6/dist-packages (3.2.5)\n",
            "Requirement already satisfied: six in /usr/local/lib/python3.6/dist-packages (from nltk) (1.15.0)\n"
          ],
          "name": "stdout"
        }
      ]
    },
    {
      "cell_type": "markdown",
      "metadata": {
        "id": "qkzEdZPrN8E2"
      },
      "source": [
        "## **convert all text to lower-case**"
      ]
    },
    {
      "cell_type": "code",
      "metadata": {
        "id": "1TX7ZYeHS4Jw"
      },
      "source": [
        "df_1['lowercase'] = df_1['Content'].apply(lambda Content: Content.lower())"
      ],
      "execution_count": null,
      "outputs": []
    },
    {
      "cell_type": "code",
      "metadata": {
        "colab": {
          "base_uri": "https://localhost:8080/",
          "height": 204
        },
        "id": "AH8NUtUaWN6v",
        "outputId": "107993e1-b9c4-4c27-9fb1-7de1c677453b"
      },
      "source": [
        "df_1.head()"
      ],
      "execution_count": null,
      "outputs": [
        {
          "output_type": "execute_result",
          "data": {
            "text/html": [
              "<div>\n",
              "<style scoped>\n",
              "    .dataframe tbody tr th:only-of-type {\n",
              "        vertical-align: middle;\n",
              "    }\n",
              "\n",
              "    .dataframe tbody tr th {\n",
              "        vertical-align: top;\n",
              "    }\n",
              "\n",
              "    .dataframe thead th {\n",
              "        text-align: right;\n",
              "    }\n",
              "</style>\n",
              "<table border=\"1\" class=\"dataframe\">\n",
              "  <thead>\n",
              "    <tr style=\"text-align: right;\">\n",
              "      <th></th>\n",
              "      <th>Content</th>\n",
              "      <th>Tag</th>\n",
              "      <th>lowercase</th>\n",
              "    </tr>\n",
              "  </thead>\n",
              "  <tbody>\n",
              "    <tr>\n",
              "      <th>0</th>\n",
              "      <td>Philosophic\\nin its complex, void emptiness,\\n...</td>\n",
              "      <td>novel</td>\n",
              "      <td>philosophic\\nin its complex, void emptiness,\\n...</td>\n",
              "    </tr>\n",
              "    <tr>\n",
              "      <th>1</th>\n",
              "      <td>The Wise Men will unlearn your name.\\nAbove yo...</td>\n",
              "      <td>poetry</td>\n",
              "      <td>the wise men will unlearn your name.\\nabove yo...</td>\n",
              "    </tr>\n",
              "    <tr>\n",
              "      <th>2</th>\n",
              "      <td>For Jack Collom\\n10 Things I do Every Day\\n\\np...</td>\n",
              "      <td>novel</td>\n",
              "      <td>for jack collom\\n10 things i do every day\\n\\np...</td>\n",
              "    </tr>\n",
              "    <tr>\n",
              "      <th>3</th>\n",
              "      <td>WINTER\\nMore time is spent at the window.\\n\\nS...</td>\n",
              "      <td>novel</td>\n",
              "      <td>winter\\nmore time is spent at the window.\\n\\ns...</td>\n",
              "    </tr>\n",
              "    <tr>\n",
              "      <th>4</th>\n",
              "      <td>In icy fields.\\n\\nIs water flowing in the tank...</td>\n",
              "      <td>poetry</td>\n",
              "      <td>in icy fields.\\n\\nis water flowing in the tank...</td>\n",
              "    </tr>\n",
              "  </tbody>\n",
              "</table>\n",
              "</div>"
            ],
            "text/plain": [
              "                                             Content  ...                                          lowercase\n",
              "0  Philosophic\\nin its complex, void emptiness,\\n...  ...  philosophic\\nin its complex, void emptiness,\\n...\n",
              "1  The Wise Men will unlearn your name.\\nAbove yo...  ...  the wise men will unlearn your name.\\nabove yo...\n",
              "2  For Jack Collom\\n10 Things I do Every Day\\n\\np...  ...  for jack collom\\n10 things i do every day\\n\\np...\n",
              "3  WINTER\\nMore time is spent at the window.\\n\\nS...  ...  winter\\nmore time is spent at the window.\\n\\ns...\n",
              "4  In icy fields.\\n\\nIs water flowing in the tank...  ...  in icy fields.\\n\\nis water flowing in the tank...\n",
              "\n",
              "[5 rows x 3 columns]"
            ]
          },
          "metadata": {
            "tags": []
          },
          "execution_count": 10
        }
      ]
    },
    {
      "cell_type": "markdown",
      "metadata": {
        "id": "bTB3YjkwWZKS"
      },
      "source": [
        "## **Remove Numbers**"
      ]
    },
    {
      "cell_type": "code",
      "metadata": {
        "id": "-P0RfZi0Wb9X"
      },
      "source": [
        "import re\r\n",
        "import nltk\r\n",
        "df_1['no_free'] = df_1['lowercase'].apply( lambda no_free: re.sub(r'\\d+','', no_free))"
      ],
      "execution_count": null,
      "outputs": []
    },
    {
      "cell_type": "code",
      "metadata": {
        "colab": {
          "base_uri": "https://localhost:8080/",
          "height": 204
        },
        "id": "mhoilicYWhtl",
        "outputId": "6f9006c0-2a33-4d65-ee6a-8f241acaff3c"
      },
      "source": [
        "df_1.head()"
      ],
      "execution_count": null,
      "outputs": [
        {
          "output_type": "execute_result",
          "data": {
            "text/html": [
              "<div>\n",
              "<style scoped>\n",
              "    .dataframe tbody tr th:only-of-type {\n",
              "        vertical-align: middle;\n",
              "    }\n",
              "\n",
              "    .dataframe tbody tr th {\n",
              "        vertical-align: top;\n",
              "    }\n",
              "\n",
              "    .dataframe thead th {\n",
              "        text-align: right;\n",
              "    }\n",
              "</style>\n",
              "<table border=\"1\" class=\"dataframe\">\n",
              "  <thead>\n",
              "    <tr style=\"text-align: right;\">\n",
              "      <th></th>\n",
              "      <th>Content</th>\n",
              "      <th>Tag</th>\n",
              "      <th>lowercase</th>\n",
              "      <th>no_free</th>\n",
              "    </tr>\n",
              "  </thead>\n",
              "  <tbody>\n",
              "    <tr>\n",
              "      <th>0</th>\n",
              "      <td>Philosophic\\nin its complex, void emptiness,\\n...</td>\n",
              "      <td>novel</td>\n",
              "      <td>philosophic\\nin its complex, void emptiness,\\n...</td>\n",
              "      <td>philosophic\\nin its complex, void emptiness,\\n...</td>\n",
              "    </tr>\n",
              "    <tr>\n",
              "      <th>1</th>\n",
              "      <td>The Wise Men will unlearn your name.\\nAbove yo...</td>\n",
              "      <td>poetry</td>\n",
              "      <td>the wise men will unlearn your name.\\nabove yo...</td>\n",
              "      <td>the wise men will unlearn your name.\\nabove yo...</td>\n",
              "    </tr>\n",
              "    <tr>\n",
              "      <th>2</th>\n",
              "      <td>For Jack Collom\\n10 Things I do Every Day\\n\\np...</td>\n",
              "      <td>novel</td>\n",
              "      <td>for jack collom\\n10 things i do every day\\n\\np...</td>\n",
              "      <td>for jack collom\\n things i do every day\\n\\npla...</td>\n",
              "    </tr>\n",
              "    <tr>\n",
              "      <th>3</th>\n",
              "      <td>WINTER\\nMore time is spent at the window.\\n\\nS...</td>\n",
              "      <td>novel</td>\n",
              "      <td>winter\\nmore time is spent at the window.\\n\\ns...</td>\n",
              "      <td>winter\\nmore time is spent at the window.\\n\\ns...</td>\n",
              "    </tr>\n",
              "    <tr>\n",
              "      <th>4</th>\n",
              "      <td>In icy fields.\\n\\nIs water flowing in the tank...</td>\n",
              "      <td>poetry</td>\n",
              "      <td>in icy fields.\\n\\nis water flowing in the tank...</td>\n",
              "      <td>in icy fields.\\n\\nis water flowing in the tank...</td>\n",
              "    </tr>\n",
              "  </tbody>\n",
              "</table>\n",
              "</div>"
            ],
            "text/plain": [
              "                                             Content  ...                                            no_free\n",
              "0  Philosophic\\nin its complex, void emptiness,\\n...  ...  philosophic\\nin its complex, void emptiness,\\n...\n",
              "1  The Wise Men will unlearn your name.\\nAbove yo...  ...  the wise men will unlearn your name.\\nabove yo...\n",
              "2  For Jack Collom\\n10 Things I do Every Day\\n\\np...  ...  for jack collom\\n things i do every day\\n\\npla...\n",
              "3  WINTER\\nMore time is spent at the window.\\n\\nS...  ...  winter\\nmore time is spent at the window.\\n\\ns...\n",
              "4  In icy fields.\\n\\nIs water flowing in the tank...  ...  in icy fields.\\n\\nis water flowing in the tank...\n",
              "\n",
              "[5 rows x 4 columns]"
            ]
          },
          "metadata": {
            "tags": []
          },
          "execution_count": 12
        }
      ]
    },
    {
      "cell_type": "markdown",
      "metadata": {
        "id": "qq3qbmlZWnaY"
      },
      "source": [
        "## **Remove Punctuation**"
      ]
    },
    {
      "cell_type": "code",
      "metadata": {
        "colab": {
          "base_uri": "https://localhost:8080/"
        },
        "id": "lvQQrf9jWqBC",
        "outputId": "c99d6c47-6bcd-4e05-8b1f-4e50f4bdcab6"
      },
      "source": [
        "nltk.download('punkt')"
      ],
      "execution_count": null,
      "outputs": [
        {
          "output_type": "stream",
          "text": [
            "[nltk_data] Downloading package punkt to /root/nltk_data...\n",
            "[nltk_data]   Unzipping tokenizers/punkt.zip.\n"
          ],
          "name": "stdout"
        },
        {
          "output_type": "execute_result",
          "data": {
            "text/plain": [
              "True"
            ]
          },
          "metadata": {
            "tags": []
          },
          "execution_count": 13
        }
      ]
    },
    {
      "cell_type": "code",
      "metadata": {
        "id": "JwJYst99WtJY"
      },
      "source": [
        "#re.sub(r'[^\\w\\s]','',s)\r\n",
        "df_1['punc_free'] = df_1['no_free'].apply( lambda punc_free: re.sub(r'[^\\w\\s]','',punc_free))"
      ],
      "execution_count": null,
      "outputs": []
    },
    {
      "cell_type": "code",
      "metadata": {
        "colab": {
          "base_uri": "https://localhost:8080/",
          "height": 272
        },
        "id": "JKSA-R8fWw29",
        "outputId": "873a2b48-b712-4e0d-b9b2-bf1dbb36f6b3"
      },
      "source": [
        "df_1.head()"
      ],
      "execution_count": null,
      "outputs": [
        {
          "output_type": "execute_result",
          "data": {
            "text/html": [
              "<div>\n",
              "<style scoped>\n",
              "    .dataframe tbody tr th:only-of-type {\n",
              "        vertical-align: middle;\n",
              "    }\n",
              "\n",
              "    .dataframe tbody tr th {\n",
              "        vertical-align: top;\n",
              "    }\n",
              "\n",
              "    .dataframe thead th {\n",
              "        text-align: right;\n",
              "    }\n",
              "</style>\n",
              "<table border=\"1\" class=\"dataframe\">\n",
              "  <thead>\n",
              "    <tr style=\"text-align: right;\">\n",
              "      <th></th>\n",
              "      <th>Content</th>\n",
              "      <th>Tag</th>\n",
              "      <th>lowercase</th>\n",
              "      <th>no_free</th>\n",
              "      <th>punc_free</th>\n",
              "    </tr>\n",
              "  </thead>\n",
              "  <tbody>\n",
              "    <tr>\n",
              "      <th>0</th>\n",
              "      <td>Philosophic\\nin its complex, void emptiness,\\n...</td>\n",
              "      <td>novel</td>\n",
              "      <td>philosophic\\nin its complex, void emptiness,\\n...</td>\n",
              "      <td>philosophic\\nin its complex, void emptiness,\\n...</td>\n",
              "      <td>philosophic\\nin its complex void emptiness\\na ...</td>\n",
              "    </tr>\n",
              "    <tr>\n",
              "      <th>1</th>\n",
              "      <td>The Wise Men will unlearn your name.\\nAbove yo...</td>\n",
              "      <td>poetry</td>\n",
              "      <td>the wise men will unlearn your name.\\nabove yo...</td>\n",
              "      <td>the wise men will unlearn your name.\\nabove yo...</td>\n",
              "      <td>the wise men will unlearn your name\\nabove you...</td>\n",
              "    </tr>\n",
              "    <tr>\n",
              "      <th>2</th>\n",
              "      <td>For Jack Collom\\n10 Things I do Every Day\\n\\np...</td>\n",
              "      <td>novel</td>\n",
              "      <td>for jack collom\\n10 things i do every day\\n\\np...</td>\n",
              "      <td>for jack collom\\n things i do every day\\n\\npla...</td>\n",
              "      <td>for jack collom\\n things i do every day\\n\\npla...</td>\n",
              "    </tr>\n",
              "    <tr>\n",
              "      <th>3</th>\n",
              "      <td>WINTER\\nMore time is spent at the window.\\n\\nS...</td>\n",
              "      <td>novel</td>\n",
              "      <td>winter\\nmore time is spent at the window.\\n\\ns...</td>\n",
              "      <td>winter\\nmore time is spent at the window.\\n\\ns...</td>\n",
              "      <td>winter\\nmore time is spent at the window\\n\\nsu...</td>\n",
              "    </tr>\n",
              "    <tr>\n",
              "      <th>4</th>\n",
              "      <td>In icy fields.\\n\\nIs water flowing in the tank...</td>\n",
              "      <td>poetry</td>\n",
              "      <td>in icy fields.\\n\\nis water flowing in the tank...</td>\n",
              "      <td>in icy fields.\\n\\nis water flowing in the tank...</td>\n",
              "      <td>in icy fields\\n\\nis water flowing in the tank\\...</td>\n",
              "    </tr>\n",
              "  </tbody>\n",
              "</table>\n",
              "</div>"
            ],
            "text/plain": [
              "                                             Content  ...                                          punc_free\n",
              "0  Philosophic\\nin its complex, void emptiness,\\n...  ...  philosophic\\nin its complex void emptiness\\na ...\n",
              "1  The Wise Men will unlearn your name.\\nAbove yo...  ...  the wise men will unlearn your name\\nabove you...\n",
              "2  For Jack Collom\\n10 Things I do Every Day\\n\\np...  ...  for jack collom\\n things i do every day\\n\\npla...\n",
              "3  WINTER\\nMore time is spent at the window.\\n\\nS...  ...  winter\\nmore time is spent at the window\\n\\nsu...\n",
              "4  In icy fields.\\n\\nIs water flowing in the tank...  ...  in icy fields\\n\\nis water flowing in the tank\\...\n",
              "\n",
              "[5 rows x 5 columns]"
            ]
          },
          "metadata": {
            "tags": []
          },
          "execution_count": 15
        }
      ]
    },
    {
      "cell_type": "markdown",
      "metadata": {
        "id": "bHBVbKSlW0Xp"
      },
      "source": [
        "## **Remove Whitespaces** "
      ]
    },
    {
      "cell_type": "code",
      "metadata": {
        "id": "6S5ED-0MW2z-"
      },
      "source": [
        "#' '.join(.split())\r\n",
        "\r\n",
        "df_1['space_free'] = df_1['punc_free'].apply( lambda space: ' '.join(space.split()))\r\n",
        "#df_1.head()"
      ],
      "execution_count": null,
      "outputs": []
    },
    {
      "cell_type": "code",
      "metadata": {
        "colab": {
          "base_uri": "https://localhost:8080/",
          "height": 289
        },
        "id": "EeLWE39iW5xW",
        "outputId": "f0c07177-fcaa-4c0b-e940-49e3bd4917d9"
      },
      "source": [
        "df_1.head()"
      ],
      "execution_count": null,
      "outputs": [
        {
          "output_type": "execute_result",
          "data": {
            "text/html": [
              "<div>\n",
              "<style scoped>\n",
              "    .dataframe tbody tr th:only-of-type {\n",
              "        vertical-align: middle;\n",
              "    }\n",
              "\n",
              "    .dataframe tbody tr th {\n",
              "        vertical-align: top;\n",
              "    }\n",
              "\n",
              "    .dataframe thead th {\n",
              "        text-align: right;\n",
              "    }\n",
              "</style>\n",
              "<table border=\"1\" class=\"dataframe\">\n",
              "  <thead>\n",
              "    <tr style=\"text-align: right;\">\n",
              "      <th></th>\n",
              "      <th>Content</th>\n",
              "      <th>Tag</th>\n",
              "      <th>lowercase</th>\n",
              "      <th>no_free</th>\n",
              "      <th>punc_free</th>\n",
              "      <th>space_free</th>\n",
              "    </tr>\n",
              "  </thead>\n",
              "  <tbody>\n",
              "    <tr>\n",
              "      <th>0</th>\n",
              "      <td>Philosophic\\nin its complex, void emptiness,\\n...</td>\n",
              "      <td>novel</td>\n",
              "      <td>philosophic\\nin its complex, void emptiness,\\n...</td>\n",
              "      <td>philosophic\\nin its complex, void emptiness,\\n...</td>\n",
              "      <td>philosophic\\nin its complex void emptiness\\na ...</td>\n",
              "      <td>philosophic in its complex void emptiness a sk...</td>\n",
              "    </tr>\n",
              "    <tr>\n",
              "      <th>1</th>\n",
              "      <td>The Wise Men will unlearn your name.\\nAbove yo...</td>\n",
              "      <td>poetry</td>\n",
              "      <td>the wise men will unlearn your name.\\nabove yo...</td>\n",
              "      <td>the wise men will unlearn your name.\\nabove yo...</td>\n",
              "      <td>the wise men will unlearn your name\\nabove you...</td>\n",
              "      <td>the wise men will unlearn your name above your...</td>\n",
              "    </tr>\n",
              "    <tr>\n",
              "      <th>2</th>\n",
              "      <td>For Jack Collom\\n10 Things I do Every Day\\n\\np...</td>\n",
              "      <td>novel</td>\n",
              "      <td>for jack collom\\n10 things i do every day\\n\\np...</td>\n",
              "      <td>for jack collom\\n things i do every day\\n\\npla...</td>\n",
              "      <td>for jack collom\\n things i do every day\\n\\npla...</td>\n",
              "      <td>for jack collom things i do every day play pok...</td>\n",
              "    </tr>\n",
              "    <tr>\n",
              "      <th>3</th>\n",
              "      <td>WINTER\\nMore time is spent at the window.\\n\\nS...</td>\n",
              "      <td>novel</td>\n",
              "      <td>winter\\nmore time is spent at the window.\\n\\ns...</td>\n",
              "      <td>winter\\nmore time is spent at the window.\\n\\ns...</td>\n",
              "      <td>winter\\nmore time is spent at the window\\n\\nsu...</td>\n",
              "      <td>winter more time is spent at the window summer...</td>\n",
              "    </tr>\n",
              "    <tr>\n",
              "      <th>4</th>\n",
              "      <td>In icy fields.\\n\\nIs water flowing in the tank...</td>\n",
              "      <td>poetry</td>\n",
              "      <td>in icy fields.\\n\\nis water flowing in the tank...</td>\n",
              "      <td>in icy fields.\\n\\nis water flowing in the tank...</td>\n",
              "      <td>in icy fields\\n\\nis water flowing in the tank\\...</td>\n",
              "      <td>in icy fields is water flowing in the tank wil...</td>\n",
              "    </tr>\n",
              "  </tbody>\n",
              "</table>\n",
              "</div>"
            ],
            "text/plain": [
              "                                             Content  ...                                         space_free\n",
              "0  Philosophic\\nin its complex, void emptiness,\\n...  ...  philosophic in its complex void emptiness a sk...\n",
              "1  The Wise Men will unlearn your name.\\nAbove yo...  ...  the wise men will unlearn your name above your...\n",
              "2  For Jack Collom\\n10 Things I do Every Day\\n\\np...  ...  for jack collom things i do every day play pok...\n",
              "3  WINTER\\nMore time is spent at the window.\\n\\nS...  ...  winter more time is spent at the window summer...\n",
              "4  In icy fields.\\n\\nIs water flowing in the tank...  ...  in icy fields is water flowing in the tank wil...\n",
              "\n",
              "[5 rows x 6 columns]"
            ]
          },
          "metadata": {
            "tags": []
          },
          "execution_count": 17
        }
      ]
    },
    {
      "cell_type": "markdown",
      "metadata": {
        "id": "KdwzW94_XTeK"
      },
      "source": [
        "## **Remove Stopwords**\r\n"
      ]
    },
    {
      "cell_type": "code",
      "metadata": {
        "id": "Wrgl5uWfXVer"
      },
      "source": [
        "from nltk.corpus import stopwords\r\n",
        "def stop_word(text):\r\n",
        "  text = str(text)\r\n",
        "  return([w for w in nltk.word_tokenize(text) if w not in stopwords.words('english')])\r\n"
      ],
      "execution_count": null,
      "outputs": []
    },
    {
      "cell_type": "code",
      "metadata": {
        "colab": {
          "base_uri": "https://localhost:8080/"
        },
        "id": "RDjRSlrYXaJb",
        "outputId": "e0c8840e-b9ca-419c-ee59-70f214be05e4"
      },
      "source": [
        "nltk.download('stopwords')"
      ],
      "execution_count": null,
      "outputs": [
        {
          "output_type": "stream",
          "text": [
            "[nltk_data] Downloading package stopwords to /root/nltk_data...\n",
            "[nltk_data]   Unzipping corpora/stopwords.zip.\n"
          ],
          "name": "stdout"
        },
        {
          "output_type": "execute_result",
          "data": {
            "text/plain": [
              "True"
            ]
          },
          "metadata": {
            "tags": []
          },
          "execution_count": 19
        }
      ]
    },
    {
      "cell_type": "code",
      "metadata": {
        "colab": {
          "base_uri": "https://localhost:8080/"
        },
        "id": "L9TVLbOeXdGT",
        "outputId": "0f477fca-d62f-467c-add6-bc61c319c90f"
      },
      "source": [
        "%%time\r\n",
        "df_1['final_review'] = df_1['space_free'].apply(lambda text: [w for w in nltk.word_tokenize(text) if w not in stopwords.words('english')])"
      ],
      "execution_count": null,
      "outputs": [
        {
          "output_type": "stream",
          "text": [
            "CPU times: user 745 ms, sys: 104 ms, total: 849 ms\n",
            "Wall time: 854 ms\n"
          ],
          "name": "stdout"
        }
      ]
    },
    {
      "cell_type": "code",
      "metadata": {
        "colab": {
          "base_uri": "https://localhost:8080/"
        },
        "id": "Mu-qMZ9SXhhA",
        "outputId": "b7210837-9d65-426e-9dbe-ac1f8c61e721"
      },
      "source": [
        "df_1['final_review'].head()"
      ],
      "execution_count": null,
      "outputs": [
        {
          "output_type": "execute_result",
          "data": {
            "text/plain": [
              "0    [philosophic, complex, void, emptiness, skillf...\n",
              "1    [wise, men, unlearn, name, head, star, flame, ...\n",
              "2    [jack, collom, things, every, day, play, poker...\n",
              "3    [winter, time, spent, window, summer, go, alon...\n",
              "4    [icy, fields, water, flowing, tank, huddle, to...\n",
              "Name: final_review, dtype: object"
            ]
          },
          "metadata": {
            "tags": []
          },
          "execution_count": 21
        }
      ]
    },
    {
      "cell_type": "code",
      "metadata": {
        "colab": {
          "base_uri": "https://localhost:8080/",
          "height": 289
        },
        "id": "Sy5jj0E_aQo-",
        "outputId": "01e8f0b4-ac83-414b-daac-7d400ddc328f"
      },
      "source": [
        "df_1.head()"
      ],
      "execution_count": null,
      "outputs": [
        {
          "output_type": "execute_result",
          "data": {
            "text/html": [
              "<div>\n",
              "<style scoped>\n",
              "    .dataframe tbody tr th:only-of-type {\n",
              "        vertical-align: middle;\n",
              "    }\n",
              "\n",
              "    .dataframe tbody tr th {\n",
              "        vertical-align: top;\n",
              "    }\n",
              "\n",
              "    .dataframe thead th {\n",
              "        text-align: right;\n",
              "    }\n",
              "</style>\n",
              "<table border=\"1\" class=\"dataframe\">\n",
              "  <thead>\n",
              "    <tr style=\"text-align: right;\">\n",
              "      <th></th>\n",
              "      <th>Content</th>\n",
              "      <th>Tag</th>\n",
              "      <th>lowercase</th>\n",
              "      <th>no_free</th>\n",
              "      <th>punc_free</th>\n",
              "      <th>space_free</th>\n",
              "      <th>final_review</th>\n",
              "    </tr>\n",
              "  </thead>\n",
              "  <tbody>\n",
              "    <tr>\n",
              "      <th>0</th>\n",
              "      <td>Philosophic\\nin its complex, void emptiness,\\n...</td>\n",
              "      <td>novel</td>\n",
              "      <td>philosophic\\nin its complex, void emptiness,\\n...</td>\n",
              "      <td>philosophic\\nin its complex, void emptiness,\\n...</td>\n",
              "      <td>philosophic\\nin its complex void emptiness\\na ...</td>\n",
              "      <td>philosophic in its complex void emptiness a sk...</td>\n",
              "      <td>[philosophic, complex, void, emptiness, skillf...</td>\n",
              "    </tr>\n",
              "    <tr>\n",
              "      <th>1</th>\n",
              "      <td>The Wise Men will unlearn your name.\\nAbove yo...</td>\n",
              "      <td>poetry</td>\n",
              "      <td>the wise men will unlearn your name.\\nabove yo...</td>\n",
              "      <td>the wise men will unlearn your name.\\nabove yo...</td>\n",
              "      <td>the wise men will unlearn your name\\nabove you...</td>\n",
              "      <td>the wise men will unlearn your name above your...</td>\n",
              "      <td>[wise, men, unlearn, name, head, star, flame, ...</td>\n",
              "    </tr>\n",
              "    <tr>\n",
              "      <th>2</th>\n",
              "      <td>For Jack Collom\\n10 Things I do Every Day\\n\\np...</td>\n",
              "      <td>novel</td>\n",
              "      <td>for jack collom\\n10 things i do every day\\n\\np...</td>\n",
              "      <td>for jack collom\\n things i do every day\\n\\npla...</td>\n",
              "      <td>for jack collom\\n things i do every day\\n\\npla...</td>\n",
              "      <td>for jack collom things i do every day play pok...</td>\n",
              "      <td>[jack, collom, things, every, day, play, poker...</td>\n",
              "    </tr>\n",
              "    <tr>\n",
              "      <th>3</th>\n",
              "      <td>WINTER\\nMore time is spent at the window.\\n\\nS...</td>\n",
              "      <td>novel</td>\n",
              "      <td>winter\\nmore time is spent at the window.\\n\\ns...</td>\n",
              "      <td>winter\\nmore time is spent at the window.\\n\\ns...</td>\n",
              "      <td>winter\\nmore time is spent at the window\\n\\nsu...</td>\n",
              "      <td>winter more time is spent at the window summer...</td>\n",
              "      <td>[winter, time, spent, window, summer, go, alon...</td>\n",
              "    </tr>\n",
              "    <tr>\n",
              "      <th>4</th>\n",
              "      <td>In icy fields.\\n\\nIs water flowing in the tank...</td>\n",
              "      <td>poetry</td>\n",
              "      <td>in icy fields.\\n\\nis water flowing in the tank...</td>\n",
              "      <td>in icy fields.\\n\\nis water flowing in the tank...</td>\n",
              "      <td>in icy fields\\n\\nis water flowing in the tank\\...</td>\n",
              "      <td>in icy fields is water flowing in the tank wil...</td>\n",
              "      <td>[icy, fields, water, flowing, tank, huddle, to...</td>\n",
              "    </tr>\n",
              "  </tbody>\n",
              "</table>\n",
              "</div>"
            ],
            "text/plain": [
              "                                             Content  ...                                       final_review\n",
              "0  Philosophic\\nin its complex, void emptiness,\\n...  ...  [philosophic, complex, void, emptiness, skillf...\n",
              "1  The Wise Men will unlearn your name.\\nAbove yo...  ...  [wise, men, unlearn, name, head, star, flame, ...\n",
              "2  For Jack Collom\\n10 Things I do Every Day\\n\\np...  ...  [jack, collom, things, every, day, play, poker...\n",
              "3  WINTER\\nMore time is spent at the window.\\n\\nS...  ...  [winter, time, spent, window, summer, go, alon...\n",
              "4  In icy fields.\\n\\nIs water flowing in the tank...  ...  [icy, fields, water, flowing, tank, huddle, to...\n",
              "\n",
              "[5 rows x 7 columns]"
            ]
          },
          "metadata": {
            "tags": []
          },
          "execution_count": 22
        }
      ]
    },
    {
      "cell_type": "markdown",
      "metadata": {
        "id": "b_ZCKO6ldDgo"
      },
      "source": [
        "## **Store dataframe into pickle file**"
      ]
    },
    {
      "cell_type": "code",
      "metadata": {
        "id": "8bMwUi6jj317"
      },
      "source": [
        "df_1.to_pickle('/content/drive/My Drive/Masters/final.pkl')"
      ],
      "execution_count": null,
      "outputs": []
    },
    {
      "cell_type": "code",
      "metadata": {
        "colab": {
          "base_uri": "https://localhost:8080/",
          "height": 289
        },
        "id": "Mz2feljY4P9Z",
        "outputId": "3f91db34-ac8e-459d-9c75-f86c9fb26aa5"
      },
      "source": [
        "test_1 = pd.read_pickle('/content/drive/My Drive/Masters/final.pkl')\r\n",
        "test_1.head()"
      ],
      "execution_count": null,
      "outputs": [
        {
          "output_type": "execute_result",
          "data": {
            "text/html": [
              "<div>\n",
              "<style scoped>\n",
              "    .dataframe tbody tr th:only-of-type {\n",
              "        vertical-align: middle;\n",
              "    }\n",
              "\n",
              "    .dataframe tbody tr th {\n",
              "        vertical-align: top;\n",
              "    }\n",
              "\n",
              "    .dataframe thead th {\n",
              "        text-align: right;\n",
              "    }\n",
              "</style>\n",
              "<table border=\"1\" class=\"dataframe\">\n",
              "  <thead>\n",
              "    <tr style=\"text-align: right;\">\n",
              "      <th></th>\n",
              "      <th>Content</th>\n",
              "      <th>Tag</th>\n",
              "      <th>lowercase</th>\n",
              "      <th>no_free</th>\n",
              "      <th>punc_free</th>\n",
              "      <th>space_free</th>\n",
              "      <th>final_review</th>\n",
              "    </tr>\n",
              "  </thead>\n",
              "  <tbody>\n",
              "    <tr>\n",
              "      <th>0</th>\n",
              "      <td>Philosophic\\nin its complex, void emptiness,\\n...</td>\n",
              "      <td>novel</td>\n",
              "      <td>philosophic\\nin its complex, void emptiness,\\n...</td>\n",
              "      <td>philosophic\\nin its complex, void emptiness,\\n...</td>\n",
              "      <td>philosophic\\nin its complex void emptiness\\na ...</td>\n",
              "      <td>philosophic in its complex void emptiness a sk...</td>\n",
              "      <td>[philosophic, complex, void, emptiness, skillf...</td>\n",
              "    </tr>\n",
              "    <tr>\n",
              "      <th>1</th>\n",
              "      <td>The Wise Men will unlearn your name.\\nAbove yo...</td>\n",
              "      <td>poetry</td>\n",
              "      <td>the wise men will unlearn your name.\\nabove yo...</td>\n",
              "      <td>the wise men will unlearn your name.\\nabove yo...</td>\n",
              "      <td>the wise men will unlearn your name\\nabove you...</td>\n",
              "      <td>the wise men will unlearn your name above your...</td>\n",
              "      <td>[wise, men, unlearn, name, head, star, flame, ...</td>\n",
              "    </tr>\n",
              "    <tr>\n",
              "      <th>2</th>\n",
              "      <td>For Jack Collom\\n10 Things I do Every Day\\n\\np...</td>\n",
              "      <td>novel</td>\n",
              "      <td>for jack collom\\n10 things i do every day\\n\\np...</td>\n",
              "      <td>for jack collom\\n things i do every day\\n\\npla...</td>\n",
              "      <td>for jack collom\\n things i do every day\\n\\npla...</td>\n",
              "      <td>for jack collom things i do every day play pok...</td>\n",
              "      <td>[jack, collom, things, every, day, play, poker...</td>\n",
              "    </tr>\n",
              "    <tr>\n",
              "      <th>3</th>\n",
              "      <td>WINTER\\nMore time is spent at the window.\\n\\nS...</td>\n",
              "      <td>novel</td>\n",
              "      <td>winter\\nmore time is spent at the window.\\n\\ns...</td>\n",
              "      <td>winter\\nmore time is spent at the window.\\n\\ns...</td>\n",
              "      <td>winter\\nmore time is spent at the window\\n\\nsu...</td>\n",
              "      <td>winter more time is spent at the window summer...</td>\n",
              "      <td>[winter, time, spent, window, summer, go, alon...</td>\n",
              "    </tr>\n",
              "    <tr>\n",
              "      <th>4</th>\n",
              "      <td>In icy fields.\\n\\nIs water flowing in the tank...</td>\n",
              "      <td>poetry</td>\n",
              "      <td>in icy fields.\\n\\nis water flowing in the tank...</td>\n",
              "      <td>in icy fields.\\n\\nis water flowing in the tank...</td>\n",
              "      <td>in icy fields\\n\\nis water flowing in the tank\\...</td>\n",
              "      <td>in icy fields is water flowing in the tank wil...</td>\n",
              "      <td>[icy, fields, water, flowing, tank, huddle, to...</td>\n",
              "    </tr>\n",
              "  </tbody>\n",
              "</table>\n",
              "</div>"
            ],
            "text/plain": [
              "                                             Content  ...                                       final_review\n",
              "0  Philosophic\\nin its complex, void emptiness,\\n...  ...  [philosophic, complex, void, emptiness, skillf...\n",
              "1  The Wise Men will unlearn your name.\\nAbove yo...  ...  [wise, men, unlearn, name, head, star, flame, ...\n",
              "2  For Jack Collom\\n10 Things I do Every Day\\n\\np...  ...  [jack, collom, things, every, day, play, poker...\n",
              "3  WINTER\\nMore time is spent at the window.\\n\\nS...  ...  [winter, time, spent, window, summer, go, alon...\n",
              "4  In icy fields.\\n\\nIs water flowing in the tank...  ...  [icy, fields, water, flowing, tank, huddle, to...\n",
              "\n",
              "[5 rows x 7 columns]"
            ]
          },
          "metadata": {
            "tags": []
          },
          "execution_count": 24
        }
      ]
    },
    {
      "cell_type": "markdown",
      "metadata": {
        "id": "QOQlQV1Q6wYR"
      },
      "source": [
        "#**LSTM Model** \r\n"
      ]
    },
    {
      "cell_type": "code",
      "metadata": {
        "colab": {
          "base_uri": "https://localhost:8080/"
        },
        "id": "ilVVq8My63eJ",
        "outputId": "736dd4b5-3640-46b7-f57f-383065174670"
      },
      "source": [
        "from gensim.models import Word2Vec\r\n",
        "import gensim\r\n",
        "\r\n",
        "model = Word2Vec(df_1['final_review'], min_count=2)\r\n",
        "model.save('/content/drive/My Drive/Masters/word2vec.model')\r\n",
        "print(model)"
      ],
      "execution_count": null,
      "outputs": [
        {
          "output_type": "stream",
          "text": [
            "Word2Vec(vocab=637, size=100, alpha=0.025)\n"
          ],
          "name": "stdout"
        }
      ]
    },
    {
      "cell_type": "code",
      "metadata": {
        "colab": {
          "base_uri": "https://localhost:8080/",
          "height": 289
        },
        "id": "KAkdY7og6zc0",
        "outputId": "9bd1f4a5-46fe-4574-ea59-cc6c03069100"
      },
      "source": [
        "import pandas as pd\r\n",
        "words= pd.read_pickle('/content/drive/My Drive/Masters/final.pkl')\r\n",
        "words.head()"
      ],
      "execution_count": null,
      "outputs": [
        {
          "output_type": "execute_result",
          "data": {
            "text/html": [
              "<div>\n",
              "<style scoped>\n",
              "    .dataframe tbody tr th:only-of-type {\n",
              "        vertical-align: middle;\n",
              "    }\n",
              "\n",
              "    .dataframe tbody tr th {\n",
              "        vertical-align: top;\n",
              "    }\n",
              "\n",
              "    .dataframe thead th {\n",
              "        text-align: right;\n",
              "    }\n",
              "</style>\n",
              "<table border=\"1\" class=\"dataframe\">\n",
              "  <thead>\n",
              "    <tr style=\"text-align: right;\">\n",
              "      <th></th>\n",
              "      <th>Content</th>\n",
              "      <th>Tag</th>\n",
              "      <th>lowercase</th>\n",
              "      <th>no_free</th>\n",
              "      <th>punc_free</th>\n",
              "      <th>space_free</th>\n",
              "      <th>final_review</th>\n",
              "    </tr>\n",
              "  </thead>\n",
              "  <tbody>\n",
              "    <tr>\n",
              "      <th>0</th>\n",
              "      <td>Philosophic\\nin its complex, void emptiness,\\n...</td>\n",
              "      <td>novel</td>\n",
              "      <td>philosophic\\nin its complex, void emptiness,\\n...</td>\n",
              "      <td>philosophic\\nin its complex, void emptiness,\\n...</td>\n",
              "      <td>philosophic\\nin its complex void emptiness\\na ...</td>\n",
              "      <td>philosophic in its complex void emptiness a sk...</td>\n",
              "      <td>[philosophic, complex, void, emptiness, skillf...</td>\n",
              "    </tr>\n",
              "    <tr>\n",
              "      <th>1</th>\n",
              "      <td>The Wise Men will unlearn your name.\\nAbove yo...</td>\n",
              "      <td>poetry</td>\n",
              "      <td>the wise men will unlearn your name.\\nabove yo...</td>\n",
              "      <td>the wise men will unlearn your name.\\nabove yo...</td>\n",
              "      <td>the wise men will unlearn your name\\nabove you...</td>\n",
              "      <td>the wise men will unlearn your name above your...</td>\n",
              "      <td>[wise, men, unlearn, name, head, star, flame, ...</td>\n",
              "    </tr>\n",
              "    <tr>\n",
              "      <th>2</th>\n",
              "      <td>For Jack Collom\\n10 Things I do Every Day\\n\\np...</td>\n",
              "      <td>novel</td>\n",
              "      <td>for jack collom\\n10 things i do every day\\n\\np...</td>\n",
              "      <td>for jack collom\\n things i do every day\\n\\npla...</td>\n",
              "      <td>for jack collom\\n things i do every day\\n\\npla...</td>\n",
              "      <td>for jack collom things i do every day play pok...</td>\n",
              "      <td>[jack, collom, things, every, day, play, poker...</td>\n",
              "    </tr>\n",
              "    <tr>\n",
              "      <th>3</th>\n",
              "      <td>WINTER\\nMore time is spent at the window.\\n\\nS...</td>\n",
              "      <td>novel</td>\n",
              "      <td>winter\\nmore time is spent at the window.\\n\\ns...</td>\n",
              "      <td>winter\\nmore time is spent at the window.\\n\\ns...</td>\n",
              "      <td>winter\\nmore time is spent at the window\\n\\nsu...</td>\n",
              "      <td>winter more time is spent at the window summer...</td>\n",
              "      <td>[winter, time, spent, window, summer, go, alon...</td>\n",
              "    </tr>\n",
              "    <tr>\n",
              "      <th>4</th>\n",
              "      <td>In icy fields.\\n\\nIs water flowing in the tank...</td>\n",
              "      <td>poetry</td>\n",
              "      <td>in icy fields.\\n\\nis water flowing in the tank...</td>\n",
              "      <td>in icy fields.\\n\\nis water flowing in the tank...</td>\n",
              "      <td>in icy fields\\n\\nis water flowing in the tank\\...</td>\n",
              "      <td>in icy fields is water flowing in the tank wil...</td>\n",
              "      <td>[icy, fields, water, flowing, tank, huddle, to...</td>\n",
              "    </tr>\n",
              "  </tbody>\n",
              "</table>\n",
              "</div>"
            ],
            "text/plain": [
              "                                             Content  ...                                       final_review\n",
              "0  Philosophic\\nin its complex, void emptiness,\\n...  ...  [philosophic, complex, void, emptiness, skillf...\n",
              "1  The Wise Men will unlearn your name.\\nAbove yo...  ...  [wise, men, unlearn, name, head, star, flame, ...\n",
              "2  For Jack Collom\\n10 Things I do Every Day\\n\\np...  ...  [jack, collom, things, every, day, play, poker...\n",
              "3  WINTER\\nMore time is spent at the window.\\n\\nS...  ...  [winter, time, spent, window, summer, go, alon...\n",
              "4  In icy fields.\\n\\nIs water flowing in the tank...  ...  [icy, fields, water, flowing, tank, huddle, to...\n",
              "\n",
              "[5 rows x 7 columns]"
            ]
          },
          "metadata": {
            "tags": []
          },
          "execution_count": 26
        }
      ]
    },
    {
      "cell_type": "code",
      "metadata": {
        "colab": {
          "base_uri": "https://localhost:8080/",
          "height": 374
        },
        "id": "Nposq7Nm6DNC",
        "outputId": "93aa012a-957c-44c5-f423-e75ed2f84488"
      },
      "source": [
        "words['final_review_text'] = words['final_review'].apply( lambda name : ' '.join(name))\r\n",
        "words.head()"
      ],
      "execution_count": null,
      "outputs": [
        {
          "output_type": "execute_result",
          "data": {
            "text/html": [
              "<div>\n",
              "<style scoped>\n",
              "    .dataframe tbody tr th:only-of-type {\n",
              "        vertical-align: middle;\n",
              "    }\n",
              "\n",
              "    .dataframe tbody tr th {\n",
              "        vertical-align: top;\n",
              "    }\n",
              "\n",
              "    .dataframe thead th {\n",
              "        text-align: right;\n",
              "    }\n",
              "</style>\n",
              "<table border=\"1\" class=\"dataframe\">\n",
              "  <thead>\n",
              "    <tr style=\"text-align: right;\">\n",
              "      <th></th>\n",
              "      <th>Content</th>\n",
              "      <th>Tag</th>\n",
              "      <th>lowercase</th>\n",
              "      <th>no_free</th>\n",
              "      <th>punc_free</th>\n",
              "      <th>space_free</th>\n",
              "      <th>final_review</th>\n",
              "      <th>final_review_text</th>\n",
              "    </tr>\n",
              "  </thead>\n",
              "  <tbody>\n",
              "    <tr>\n",
              "      <th>0</th>\n",
              "      <td>Philosophic\\nin its complex, void emptiness,\\n...</td>\n",
              "      <td>novel</td>\n",
              "      <td>philosophic\\nin its complex, void emptiness,\\n...</td>\n",
              "      <td>philosophic\\nin its complex, void emptiness,\\n...</td>\n",
              "      <td>philosophic\\nin its complex void emptiness\\na ...</td>\n",
              "      <td>philosophic in its complex void emptiness a sk...</td>\n",
              "      <td>[philosophic, complex, void, emptiness, skillf...</td>\n",
              "      <td>philosophic complex void emptiness skillful pu...</td>\n",
              "    </tr>\n",
              "    <tr>\n",
              "      <th>1</th>\n",
              "      <td>The Wise Men will unlearn your name.\\nAbove yo...</td>\n",
              "      <td>poetry</td>\n",
              "      <td>the wise men will unlearn your name.\\nabove yo...</td>\n",
              "      <td>the wise men will unlearn your name.\\nabove yo...</td>\n",
              "      <td>the wise men will unlearn your name\\nabove you...</td>\n",
              "      <td>the wise men will unlearn your name above your...</td>\n",
              "      <td>[wise, men, unlearn, name, head, star, flame, ...</td>\n",
              "      <td>wise men unlearn name head star flame one wear...</td>\n",
              "    </tr>\n",
              "    <tr>\n",
              "      <th>2</th>\n",
              "      <td>For Jack Collom\\n10 Things I do Every Day\\n\\np...</td>\n",
              "      <td>novel</td>\n",
              "      <td>for jack collom\\n10 things i do every day\\n\\np...</td>\n",
              "      <td>for jack collom\\n things i do every day\\n\\npla...</td>\n",
              "      <td>for jack collom\\n things i do every day\\n\\npla...</td>\n",
              "      <td>for jack collom things i do every day play pok...</td>\n",
              "      <td>[jack, collom, things, every, day, play, poker...</td>\n",
              "      <td>jack collom things every day play poker drink ...</td>\n",
              "    </tr>\n",
              "    <tr>\n",
              "      <th>3</th>\n",
              "      <td>WINTER\\nMore time is spent at the window.\\n\\nS...</td>\n",
              "      <td>novel</td>\n",
              "      <td>winter\\nmore time is spent at the window.\\n\\ns...</td>\n",
              "      <td>winter\\nmore time is spent at the window.\\n\\ns...</td>\n",
              "      <td>winter\\nmore time is spent at the window\\n\\nsu...</td>\n",
              "      <td>winter more time is spent at the window summer...</td>\n",
              "      <td>[winter, time, spent, window, summer, go, alon...</td>\n",
              "      <td>winter time spent window summer go along day d...</td>\n",
              "    </tr>\n",
              "    <tr>\n",
              "      <th>4</th>\n",
              "      <td>In icy fields.\\n\\nIs water flowing in the tank...</td>\n",
              "      <td>poetry</td>\n",
              "      <td>in icy fields.\\n\\nis water flowing in the tank...</td>\n",
              "      <td>in icy fields.\\n\\nis water flowing in the tank...</td>\n",
              "      <td>in icy fields\\n\\nis water flowing in the tank\\...</td>\n",
              "      <td>in icy fields is water flowing in the tank wil...</td>\n",
              "      <td>[icy, fields, water, flowing, tank, huddle, to...</td>\n",
              "      <td>icy fields water flowing tank huddle together ...</td>\n",
              "    </tr>\n",
              "  </tbody>\n",
              "</table>\n",
              "</div>"
            ],
            "text/plain": [
              "                                             Content  ...                                  final_review_text\n",
              "0  Philosophic\\nin its complex, void emptiness,\\n...  ...  philosophic complex void emptiness skillful pu...\n",
              "1  The Wise Men will unlearn your name.\\nAbove yo...  ...  wise men unlearn name head star flame one wear...\n",
              "2  For Jack Collom\\n10 Things I do Every Day\\n\\np...  ...  jack collom things every day play poker drink ...\n",
              "3  WINTER\\nMore time is spent at the window.\\n\\nS...  ...  winter time spent window summer go along day d...\n",
              "4  In icy fields.\\n\\nIs water flowing in the tank...  ...  icy fields water flowing tank huddle together ...\n",
              "\n",
              "[5 rows x 8 columns]"
            ]
          },
          "metadata": {
            "tags": []
          },
          "execution_count": 27
        }
      ]
    },
    {
      "cell_type": "code",
      "metadata": {
        "colab": {
          "base_uri": "https://localhost:8080/",
          "height": 204
        },
        "id": "DGQuA_jA7R4i",
        "outputId": "8b8ac39f-6970-4e23-e4d3-7561f2f26cf4"
      },
      "source": [
        "new_df = words[['final_review_text', 'Tag']]\r\n",
        "new_df.head()"
      ],
      "execution_count": null,
      "outputs": [
        {
          "output_type": "execute_result",
          "data": {
            "text/html": [
              "<div>\n",
              "<style scoped>\n",
              "    .dataframe tbody tr th:only-of-type {\n",
              "        vertical-align: middle;\n",
              "    }\n",
              "\n",
              "    .dataframe tbody tr th {\n",
              "        vertical-align: top;\n",
              "    }\n",
              "\n",
              "    .dataframe thead th {\n",
              "        text-align: right;\n",
              "    }\n",
              "</style>\n",
              "<table border=\"1\" class=\"dataframe\">\n",
              "  <thead>\n",
              "    <tr style=\"text-align: right;\">\n",
              "      <th></th>\n",
              "      <th>final_review_text</th>\n",
              "      <th>Tag</th>\n",
              "    </tr>\n",
              "  </thead>\n",
              "  <tbody>\n",
              "    <tr>\n",
              "      <th>0</th>\n",
              "      <td>philosophic complex void emptiness skillful pu...</td>\n",
              "      <td>novel</td>\n",
              "    </tr>\n",
              "    <tr>\n",
              "      <th>1</th>\n",
              "      <td>wise men unlearn name head star flame one wear...</td>\n",
              "      <td>poetry</td>\n",
              "    </tr>\n",
              "    <tr>\n",
              "      <th>2</th>\n",
              "      <td>jack collom things every day play poker drink ...</td>\n",
              "      <td>novel</td>\n",
              "    </tr>\n",
              "    <tr>\n",
              "      <th>3</th>\n",
              "      <td>winter time spent window summer go along day d...</td>\n",
              "      <td>novel</td>\n",
              "    </tr>\n",
              "    <tr>\n",
              "      <th>4</th>\n",
              "      <td>icy fields water flowing tank huddle together ...</td>\n",
              "      <td>poetry</td>\n",
              "    </tr>\n",
              "  </tbody>\n",
              "</table>\n",
              "</div>"
            ],
            "text/plain": [
              "                                   final_review_text     Tag\n",
              "0  philosophic complex void emptiness skillful pu...   novel\n",
              "1  wise men unlearn name head star flame one wear...  poetry\n",
              "2  jack collom things every day play poker drink ...   novel\n",
              "3  winter time spent window summer go along day d...   novel\n",
              "4  icy fields water flowing tank huddle together ...  poetry"
            ]
          },
          "metadata": {
            "tags": []
          },
          "execution_count": 28
        }
      ]
    },
    {
      "cell_type": "code",
      "metadata": {
        "id": "u3WTpp3m4QP0"
      },
      "source": [
        "words['Tag'] = words['Tag'].replace( 'novel',0)\r\n",
        "words['Tag'] = words['Tag'].replace( 'poetry',1)"
      ],
      "execution_count": null,
      "outputs": []
    },
    {
      "cell_type": "code",
      "metadata": {
        "colab": {
          "base_uri": "https://localhost:8080/",
          "height": 204
        },
        "id": "fJuR9GQ94i9W",
        "outputId": "4aeccbfa-5849-4048-d700-88418ca85f37"
      },
      "source": [
        "new_df = words[['final_review_text', 'Tag']]\r\n",
        "new_df.head()"
      ],
      "execution_count": null,
      "outputs": [
        {
          "output_type": "execute_result",
          "data": {
            "text/html": [
              "<div>\n",
              "<style scoped>\n",
              "    .dataframe tbody tr th:only-of-type {\n",
              "        vertical-align: middle;\n",
              "    }\n",
              "\n",
              "    .dataframe tbody tr th {\n",
              "        vertical-align: top;\n",
              "    }\n",
              "\n",
              "    .dataframe thead th {\n",
              "        text-align: right;\n",
              "    }\n",
              "</style>\n",
              "<table border=\"1\" class=\"dataframe\">\n",
              "  <thead>\n",
              "    <tr style=\"text-align: right;\">\n",
              "      <th></th>\n",
              "      <th>final_review_text</th>\n",
              "      <th>Tag</th>\n",
              "    </tr>\n",
              "  </thead>\n",
              "  <tbody>\n",
              "    <tr>\n",
              "      <th>0</th>\n",
              "      <td>philosophic complex void emptiness skillful pu...</td>\n",
              "      <td>0</td>\n",
              "    </tr>\n",
              "    <tr>\n",
              "      <th>1</th>\n",
              "      <td>wise men unlearn name head star flame one wear...</td>\n",
              "      <td>1</td>\n",
              "    </tr>\n",
              "    <tr>\n",
              "      <th>2</th>\n",
              "      <td>jack collom things every day play poker drink ...</td>\n",
              "      <td>0</td>\n",
              "    </tr>\n",
              "    <tr>\n",
              "      <th>3</th>\n",
              "      <td>winter time spent window summer go along day d...</td>\n",
              "      <td>0</td>\n",
              "    </tr>\n",
              "    <tr>\n",
              "      <th>4</th>\n",
              "      <td>icy fields water flowing tank huddle together ...</td>\n",
              "      <td>1</td>\n",
              "    </tr>\n",
              "  </tbody>\n",
              "</table>\n",
              "</div>"
            ],
            "text/plain": [
              "                                   final_review_text  Tag\n",
              "0  philosophic complex void emptiness skillful pu...    0\n",
              "1  wise men unlearn name head star flame one wear...    1\n",
              "2  jack collom things every day play poker drink ...    0\n",
              "3  winter time spent window summer go along day d...    0\n",
              "4  icy fields water flowing tank huddle together ...    1"
            ]
          },
          "metadata": {
            "tags": []
          },
          "execution_count": 30
        }
      ]
    },
    {
      "cell_type": "code",
      "metadata": {
        "colab": {
          "base_uri": "https://localhost:8080/"
        },
        "id": "Gvsg2cUf7jya",
        "outputId": "4ea623b9-2a0b-43a0-c52b-194db4572b3f"
      },
      "source": [
        "final_text = new_df['final_review_text'].values\r\n",
        "final_text"
      ],
      "execution_count": null,
      "outputs": [
        {
          "output_type": "execute_result",
          "data": {
            "text/plain": [
              "array(['philosophic complex void emptiness skillful pundit coined sort stopgap doorstop quaint equations romans never dreamt form completely clever discretea mirror come unsilvered loose watch face without works hollowed globe tip toe unbroken evades grappling hooks mass tilts thin rim thing remains embryonic sum noncogito',\n",
              "       'wise men unlearn name head star flame one weary sound hoarse roar gale shadows fall tired eyes lone bedside candle dies calendar breeds nights till stores candles fail prompts melancholy key long familiar melody sounds let let sound night let sound hour death gratefulness eyes lips sometimes makes us lift gaze far sky glare silence wall stocking gapes gifts clear old trust good saint nick late miracles suddenly lifting eyes heavens light realize life sheer gift',\n",
              "       'jack collom things every day play poker drink beer smoke pot jack curse waters manhattan flower positive amp negative go home read lunch poems hunker changes life goes quite merrily blue help wanted hunting whale weather plays fair im happy every day white dries clear heart attack congressional medal honor house country enough',\n",
              "       'winter time spent window summer go along day day summer around stores stores tell people live area writing others already written would like write today today sky blue burns country country one almost hear silence four seasons four seasons year permit us enjoy things recipe smear side pork chop mustard dredge flour book worm always nose stuck book little feeling defines feeling one gazing rock costa rica costa rica saw first coffee plantation happiness happiness nothing state mind money money buy fine dog government new program introduced government edward whole beautiful human lake lake attracts man wife members family sky see many different things look sky sexy thought male early day potatoes one go far without potatoes kitchen mother mother something modern times every four minutes car comes assembly line say ocean foamy waves wash shore treasures sacrifice damp sand today high density housing going around us real life could screamed day john proposed winterizing cottage living permanently alaska cold person year white man year white man year many beads loyalty loyalty feel big word something think perhaps mad scramble keep heads water miss point human nature must intent destroying everything touch company winifred little relieved gone',\n",
              "       'icy fields water flowing tank huddle together warm bodies pressing year goat sheep scholars debating chinese zodiac follower leader lead warm corner little ones toward bulkier bodies lead brush cuts icy wind another frigid night swooping arent worried ask friend lives ranch goats far near town ozona shrugs really know theyre goats',\n",
              "       'may never afraid especially muhammed ali telling truth well youre true arent talk wonderfully body protects physique voice raps within dance may never afraid rocked quaked mantilla lace whose black oak im dark im strong darkness strength universe whose blackness air starry lace im alive im strong life strong violets marlon brandos fist dissemblance flourished truth took id take ali see hard bright speck savage formalist authentic deed gossip kind body',\n",
              "       'dont ever get idea poet see racetrack day half drunk betting quarters sidewheelers straight thoroughs let tell women go money goes sometimes look whores onehundreddollar whores wonder sometimes nature isnt playing joke dealing much breast ass way hung together look look look cant believe ordinary women something else wants make tear paintings break albums beethoven across back john anyhow season dragging big boys getting busted nonpros producers cameraman pushers mary fur salesman owners saint louie running day sidewheeler broke got close ran head mean ugly put ten driver broke wide took fence hed alone even travel four times far thats way went way outer fence traveling two miles one like mad hell wasnt even tired biggest blonde ass breast hardly anything else went payoff window night couldnt destroy although springs shot sparks pounded walls later sat slip drinking old grandad said whats guy like living dump like said im poet threw back beautiful head laughed poet guess youre right said guess youre right still looked good still looked good thanks ugly horse wrote poem',\n",
              "       'geraldine monk love wouldnt say philosophy iloveyou didnt mean meant plus verray construction phrase caused badoldconcretelawmanvandalverbalmildewuponthegrape harvestandwarforraremineralsrequiredtomanufacturecommu nicationsdevices damage saying iloveyou damaged love subject object plus could prove two dense delphic languages suitable philosophy opera cursing racking nerves arti ficial intelligence machines perhaps could love would hardwired giammai dare say moved notsay iloveyou wakeupandspoilthecoffee ashtraylicking djinn start agree verbness impropriety eyes glob syringe youre giving blood semisolid spiralling perhaps active iloveyou sand drill honey set wasps crimson like stolen toga add value applying dye fight owner ship cite justify skilled outrage put name guarantor astronomical mortgage admit desertification comes relief oasis mirage maybe verb tendingto wards tightrope tropism station thats meeting ground plus cant disprove entire languages plus three little words arent meant saying icy drink stormlight lookedat leaf left transpire way sans iloveyou centuried moon rose dinnermint stone many men contin ued talking woman lifted sarsenet skirt peed green lilies utterly gracious walked archway join mixed group delighting word believe fresh air',\n",
              "       'heart let pity let live sad self hereafter kind charitable live tormented mind tormented mind tormenting yet cast comfort get groping round comfortless blind eyes dark day thirst find thirsts allinall world wet soul self come poor jackself advise jaded let call thoughts awhile elsewhere leave comfort rootroom let joy size god knows god knows whose smile wrung see unforeseen times rather skies betweenpie mountains lights lovely mile',\n",
              "       'shift sleepwalks suicides occasion owls demilune fog even god nodded wont taking prayers til ten ad interim put wants could keep warm say shibboleths thumb beads scry glass night creeps precipice broken rim reason breaks obsidian sky betrays every serrate shadow flays soon enough crow caw cock crow door close isnt coming back know wee wet hours grief relent thirty years might forget precisely tonights pain felt whose black house dwelt',\n",
              "       'fail retry possible gaps middle canyons crumbling lights scarification vinyl rides forest throbs small packet parallel seams scratch readable surface backs camels mirages separate planes bursting eclipse pronounceable service two spots forehead call country doubling masses highway cuts faces line city every stream ties knot opening sea lose digits moon one day bare parched piles breathing farms doorways promise morning accident prone murder chance every mouse dust kitchen harvest cold sickness scattering twigs answer mirrors double sings night prayer full ashes frozen cadavers hearts egg wound disappear wrapup invisible letters leave snow hunt deliver migration mushroom fields full returns beaches roads promise water turns home blame air longer wail spot cloud full planets bubble reenters womb explosions placards like front bus crossing vines prairie traced skin goat look picture many races blood horse bundle sleeping shorted connections change electrical chairs pools announcements battling showers tell stories war infants sight corner trading telephones buried answers barrooms sawdust piers songs isthmus circle beacon moon pull whisper moves sand stone weigh every mote eye fingers handshakes calibrate walks like wheels car reflect wave like untying knot bruise full ice number count eleven equality lifts like dough incarcerates mud clots showers vanishing thorn guide pillow softly omitted second hand sees gears hand cripple ditch face fine bury head leaves buses lost day looked arctic telephone poles marks equators mornings home could write name shepherd singing many shields entrance staring stars basement light chest follows walking pulls two seals trouble words empty one zeros raise shores piñatas line snow spreading phase recalling crosshairs hive singing never return breaking gives others prompt give air radio frequencies meant undress parrots knot hill head viewer see without even monkey grow molecules power black hole instead screen identity swimming surface every outlook reframes break circular lots parking spot full directions jacket sinks roll orange fez around trains mountains pantomime echoes valley shells call engine answer penalties cease skull another score gone pavement sound bell broken bear first weight sand',\n",
              "       'sleepwalker never die chemical soldier composite latex atropine hellfire warthogs desolation pride apaches lasers dust devils swirling screaming fire deaths machine worship young blond pilots flashing thumbs excited smiles interviewed military wives shrapnel paced rockeye antipersonnel bombs spraying death like fireflies texas barbecue human flesh stretching sixty miles across open desert armageddon eden algebraic mosaic witchcraft dot pattern magic omens signs victims never knowing hit vivid delivery hell nineveh incendiary reduction tissue shadows sand incineration boots human feet still pain mania technology history delirious victims bleeding eagle brains weak frightened victim beak unhappy fate grief shame helpless rage',\n",
              "       'nine stories high second avenue roof theres party friends watching light moon blazing sun go side planet light underside earth long bent telescopes friends watch friends shadow see bed inside head years ive loved dreams today years since wrote first time poem birthday wait long land good land highways go many good places many good people found home land whose song comes throat hummingbird amp ends sun goes across skies blue live',\n",
              "       'wasnt cheek mine last night gin streetlight somebody loves impossible reach broken paddock fence sign say impossible color god painted eyes cross storm ewerstream impossible wrong lovers without certificates stamped across foreheads impossible dear torch received kind invitation regret conflagration impossible must mean phantom hand waist ache absence mine impossible holy place emperors city peach stone impossible mask ram mask bull horn chips mischling torn doors impossible dance without footprints dance name room lovers touching impossible eyes one protecting sleeping sons dreaming one torchlit trying close impossible dear lion heres gazelle hold teeth biting impossible',\n",
              "       'th century bc beautiful wellbeloved body granite smites eyes like army banners lips red wine poured goatskin bags brows warriors fulldrawn bows glances arrows shoot therefrom hair mane lion tawny thick th century let us love tonight past mind stifle intent lest blazing passion unconfined provoke imperilment dark fierce desire would flare bright sight must tame blinding fire bank night luminating dawns return appetites increase lusty flame safely burn furious release th century since even modest airs prudish dress may deter rash beaux wantonness unsullied innocence oervault concupiscent intention assault sweet misgivings wear plainly insurmountable air ogling lechers hunting amrous game blush apologize flee shame th century ethereal nightingale gallantly singing heart rich melodies insentient stones earless trees indifferent insects forsake go winging town like dart mark implore serving courier bird tell waiting word im locked room cant come adore',\n",
              "       'sometimes would get hungry neighborhood walk sidewalk towards chestnut street speak rev holding lightskinned baby ask son come put new inner tube bike cross ludlow past mailbox corner risqué video dinos pizza emerald laundromat fruit trucks tucked th street left house eyes shut boards fringes children went store sunk street owned cambodian woman sold everything evening gowns soup walnut th muslim cat sells chicken wrapped pita draped cucumber sauce pregnant woman behind counter writes order arabic grab juice freezer chips eye bean sweet potato pies back hot breath west philly sun setting sky smeared squash tangerines glaze three girls one boy jump doubledutch white man hustles video store black plastic bag look money street steal flowers church lawn shit stain wino still step mr jim washing car cash john cleaning rims buju banton noel talking sweetly big blueeyed woman linda way restaurant sister wheelchair buzzes headphones one night man shot killed block right outside thick wood door today today one days come home walking world leave windows open start pot black beans smoke alice coltrane cut fruit toenails hold moment time taking blood pressure',\n",
              "       'im alone world said aint got nobody share bed aint got nobody hold hand truth matters aint got man big boy opened mouth said trouble aint got head head used mind could time answered babe must said share bed money',\n",
              "       'get suddenly bags baggage looking worse wear ones misfortune hasnt wrung anythingbutperfect strangers old buddies old loves old antagonists chat bar hilton lobby whitehaired nohaired dyedhaired ringers oldsters irrelevant proms cruising study halls going steadyto life knew smithereens yesteryear mostly orphans whove buried mom dad holding guadalcanal hazard heartsoreness edema angina sarcoma thrombosis casualties mount mias arent vexed arent screaming never mind upright dont time skip niceties never seemed nice sweat threats dead ever younger smile toward future senior yearbook late fallback plan tonight well savor motel cuisine pass inglenook believe theres nothing opulent departure',\n",
              "       'im used emperors bitterness cant find sweet place unless make face face may look made touch make make oak say blossom stripped say swell avenue pavement say river make shirt cant take one nights without gathered make new day sweet place tomorrow whispering tonights last light make kissing without authorization want stop youll make ruined city woman interrupting sleep say say make',\n",
              "       'two oblong lobes rough ice methane ammonia fallen far kuiper belt perturbed jupiter nearer perihelion warm coma sublimes tail blurs trim probe relays images twilit surface gray vacant sleep small craft little boat dim soul afterlife attenuate gravity stifling quiet tuat weighed truth thoth anubis scales',\n",
              "       'men trading bullets worms spent lifetime building come mountains brought eggs table windowshade times couldnt bring anything many people walking hill walking almost passed grasped arm backed said look like',\n",
              "       'back junkhouse stacked cardtable covered ragged bedspread rest black platters whose music crackled hissed static like shuffling feet fox trot twostep slow dance needle riding merrygoround mothers head nestled fathers shoulder turned lost sway sounds summer nights faraway places syncopation time waltzing world never dreamed dance dust',\n",
              "       'joel nice day sweet october afternoon men walk sunshot avenues second third eyes intent elsewhere ears communing transistors shirt pockets bars full quiet discussion commercials pirates lead new york top th yankees base man nice day handsome women even dreamy jailbait walk nearly neglected mens eyes blank thoughts pittsburgh last half th score tied mazeroski leads pirates nd pitch simply sweetly crack belts clean leftfield wall blocks afternoon acres afternoon pennsylvania turnpikes afternoon one diamond stretches sun rd base line men come final score yanquis come home',\n",
              "       'bed watch birds telephone wire one flies another one left gone typewriter tombstone still reduced bird watching thought id let know fucker',\n",
              "       'danger others provoked change internal law flawed creature unpersuaded sure made case brutality tied fence began thrashing life meek deserve jubilee bodies defend selves supple registers bonum time confess never cruising bruising maybe cruising toward rapid intercession effervescent affection could gift beneficent fever among us angels arrived inhospitality hear body still groan aftermath desire grew screwup bucked fuckup thing took nine holes rotting obviously perils asleep en route sea wilderness somehow made beside spotted antidote toward reversal places biology doomed true witness clarified thighs chest throat quote flesh utah street room couple blocks away strangers elegy sinks toward earth keep watch community beyond shame stills weve put outside populace offset enmity singing way back assisi sissy im thrown ditch bitch knee failing much cycling groans though flesh worthy feeling thieves think im rich troubadour despite nasal whine valedictory hymn one poverty maybe bad mumbler since im much stumbler whim made inert violence cops long ago would round likes along market street thanks men making human humble stilled thing alive unto forces earth swallower corpses made dirt would know dirt tastes like cycling earth exceeded living bodies partitions wishing strewn parts long gone ones would reassemble gust florescence soundtracks promise legs brace supple clamor dead rise age thirty twentynine still ahead finest glamour thus became hammer darkest antimatter thus became ticking time bomb kingdom expectation gray hoodie sharp teeth bruce boone bring forth within save made changeless wave nerve enact fullness im raised waste hold vomit meat ive sucked peril ive soaked local commotion continent san francisco bottom pacific ocean equipping convenience kingdom swapping spit strangers giving dogs good scratch behind ears fighting bicycle cars could spell death papers drinking milkshakes mission diners cop knelt kissed feet priest threw sight security garden civility city boots scuffled along way impedimenta solace',\n",
              "       'brad gooch snort coke way party bring new album dance listen band two women whose husbands control speak language syllables obstacle love man love another theyre hurry could wait forever make lover theyll always find tigers stoned stoned dance till tired listen lyrics mouth like language feel hear inexpressible cant put words maybe dances show abba lives music long see put record play listen absolutely stunned feel know anyone say',\n",
              "       'identification highly important factor mechanism hysterical symptoms means patients enabled symptoms represent merely experiences experiences great number persons suffer whole mass people fill parts drama means personalities alone sigmund freud anne identified cate became bona fide illness boris left cate resulting psychic estrangement unconscious stream hostility directed boris new woman anne cate viewed rival cate remained excessively tender boris though cate totem animal gained power eating whereas boris patriarch anne ego alien whereas cate annes fixation anne ones obsession admitted psychiatric ward unbidden associations could induced abandon rare occasions slept manifest latent content dreams dance abandonment boris cate anne waking hours projected onto walls though screening silent film could induced abandon footage could induced abandon object love boris whose object choice egolibido identification cate felt friendship towards anne soon anne drew mental triangle every surface saw phallic concave sometimes triangle isosceles sometimes equilateral often right',\n",
              "       'cherubbeedee man doesnt read english well know cherubbeedum arent really wordsbeedee birds cherubbeedum stumbles reading sliding glass door cherubbeedee watch brother play dumdumyard cherubbeedee cherubbeedum like father says fine leave mother shoutsstupid dumb live small beedeenest one hallway beedumslam doors birds birds thanks father reading feathers first word ever taught pluck word used time cherubcherubbeedum mailthe mailboxthe school busthe asks read mail birdsmail dont read turn birds read best end feather two feathers end mother mother repeat cherubbeedee cherubbeedum read together bedtime',\n",
              "       'pack young flirts patrolling party cultural outsiders consumed notion beauty reflected shinemore mirror mans pants nothing midnight one counting practitioners admitted barman psychological materialism explaining read sartre beauvoir believed cerebellum thalamus lower brain lower upper parts must room nant nothingness aside indeed evening spectacular bacchanalia girls lugging blinddrunk partners around floor one sitting volume collected camus one imperious word beauvoirs club plunged almost total darkness violinists wandering playing soulful russian music guests ears possible tell truth exclaimed camus one point vodka champagne quantities extremely beautiful nice getting tight dancing cheek cheek exchange furtive kisses giggles every time one chaps said dont leave love ill always love took irrefutable evidence general greed human warmth ie touch even among agonized postadolescent dreamers morphed dance floor night naughty boys echoing girls questions shall live shall words without end without weight',\n",
              "       'life neither wrote read life didnt cut single tree didnt slit throat single calf life speak new york times behind back didnt raise voice soul except saying come please god cant refuse nevertheless case hopeless situation desperate godgiven rights grain salt tossed sea ladies gentlemen jury enemies client knows thing assure encounter entire crew aircraft carrier enterprise hed serve eggs sunnyside labneh fresh bag',\n",
              "       'glimmer sunken eyes question could answer lies digesting everything plain abdomen thin pain almost visible probe lump boyfriend noticed first left hand limp beneath pressure right aids think lymphomaswollen nodes tender spleen livers jutting edge strikes suddenly oblige hunger announces death near touch cold cavalier language beneath diaphragm told coming im going soft skin rocks body reveling wrecks internal hidden shoal treasures cant hide swallowed gold',\n",
              "       'angels dont come reservation bats maybe owls boxy mottled things coyotes mean thing death death eats angels guess havent seen angel fly valley ever gabriel never heard know guy named gabe though came one powwow stayed typical indian sure wings jailbird flies around stolen cars wherever stops kids grow like gourds womens bellies like said indian ive ever heard ever seen angel maybe christmas pageant something nazarene church holds one every december organized pastor johns wife wonder pastor johns son angeleveryone knows angels white quit bothering angels say theyre good indians remember happened last time white god came floating across ocean truth may angels angels living clouds sitting thrones across sea wearing velvet robes golden rings drinking whiskey silver cups better stay rich fat ugly xactly arein distant heavens better hope never see angels rez theyll marching zion oklahoma hell theyve mapped us',\n",
              "       'inside northern general theyre trying burn away small piece heart want know bit much holds questions live doctors call heart mean wide gap brain mind lineage bypassed hearts grateful literal know heart heart good running much else later sit borrowed bed get whole thing wrong call oblation offering sacriﬁce youd given something tiny ﬁre ritual could warm',\n",
              "       'one must naked get clean dad shrugs pajama shirt steps boxers tub brace whose long illness made shed modesty seated plastic bench holds soap like caught fish lap waiting test waters heat wrist turning nozzle toward pale skin leans doused hands soap might scrub shoulders neck suds sluicing spine buttock cleft like child wants washcloth cover eyes lather palmful pearlescent shampoo craniotomyscarred scalp rinse clear whatever soft hair left voices echo spray steam room long ago knelt tubs edge pour cups bathwater head reminds wash behind ears judges clean turn tap grips safety bar steadies stands turning body dripping frail pink although nearly forty one last thing teach hold open towel receive',\n",
              "       'abou ben adhem may tribe increase awoke one night deep dream peace saw within moonlight room making rich like lily bloom angel writing book gold exceeding peace made ben adhem bold presence room said writest thouthe vision raised head look made sweet accord answered names love lord mine one said abou nay replied angel abou spoke low cheerly still said pray thee write one loves fellow men angel wrote vanished next night came great wakening light showed names love god blest lo ben adhems name led rest',\n",
              "       'lives house swimming pool says job killing cant seem get rid novels keep coming back expect screams go new york pump hands publishers tell quit job go small room thing need assurance need something go word sign men think way van gogh wagner oh hell van gogh brother gave paints whenever needed look said im broads house today guy walks salesman know talk drove new car talked vacation said went friscosaw fidelio forgot wrote guy years old told fidelio beethovens opera told youre jerk whatcha mean asked mean youre jerk youre years old dont know anything happened walked mean left yes cant quit job said always trouble getting job walk look listen talk think right away ah ha hes intelligent job wont stay theres really sense hiring walk place dont trouble look like old wino look like guy needs job look think ah ha heres guy really needs work hire hell stay long time work hard people asks know writer write poetry never talk even hadnt seen magazine id never known thats right still id like tell people writer id still like tell well talk think horseplayer drunk well talk odd ways travel alone im friend yes talk id like defend id like tell write poetry leave alone work like well id like want know travel speak languages know music forget right ill respect wishes theres something else ive thinking getting piano ive thinking getting violin cant make mind buy piano think yes walks away thinking thinking figure always come violin sad music',\n",
              "       'thing shark isteeth one row one row beneath take close look find another row behind still closerhere ill hold hat third row behind look andlook oh ill never know well goodbye',\n",
              "       'finished clearing last section trail noon high ridgeside two thousand feet creek reached pass went beyond white pine groves granite shoulders small green meadow watered snow edged aspensun straight high blazing air cool ate cold fried trout trembling shadows spied glitter found flake black volcanic glassobsidian flower hands knees pushing bear grass thousands arrowhead leavings hundred yards one good head razor flakes hill snowed summer land fat summer deer came camp trails followed trail picked colddrill pick singlejack sack dynamite ten thousand years',\n",
              "       'one succeeds obtaining prominent place literature surrounding faithful steady circle admirers drawn fickle masses public unless possesses originality constant variety distinct personality quite possible gain moment readers imitating original feature another soon vanish writer remains alone forgotten others without belonging distinct group authors found standard moralists educators time obtained undying recognition',\n",
              "       'fifty years old today half century hurried since first lay mothers wondering arms sure old longer deceive believing still young illusion youth mental habit consciously encouraged defy face reality age twenty one feels reached mans estate nevertheless tests strength abilities early successes failures temporary fictitious standards youth',\n",
              "       'thorough study chinese child life made wall chinese exclusiveness broken homes east thrown open people west glimpses life however available sufficient number character give fairly good idea must playground means always hidden least street chinese nurse brings chinese rhymes stories games foreigners home amusement little ones chinese kindergarten methods appliances superior ingenuity ability interest well instruct matter travelling shows jugglers also country better supplied chiefly entertainment little ones'],\n",
              "      dtype=object)"
            ]
          },
          "metadata": {
            "tags": []
          },
          "execution_count": 31
        }
      ]
    },
    {
      "cell_type": "markdown",
      "metadata": {
        "id": "5MAxCEAa7yWN"
      },
      "source": [
        "**OneHot Encoding**"
      ]
    },
    {
      "cell_type": "code",
      "metadata": {
        "colab": {
          "base_uri": "https://localhost:8080/"
        },
        "id": "BnZpJn4I701G",
        "outputId": "680077a8-948e-48e9-911a-e81a0105e79c"
      },
      "source": [
        "from tensorflow.keras.preprocessing.text import one_hot\r\n",
        "vocab_size = 100 #vocabulary size Word2Vec(vocab=711, size=100, alpha=0.025)\r\n",
        "onehot_re = [one_hot(words, vocab_size) for words in final_text ]\r\n",
        "len(onehot_re)"
      ],
      "execution_count": null,
      "outputs": [
        {
          "output_type": "execute_result",
          "data": {
            "text/plain": [
              "41"
            ]
          },
          "metadata": {
            "tags": []
          },
          "execution_count": 32
        }
      ]
    },
    {
      "cell_type": "markdown",
      "metadata": {
        "id": "SNVtT5pb8I_N"
      },
      "source": [
        "**Word Embedding**"
      ]
    },
    {
      "cell_type": "code",
      "metadata": {
        "colab": {
          "base_uri": "https://localhost:8080/"
        },
        "id": "QUqXvLaPfArB",
        "outputId": "3bc3f9db-494a-4c9c-c559-6839a28a6f48"
      },
      "source": [
        "from tensorflow.keras.layers import Embedding\r\n",
        "from tensorflow.keras.preprocessing.sequence import pad_sequences\r\n",
        "from tensorflow.keras.models import Sequential\r\n",
        "\r\n",
        "import numpy as np\r\n",
        "np.set_printoptions(threshold=np.inf, linewidth=200)\r\n",
        "# word embedding\r\n",
        "maxlen = 350\r\n",
        "padding = pad_sequences(onehot_re, maxlen = maxlen,padding='post')\r\n",
        "len(padding)\r\n",
        "padding"
      ],
      "execution_count": null,
      "outputs": [
        {
          "output_type": "execute_result",
          "data": {
            "text/plain": [
              "array([[61, 14, 70, 79, 11, 67, 54, 22, 61, 91, 19, 14, 93, 45, 43, 17, 32, 14, 67, 47, 25, 30, 87, 83, 70, 62, 62, 30, 70, 73, 97, 75, 24, 86, 77,  6, 20, 56,  5, 16, 79, 39, 66, 84,  0,  0,  0,\n",
              "         0,  0,  0,  0,  0,  0,  0,  0,  0,  0,  0,  0,  0,  0,  0,  0,  0,  0,  0,  0,  0,  0,  0,  0,  0,  0,  0,  0,  0,  0,  0,  0,  0,  0,  0,  0,  0,  0,  0,  0,  0,  0,  0,  0,  0,  0,  0,\n",
              "         0,  0,  0,  0,  0,  0,  0,  0,  0,  0,  0,  0,  0,  0,  0,  0,  0,  0,  0,  0,  0,  0,  0,  0,  0,  0,  0,  0,  0,  0,  0,  0,  0,  0,  0,  0,  0,  0,  0,  0,  0,  0,  0,  0,  0,  0,  0,\n",
              "         0,  0,  0,  0,  0,  0,  0,  0,  0,  0,  0,  0,  0,  0,  0,  0,  0,  0,  0,  0,  0,  0,  0,  0,  0,  0,  0,  0,  0,  0,  0,  0,  0,  0,  0,  0,  0,  0,  0,  0,  0,  0,  0,  0,  0,  0,  0,\n",
              "         0,  0,  0,  0,  0,  0,  0,  0,  0,  0,  0,  0,  0,  0,  0,  0,  0,  0,  0,  0,  0,  0,  0,  0,  0,  0,  0,  0,  0,  0,  0,  0,  0,  0,  0,  0,  0,  0,  0,  0,  0,  0,  0,  0,  0,  0,  0,\n",
              "         0,  0,  0,  0,  0,  0,  0,  0,  0,  0,  0,  0,  0,  0,  0,  0,  0,  0,  0,  0,  0,  0,  0,  0,  0,  0,  0,  0,  0,  0,  0,  0,  0,  0,  0,  0,  0,  0,  0,  0,  0,  0,  0,  0,  0,  0,  0,\n",
              "         0,  0,  0,  0,  0,  0,  0,  0,  0,  0,  0,  0,  0,  0,  0,  0,  0,  0,  0,  0,  0,  0,  0,  0,  0,  0,  0,  0,  0,  0,  0,  0,  0,  0,  0,  0,  0,  0,  0,  0,  0,  0,  0,  0,  0,  0,  0,\n",
              "         0,  0,  0,  0,  0,  0,  0,  0,  0,  0,  0,  0,  0,  0,  0,  0,  0,  0,  0,  0,  0],\n",
              "       [35, 64, 56,  1, 32, 18, 39, 28, 77, 15, 86, 95, 49, 63,  3, 36, 56, 86,  6, 52, 95, 69, 52, 70,  4, 24,  5, 18,  1, 10, 62, 98, 52, 86, 18, 38, 38, 15, 82, 38, 15, 66, 55, 17, 56, 15, 48,\n",
              "        70, 90, 52, 62, 18, 63,  2, 97, 13, 21,  2, 95, 11, 26, 57,  3, 45, 73, 70, 37, 33, 21, 56,  9, 10, 81, 25,  9, 19,  0,  0,  0,  0,  0,  0,  0,  0,  0,  0,  0,  0,  0,  0,  0,  0,  0,  0,\n",
              "         0,  0,  0,  0,  0,  0,  0,  0,  0,  0,  0,  0,  0,  0,  0,  0,  0,  0,  0,  0,  0,  0,  0,  0,  0,  0,  0,  0,  0,  0,  0,  0,  0,  0,  0,  0,  0,  0,  0,  0,  0,  0,  0,  0,  0,  0,  0,\n",
              "         0,  0,  0,  0,  0,  0,  0,  0,  0,  0,  0,  0,  0,  0,  0,  0,  0,  0,  0,  0,  0,  0,  0,  0,  0,  0,  0,  0,  0,  0,  0,  0,  0,  0,  0,  0,  0,  0,  0,  0,  0,  0,  0,  0,  0,  0,  0,\n",
              "         0,  0,  0,  0,  0,  0,  0,  0,  0,  0,  0,  0,  0,  0,  0,  0,  0,  0,  0,  0,  0,  0,  0,  0,  0,  0,  0,  0,  0,  0,  0,  0,  0,  0,  0,  0,  0,  0,  0,  0,  0,  0,  0,  0,  0,  0,  0,\n",
              "         0,  0,  0,  0,  0,  0,  0,  0,  0,  0,  0,  0,  0,  0,  0,  0,  0,  0,  0,  0,  0,  0,  0,  0,  0,  0,  0,  0,  0,  0,  0,  0,  0,  0,  0,  0,  0,  0,  0,  0,  0,  0,  0,  0,  0,  0,  0,\n",
              "         0,  0,  0,  0,  0,  0,  0,  0,  0,  0,  0,  0,  0,  0,  0,  0,  0,  0,  0,  0,  0,  0,  0,  0,  0,  0,  0,  0,  0,  0,  0,  0,  0,  0,  0,  0,  0,  0,  0,  0,  0,  0,  0,  0,  0,  0,  0,\n",
              "         0,  0,  0,  0,  0,  0,  0,  0,  0,  0,  0,  0,  0,  0,  0,  0,  0,  0,  0,  0,  0],\n",
              "       [26, 18, 47, 29, 42, 49, 99, 85,  3,  5, 69, 26, 49, 96, 90, 70,  4, 36, 55, 72, 71, 78,  4, 41, 39, 64, 25, 76,  2,  7, 82,  3,  8, 21, 83, 30, 99, 39, 31, 98, 29, 42, 34, 22, 11, 89, 30,\n",
              "        95, 15, 75, 98, 80, 52,  0,  0,  0,  0,  0,  0,  0,  0,  0,  0,  0,  0,  0,  0,  0,  0,  0,  0,  0,  0,  0,  0,  0,  0,  0,  0,  0,  0,  0,  0,  0,  0,  0,  0,  0,  0,  0,  0,  0,  0,  0,\n",
              "         0,  0,  0,  0,  0,  0,  0,  0,  0,  0,  0,  0,  0,  0,  0,  0,  0,  0,  0,  0,  0,  0,  0,  0,  0,  0,  0,  0,  0,  0,  0,  0,  0,  0,  0,  0,  0,  0,  0,  0,  0,  0,  0,  0,  0,  0,  0,\n",
              "         0,  0,  0,  0,  0,  0,  0,  0,  0,  0,  0,  0,  0,  0,  0,  0,  0,  0,  0,  0,  0,  0,  0,  0,  0,  0,  0,  0,  0,  0,  0,  0,  0,  0,  0,  0,  0,  0,  0,  0,  0,  0,  0,  0,  0,  0,  0,\n",
              "         0,  0,  0,  0,  0,  0,  0,  0,  0,  0,  0,  0,  0,  0,  0,  0,  0,  0,  0,  0,  0,  0,  0,  0,  0,  0,  0,  0,  0,  0,  0,  0,  0,  0,  0,  0,  0,  0,  0,  0,  0,  0,  0,  0,  0,  0,  0,\n",
              "         0,  0,  0,  0,  0,  0,  0,  0,  0,  0,  0,  0,  0,  0,  0,  0,  0,  0,  0,  0,  0,  0,  0,  0,  0,  0,  0,  0,  0,  0,  0,  0,  0,  0,  0,  0,  0,  0,  0,  0,  0,  0,  0,  0,  0,  0,  0,\n",
              "         0,  0,  0,  0,  0,  0,  0,  0,  0,  0,  0,  0,  0,  0,  0,  0,  0,  0,  0,  0,  0,  0,  0,  0,  0,  0,  0,  0,  0,  0,  0,  0,  0,  0,  0,  0,  0,  0,  0,  0,  0,  0,  0,  0,  0,  0,  0,\n",
              "         0,  0,  0,  0,  0,  0,  0,  0,  0,  0,  0,  0,  0,  0,  0,  0,  0,  0,  0,  0,  0],\n",
              "       [ 2, 31, 73, 13, 72, 72, 96, 42, 42, 72, 88, 24, 24, 88, 32, 95, 22, 62, 25, 40, 88, 57, 14, 30, 75, 75, 63, 82, 60, 80, 80, 28, 60, 54, 97, 33, 83, 33, 83,  9, 20, 90, 21, 47, 64, 84, 50,\n",
              "        40, 48, 11, 56, 17, 32, 50, 52, 92, 19, 32, 82, 57, 78, 57, 28,  8, 73, 14, 17, 14, 17, 90, 65, 72, 76, 53, 53, 61, 94, 78, 61, 61, 10, 55, 53, 50, 32, 72, 95, 50, 89,  7, 78, 52, 69, 69,\n",
              "        75, 73, 56, 53, 38, 63, 85, 93, 88, 47, 38, 63, 70, 99, 98, 52, 42, 42, 28, 72, 18, 62, 42, 58, 89, 89, 53, 34, 81, 29, 33, 15, 81, 11, 50,  9, 29, 74,  7, 60, 22, 30, 30, 63, 57, 71, 75,\n",
              "        31, 14, 46, 54, 88, 90, 13, 25, 12, 80, 42, 75, 17, 67, 15, 53, 11, 91, 71,  8,  9, 34, 73,  9, 34, 73,  9, 93, 79, 54, 54, 37, 62, 59, 53, 87, 24, 10, 91, 64, 23, 37, 76, 99, 52, 78, 84,\n",
              "        30, 11, 91, 99, 67, 28, 82, 49, 58,  0,  0,  0,  0,  0,  0,  0,  0,  0,  0,  0,  0,  0,  0,  0,  0,  0,  0,  0,  0,  0,  0,  0,  0,  0,  0,  0,  0,  0,  0,  0,  0,  0,  0,  0,  0,  0,  0,\n",
              "         0,  0,  0,  0,  0,  0,  0,  0,  0,  0,  0,  0,  0,  0,  0,  0,  0,  0,  0,  0,  0,  0,  0,  0,  0,  0,  0,  0,  0,  0,  0,  0,  0,  0,  0,  0,  0,  0,  0,  0,  0,  0,  0,  0,  0,  0,  0,\n",
              "         0,  0,  0,  0,  0,  0,  0,  0,  0,  0,  0,  0,  0,  0,  0,  0,  0,  0,  0,  0,  0,  0,  0,  0,  0,  0,  0,  0,  0,  0,  0,  0,  0,  0,  0,  0,  0,  0,  0,  0,  0,  0,  0,  0,  0,  0,  0,\n",
              "         0,  0,  0,  0,  0,  0,  0,  0,  0,  0,  0,  0,  0,  0,  0,  0,  0,  0,  0,  0,  0],\n",
              "       [82, 87, 37, 41, 39, 10, 33, 97, 56, 85,  9, 25, 77, 40, 50, 61, 71, 21, 50, 22, 97, 89, 82,  1, 15, 89, 56, 22, 88, 64, 82, 73, 50, 58, 82, 53,  2, 23, 45, 41, 83, 16,  1, 18, 53, 63, 31,\n",
              "        80, 28, 60,  1,  1,  0,  0,  0,  0,  0,  0,  0,  0,  0,  0,  0,  0,  0,  0,  0,  0,  0,  0,  0,  0,  0,  0,  0,  0,  0,  0,  0,  0,  0,  0,  0,  0,  0,  0,  0,  0,  0,  0,  0,  0,  0,  0,\n",
              "         0,  0,  0,  0,  0,  0,  0,  0,  0,  0,  0,  0,  0,  0,  0,  0,  0,  0,  0,  0,  0,  0,  0,  0,  0,  0,  0,  0,  0,  0,  0,  0,  0,  0,  0,  0,  0,  0,  0,  0,  0,  0,  0,  0,  0,  0,  0,\n",
              "         0,  0,  0,  0,  0,  0,  0,  0,  0,  0,  0,  0,  0,  0,  0,  0,  0,  0,  0,  0,  0,  0,  0,  0,  0,  0,  0,  0,  0,  0,  0,  0,  0,  0,  0,  0,  0,  0,  0,  0,  0,  0,  0,  0,  0,  0,  0,\n",
              "         0,  0,  0,  0,  0,  0,  0,  0,  0,  0,  0,  0,  0,  0,  0,  0,  0,  0,  0,  0,  0,  0,  0,  0,  0,  0,  0,  0,  0,  0,  0,  0,  0,  0,  0,  0,  0,  0,  0,  0,  0,  0,  0,  0,  0,  0,  0,\n",
              "         0,  0,  0,  0,  0,  0,  0,  0,  0,  0,  0,  0,  0,  0,  0,  0,  0,  0,  0,  0,  0,  0,  0,  0,  0,  0,  0,  0,  0,  0,  0,  0,  0,  0,  0,  0,  0,  0,  0,  0,  0,  0,  0,  0,  0,  0,  0,\n",
              "         0,  0,  0,  0,  0,  0,  0,  0,  0,  0,  0,  0,  0,  0,  0,  0,  0,  0,  0,  0,  0,  0,  0,  0,  0,  0,  0,  0,  0,  0,  0,  0,  0,  0,  0,  0,  0,  0,  0,  0,  0,  0,  0,  0,  0,  0,  0,\n",
              "         0,  0,  0,  0,  0,  0,  0,  0,  0,  0,  0,  0,  0,  0,  0,  0,  0,  0,  0,  0,  0],\n",
              "       [76, 45, 76, 66, 93, 20,  8, 10,  6,  6, 28,  2, 28, 26, 32, 14,  1, 15, 90, 93, 49, 76, 45, 76, 39, 93, 14, 47, 96, 35, 31, 31, 60, 31,  5, 98, 48, 59, 96, 40, 58, 75, 47, 31, 24, 31,  5,\n",
              "        25,  5, 93, 35, 86, 53, 51, 50, 10, 44, 97, 51, 20, 85, 69, 73,  1,  4, 16, 93, 88, 71,  3, 32,  0,  0,  0,  0,  0,  0,  0,  0,  0,  0,  0,  0,  0,  0,  0,  0,  0,  0,  0,  0,  0,  0,  0,\n",
              "         0,  0,  0,  0,  0,  0,  0,  0,  0,  0,  0,  0,  0,  0,  0,  0,  0,  0,  0,  0,  0,  0,  0,  0,  0,  0,  0,  0,  0,  0,  0,  0,  0,  0,  0,  0,  0,  0,  0,  0,  0,  0,  0,  0,  0,  0,  0,\n",
              "         0,  0,  0,  0,  0,  0,  0,  0,  0,  0,  0,  0,  0,  0,  0,  0,  0,  0,  0,  0,  0,  0,  0,  0,  0,  0,  0,  0,  0,  0,  0,  0,  0,  0,  0,  0,  0,  0,  0,  0,  0,  0,  0,  0,  0,  0,  0,\n",
              "         0,  0,  0,  0,  0,  0,  0,  0,  0,  0,  0,  0,  0,  0,  0,  0,  0,  0,  0,  0,  0,  0,  0,  0,  0,  0,  0,  0,  0,  0,  0,  0,  0,  0,  0,  0,  0,  0,  0,  0,  0,  0,  0,  0,  0,  0,  0,\n",
              "         0,  0,  0,  0,  0,  0,  0,  0,  0,  0,  0,  0,  0,  0,  0,  0,  0,  0,  0,  0,  0,  0,  0,  0,  0,  0,  0,  0,  0,  0,  0,  0,  0,  0,  0,  0,  0,  0,  0,  0,  0,  0,  0,  0,  0,  0,  0,\n",
              "         0,  0,  0,  0,  0,  0,  0,  0,  0,  0,  0,  0,  0,  0,  0,  0,  0,  0,  0,  0,  0,  0,  0,  0,  0,  0,  0,  0,  0,  0,  0,  0,  0,  0,  0,  0,  0,  0,  0,  0,  0,  0,  0,  0,  0,  0,  0,\n",
              "         0,  0,  0,  0,  0,  0,  0,  0,  0,  0,  0,  0,  0,  0,  0,  0,  0,  0,  0,  0,  0],\n",
              "       [81, 84, 33, 37, 33, 85, 94, 42, 27, 56, 68, 88, 40, 36, 31, 38, 88, 69, 72, 61, 76, 48, 38,  1,  6,  1, 46, 48, 78, 45, 82, 75, 40, 36, 19, 96, 66, 10, 33, 38, 38, 38, 19, 62, 39, 69, 53,\n",
              "        13, 83, 87, 80, 58, 16, 47, 77, 67, 55, 75, 20, 81, 56, 62, 58, 31, 91, 21, 97, 58, 38, 63, 31, 79, 24, 45, 18, 36, 42, 85, 10, 23, 81, 47, 32, 36,  2, 18, 14,  3, 10, 71, 44, 18, 86, 60,\n",
              "        62, 66, 33, 81, 18, 29, 66,  6, 66, 11, 18, 76, 51, 71, 28, 14, 10, 62, 16, 62, 36, 76, 27, 96, 19,  5, 49, 13,  6, 49, 13, 82, 20, 79, 29,  7, 68, 57, 91, 66, 78, 89, 29, 24, 26, 45, 25,\n",
              "        41,  8, 14, 53, 26, 14, 25, 31, 33, 32, 55, 78, 32, 13, 33, 92,  6, 21, 25, 92,  6, 21, 97, 68,  3, 97, 68,  3, 82,  2,  4, 58, 94,  0,  0,  0,  0,  0,  0,  0,  0,  0,  0,  0,  0,  0,  0,\n",
              "         0,  0,  0,  0,  0,  0,  0,  0,  0,  0,  0,  0,  0,  0,  0,  0,  0,  0,  0,  0,  0,  0,  0,  0,  0,  0,  0,  0,  0,  0,  0,  0,  0,  0,  0,  0,  0,  0,  0,  0,  0,  0,  0,  0,  0,  0,  0,\n",
              "         0,  0,  0,  0,  0,  0,  0,  0,  0,  0,  0,  0,  0,  0,  0,  0,  0,  0,  0,  0,  0,  0,  0,  0,  0,  0,  0,  0,  0,  0,  0,  0,  0,  0,  0,  0,  0,  0,  0,  0,  0,  0,  0,  0,  0,  0,  0,\n",
              "         0,  0,  0,  0,  0,  0,  0,  0,  0,  0,  0,  0,  0,  0,  0,  0,  0,  0,  0,  0,  0,  0,  0,  0,  0,  0,  0,  0,  0,  0,  0,  0,  0,  0,  0,  0,  0,  0,  0,  0,  0,  0,  0,  0,  0,  0,  0,\n",
              "         0,  0,  0,  0,  0,  0,  0,  0,  0,  0,  0,  0,  0,  0,  0,  0,  0,  0,  0,  0,  0],\n",
              "       [54, 86, 74, 41, 29, 34, 90, 75, 36, 31, 79, 23, 42, 76, 48, 43, 50, 47,  7, 65, 90, 98, 74, 20, 87, 79, 12, 17, 51, 56, 95, 29, 62, 34, 37, 78,  4, 77,  1, 64, 29, 76, 24, 12, 74, 57, 56,\n",
              "        30, 61, 29, 39, 45, 90, 52, 65,  4, 63, 56, 15, 91, 56, 69, 42,  6, 89, 44, 34, 82, 24, 65, 90, 71, 90, 70, 48, 34, 60, 14, 37, 69, 30,  1, 76, 77, 97, 25, 82, 12, 97, 96, 52, 18,  1, 84,\n",
              "        23, 37,  4, 66, 11, 53, 27, 81, 81, 45, 84, 84, 97, 75, 76, 29, 26, 57, 79, 19, 89, 28, 29, 79, 77, 82, 66,  2, 31, 65, 82, 85, 83, 33, 25, 15, 39, 66, 59, 90,  6, 28,  5, 44, 56, 93, 64,\n",
              "        44, 16, 65, 12,  7, 66, 72, 20, 88, 37, 41,  4, 96, 23, 16, 13, 13, 42, 59, 62, 85, 58,  0,  0,  0,  0,  0,  0,  0,  0,  0,  0,  0,  0,  0,  0,  0,  0,  0,  0,  0,  0,  0,  0,  0,  0,  0,\n",
              "         0,  0,  0,  0,  0,  0,  0,  0,  0,  0,  0,  0,  0,  0,  0,  0,  0,  0,  0,  0,  0,  0,  0,  0,  0,  0,  0,  0,  0,  0,  0,  0,  0,  0,  0,  0,  0,  0,  0,  0,  0,  0,  0,  0,  0,  0,  0,\n",
              "         0,  0,  0,  0,  0,  0,  0,  0,  0,  0,  0,  0,  0,  0,  0,  0,  0,  0,  0,  0,  0,  0,  0,  0,  0,  0,  0,  0,  0,  0,  0,  0,  0,  0,  0,  0,  0,  0,  0,  0,  0,  0,  0,  0,  0,  0,  0,\n",
              "         0,  0,  0,  0,  0,  0,  0,  0,  0,  0,  0,  0,  0,  0,  0,  0,  0,  0,  0,  0,  0,  0,  0,  0,  0,  0,  0,  0,  0,  0,  0,  0,  0,  0,  0,  0,  0,  0,  0,  0,  0,  0,  0,  0,  0,  0,  0,\n",
              "         0,  0,  0,  0,  0,  0,  0,  0,  0,  0,  0,  0,  0,  0,  0,  0,  0,  0,  0,  0,  0],\n",
              "       [89, 38, 96, 38, 95, 42, 18, 55,  3, 58, 95, 12, 78, 12, 78, 11, 57, 64, 95, 33, 59,  9, 52, 58, 56, 60, 42, 30, 77, 24, 71, 84, 11,  2, 18, 25, 65, 62, 39, 50, 38, 42, 79, 24, 52, 98, 95,\n",
              "        95, 38,  8, 86, 42, 29, 42, 29, 96, 22,  8, 85, 26, 81, 41,  3, 26, 92, 53, 53,  5,  0,  0,  0,  0,  0,  0,  0,  0,  0,  0,  0,  0,  0,  0,  0,  0,  0,  0,  0,  0,  0,  0,  0,  0,  0,  0,\n",
              "         0,  0,  0,  0,  0,  0,  0,  0,  0,  0,  0,  0,  0,  0,  0,  0,  0,  0,  0,  0,  0,  0,  0,  0,  0,  0,  0,  0,  0,  0,  0,  0,  0,  0,  0,  0,  0,  0,  0,  0,  0,  0,  0,  0,  0,  0,  0,\n",
              "         0,  0,  0,  0,  0,  0,  0,  0,  0,  0,  0,  0,  0,  0,  0,  0,  0,  0,  0,  0,  0,  0,  0,  0,  0,  0,  0,  0,  0,  0,  0,  0,  0,  0,  0,  0,  0,  0,  0,  0,  0,  0,  0,  0,  0,  0,  0,\n",
              "         0,  0,  0,  0,  0,  0,  0,  0,  0,  0,  0,  0,  0,  0,  0,  0,  0,  0,  0,  0,  0,  0,  0,  0,  0,  0,  0,  0,  0,  0,  0,  0,  0,  0,  0,  0,  0,  0,  0,  0,  0,  0,  0,  0,  0,  0,  0,\n",
              "         0,  0,  0,  0,  0,  0,  0,  0,  0,  0,  0,  0,  0,  0,  0,  0,  0,  0,  0,  0,  0,  0,  0,  0,  0,  0,  0,  0,  0,  0,  0,  0,  0,  0,  0,  0,  0,  0,  0,  0,  0,  0,  0,  0,  0,  0,  0,\n",
              "         0,  0,  0,  0,  0,  0,  0,  0,  0,  0,  0,  0,  0,  0,  0,  0,  0,  0,  0,  0,  0,  0,  0,  0,  0,  0,  0,  0,  0,  0,  0,  0,  0,  0,  0,  0,  0,  0,  0,  0,  0,  0,  0,  0,  0,  0,  0,\n",
              "         0,  0,  0,  0,  0,  0,  0,  0,  0,  0,  0,  0,  0,  0,  0,  0,  0,  0,  0,  0,  0],\n",
              "       [18, 23, 23, 27, 29, 53, 90, 62, 42, 24,  8,  1, 61, 19, 14, 17, 64, 18, 83, 12, 64, 97, 29, 40, 92, 79, 62, 99, 82, 70, 82, 88,  5, 33,  1, 95, 63, 66, 29, 15, 23, 92, 20, 52, 46, 35, 39,\n",
              "        46, 87, 81, 45, 60, 55, 60, 99, 11, 59, 24, 76, 33, 57, 26, 27,  4, 66, 99, 56, 96, 35, 98, 72,  0,  0,  0,  0,  0,  0,  0,  0,  0,  0,  0,  0,  0,  0,  0,  0,  0,  0,  0,  0,  0,  0,  0,\n",
              "         0,  0,  0,  0,  0,  0,  0,  0,  0,  0,  0,  0,  0,  0,  0,  0,  0,  0,  0,  0,  0,  0,  0,  0,  0,  0,  0,  0,  0,  0,  0,  0,  0,  0,  0,  0,  0,  0,  0,  0,  0,  0,  0,  0,  0,  0,  0,\n",
              "         0,  0,  0,  0,  0,  0,  0,  0,  0,  0,  0,  0,  0,  0,  0,  0,  0,  0,  0,  0,  0,  0,  0,  0,  0,  0,  0,  0,  0,  0,  0,  0,  0,  0,  0,  0,  0,  0,  0,  0,  0,  0,  0,  0,  0,  0,  0,\n",
              "         0,  0,  0,  0,  0,  0,  0,  0,  0,  0,  0,  0,  0,  0,  0,  0,  0,  0,  0,  0,  0,  0,  0,  0,  0,  0,  0,  0,  0,  0,  0,  0,  0,  0,  0,  0,  0,  0,  0,  0,  0,  0,  0,  0,  0,  0,  0,\n",
              "         0,  0,  0,  0,  0,  0,  0,  0,  0,  0,  0,  0,  0,  0,  0,  0,  0,  0,  0,  0,  0,  0,  0,  0,  0,  0,  0,  0,  0,  0,  0,  0,  0,  0,  0,  0,  0,  0,  0,  0,  0,  0,  0,  0,  0,  0,  0,\n",
              "         0,  0,  0,  0,  0,  0,  0,  0,  0,  0,  0,  0,  0,  0,  0,  0,  0,  0,  0,  0,  0,  0,  0,  0,  0,  0,  0,  0,  0,  0,  0,  0,  0,  0,  0,  0,  0,  0,  0,  0,  0,  0,  0,  0,  0,  0,  0,\n",
              "         0,  0,  0,  0,  0,  0,  0,  0,  0,  0,  0,  0,  0,  0,  0,  0,  0,  0,  0,  0,  0],\n",
              "       [18, 98, 83, 89, 93, 88, 48, 53,  8, 50, 97, 45, 21, 21, 86, 69, 30, 10, 73, 53, 46, 81, 50, 58, 35, 15, 57, 13, 28, 51, 77,  4, 42, 80, 71, 88, 14, 64,  7,  9, 43, 29, 78,  2, 53, 45, 73,\n",
              "        26, 55, 28, 28, 42, 20, 68, 97, 84, 42, 57, 99, 15, 38, 51, 37,  7, 29, 91, 34, 58, 58, 71, 54, 38, 13, 35, 52, 89, 17, 82,  9, 26, 48, 88, 80, 77, 45, 51, 83, 20, 20, 22, 98, 19, 71, 46,\n",
              "        80, 35, 87, 26, 19, 55, 17, 99, 37, 71, 71, 16, 58, 16, 15, 44, 39, 26, 97, 10, 89, 74, 48,  2, 14, 12, 31, 82, 13, 85, 74, 52, 25, 38, 52, 93, 73, 44,  4, 57, 61, 60, 77, 54, 41, 83, 74,\n",
              "        40, 90, 19, 88, 90,  2, 28, 35, 89, 35,  5, 28, 29, 34, 44, 15, 69, 74, 62, 49, 28, 97, 46, 26, 71, 56, 87, 29, 78, 28, 96, 10, 73, 65, 14, 96, 81, 51, 34, 14, 94, 53, 94, 26, 41, 41, 98,\n",
              "        26, 72, 23, 14, 48, 82, 13,  9, 19, 43, 16, 42, 13, 96, 97, 38, 74, 83,  1, 74, 82, 70, 70, 55, 53, 32, 74, 11, 92, 42, 68, 26,  4, 62,  7, 83,  2, 71, 12, 30,  1, 60, 76, 93, 94, 54, 67,\n",
              "        45, 77, 10, 24, 96, 94,  8, 51, 73, 12, 66, 34, 28, 51,  4, 88, 96,  9, 19, 77, 43, 76, 15, 32, 76, 45, 28, 78, 12, 25, 13, 58, 58,  4,  9, 31, 92, 50, 53, 77, 32, 37, 85, 62, 62, 51, 97,\n",
              "        30, 23, 35, 51, 21, 36, 74, 55, 53, 29, 75, 17, 16, 93, 58, 17, 44, 26, 49,  1, 47,  8, 48, 70, 88, 63, 92, 10, 35, 16, 88, 42,  8, 35, 10, 18, 67, 50, 73, 58, 23, 15, 97, 88, 25, 65, 18,\n",
              "        71,  0,  0,  0,  0,  0,  0,  0,  0,  0,  0,  0,  0,  0,  0,  0,  0,  0,  0,  0,  0],\n",
              "       [23, 45, 76, 12, 55, 28, 38, 21, 75, 24, 95, 40,  5, 70, 34, 48, 40, 77, 44, 51, 13, 79, 59, 48,  3, 54, 77, 69, 99, 69, 54, 86, 39, 14, 33, 79, 77, 20, 55, 14, 92, 72,  6, 52, 79, 82, 38,\n",
              "        71, 67, 52, 11, 23, 47, 80, 69, 39, 33, 28, 82,  6, 94, 28, 45, 65, 26, 40, 38, 62, 68, 22, 68, 85, 63, 71, 43, 90, 52, 35, 97, 99, 53, 31, 42, 11, 28, 55, 69, 78, 13, 33, 41, 91, 17, 23,\n",
              "        24,  6, 25, 64,  0,  0,  0,  0,  0,  0,  0,  0,  0,  0,  0,  0,  0,  0,  0,  0,  0,  0,  0,  0,  0,  0,  0,  0,  0,  0,  0,  0,  0,  0,  0,  0,  0,  0,  0,  0,  0,  0,  0,  0,  0,  0,  0,\n",
              "         0,  0,  0,  0,  0,  0,  0,  0,  0,  0,  0,  0,  0,  0,  0,  0,  0,  0,  0,  0,  0,  0,  0,  0,  0,  0,  0,  0,  0,  0,  0,  0,  0,  0,  0,  0,  0,  0,  0,  0,  0,  0,  0,  0,  0,  0,  0,\n",
              "         0,  0,  0,  0,  0,  0,  0,  0,  0,  0,  0,  0,  0,  0,  0,  0,  0,  0,  0,  0,  0,  0,  0,  0,  0,  0,  0,  0,  0,  0,  0,  0,  0,  0,  0,  0,  0,  0,  0,  0,  0,  0,  0,  0,  0,  0,  0,\n",
              "         0,  0,  0,  0,  0,  0,  0,  0,  0,  0,  0,  0,  0,  0,  0,  0,  0,  0,  0,  0,  0,  0,  0,  0,  0,  0,  0,  0,  0,  0,  0,  0,  0,  0,  0,  0,  0,  0,  0,  0,  0,  0,  0,  0,  0,  0,  0,\n",
              "         0,  0,  0,  0,  0,  0,  0,  0,  0,  0,  0,  0,  0,  0,  0,  0,  0,  0,  0,  0,  0,  0,  0,  0,  0,  0,  0,  0,  0,  0,  0,  0,  0,  0,  0,  0,  0,  0,  0,  0,  0,  0,  0,  0,  0,  0,  0,\n",
              "         0,  0,  0,  0,  0,  0,  0,  0,  0,  0,  0,  0,  0,  0,  0,  0,  0,  0,  0,  0,  0],\n",
              "       [74, 90, 31, 38, 61, 53, 26, 69, 94, 89, 10, 28,  3, 43, 72, 50, 44, 10, 60, 53, 98, 14, 11, 94, 83, 94, 23, 85, 75, 52, 32, 57, 12, 27, 90, 75, 57, 74, 58, 65, 31, 94, 79, 14, 98, 39,  3,\n",
              "        39, 31, 72, 93,  3, 98, 93,  3, 32, 87, 71, 39, 96, 96, 11, 31, 91, 36, 93, 43, 76, 67,  3, 82, 95,  0,  0,  0,  0,  0,  0,  0,  0,  0,  0,  0,  0,  0,  0,  0,  0,  0,  0,  0,  0,  0,  0,\n",
              "         0,  0,  0,  0,  0,  0,  0,  0,  0,  0,  0,  0,  0,  0,  0,  0,  0,  0,  0,  0,  0,  0,  0,  0,  0,  0,  0,  0,  0,  0,  0,  0,  0,  0,  0,  0,  0,  0,  0,  0,  0,  0,  0,  0,  0,  0,  0,\n",
              "         0,  0,  0,  0,  0,  0,  0,  0,  0,  0,  0,  0,  0,  0,  0,  0,  0,  0,  0,  0,  0,  0,  0,  0,  0,  0,  0,  0,  0,  0,  0,  0,  0,  0,  0,  0,  0,  0,  0,  0,  0,  0,  0,  0,  0,  0,  0,\n",
              "         0,  0,  0,  0,  0,  0,  0,  0,  0,  0,  0,  0,  0,  0,  0,  0,  0,  0,  0,  0,  0,  0,  0,  0,  0,  0,  0,  0,  0,  0,  0,  0,  0,  0,  0,  0,  0,  0,  0,  0,  0,  0,  0,  0,  0,  0,  0,\n",
              "         0,  0,  0,  0,  0,  0,  0,  0,  0,  0,  0,  0,  0,  0,  0,  0,  0,  0,  0,  0,  0,  0,  0,  0,  0,  0,  0,  0,  0,  0,  0,  0,  0,  0,  0,  0,  0,  0,  0,  0,  0,  0,  0,  0,  0,  0,  0,\n",
              "         0,  0,  0,  0,  0,  0,  0,  0,  0,  0,  0,  0,  0,  0,  0,  0,  0,  0,  0,  0,  0,  0,  0,  0,  0,  0,  0,  0,  0,  0,  0,  0,  0,  0,  0,  0,  0,  0,  0,  0,  0,  0,  0,  0,  0,  0,  0,\n",
              "         0,  0,  0,  0,  0,  0,  0,  0,  0,  0,  0,  0,  0,  0,  0,  0,  0,  0,  0,  0,  0],\n",
              "       [16, 94, 95, 67, 82, 81, 72, 17, 51, 21, 79, 88, 78, 18, 60, 29, 21, 98, 42, 62, 56, 19, 54, 26, 21, 31, 43, 62,  4, 85, 67, 60, 21,  9, 79, 84,  3, 36, 38, 44, 21, 84, 36, 67, 74, 75, 93,\n",
              "        72, 95, 21, 45, 81, 66, 43, 65, 56, 21, 89, 98, 89, 12, 96, 37, 59, 73, 12, 21, 49, 62, 62, 49,  1,  2, 43, 77, 21, 56, 28,  3, 61, 32, 71, 28, 16,  2, 81, 21,  9, 32, 41,  1,  3, 25, 44,\n",
              "        21,  0,  0,  0,  0,  0,  0,  0,  0,  0,  0,  0,  0,  0,  0,  0,  0,  0,  0,  0,  0,  0,  0,  0,  0,  0,  0,  0,  0,  0,  0,  0,  0,  0,  0,  0,  0,  0,  0,  0,  0,  0,  0,  0,  0,  0,  0,\n",
              "         0,  0,  0,  0,  0,  0,  0,  0,  0,  0,  0,  0,  0,  0,  0,  0,  0,  0,  0,  0,  0,  0,  0,  0,  0,  0,  0,  0,  0,  0,  0,  0,  0,  0,  0,  0,  0,  0,  0,  0,  0,  0,  0,  0,  0,  0,  0,\n",
              "         0,  0,  0,  0,  0,  0,  0,  0,  0,  0,  0,  0,  0,  0,  0,  0,  0,  0,  0,  0,  0,  0,  0,  0,  0,  0,  0,  0,  0,  0,  0,  0,  0,  0,  0,  0,  0,  0,  0,  0,  0,  0,  0,  0,  0,  0,  0,\n",
              "         0,  0,  0,  0,  0,  0,  0,  0,  0,  0,  0,  0,  0,  0,  0,  0,  0,  0,  0,  0,  0,  0,  0,  0,  0,  0,  0,  0,  0,  0,  0,  0,  0,  0,  0,  0,  0,  0,  0,  0,  0,  0,  0,  0,  0,  0,  0,\n",
              "         0,  0,  0,  0,  0,  0,  0,  0,  0,  0,  0,  0,  0,  0,  0,  0,  0,  0,  0,  0,  0,  0,  0,  0,  0,  0,  0,  0,  0,  0,  0,  0,  0,  0,  0,  0,  0,  0,  0,  0,  0,  0,  0,  0,  0,  0,  0,\n",
              "         0,  0,  0,  0,  0,  0,  0,  0,  0,  0,  0,  0,  0,  0,  0,  0,  0,  0,  0,  0,  0],\n",
              "       [48, 42, 42, 78, 83, 32, 83, 63, 56, 14, 62, 16, 15, 87, 54, 60, 46, 31, 30, 74, 82, 63, 27, 71, 60, 79, 86, 81, 32, 25, 30, 48, 42, 38, 90, 74, 92, 20, 78, 52, 30, 56,  3, 47, 41, 10, 88,\n",
              "        60, 95, 70, 57, 47, 73, 35, 84, 58, 18, 44, 21, 82, 96, 28, 28, 75, 14, 43, 39, 51, 96, 82, 45, 48, 42, 74, 62, 21,  6, 86, 97, 76, 23, 59, 31, 67, 29,  9, 81, 26, 43, 25, 46, 12, 32, 84,\n",
              "         3, 58, 47, 56, 21, 24, 62, 21, 87,  8,  6, 48, 42, 62, 85, 48, 76, 89, 65,  4, 56, 53, 63, 48, 91, 92,  5, 72, 59, 63, 14, 78, 15, 89, 90, 96, 12, 88, 96, 59, 31, 29,  2, 19, 25, 52,  0,\n",
              "         0,  0,  0,  0,  0,  0,  0,  0,  0,  0,  0,  0,  0,  0,  0,  0,  0,  0,  0,  0,  0,  0,  0,  0,  0,  0,  0,  0,  0,  0,  0,  0,  0,  0,  0,  0,  0,  0,  0,  0,  0,  0,  0,  0,  0,  0,  0,\n",
              "         0,  0,  0,  0,  0,  0,  0,  0,  0,  0,  0,  0,  0,  0,  0,  0,  0,  0,  0,  0,  0,  0,  0,  0,  0,  0,  0,  0,  0,  0,  0,  0,  0,  0,  0,  0,  0,  0,  0,  0,  0,  0,  0,  0,  0,  0,  0,\n",
              "         0,  0,  0,  0,  0,  0,  0,  0,  0,  0,  0,  0,  0,  0,  0,  0,  0,  0,  0,  0,  0,  0,  0,  0,  0,  0,  0,  0,  0,  0,  0,  0,  0,  0,  0,  0,  0,  0,  0,  0,  0,  0,  0,  0,  0,  0,  0,\n",
              "         0,  0,  0,  0,  0,  0,  0,  0,  0,  0,  0,  0,  0,  0,  0,  0,  0,  0,  0,  0,  0,  0,  0,  0,  0,  0,  0,  0,  0,  0,  0,  0,  0,  0,  0,  0,  0,  0,  0,  0,  0,  0,  0,  0,  0,  0,  0,\n",
              "         0,  0,  0,  0,  0,  0,  0,  0,  0,  0,  0,  0,  0,  0,  0,  0,  0,  0,  0,  0,  0],\n",
              "       [48, 57, 33, 10, 45, 30, 43, 78, 76, 43, 35, 95, 58, 91, 27, 45, 39, 25, 18, 32, 52, 92,  3, 19, 54, 20, 27, 89, 80, 47, 65, 14, 79,  7, 50, 34, 54, 48, 43, 15, 98, 56, 69, 37, 58, 69,  6,\n",
              "        64, 17, 43, 51, 53, 12, 36, 91, 40, 81, 84, 48, 48, 78, 35, 46, 76, 34, 66, 17, 38, 78, 73, 12, 55, 83, 67, 47, 13, 49, 99, 84, 37, 28, 78, 46,  3, 38, 55, 72,  6, 25, 40, 43, 58, 63, 52,\n",
              "        97, 99, 59, 77, 44, 28, 34, 50, 10, 34, 73, 84, 47, 64, 35, 83, 15, 38, 61, 43, 56, 45, 28, 16, 44, 43, 36, 97, 60, 84, 33, 28, 81, 83, 75, 48, 57, 51, 34, 95, 65, 77, 62, 88, 12,  4, 66,\n",
              "        27, 96, 34, 12, 97, 28, 82, 73, 68, 80, 62, 21, 37, 30, 11, 87, 75, 75, 28, 20, 25, 71, 94, 84, 98, 19, 52, 63, 69, 35, 47,  5, 74, 39, 60, 50, 48,  3, 19, 31,  1, 44, 19,  0,  0,  0,  0,\n",
              "         0,  0,  0,  0,  0,  0,  0,  0,  0,  0,  0,  0,  0,  0,  0,  0,  0,  0,  0,  0,  0,  0,  0,  0,  0,  0,  0,  0,  0,  0,  0,  0,  0,  0,  0,  0,  0,  0,  0,  0,  0,  0,  0,  0,  0,  0,  0,\n",
              "         0,  0,  0,  0,  0,  0,  0,  0,  0,  0,  0,  0,  0,  0,  0,  0,  0,  0,  0,  0,  0,  0,  0,  0,  0,  0,  0,  0,  0,  0,  0,  0,  0,  0,  0,  0,  0,  0,  0,  0,  0,  0,  0,  0,  0,  0,  0,\n",
              "         0,  0,  0,  0,  0,  0,  0,  0,  0,  0,  0,  0,  0,  0,  0,  0,  0,  0,  0,  0,  0,  0,  0,  0,  0,  0,  0,  0,  0,  0,  0,  0,  0,  0,  0,  0,  0,  0,  0,  0,  0,  0,  0,  0,  0,  0,  0,\n",
              "         0,  0,  0,  0,  0,  0,  0,  0,  0,  0,  0,  0,  0,  0,  0,  0,  0,  0,  0,  0,  0],\n",
              "       [31, 60, 84, 25,  4, 23, 42, 54, 75,  4, 23, 42,  3, 74, 10, 59,  4, 23, 73, 62, 34, 16, 23, 25, 12,  4, 23, 32, 32, 47, 78, 12, 31, 36, 94, 84, 25, 54, 75, 61,  0,  0,  0,  0,  0,  0,  0,\n",
              "         0,  0,  0,  0,  0,  0,  0,  0,  0,  0,  0,  0,  0,  0,  0,  0,  0,  0,  0,  0,  0,  0,  0,  0,  0,  0,  0,  0,  0,  0,  0,  0,  0,  0,  0,  0,  0,  0,  0,  0,  0,  0,  0,  0,  0,  0,  0,\n",
              "         0,  0,  0,  0,  0,  0,  0,  0,  0,  0,  0,  0,  0,  0,  0,  0,  0,  0,  0,  0,  0,  0,  0,  0,  0,  0,  0,  0,  0,  0,  0,  0,  0,  0,  0,  0,  0,  0,  0,  0,  0,  0,  0,  0,  0,  0,  0,\n",
              "         0,  0,  0,  0,  0,  0,  0,  0,  0,  0,  0,  0,  0,  0,  0,  0,  0,  0,  0,  0,  0,  0,  0,  0,  0,  0,  0,  0,  0,  0,  0,  0,  0,  0,  0,  0,  0,  0,  0,  0,  0,  0,  0,  0,  0,  0,  0,\n",
              "         0,  0,  0,  0,  0,  0,  0,  0,  0,  0,  0,  0,  0,  0,  0,  0,  0,  0,  0,  0,  0,  0,  0,  0,  0,  0,  0,  0,  0,  0,  0,  0,  0,  0,  0,  0,  0,  0,  0,  0,  0,  0,  0,  0,  0,  0,  0,\n",
              "         0,  0,  0,  0,  0,  0,  0,  0,  0,  0,  0,  0,  0,  0,  0,  0,  0,  0,  0,  0,  0,  0,  0,  0,  0,  0,  0,  0,  0,  0,  0,  0,  0,  0,  0,  0,  0,  0,  0,  0,  0,  0,  0,  0,  0,  0,  0,\n",
              "         0,  0,  0,  0,  0,  0,  0,  0,  0,  0,  0,  0,  0,  0,  0,  0,  0,  0,  0,  0,  0,  0,  0,  0,  0,  0,  0,  0,  0,  0,  0,  0,  0,  0,  0,  0,  0,  0,  0,  0,  0,  0,  0,  0,  0,  0,  0,\n",
              "         0,  0,  0,  0,  0,  0,  0,  0,  0,  0,  0,  0,  0,  0,  0,  0,  0,  0,  0,  0,  0],\n",
              "       [33, 33, 31, 25, 15, 74, 32,  1, 30, 95,  8, 10, 18, 26, 39, 26, 51, 26, 89, 13, 89, 55, 24, 47, 15, 53, 39,  4, 24, 63, 75, 76, 30, 54, 82, 25, 21, 15, 89,  6, 31, 44, 28, 50, 90, 58, 86,\n",
              "        86, 73, 61, 48, 43, 46, 37,  8, 82,  2, 34,  2, 77, 45, 78, 44, 81, 31,  5, 65, 45, 49, 65, 36,  3, 64, 84, 11, 22, 15, 45, 92, 19, 70, 39, 50, 92,  6, 91, 12, 72, 74, 28, 62, 26, 61, 21,\n",
              "        34,  0,  0,  0,  0,  0,  0,  0,  0,  0,  0,  0,  0,  0,  0,  0,  0,  0,  0,  0,  0,  0,  0,  0,  0,  0,  0,  0,  0,  0,  0,  0,  0,  0,  0,  0,  0,  0,  0,  0,  0,  0,  0,  0,  0,  0,  0,\n",
              "         0,  0,  0,  0,  0,  0,  0,  0,  0,  0,  0,  0,  0,  0,  0,  0,  0,  0,  0,  0,  0,  0,  0,  0,  0,  0,  0,  0,  0,  0,  0,  0,  0,  0,  0,  0,  0,  0,  0,  0,  0,  0,  0,  0,  0,  0,  0,\n",
              "         0,  0,  0,  0,  0,  0,  0,  0,  0,  0,  0,  0,  0,  0,  0,  0,  0,  0,  0,  0,  0,  0,  0,  0,  0,  0,  0,  0,  0,  0,  0,  0,  0,  0,  0,  0,  0,  0,  0,  0,  0,  0,  0,  0,  0,  0,  0,\n",
              "         0,  0,  0,  0,  0,  0,  0,  0,  0,  0,  0,  0,  0,  0,  0,  0,  0,  0,  0,  0,  0,  0,  0,  0,  0,  0,  0,  0,  0,  0,  0,  0,  0,  0,  0,  0,  0,  0,  0,  0,  0,  0,  0,  0,  0,  0,  0,\n",
              "         0,  0,  0,  0,  0,  0,  0,  0,  0,  0,  0,  0,  0,  0,  0,  0,  0,  0,  0,  0,  0,  0,  0,  0,  0,  0,  0,  0,  0,  0,  0,  0,  0,  0,  0,  0,  0,  0,  0,  0,  0,  0,  0,  0,  0,  0,  0,\n",
              "         0,  0,  0,  0,  0,  0,  0,  0,  0,  0,  0,  0,  0,  0,  0,  0,  0,  0,  0,  0,  0],\n",
              "       [31, 47, 66, 34, 19, 77, 46, 81, 92, 87, 70, 70, 76, 38, 13, 99, 87, 87, 31, 29, 28, 83, 29, 38, 61, 23, 29, 55, 87, 88, 19, 51, 28, 70, 62, 56, 87, 32, 42, 46, 81, 81,  6, 66, 67, 10, 87,\n",
              "        14, 62, 67, 58, 85, 50, 87, 35, 43, 12, 38, 55, 29, 29, 87,  0,  0,  0,  0,  0,  0,  0,  0,  0,  0,  0,  0,  0,  0,  0,  0,  0,  0,  0,  0,  0,  0,  0,  0,  0,  0,  0,  0,  0,  0,  0,  0,\n",
              "         0,  0,  0,  0,  0,  0,  0,  0,  0,  0,  0,  0,  0,  0,  0,  0,  0,  0,  0,  0,  0,  0,  0,  0,  0,  0,  0,  0,  0,  0,  0,  0,  0,  0,  0,  0,  0,  0,  0,  0,  0,  0,  0,  0,  0,  0,  0,\n",
              "         0,  0,  0,  0,  0,  0,  0,  0,  0,  0,  0,  0,  0,  0,  0,  0,  0,  0,  0,  0,  0,  0,  0,  0,  0,  0,  0,  0,  0,  0,  0,  0,  0,  0,  0,  0,  0,  0,  0,  0,  0,  0,  0,  0,  0,  0,  0,\n",
              "         0,  0,  0,  0,  0,  0,  0,  0,  0,  0,  0,  0,  0,  0,  0,  0,  0,  0,  0,  0,  0,  0,  0,  0,  0,  0,  0,  0,  0,  0,  0,  0,  0,  0,  0,  0,  0,  0,  0,  0,  0,  0,  0,  0,  0,  0,  0,\n",
              "         0,  0,  0,  0,  0,  0,  0,  0,  0,  0,  0,  0,  0,  0,  0,  0,  0,  0,  0,  0,  0,  0,  0,  0,  0,  0,  0,  0,  0,  0,  0,  0,  0,  0,  0,  0,  0,  0,  0,  0,  0,  0,  0,  0,  0,  0,  0,\n",
              "         0,  0,  0,  0,  0,  0,  0,  0,  0,  0,  0,  0,  0,  0,  0,  0,  0,  0,  0,  0,  0,  0,  0,  0,  0,  0,  0,  0,  0,  0,  0,  0,  0,  0,  0,  0,  0,  0,  0,  0,  0,  0,  0,  0,  0,  0,  0,\n",
              "         0,  0,  0,  0,  0,  0,  0,  0,  0,  0,  0,  0,  0,  0,  0,  0,  0,  0,  0,  0,  0],\n",
              "       [51, 58, 72, 72, 41, 98, 73, 29, 18, 27, 69, 11, 14, 48, 38, 97,  4, 39, 76, 95, 35, 72, 39, 78, 72, 53, 19, 86, 55, 21, 86, 82, 16, 60,  2,  8, 12, 78, 67, 40, 12, 63, 10, 74, 83, 41,  0,\n",
              "         0,  0,  0,  0,  0,  0,  0,  0,  0,  0,  0,  0,  0,  0,  0,  0,  0,  0,  0,  0,  0,  0,  0,  0,  0,  0,  0,  0,  0,  0,  0,  0,  0,  0,  0,  0,  0,  0,  0,  0,  0,  0,  0,  0,  0,  0,  0,\n",
              "         0,  0,  0,  0,  0,  0,  0,  0,  0,  0,  0,  0,  0,  0,  0,  0,  0,  0,  0,  0,  0,  0,  0,  0,  0,  0,  0,  0,  0,  0,  0,  0,  0,  0,  0,  0,  0,  0,  0,  0,  0,  0,  0,  0,  0,  0,  0,\n",
              "         0,  0,  0,  0,  0,  0,  0,  0,  0,  0,  0,  0,  0,  0,  0,  0,  0,  0,  0,  0,  0,  0,  0,  0,  0,  0,  0,  0,  0,  0,  0,  0,  0,  0,  0,  0,  0,  0,  0,  0,  0,  0,  0,  0,  0,  0,  0,\n",
              "         0,  0,  0,  0,  0,  0,  0,  0,  0,  0,  0,  0,  0,  0,  0,  0,  0,  0,  0,  0,  0,  0,  0,  0,  0,  0,  0,  0,  0,  0,  0,  0,  0,  0,  0,  0,  0,  0,  0,  0,  0,  0,  0,  0,  0,  0,  0,\n",
              "         0,  0,  0,  0,  0,  0,  0,  0,  0,  0,  0,  0,  0,  0,  0,  0,  0,  0,  0,  0,  0,  0,  0,  0,  0,  0,  0,  0,  0,  0,  0,  0,  0,  0,  0,  0,  0,  0,  0,  0,  0,  0,  0,  0,  0,  0,  0,\n",
              "         0,  0,  0,  0,  0,  0,  0,  0,  0,  0,  0,  0,  0,  0,  0,  0,  0,  0,  0,  0,  0,  0,  0,  0,  0,  0,  0,  0,  0,  0,  0,  0,  0,  0,  0,  0,  0,  0,  0,  0,  0,  0,  0,  0,  0,  0,  0,\n",
              "         0,  0,  0,  0,  0,  0,  0,  0,  0,  0,  0,  0,  0,  0,  0,  0,  0,  0,  0,  0,  0],\n",
              "       [64, 35, 18, 51, 73, 96, 74, 25, 92, 32, 20, 78, 56, 81, 20, 38, 49, 93, 32, 94, 77, 94, 60,  9, 20, 23, 14, 25, 38, 14,  0,  0,  0,  0,  0,  0,  0,  0,  0,  0,  0,  0,  0,  0,  0,  0,  0,\n",
              "         0,  0,  0,  0,  0,  0,  0,  0,  0,  0,  0,  0,  0,  0,  0,  0,  0,  0,  0,  0,  0,  0,  0,  0,  0,  0,  0,  0,  0,  0,  0,  0,  0,  0,  0,  0,  0,  0,  0,  0,  0,  0,  0,  0,  0,  0,  0,\n",
              "         0,  0,  0,  0,  0,  0,  0,  0,  0,  0,  0,  0,  0,  0,  0,  0,  0,  0,  0,  0,  0,  0,  0,  0,  0,  0,  0,  0,  0,  0,  0,  0,  0,  0,  0,  0,  0,  0,  0,  0,  0,  0,  0,  0,  0,  0,  0,\n",
              "         0,  0,  0,  0,  0,  0,  0,  0,  0,  0,  0,  0,  0,  0,  0,  0,  0,  0,  0,  0,  0,  0,  0,  0,  0,  0,  0,  0,  0,  0,  0,  0,  0,  0,  0,  0,  0,  0,  0,  0,  0,  0,  0,  0,  0,  0,  0,\n",
              "         0,  0,  0,  0,  0,  0,  0,  0,  0,  0,  0,  0,  0,  0,  0,  0,  0,  0,  0,  0,  0,  0,  0,  0,  0,  0,  0,  0,  0,  0,  0,  0,  0,  0,  0,  0,  0,  0,  0,  0,  0,  0,  0,  0,  0,  0,  0,\n",
              "         0,  0,  0,  0,  0,  0,  0,  0,  0,  0,  0,  0,  0,  0,  0,  0,  0,  0,  0,  0,  0,  0,  0,  0,  0,  0,  0,  0,  0,  0,  0,  0,  0,  0,  0,  0,  0,  0,  0,  0,  0,  0,  0,  0,  0,  0,  0,\n",
              "         0,  0,  0,  0,  0,  0,  0,  0,  0,  0,  0,  0,  0,  0,  0,  0,  0,  0,  0,  0,  0,  0,  0,  0,  0,  0,  0,  0,  0,  0,  0,  0,  0,  0,  0,  0,  0,  0,  0,  0,  0,  0,  0,  0,  0,  0,  0,\n",
              "         0,  0,  0,  0,  0,  0,  0,  0,  0,  0,  0,  0,  0,  0,  0,  0,  0,  0,  0,  0,  0],\n",
              "       [55, 99, 31, 28, 86, 52, 78, 93, 35, 53, 96, 12, 86, 97, 56, 14, 36, 35, 83, 30, 21, 13, 49, 42, 40, 61, 75, 32, 72, 93, 39, 98, 92, 13, 18, 72, 70,  8, 98, 25, 31, 34, 84, 45, 62, 49, 34,\n",
              "         0,  0,  0,  0,  0,  0,  0,  0,  0,  0,  0,  0,  0,  0,  0,  0,  0,  0,  0,  0,  0,  0,  0,  0,  0,  0,  0,  0,  0,  0,  0,  0,  0,  0,  0,  0,  0,  0,  0,  0,  0,  0,  0,  0,  0,  0,  0,\n",
              "         0,  0,  0,  0,  0,  0,  0,  0,  0,  0,  0,  0,  0,  0,  0,  0,  0,  0,  0,  0,  0,  0,  0,  0,  0,  0,  0,  0,  0,  0,  0,  0,  0,  0,  0,  0,  0,  0,  0,  0,  0,  0,  0,  0,  0,  0,  0,\n",
              "         0,  0,  0,  0,  0,  0,  0,  0,  0,  0,  0,  0,  0,  0,  0,  0,  0,  0,  0,  0,  0,  0,  0,  0,  0,  0,  0,  0,  0,  0,  0,  0,  0,  0,  0,  0,  0,  0,  0,  0,  0,  0,  0,  0,  0,  0,  0,\n",
              "         0,  0,  0,  0,  0,  0,  0,  0,  0,  0,  0,  0,  0,  0,  0,  0,  0,  0,  0,  0,  0,  0,  0,  0,  0,  0,  0,  0,  0,  0,  0,  0,  0,  0,  0,  0,  0,  0,  0,  0,  0,  0,  0,  0,  0,  0,  0,\n",
              "         0,  0,  0,  0,  0,  0,  0,  0,  0,  0,  0,  0,  0,  0,  0,  0,  0,  0,  0,  0,  0,  0,  0,  0,  0,  0,  0,  0,  0,  0,  0,  0,  0,  0,  0,  0,  0,  0,  0,  0,  0,  0,  0,  0,  0,  0,  0,\n",
              "         0,  0,  0,  0,  0,  0,  0,  0,  0,  0,  0,  0,  0,  0,  0,  0,  0,  0,  0,  0,  0,  0,  0,  0,  0,  0,  0,  0,  0,  0,  0,  0,  0,  0,  0,  0,  0,  0,  0,  0,  0,  0,  0,  0,  0,  0,  0,\n",
              "         0,  0,  0,  0,  0,  0,  0,  0,  0,  0,  0,  0,  0,  0,  0,  0,  0,  0,  0,  0,  0],\n",
              "       [51, 65, 42, 46, 54,  7, 64, 30, 85, 36, 38, 64, 56, 30, 52, 37,  6, 64, 88,  1, 37, 26, 40, 24, 20, 53, 22, 32, 88, 49, 48, 89,  3, 73, 65, 42, 47, 69, 62, 84, 49, 30, 59, 54, 81, 56, 70,\n",
              "        79,  8, 67, 27, 48, 73, 91, 93, 62, 53, 12, 24,  3, 77,  5, 58, 91, 25, 13, 41,  7, 56,  7, 49, 53,  7, 28, 55, 23, 43, 80,  3,  9, 64, 25, 26, 73, 76, 25, 71,  0,  0,  0,  0,  0,  0,  0,\n",
              "         0,  0,  0,  0,  0,  0,  0,  0,  0,  0,  0,  0,  0,  0,  0,  0,  0,  0,  0,  0,  0,  0,  0,  0,  0,  0,  0,  0,  0,  0,  0,  0,  0,  0,  0,  0,  0,  0,  0,  0,  0,  0,  0,  0,  0,  0,  0,\n",
              "         0,  0,  0,  0,  0,  0,  0,  0,  0,  0,  0,  0,  0,  0,  0,  0,  0,  0,  0,  0,  0,  0,  0,  0,  0,  0,  0,  0,  0,  0,  0,  0,  0,  0,  0,  0,  0,  0,  0,  0,  0,  0,  0,  0,  0,  0,  0,\n",
              "         0,  0,  0,  0,  0,  0,  0,  0,  0,  0,  0,  0,  0,  0,  0,  0,  0,  0,  0,  0,  0,  0,  0,  0,  0,  0,  0,  0,  0,  0,  0,  0,  0,  0,  0,  0,  0,  0,  0,  0,  0,  0,  0,  0,  0,  0,  0,\n",
              "         0,  0,  0,  0,  0,  0,  0,  0,  0,  0,  0,  0,  0,  0,  0,  0,  0,  0,  0,  0,  0,  0,  0,  0,  0,  0,  0,  0,  0,  0,  0,  0,  0,  0,  0,  0,  0,  0,  0,  0,  0,  0,  0,  0,  0,  0,  0,\n",
              "         0,  0,  0,  0,  0,  0,  0,  0,  0,  0,  0,  0,  0,  0,  0,  0,  0,  0,  0,  0,  0,  0,  0,  0,  0,  0,  0,  0,  0,  0,  0,  0,  0,  0,  0,  0,  0,  0,  0,  0,  0,  0,  0,  0,  0,  0,  0,\n",
              "         0,  0,  0,  0,  0,  0,  0,  0,  0,  0,  0,  0,  0,  0,  0,  0,  0,  0,  0,  0,  0],\n",
              "       [75, 83, 80,  4, 17, 28, 49, 50, 28, 15, 58, 54, 36, 97, 51, 12, 89, 99, 97, 38, 60, 77,  0,  0,  0,  0,  0,  0,  0,  0,  0,  0,  0,  0,  0,  0,  0,  0,  0,  0,  0,  0,  0,  0,  0,  0,  0,\n",
              "         0,  0,  0,  0,  0,  0,  0,  0,  0,  0,  0,  0,  0,  0,  0,  0,  0,  0,  0,  0,  0,  0,  0,  0,  0,  0,  0,  0,  0,  0,  0,  0,  0,  0,  0,  0,  0,  0,  0,  0,  0,  0,  0,  0,  0,  0,  0,\n",
              "         0,  0,  0,  0,  0,  0,  0,  0,  0,  0,  0,  0,  0,  0,  0,  0,  0,  0,  0,  0,  0,  0,  0,  0,  0,  0,  0,  0,  0,  0,  0,  0,  0,  0,  0,  0,  0,  0,  0,  0,  0,  0,  0,  0,  0,  0,  0,\n",
              "         0,  0,  0,  0,  0,  0,  0,  0,  0,  0,  0,  0,  0,  0,  0,  0,  0,  0,  0,  0,  0,  0,  0,  0,  0,  0,  0,  0,  0,  0,  0,  0,  0,  0,  0,  0,  0,  0,  0,  0,  0,  0,  0,  0,  0,  0,  0,\n",
              "         0,  0,  0,  0,  0,  0,  0,  0,  0,  0,  0,  0,  0,  0,  0,  0,  0,  0,  0,  0,  0,  0,  0,  0,  0,  0,  0,  0,  0,  0,  0,  0,  0,  0,  0,  0,  0,  0,  0,  0,  0,  0,  0,  0,  0,  0,  0,\n",
              "         0,  0,  0,  0,  0,  0,  0,  0,  0,  0,  0,  0,  0,  0,  0,  0,  0,  0,  0,  0,  0,  0,  0,  0,  0,  0,  0,  0,  0,  0,  0,  0,  0,  0,  0,  0,  0,  0,  0,  0,  0,  0,  0,  0,  0,  0,  0,\n",
              "         0,  0,  0,  0,  0,  0,  0,  0,  0,  0,  0,  0,  0,  0,  0,  0,  0,  0,  0,  0,  0,  0,  0,  0,  0,  0,  0,  0,  0,  0,  0,  0,  0,  0,  0,  0,  0,  0,  0,  0,  0,  0,  0,  0,  0,  0,  0,\n",
              "         0,  0,  0,  0,  0,  0,  0,  0,  0,  0,  0,  0,  0,  0,  0,  0,  0,  0,  0,  0,  0],\n",
              "       [24, 25, 32, 54, 92, 10, 28,  1, 71, 13, 13, 92, 30, 91, 18, 90, 95, 25, 75,  1, 18, 56, 72,  6, 96, 25,  5, 31, 25, 45, 75, 57, 81, 75, 15, 43, 43, 40, 32, 12, 19, 72, 69, 90, 90, 41, 79,\n",
              "        34, 54, 32, 97, 57, 97, 70, 72, 52, 15, 60, 16, 44, 74, 88, 11, 41, 12, 84, 83, 97, 73, 58, 25, 13, 43, 77, 79, 15, 61, 98, 15, 32, 28, 32, 77, 71, 24, 31, 70, 79, 19, 43,  2, 22, 41, 10,\n",
              "        18, 58, 47, 15, 53, 64, 83, 45, 72,  6, 41, 16, 18, 37, 19, 59, 68, 76, 66, 55, 66, 83, 31, 52, 70,  4, 93, 48, 36, 84, 40, 44, 79, 11, 57, 31, 87, 31, 65, 13, 29, 64,  9, 27, 45, 28, 42,\n",
              "        81, 20, 23, 74, 31, 36,  2, 29, 13, 32, 72,  8, 98, 31, 57,  9, 41, 96, 99, 43, 82, 64, 32, 52, 30, 72, 16, 24, 55, 62, 53, 28,  4, 13, 10, 57, 60, 10, 66, 14, 84, 53, 87, 53, 56,  8, 62,\n",
              "        56, 24, 98, 58,  1, 57, 50, 16, 20, 79, 99, 49, 82, 96, 53, 64, 42, 47, 33, 46, 97, 47, 93, 74, 18, 26, 27, 31, 26, 18, 26, 45, 31, 85, 91, 49, 19,  3,  9, 25, 57, 90, 38, 25, 93, 50, 13,\n",
              "        57, 34, 91, 52, 32, 31,  8, 33,  3, 70, 54, 12,  5, 67, 12, 27, 38, 14, 15,  7, 20,  5, 26, 74, 31, 40, 91, 91, 93, 18, 89, 84,  3, 10, 55, 37, 90, 95, 84, 12, 62, 55, 82, 24, 62, 33, 73,\n",
              "        61, 12, 47, 35, 21, 32, 35,  9, 53, 80, 43, 90, 36, 96, 66, 55,  6,  0,  0,  0,  0,  0,  0,  0,  0,  0,  0,  0,  0,  0,  0,  0,  0,  0,  0,  0,  0,  0,  0,  0,  0,  0,  0,  0,  0,  0,  0,\n",
              "         0,  0,  0,  0,  0,  0,  0,  0,  0,  0,  0,  0,  0,  0,  0,  0,  0,  0,  0,  0,  0],\n",
              "       [50, 62, 29, 97, 66, 69, 38, 32, 64, 49, 36, 46, 51, 69, 96, 13, 50, 35, 96,  6, 43, 74, 73, 74, 50,  1, 68, 12, 14, 81, 87, 79, 30, 52, 77, 12, 26, 26, 49,  4, 36, 36, 73, 23, 14, 96, 37,\n",
              "        54, 98, 19, 18, 66, 81, 49, 36, 84, 83, 12, 98, 85, 18, 12, 49, 36, 65, 18, 37, 60, 93, 29,  0,  0,  0,  0,  0,  0,  0,  0,  0,  0,  0,  0,  0,  0,  0,  0,  0,  0,  0,  0,  0,  0,  0,  0,\n",
              "         0,  0,  0,  0,  0,  0,  0,  0,  0,  0,  0,  0,  0,  0,  0,  0,  0,  0,  0,  0,  0,  0,  0,  0,  0,  0,  0,  0,  0,  0,  0,  0,  0,  0,  0,  0,  0,  0,  0,  0,  0,  0,  0,  0,  0,  0,  0,\n",
              "         0,  0,  0,  0,  0,  0,  0,  0,  0,  0,  0,  0,  0,  0,  0,  0,  0,  0,  0,  0,  0,  0,  0,  0,  0,  0,  0,  0,  0,  0,  0,  0,  0,  0,  0,  0,  0,  0,  0,  0,  0,  0,  0,  0,  0,  0,  0,\n",
              "         0,  0,  0,  0,  0,  0,  0,  0,  0,  0,  0,  0,  0,  0,  0,  0,  0,  0,  0,  0,  0,  0,  0,  0,  0,  0,  0,  0,  0,  0,  0,  0,  0,  0,  0,  0,  0,  0,  0,  0,  0,  0,  0,  0,  0,  0,  0,\n",
              "         0,  0,  0,  0,  0,  0,  0,  0,  0,  0,  0,  0,  0,  0,  0,  0,  0,  0,  0,  0,  0,  0,  0,  0,  0,  0,  0,  0,  0,  0,  0,  0,  0,  0,  0,  0,  0,  0,  0,  0,  0,  0,  0,  0,  0,  0,  0,\n",
              "         0,  0,  0,  0,  0,  0,  0,  0,  0,  0,  0,  0,  0,  0,  0,  0,  0,  0,  0,  0,  0,  0,  0,  0,  0,  0,  0,  0,  0,  0,  0,  0,  0,  0,  0,  0,  0,  0,  0,  0,  0,  0,  0,  0,  0,  0,  0,\n",
              "         0,  0,  0,  0,  0,  0,  0,  0,  0,  0,  0,  0,  0,  0,  0,  0,  0,  0,  0,  0,  0],\n",
              "       [36, 12, 16, 61, 32, 79, 68, 10, 90, 65, 68, 14, 18, 69, 69, 51, 41, 97, 58,  7,  6, 32, 11, 24, 96, 10, 83, 60, 79, 52, 66, 59, 47, 26, 23, 23, 17, 97, 15, 47, 14, 53, 96, 96, 78, 18, 76,\n",
              "        97, 32, 12, 66, 47, 86, 49, 47,  2, 91, 27, 97, 44, 47, 94, 43, 44, 23, 60, 12, 97, 84, 66, 26, 36, 12, 47, 16, 39, 66,  1, 81, 18, 57, 35, 76, 33, 12, 64, 40, 63, 92,  9, 38, 25, 41, 90,\n",
              "        49, 64, 97, 47, 66, 38, 59, 27, 11, 66, 44,  7, 46, 24, 12, 64, 40, 33, 12, 64, 40, 87, 74, 97, 96, 87, 45, 72, 36, 47, 56, 57, 78, 66, 20, 66, 99, 34, 13, 29, 53, 90, 17, 44, 48, 13,  8,\n",
              "        48, 15, 61, 21,  0,  0,  0,  0,  0,  0,  0,  0,  0,  0,  0,  0,  0,  0,  0,  0,  0,  0,  0,  0,  0,  0,  0,  0,  0,  0,  0,  0,  0,  0,  0,  0,  0,  0,  0,  0,  0,  0,  0,  0,  0,  0,  0,\n",
              "         0,  0,  0,  0,  0,  0,  0,  0,  0,  0,  0,  0,  0,  0,  0,  0,  0,  0,  0,  0,  0,  0,  0,  0,  0,  0,  0,  0,  0,  0,  0,  0,  0,  0,  0,  0,  0,  0,  0,  0,  0,  0,  0,  0,  0,  0,  0,\n",
              "         0,  0,  0,  0,  0,  0,  0,  0,  0,  0,  0,  0,  0,  0,  0,  0,  0,  0,  0,  0,  0,  0,  0,  0,  0,  0,  0,  0,  0,  0,  0,  0,  0,  0,  0,  0,  0,  0,  0,  0,  0,  0,  0,  0,  0,  0,  0,\n",
              "         0,  0,  0,  0,  0,  0,  0,  0,  0,  0,  0,  0,  0,  0,  0,  0,  0,  0,  0,  0,  0,  0,  0,  0,  0,  0,  0,  0,  0,  0,  0,  0,  0,  0,  0,  0,  0,  0,  0,  0,  0,  0,  0,  0,  0,  0,  0,\n",
              "         0,  0,  0,  0,  0,  0,  0,  0,  0,  0,  0,  0,  0,  0,  0,  0,  0,  0,  0,  0,  0],\n",
              "       [83, 73, 47, 78,  7,  6, 60, 23,  2, 28, 13, 80, 23, 68, 27, 51, 99, 87, 83, 83, 93, 49, 97, 83, 23, 14, 67, 91, 55, 98, 89, 39, 93, 95, 21, 94, 28, 46, 88, 12, 80, 80, 82, 67, 27, 81, 65,\n",
              "        59, 84, 11, 50, 59, 47, 31, 98, 74, 36,  2, 84, 20, 78, 84, 10, 81, 78, 98, 80, 78, 61, 95,  1, 51, 81, 95, 89, 89, 37, 83, 23, 78, 33, 59,  0,  0,  0,  0,  0,  0,  0,  0,  0,  0,  0,  0,\n",
              "         0,  0,  0,  0,  0,  0,  0,  0,  0,  0,  0,  0,  0,  0,  0,  0,  0,  0,  0,  0,  0,  0,  0,  0,  0,  0,  0,  0,  0,  0,  0,  0,  0,  0,  0,  0,  0,  0,  0,  0,  0,  0,  0,  0,  0,  0,  0,\n",
              "         0,  0,  0,  0,  0,  0,  0,  0,  0,  0,  0,  0,  0,  0,  0,  0,  0,  0,  0,  0,  0,  0,  0,  0,  0,  0,  0,  0,  0,  0,  0,  0,  0,  0,  0,  0,  0,  0,  0,  0,  0,  0,  0,  0,  0,  0,  0,\n",
              "         0,  0,  0,  0,  0,  0,  0,  0,  0,  0,  0,  0,  0,  0,  0,  0,  0,  0,  0,  0,  0,  0,  0,  0,  0,  0,  0,  0,  0,  0,  0,  0,  0,  0,  0,  0,  0,  0,  0,  0,  0,  0,  0,  0,  0,  0,  0,\n",
              "         0,  0,  0,  0,  0,  0,  0,  0,  0,  0,  0,  0,  0,  0,  0,  0,  0,  0,  0,  0,  0,  0,  0,  0,  0,  0,  0,  0,  0,  0,  0,  0,  0,  0,  0,  0,  0,  0,  0,  0,  0,  0,  0,  0,  0,  0,  0,\n",
              "         0,  0,  0,  0,  0,  0,  0,  0,  0,  0,  0,  0,  0,  0,  0,  0,  0,  0,  0,  0,  0,  0,  0,  0,  0,  0,  0,  0,  0,  0,  0,  0,  0,  0,  0,  0,  0,  0,  0,  0,  0,  0,  0,  0,  0,  0,  0,\n",
              "         0,  0,  0,  0,  0,  0,  0,  0,  0,  0,  0,  0,  0,  0,  0,  0,  0,  0,  0,  0,  0],\n",
              "       [44, 59, 13, 20, 69, 31, 13, 19, 48, 45, 64, 33, 47, 99, 50, 61, 24, 28, 23, 81, 18, 38, 84, 36, 48, 78, 57, 97, 26, 64, 92, 13, 22, 13, 72, 24, 84,  2, 53, 80, 78, 57, 40, 35, 23, 44, 72,\n",
              "        85, 97, 88, 24, 28, 51, 39, 18, 69, 28, 83, 59, 42,  3, 94, 60, 77, 98, 47, 69, 82,  4, 46, 12, 30, 37, 83, 88, 10, 33, 69, 28, 99, 88, 41, 79, 76, 78, 65, 31, 37, 91, 94, 94, 85, 60, 39,\n",
              "        24, 29, 31, 28, 47, 25, 81, 98, 74, 15, 52, 74, 44, 90, 42, 25, 59, 52, 90,  9, 99, 62, 90, 10, 79, 95, 49, 49, 24, 82, 20, 58, 99, 44, 71, 74, 95, 74, 66, 62, 95, 62, 18,  0,  0,  0,  0,\n",
              "         0,  0,  0,  0,  0,  0,  0,  0,  0,  0,  0,  0,  0,  0,  0,  0,  0,  0,  0,  0,  0,  0,  0,  0,  0,  0,  0,  0,  0,  0,  0,  0,  0,  0,  0,  0,  0,  0,  0,  0,  0,  0,  0,  0,  0,  0,  0,\n",
              "         0,  0,  0,  0,  0,  0,  0,  0,  0,  0,  0,  0,  0,  0,  0,  0,  0,  0,  0,  0,  0,  0,  0,  0,  0,  0,  0,  0,  0,  0,  0,  0,  0,  0,  0,  0,  0,  0,  0,  0,  0,  0,  0,  0,  0,  0,  0,\n",
              "         0,  0,  0,  0,  0,  0,  0,  0,  0,  0,  0,  0,  0,  0,  0,  0,  0,  0,  0,  0,  0,  0,  0,  0,  0,  0,  0,  0,  0,  0,  0,  0,  0,  0,  0,  0,  0,  0,  0,  0,  0,  0,  0,  0,  0,  0,  0,\n",
              "         0,  0,  0,  0,  0,  0,  0,  0,  0,  0,  0,  0,  0,  0,  0,  0,  0,  0,  0,  0,  0,  0,  0,  0,  0,  0,  0,  0,  0,  0,  0,  0,  0,  0,  0,  0,  0,  0,  0,  0,  0,  0,  0,  0,  0,  0,  0,\n",
              "         0,  0,  0,  0,  0,  0,  0,  0,  0,  0,  0,  0,  0,  0,  0,  0,  0,  0,  0,  0,  0],\n",
              "       [25, 59, 58, 78, 25, 75, 60, 70, 14, 75, 53, 31, 70,  3, 25, 35, 32, 88, 81, 55, 55, 75,  4, 15,  2, 79, 65, 25, 41, 42, 19, 31, 77, 92, 29, 70, 40, 26,  5,  3, 84, 26, 73, 41, 83, 74, 51,\n",
              "        25, 29, 16, 55,  7, 28, 61, 53, 46, 20, 86,  3, 20, 40, 84, 85, 15,  0,  0,  0,  0,  0,  0,  0,  0,  0,  0,  0,  0,  0,  0,  0,  0,  0,  0,  0,  0,  0,  0,  0,  0,  0,  0,  0,  0,  0,  0,\n",
              "         0,  0,  0,  0,  0,  0,  0,  0,  0,  0,  0,  0,  0,  0,  0,  0,  0,  0,  0,  0,  0,  0,  0,  0,  0,  0,  0,  0,  0,  0,  0,  0,  0,  0,  0,  0,  0,  0,  0,  0,  0,  0,  0,  0,  0,  0,  0,\n",
              "         0,  0,  0,  0,  0,  0,  0,  0,  0,  0,  0,  0,  0,  0,  0,  0,  0,  0,  0,  0,  0,  0,  0,  0,  0,  0,  0,  0,  0,  0,  0,  0,  0,  0,  0,  0,  0,  0,  0,  0,  0,  0,  0,  0,  0,  0,  0,\n",
              "         0,  0,  0,  0,  0,  0,  0,  0,  0,  0,  0,  0,  0,  0,  0,  0,  0,  0,  0,  0,  0,  0,  0,  0,  0,  0,  0,  0,  0,  0,  0,  0,  0,  0,  0,  0,  0,  0,  0,  0,  0,  0,  0,  0,  0,  0,  0,\n",
              "         0,  0,  0,  0,  0,  0,  0,  0,  0,  0,  0,  0,  0,  0,  0,  0,  0,  0,  0,  0,  0,  0,  0,  0,  0,  0,  0,  0,  0,  0,  0,  0,  0,  0,  0,  0,  0,  0,  0,  0,  0,  0,  0,  0,  0,  0,  0,\n",
              "         0,  0,  0,  0,  0,  0,  0,  0,  0,  0,  0,  0,  0,  0,  0,  0,  0,  0,  0,  0,  0,  0,  0,  0,  0,  0,  0,  0,  0,  0,  0,  0,  0,  0,  0,  0,  0,  0,  0,  0,  0,  0,  0,  0,  0,  0,  0,\n",
              "         0,  0,  0,  0,  0,  0,  0,  0,  0,  0,  0,  0,  0,  0,  0,  0,  0,  0,  0,  0,  0],\n",
              "       [25, 22, 56, 36, 12, 35, 53, 15, 91, 57, 53, 56, 99, 60, 11, 72, 70,  3, 47, 65, 15, 74, 21, 73, 19, 21, 24, 87, 50, 36, 27, 33, 43, 86, 59, 83, 33,  3,  7, 94, 55, 53, 99, 71, 38, 96, 73,\n",
              "        12, 52, 60, 31, 54, 47, 52, 39, 32, 36, 49, 92,  4, 19, 30, 19, 55, 12, 26,  0,  0,  0,  0,  0,  0,  0,  0,  0,  0,  0,  0,  0,  0,  0,  0,  0,  0,  0,  0,  0,  0,  0,  0,  0,  0,  0,  0,\n",
              "         0,  0,  0,  0,  0,  0,  0,  0,  0,  0,  0,  0,  0,  0,  0,  0,  0,  0,  0,  0,  0,  0,  0,  0,  0,  0,  0,  0,  0,  0,  0,  0,  0,  0,  0,  0,  0,  0,  0,  0,  0,  0,  0,  0,  0,  0,  0,\n",
              "         0,  0,  0,  0,  0,  0,  0,  0,  0,  0,  0,  0,  0,  0,  0,  0,  0,  0,  0,  0,  0,  0,  0,  0,  0,  0,  0,  0,  0,  0,  0,  0,  0,  0,  0,  0,  0,  0,  0,  0,  0,  0,  0,  0,  0,  0,  0,\n",
              "         0,  0,  0,  0,  0,  0,  0,  0,  0,  0,  0,  0,  0,  0,  0,  0,  0,  0,  0,  0,  0,  0,  0,  0,  0,  0,  0,  0,  0,  0,  0,  0,  0,  0,  0,  0,  0,  0,  0,  0,  0,  0,  0,  0,  0,  0,  0,\n",
              "         0,  0,  0,  0,  0,  0,  0,  0,  0,  0,  0,  0,  0,  0,  0,  0,  0,  0,  0,  0,  0,  0,  0,  0,  0,  0,  0,  0,  0,  0,  0,  0,  0,  0,  0,  0,  0,  0,  0,  0,  0,  0,  0,  0,  0,  0,  0,\n",
              "         0,  0,  0,  0,  0,  0,  0,  0,  0,  0,  0,  0,  0,  0,  0,  0,  0,  0,  0,  0,  0,  0,  0,  0,  0,  0,  0,  0,  0,  0,  0,  0,  0,  0,  0,  0,  0,  0,  0,  0,  0,  0,  0,  0,  0,  0,  0,\n",
              "         0,  0,  0,  0,  0,  0,  0,  0,  0,  0,  0,  0,  0,  0,  0,  0,  0,  0,  0,  0,  0],\n",
              "       [41, 81, 25, 35, 56, 81, 29, 37, 96, 47, 59, 36, 16, 55, 55, 38, 41, 92, 18,  1, 47, 54, 16, 84, 25, 45, 84, 60,  8, 81, 54, 44, 50, 28, 46, 40, 23, 93, 13, 78, 82, 49, 88, 37, 84, 85, 46,\n",
              "        96, 97, 14, 93, 77, 23, 14, 25, 93, 12, 84, 84, 84,  1, 47, 81, 22, 71, 53, 86, 28,  2, 28, 29, 46,  8, 45, 72, 56, 46, 45, 72, 39, 65, 29, 41, 34, 52, 85, 41, 29,  1,  3, 34, 17, 89, 67,\n",
              "        31, 34, 42, 50, 98, 67, 74, 10, 76, 41, 41, 53, 51, 51, 14, 67, 73, 51, 51, 25, 19, 15, 24, 48, 36, 56,  9, 85, 65, 76,  2, 25, 10, 51,  9,  9, 47, 45, 85, 41, 22, 30, 71, 14, 50, 62, 23,\n",
              "        88, 90,  0,  0,  0,  0,  0,  0,  0,  0,  0,  0,  0,  0,  0,  0,  0,  0,  0,  0,  0,  0,  0,  0,  0,  0,  0,  0,  0,  0,  0,  0,  0,  0,  0,  0,  0,  0,  0,  0,  0,  0,  0,  0,  0,  0,  0,\n",
              "         0,  0,  0,  0,  0,  0,  0,  0,  0,  0,  0,  0,  0,  0,  0,  0,  0,  0,  0,  0,  0,  0,  0,  0,  0,  0,  0,  0,  0,  0,  0,  0,  0,  0,  0,  0,  0,  0,  0,  0,  0,  0,  0,  0,  0,  0,  0,\n",
              "         0,  0,  0,  0,  0,  0,  0,  0,  0,  0,  0,  0,  0,  0,  0,  0,  0,  0,  0,  0,  0,  0,  0,  0,  0,  0,  0,  0,  0,  0,  0,  0,  0,  0,  0,  0,  0,  0,  0,  0,  0,  0,  0,  0,  0,  0,  0,\n",
              "         0,  0,  0,  0,  0,  0,  0,  0,  0,  0,  0,  0,  0,  0,  0,  0,  0,  0,  0,  0,  0,  0,  0,  0,  0,  0,  0,  0,  0,  0,  0,  0,  0,  0,  0,  0,  0,  0,  0,  0,  0,  0,  0,  0,  0,  0,  0,\n",
              "         0,  0,  0,  0,  0,  0,  0,  0,  0,  0,  0,  0,  0,  0,  0,  0,  0,  0,  0,  0,  0],\n",
              "       [52, 32, 25,  1,  2, 96, 10, 21, 93, 89, 58, 60,  3, 36,  2, 71, 95, 69, 42, 89, 36, 71, 78, 22, 78, 36, 88, 77, 34, 95, 60, 89, 89,  3, 36, 36, 13, 78, 57, 10, 75, 33,  7, 16, 31, 42, 10,\n",
              "        30, 82, 25, 77, 53, 40, 34, 24, 12, 97,  0,  0,  0,  0,  0,  0,  0,  0,  0,  0,  0,  0,  0,  0,  0,  0,  0,  0,  0,  0,  0,  0,  0,  0,  0,  0,  0,  0,  0,  0,  0,  0,  0,  0,  0,  0,  0,\n",
              "         0,  0,  0,  0,  0,  0,  0,  0,  0,  0,  0,  0,  0,  0,  0,  0,  0,  0,  0,  0,  0,  0,  0,  0,  0,  0,  0,  0,  0,  0,  0,  0,  0,  0,  0,  0,  0,  0,  0,  0,  0,  0,  0,  0,  0,  0,  0,\n",
              "         0,  0,  0,  0,  0,  0,  0,  0,  0,  0,  0,  0,  0,  0,  0,  0,  0,  0,  0,  0,  0,  0,  0,  0,  0,  0,  0,  0,  0,  0,  0,  0,  0,  0,  0,  0,  0,  0,  0,  0,  0,  0,  0,  0,  0,  0,  0,\n",
              "         0,  0,  0,  0,  0,  0,  0,  0,  0,  0,  0,  0,  0,  0,  0,  0,  0,  0,  0,  0,  0,  0,  0,  0,  0,  0,  0,  0,  0,  0,  0,  0,  0,  0,  0,  0,  0,  0,  0,  0,  0,  0,  0,  0,  0,  0,  0,\n",
              "         0,  0,  0,  0,  0,  0,  0,  0,  0,  0,  0,  0,  0,  0,  0,  0,  0,  0,  0,  0,  0,  0,  0,  0,  0,  0,  0,  0,  0,  0,  0,  0,  0,  0,  0,  0,  0,  0,  0,  0,  0,  0,  0,  0,  0,  0,  0,\n",
              "         0,  0,  0,  0,  0,  0,  0,  0,  0,  0,  0,  0,  0,  0,  0,  0,  0,  0,  0,  0,  0,  0,  0,  0,  0,  0,  0,  0,  0,  0,  0,  0,  0,  0,  0,  0,  0,  0,  0,  0,  0,  0,  0,  0,  0,  0,  0,\n",
              "         0,  0,  0,  0,  0,  0,  0,  0,  0,  0,  0,  0,  0,  0,  0,  0,  0,  0,  0,  0,  0],\n",
              "       [28, 84, 38, 33, 91, 90, 80, 50, 88, 54, 43, 91, 82, 96, 98, 17, 13, 38, 57,  7, 83, 69,  2, 39, 14, 58, 15, 51, 96, 76, 96,  7,  5, 38, 45, 15, 66, 52, 43, 57, 48, 39, 26, 26, 90, 81, 70,\n",
              "        45, 73, 37, 55, 14, 84, 83, 85, 32, 56, 20, 30, 60, 52, 47, 69,  5, 11, 88, 47, 86, 15, 34, 43, 96, 37,  2, 98, 31, 12, 42, 59, 58, 56, 32, 32, 37, 22, 55, 37, 57, 91, 98,  7, 70, 64, 89,\n",
              "        22, 30, 38, 32, 10,  7, 91, 29, 59,  8, 28, 67, 16, 88,  3, 52, 17, 85,  0,  0,  0,  0,  0,  0,  0,  0,  0,  0,  0,  0,  0,  0,  0,  0,  0,  0,  0,  0,  0,  0,  0,  0,  0,  0,  0,  0,  0,\n",
              "         0,  0,  0,  0,  0,  0,  0,  0,  0,  0,  0,  0,  0,  0,  0,  0,  0,  0,  0,  0,  0,  0,  0,  0,  0,  0,  0,  0,  0,  0,  0,  0,  0,  0,  0,  0,  0,  0,  0,  0,  0,  0,  0,  0,  0,  0,  0,\n",
              "         0,  0,  0,  0,  0,  0,  0,  0,  0,  0,  0,  0,  0,  0,  0,  0,  0,  0,  0,  0,  0,  0,  0,  0,  0,  0,  0,  0,  0,  0,  0,  0,  0,  0,  0,  0,  0,  0,  0,  0,  0,  0,  0,  0,  0,  0,  0,\n",
              "         0,  0,  0,  0,  0,  0,  0,  0,  0,  0,  0,  0,  0,  0,  0,  0,  0,  0,  0,  0,  0,  0,  0,  0,  0,  0,  0,  0,  0,  0,  0,  0,  0,  0,  0,  0,  0,  0,  0,  0,  0,  0,  0,  0,  0,  0,  0,\n",
              "         0,  0,  0,  0,  0,  0,  0,  0,  0,  0,  0,  0,  0,  0,  0,  0,  0,  0,  0,  0,  0,  0,  0,  0,  0,  0,  0,  0,  0,  0,  0,  0,  0,  0,  0,  0,  0,  0,  0,  0,  0,  0,  0,  0,  0,  0,  0,\n",
              "         0,  0,  0,  0,  0,  0,  0,  0,  0,  0,  0,  0,  0,  0,  0,  0,  0,  0,  0,  0,  0],\n",
              "       [61, 44, 87, 76, 84, 14, 71, 28, 82, 46, 72, 79, 90, 93, 49,  2, 32, 65, 14, 67, 60, 47, 62, 32, 26, 13, 79, 13, 44, 87, 63, 40,  2, 25, 64, 66, 40,  8, 32, 38, 13, 46,  2, 36, 32, 74, 13,\n",
              "        95, 28, 25, 61, 84, 91, 47, 61, 55, 60, 73, 97, 25, 28, 64, 30, 28, 51, 27, 64, 47, 58, 50, 89, 82, 50, 51, 29, 10, 82, 32, 74, 42, 43, 20, 44, 88,  1, 90, 93,  0,  0,  0,  0,  0,  0,  0,\n",
              "         0,  0,  0,  0,  0,  0,  0,  0,  0,  0,  0,  0,  0,  0,  0,  0,  0,  0,  0,  0,  0,  0,  0,  0,  0,  0,  0,  0,  0,  0,  0,  0,  0,  0,  0,  0,  0,  0,  0,  0,  0,  0,  0,  0,  0,  0,  0,\n",
              "         0,  0,  0,  0,  0,  0,  0,  0,  0,  0,  0,  0,  0,  0,  0,  0,  0,  0,  0,  0,  0,  0,  0,  0,  0,  0,  0,  0,  0,  0,  0,  0,  0,  0,  0,  0,  0,  0,  0,  0,  0,  0,  0,  0,  0,  0,  0,\n",
              "         0,  0,  0,  0,  0,  0,  0,  0,  0,  0,  0,  0,  0,  0,  0,  0,  0,  0,  0,  0,  0,  0,  0,  0,  0,  0,  0,  0,  0,  0,  0,  0,  0,  0,  0,  0,  0,  0,  0,  0,  0,  0,  0,  0,  0,  0,  0,\n",
              "         0,  0,  0,  0,  0,  0,  0,  0,  0,  0,  0,  0,  0,  0,  0,  0,  0,  0,  0,  0,  0,  0,  0,  0,  0,  0,  0,  0,  0,  0,  0,  0,  0,  0,  0,  0,  0,  0,  0,  0,  0,  0,  0,  0,  0,  0,  0,\n",
              "         0,  0,  0,  0,  0,  0,  0,  0,  0,  0,  0,  0,  0,  0,  0,  0,  0,  0,  0,  0,  0,  0,  0,  0,  0,  0,  0,  0,  0,  0,  0,  0,  0,  0,  0,  0,  0,  0,  0,  0,  0,  0,  0,  0,  0,  0,  0,\n",
              "         0,  0,  0,  0,  0,  0,  0,  0,  0,  0,  0,  0,  0,  0,  0,  0,  0,  0,  0,  0,  0],\n",
              "       [83, 98, 55, 18, 91, 86, 96, 19, 20, 33, 55,  8, 64, 60, 55, 86,  9, 72, 32, 88, 61, 48, 86, 88, 52, 86, 72, 21,  2, 16, 81, 12, 81, 53, 72, 59, 60, 64, 87, 66, 13,  6, 89, 87, 62, 13,  6,\n",
              "        93, 72, 76, 30, 35, 38, 25, 31, 69, 98, 75,  8, 65, 79, 60, 28, 16, 32, 81, 74, 18, 25,  6, 48, 17, 75, 58,  8, 57, 26, 52, 17, 21, 37, 52,  6, 90,  8, 36, 90, 36,  6, 90,  6, 57, 26, 81,\n",
              "        60, 49, 89, 96, 36, 15,  1, 19, 52, 86, 25, 52, 12, 31, 86, 30, 38, 36, 28, 87, 21, 10,  9, 74, 78, 13, 86,  8, 85, 26, 28, 79, 20, 30, 81, 81, 12, 38, 14, 26, 36, 38, 14,  8, 60, 86, 38,\n",
              "        87,  9, 74, 41,  8, 28, 60, 43, 10, 62, 85, 98, 31, 43, 69, 32, 20, 60, 68, 30, 45, 45, 28, 62, 89,  1, 80, 97, 45, 23, 29, 21, 97, 97, 14, 88, 32, 68, 97, 97, 14, 88,  6, 28, 87,  1, 56,\n",
              "         6, 28, 12, 74, 66, 60, 31, 41,  1, 28, 97, 14, 72, 97, 14, 88, 30, 45, 98, 60, 43, 14,  6, 97, 14, 58, 60, 66, 35, 29, 60, 12, 27, 21, 15, 42, 28, 26, 53, 13, 12, 19, 31, 48, 12, 19, 31,\n",
              "        74, 19, 87, 78, 10, 48, 87,  1, 65, 10, 19, 19, 44, 52, 25, 74, 42, 12,  0,  0,  0,  0,  0,  0,  0,  0,  0,  0,  0,  0,  0,  0,  0,  0,  0,  0,  0,  0,  0,  0,  0,  0,  0,  0,  0,  0,  0,\n",
              "         0,  0,  0,  0,  0,  0,  0,  0,  0,  0,  0,  0,  0,  0,  0,  0,  0,  0,  0,  0,  0,  0,  0,  0,  0,  0,  0,  0,  0,  0,  0,  0,  0,  0,  0,  0,  0,  0,  0,  0,  0,  0,  0,  0,  0,  0,  0,\n",
              "         0,  0,  0,  0,  0,  0,  0,  0,  0,  0,  0,  0,  0,  0,  0,  0,  0,  0,  0,  0,  0],\n",
              "       [16,  3, 34, 28, 68, 28, 68, 73, 51, 81, 38, 77, 50, 68, 55, 97, 10, 15,  3, 44, 64, 68, 55, 38, 14, 87, 15, 45, 60,  6, 65,  0,  0,  0,  0,  0,  0,  0,  0,  0,  0,  0,  0,  0,  0,  0,  0,\n",
              "         0,  0,  0,  0,  0,  0,  0,  0,  0,  0,  0,  0,  0,  0,  0,  0,  0,  0,  0,  0,  0,  0,  0,  0,  0,  0,  0,  0,  0,  0,  0,  0,  0,  0,  0,  0,  0,  0,  0,  0,  0,  0,  0,  0,  0,  0,  0,\n",
              "         0,  0,  0,  0,  0,  0,  0,  0,  0,  0,  0,  0,  0,  0,  0,  0,  0,  0,  0,  0,  0,  0,  0,  0,  0,  0,  0,  0,  0,  0,  0,  0,  0,  0,  0,  0,  0,  0,  0,  0,  0,  0,  0,  0,  0,  0,  0,\n",
              "         0,  0,  0,  0,  0,  0,  0,  0,  0,  0,  0,  0,  0,  0,  0,  0,  0,  0,  0,  0,  0,  0,  0,  0,  0,  0,  0,  0,  0,  0,  0,  0,  0,  0,  0,  0,  0,  0,  0,  0,  0,  0,  0,  0,  0,  0,  0,\n",
              "         0,  0,  0,  0,  0,  0,  0,  0,  0,  0,  0,  0,  0,  0,  0,  0,  0,  0,  0,  0,  0,  0,  0,  0,  0,  0,  0,  0,  0,  0,  0,  0,  0,  0,  0,  0,  0,  0,  0,  0,  0,  0,  0,  0,  0,  0,  0,\n",
              "         0,  0,  0,  0,  0,  0,  0,  0,  0,  0,  0,  0,  0,  0,  0,  0,  0,  0,  0,  0,  0,  0,  0,  0,  0,  0,  0,  0,  0,  0,  0,  0,  0,  0,  0,  0,  0,  0,  0,  0,  0,  0,  0,  0,  0,  0,  0,\n",
              "         0,  0,  0,  0,  0,  0,  0,  0,  0,  0,  0,  0,  0,  0,  0,  0,  0,  0,  0,  0,  0,  0,  0,  0,  0,  0,  0,  0,  0,  0,  0,  0,  0,  0,  0,  0,  0,  0,  0,  0,  0,  0,  0,  0,  0,  0,  0,\n",
              "         0,  0,  0,  0,  0,  0,  0,  0,  0,  0,  0,  0,  0,  0,  0,  0,  0,  0,  0,  0,  0],\n",
              "       [38, 61, 67, 89, 23, 50, 31, 28, 51, 84, 35, 22, 69, 74,  6, 72, 34, 85, 43, 83, 90, 21, 88, 67, 19, 19, 79, 66, 36, 31,  3, 58, 51, 90, 71, 68, 28, 41, 63, 35, 26, 87, 79, 35, 29, 83, 70,\n",
              "        48, 40, 58, 25, 74, 31, 42, 52, 37, 17, 28,  3, 32, 42, 12, 77, 21, 72, 39, 76, 72,  1, 50, 35,  2, 35, 23, 16, 41, 79, 70, 34, 79, 14, 84, 57,  0,  0,  0,  0,  0,  0,  0,  0,  0,  0,  0,\n",
              "         0,  0,  0,  0,  0,  0,  0,  0,  0,  0,  0,  0,  0,  0,  0,  0,  0,  0,  0,  0,  0,  0,  0,  0,  0,  0,  0,  0,  0,  0,  0,  0,  0,  0,  0,  0,  0,  0,  0,  0,  0,  0,  0,  0,  0,  0,  0,\n",
              "         0,  0,  0,  0,  0,  0,  0,  0,  0,  0,  0,  0,  0,  0,  0,  0,  0,  0,  0,  0,  0,  0,  0,  0,  0,  0,  0,  0,  0,  0,  0,  0,  0,  0,  0,  0,  0,  0,  0,  0,  0,  0,  0,  0,  0,  0,  0,\n",
              "         0,  0,  0,  0,  0,  0,  0,  0,  0,  0,  0,  0,  0,  0,  0,  0,  0,  0,  0,  0,  0,  0,  0,  0,  0,  0,  0,  0,  0,  0,  0,  0,  0,  0,  0,  0,  0,  0,  0,  0,  0,  0,  0,  0,  0,  0,  0,\n",
              "         0,  0,  0,  0,  0,  0,  0,  0,  0,  0,  0,  0,  0,  0,  0,  0,  0,  0,  0,  0,  0,  0,  0,  0,  0,  0,  0,  0,  0,  0,  0,  0,  0,  0,  0,  0,  0,  0,  0,  0,  0,  0,  0,  0,  0,  0,  0,\n",
              "         0,  0,  0,  0,  0,  0,  0,  0,  0,  0,  0,  0,  0,  0,  0,  0,  0,  0,  0,  0,  0,  0,  0,  0,  0,  0,  0,  0,  0,  0,  0,  0,  0,  0,  0,  0,  0,  0,  0,  0,  0,  0,  0,  0,  0,  0,  0,\n",
              "         0,  0,  0,  0,  0,  0,  0,  0,  0,  0,  0,  0,  0,  0,  0,  0,  0,  0,  0,  0,  0],\n",
              "       [28, 99, 89, 90, 81, 99, 32, 25, 64, 62, 48, 68, 86, 88, 76, 92, 55,  8, 53, 69, 19, 90,  2, 83, 73, 19, 20, 42, 92, 94, 50, 20, 39, 68, 79, 60, 69, 25, 62, 74, 19, 13, 14, 87, 46, 89, 65,\n",
              "        31, 54, 96, 26,  0,  0,  0,  0,  0,  0,  0,  0,  0,  0,  0,  0,  0,  0,  0,  0,  0,  0,  0,  0,  0,  0,  0,  0,  0,  0,  0,  0,  0,  0,  0,  0,  0,  0,  0,  0,  0,  0,  0,  0,  0,  0,  0,\n",
              "         0,  0,  0,  0,  0,  0,  0,  0,  0,  0,  0,  0,  0,  0,  0,  0,  0,  0,  0,  0,  0,  0,  0,  0,  0,  0,  0,  0,  0,  0,  0,  0,  0,  0,  0,  0,  0,  0,  0,  0,  0,  0,  0,  0,  0,  0,  0,\n",
              "         0,  0,  0,  0,  0,  0,  0,  0,  0,  0,  0,  0,  0,  0,  0,  0,  0,  0,  0,  0,  0,  0,  0,  0,  0,  0,  0,  0,  0,  0,  0,  0,  0,  0,  0,  0,  0,  0,  0,  0,  0,  0,  0,  0,  0,  0,  0,\n",
              "         0,  0,  0,  0,  0,  0,  0,  0,  0,  0,  0,  0,  0,  0,  0,  0,  0,  0,  0,  0,  0,  0,  0,  0,  0,  0,  0,  0,  0,  0,  0,  0,  0,  0,  0,  0,  0,  0,  0,  0,  0,  0,  0,  0,  0,  0,  0,\n",
              "         0,  0,  0,  0,  0,  0,  0,  0,  0,  0,  0,  0,  0,  0,  0,  0,  0,  0,  0,  0,  0,  0,  0,  0,  0,  0,  0,  0,  0,  0,  0,  0,  0,  0,  0,  0,  0,  0,  0,  0,  0,  0,  0,  0,  0,  0,  0,\n",
              "         0,  0,  0,  0,  0,  0,  0,  0,  0,  0,  0,  0,  0,  0,  0,  0,  0,  0,  0,  0,  0,  0,  0,  0,  0,  0,  0,  0,  0,  0,  0,  0,  0,  0,  0,  0,  0,  0,  0,  0,  0,  0,  0,  0,  0,  0,  0,\n",
              "         0,  0,  0,  0,  0,  0,  0,  0,  0,  0,  0,  0,  0,  0,  0,  0,  0,  0,  0,  0,  0],\n",
              "       [71, 57, 26, 75, 27, 42, 66, 74, 65, 40, 75,  2, 78, 13, 26, 16, 70, 99, 97, 59, 95, 91, 34, 35, 65, 40, 28, 70, 45, 47, 39, 28, 82, 69, 99, 19, 77, 48, 48, 70, 52, 13, 37, 84, 56, 88, 91,\n",
              "         0,  0,  0,  0,  0,  0,  0,  0,  0,  0,  0,  0,  0,  0,  0,  0,  0,  0,  0,  0,  0,  0,  0,  0,  0,  0,  0,  0,  0,  0,  0,  0,  0,  0,  0,  0,  0,  0,  0,  0,  0,  0,  0,  0,  0,  0,  0,\n",
              "         0,  0,  0,  0,  0,  0,  0,  0,  0,  0,  0,  0,  0,  0,  0,  0,  0,  0,  0,  0,  0,  0,  0,  0,  0,  0,  0,  0,  0,  0,  0,  0,  0,  0,  0,  0,  0,  0,  0,  0,  0,  0,  0,  0,  0,  0,  0,\n",
              "         0,  0,  0,  0,  0,  0,  0,  0,  0,  0,  0,  0,  0,  0,  0,  0,  0,  0,  0,  0,  0,  0,  0,  0,  0,  0,  0,  0,  0,  0,  0,  0,  0,  0,  0,  0,  0,  0,  0,  0,  0,  0,  0,  0,  0,  0,  0,\n",
              "         0,  0,  0,  0,  0,  0,  0,  0,  0,  0,  0,  0,  0,  0,  0,  0,  0,  0,  0,  0,  0,  0,  0,  0,  0,  0,  0,  0,  0,  0,  0,  0,  0,  0,  0,  0,  0,  0,  0,  0,  0,  0,  0,  0,  0,  0,  0,\n",
              "         0,  0,  0,  0,  0,  0,  0,  0,  0,  0,  0,  0,  0,  0,  0,  0,  0,  0,  0,  0,  0,  0,  0,  0,  0,  0,  0,  0,  0,  0,  0,  0,  0,  0,  0,  0,  0,  0,  0,  0,  0,  0,  0,  0,  0,  0,  0,\n",
              "         0,  0,  0,  0,  0,  0,  0,  0,  0,  0,  0,  0,  0,  0,  0,  0,  0,  0,  0,  0,  0,  0,  0,  0,  0,  0,  0,  0,  0,  0,  0,  0,  0,  0,  0,  0,  0,  0,  0,  0,  0,  0,  0,  0,  0,  0,  0,\n",
              "         0,  0,  0,  0,  0,  0,  0,  0,  0,  0,  0,  0,  0,  0,  0,  0,  0,  0,  0,  0,  0],\n",
              "       [52, 76, 61, 84, 25, 13, 13, 61, 30, 88, 37, 39, 52, 52, 32, 25, 29, 25, 50, 82,  8, 41, 92, 58, 54,  3, 37, 84, 56, 10, 52,  4, 50, 43, 61, 35, 92, 61, 48, 90, 30, 78, 71, 60, 82,  1, 61,\n",
              "        90, 80, 47, 71, 60, 46, 46,  6, 60, 68, 88, 76, 78, 11, 80,  9, 99, 46, 91, 82,  1,  0,  0,  0,  0,  0,  0,  0,  0,  0,  0,  0,  0,  0,  0,  0,  0,  0,  0,  0,  0,  0,  0,  0,  0,  0,  0,\n",
              "         0,  0,  0,  0,  0,  0,  0,  0,  0,  0,  0,  0,  0,  0,  0,  0,  0,  0,  0,  0,  0,  0,  0,  0,  0,  0,  0,  0,  0,  0,  0,  0,  0,  0,  0,  0,  0,  0,  0,  0,  0,  0,  0,  0,  0,  0,  0,\n",
              "         0,  0,  0,  0,  0,  0,  0,  0,  0,  0,  0,  0,  0,  0,  0,  0,  0,  0,  0,  0,  0,  0,  0,  0,  0,  0,  0,  0,  0,  0,  0,  0,  0,  0,  0,  0,  0,  0,  0,  0,  0,  0,  0,  0,  0,  0,  0,\n",
              "         0,  0,  0,  0,  0,  0,  0,  0,  0,  0,  0,  0,  0,  0,  0,  0,  0,  0,  0,  0,  0,  0,  0,  0,  0,  0,  0,  0,  0,  0,  0,  0,  0,  0,  0,  0,  0,  0,  0,  0,  0,  0,  0,  0,  0,  0,  0,\n",
              "         0,  0,  0,  0,  0,  0,  0,  0,  0,  0,  0,  0,  0,  0,  0,  0,  0,  0,  0,  0,  0,  0,  0,  0,  0,  0,  0,  0,  0,  0,  0,  0,  0,  0,  0,  0,  0,  0,  0,  0,  0,  0,  0,  0,  0,  0,  0,\n",
              "         0,  0,  0,  0,  0,  0,  0,  0,  0,  0,  0,  0,  0,  0,  0,  0,  0,  0,  0,  0,  0,  0,  0,  0,  0,  0,  0,  0,  0,  0,  0,  0,  0,  0,  0,  0,  0,  0,  0,  0,  0,  0,  0,  0,  0,  0,  0,\n",
              "         0,  0,  0,  0,  0,  0,  0,  0,  0,  0,  0,  0,  0,  0,  0,  0,  0,  0,  0,  0,  0]], dtype=int32)"
            ]
          },
          "metadata": {
            "tags": []
          },
          "execution_count": 33
        }
      ]
    },
    {
      "cell_type": "markdown",
      "metadata": {
        "id": "ur-D0u8M8hq3"
      },
      "source": [
        "**Training, Validaton and Testing Split**"
      ]
    },
    {
      "cell_type": "code",
      "metadata": {
        "colab": {
          "base_uri": "https://localhost:8080/"
        },
        "id": "lzkozqAF8nZ_",
        "outputId": "3587f961-d7fa-42eb-9f8c-c2524f0b5f3d"
      },
      "source": [
        "from sklearn.model_selection import train_test_split\r\n",
        "score = new_df['Tag'].factorize()\r\n",
        "len(score[0])\r\n",
        "score[0]"
      ],
      "execution_count": null,
      "outputs": [
        {
          "output_type": "execute_result",
          "data": {
            "text/plain": [
              "array([0, 1, 0, 0, 1, 1, 0, 0, 1, 1, 1, 1, 1, 1, 1, 0, 0, 0, 1, 1, 0, 1, 1, 1, 1, 1, 0, 0, 0, 0, 0, 0, 0, 0, 0, 0, 0, 0, 0, 0, 0])"
            ]
          },
          "metadata": {
            "tags": []
          },
          "execution_count": 34
        }
      ]
    },
    {
      "cell_type": "code",
      "metadata": {
        "id": "kMepbkU88r5s"
      },
      "source": [
        "X_train, X_test,y_train,y_test = train_test_split(padding,score[0], test_size = 0.2, random_state = 0)"
      ],
      "execution_count": null,
      "outputs": []
    },
    {
      "cell_type": "code",
      "metadata": {
        "id": "BQcVZ2Tg8xqT"
      },
      "source": [
        "X_train, X_val, y_train, y_val = train_test_split(X_train,y_train,test_size= 0.2, random_state = 0)"
      ],
      "execution_count": null,
      "outputs": []
    },
    {
      "cell_type": "code",
      "metadata": {
        "colab": {
          "base_uri": "https://localhost:8080/"
        },
        "id": "eYMUos5APt8G",
        "outputId": "ddd09100-71ea-432d-f113-c59a66bf3c18"
      },
      "source": [
        "X_train"
      ],
      "execution_count": null,
      "outputs": [
        {
          "output_type": "execute_result",
          "data": {
            "text/plain": [
              "array([[55, 99, 31, 28, 86, 52, 78, 93, 35, 53, 96, 12, 86, 97, 56, 14, 36, 35, 83, 30, 21, 13, 49, 42, 40, 61, 75, 32, 72, 93, 39, 98, 92, 13, 18, 72, 70,  8, 98, 25, 31, 34, 84, 45, 62, 49, 34,\n",
              "         0,  0,  0,  0,  0,  0,  0,  0,  0,  0,  0,  0,  0,  0,  0,  0,  0,  0,  0,  0,  0,  0,  0,  0,  0,  0,  0,  0,  0,  0,  0,  0,  0,  0,  0,  0,  0,  0,  0,  0,  0,  0,  0,  0,  0,  0,  0,\n",
              "         0,  0,  0,  0,  0,  0,  0,  0,  0,  0,  0,  0,  0,  0,  0,  0,  0,  0,  0,  0,  0,  0,  0,  0,  0,  0,  0,  0,  0,  0,  0,  0,  0,  0,  0,  0,  0,  0,  0,  0,  0,  0,  0,  0,  0,  0,  0,\n",
              "         0,  0,  0,  0,  0,  0,  0,  0,  0,  0,  0,  0,  0,  0,  0,  0,  0,  0,  0,  0,  0,  0,  0,  0,  0,  0,  0,  0,  0,  0,  0,  0,  0,  0,  0,  0,  0,  0,  0,  0,  0,  0,  0,  0,  0,  0,  0,\n",
              "         0,  0,  0,  0,  0,  0,  0,  0,  0,  0,  0,  0,  0,  0,  0,  0,  0,  0,  0,  0,  0,  0,  0,  0,  0,  0,  0,  0,  0,  0,  0,  0,  0,  0,  0,  0,  0,  0,  0,  0,  0,  0,  0,  0,  0,  0,  0,\n",
              "         0,  0,  0,  0,  0,  0,  0,  0,  0,  0,  0,  0,  0,  0,  0,  0,  0,  0,  0,  0,  0,  0,  0,  0,  0,  0,  0,  0,  0,  0,  0,  0,  0,  0,  0,  0,  0,  0,  0,  0,  0,  0,  0,  0,  0,  0,  0,\n",
              "         0,  0,  0,  0,  0,  0,  0,  0,  0,  0,  0,  0,  0,  0,  0,  0,  0,  0,  0,  0,  0,  0,  0,  0,  0,  0,  0,  0,  0,  0,  0,  0,  0,  0,  0,  0,  0,  0,  0,  0,  0,  0,  0,  0,  0,  0,  0,\n",
              "         0,  0,  0,  0,  0,  0,  0,  0,  0,  0,  0,  0,  0,  0,  0,  0,  0,  0,  0,  0,  0],\n",
              "       [36, 12, 16, 61, 32, 79, 68, 10, 90, 65, 68, 14, 18, 69, 69, 51, 41, 97, 58,  7,  6, 32, 11, 24, 96, 10, 83, 60, 79, 52, 66, 59, 47, 26, 23, 23, 17, 97, 15, 47, 14, 53, 96, 96, 78, 18, 76,\n",
              "        97, 32, 12, 66, 47, 86, 49, 47,  2, 91, 27, 97, 44, 47, 94, 43, 44, 23, 60, 12, 97, 84, 66, 26, 36, 12, 47, 16, 39, 66,  1, 81, 18, 57, 35, 76, 33, 12, 64, 40, 63, 92,  9, 38, 25, 41, 90,\n",
              "        49, 64, 97, 47, 66, 38, 59, 27, 11, 66, 44,  7, 46, 24, 12, 64, 40, 33, 12, 64, 40, 87, 74, 97, 96, 87, 45, 72, 36, 47, 56, 57, 78, 66, 20, 66, 99, 34, 13, 29, 53, 90, 17, 44, 48, 13,  8,\n",
              "        48, 15, 61, 21,  0,  0,  0,  0,  0,  0,  0,  0,  0,  0,  0,  0,  0,  0,  0,  0,  0,  0,  0,  0,  0,  0,  0,  0,  0,  0,  0,  0,  0,  0,  0,  0,  0,  0,  0,  0,  0,  0,  0,  0,  0,  0,  0,\n",
              "         0,  0,  0,  0,  0,  0,  0,  0,  0,  0,  0,  0,  0,  0,  0,  0,  0,  0,  0,  0,  0,  0,  0,  0,  0,  0,  0,  0,  0,  0,  0,  0,  0,  0,  0,  0,  0,  0,  0,  0,  0,  0,  0,  0,  0,  0,  0,\n",
              "         0,  0,  0,  0,  0,  0,  0,  0,  0,  0,  0,  0,  0,  0,  0,  0,  0,  0,  0,  0,  0,  0,  0,  0,  0,  0,  0,  0,  0,  0,  0,  0,  0,  0,  0,  0,  0,  0,  0,  0,  0,  0,  0,  0,  0,  0,  0,\n",
              "         0,  0,  0,  0,  0,  0,  0,  0,  0,  0,  0,  0,  0,  0,  0,  0,  0,  0,  0,  0,  0,  0,  0,  0,  0,  0,  0,  0,  0,  0,  0,  0,  0,  0,  0,  0,  0,  0,  0,  0,  0,  0,  0,  0,  0,  0,  0,\n",
              "         0,  0,  0,  0,  0,  0,  0,  0,  0,  0,  0,  0,  0,  0,  0,  0,  0,  0,  0,  0,  0],\n",
              "       [76, 45, 76, 66, 93, 20,  8, 10,  6,  6, 28,  2, 28, 26, 32, 14,  1, 15, 90, 93, 49, 76, 45, 76, 39, 93, 14, 47, 96, 35, 31, 31, 60, 31,  5, 98, 48, 59, 96, 40, 58, 75, 47, 31, 24, 31,  5,\n",
              "        25,  5, 93, 35, 86, 53, 51, 50, 10, 44, 97, 51, 20, 85, 69, 73,  1,  4, 16, 93, 88, 71,  3, 32,  0,  0,  0,  0,  0,  0,  0,  0,  0,  0,  0,  0,  0,  0,  0,  0,  0,  0,  0,  0,  0,  0,  0,\n",
              "         0,  0,  0,  0,  0,  0,  0,  0,  0,  0,  0,  0,  0,  0,  0,  0,  0,  0,  0,  0,  0,  0,  0,  0,  0,  0,  0,  0,  0,  0,  0,  0,  0,  0,  0,  0,  0,  0,  0,  0,  0,  0,  0,  0,  0,  0,  0,\n",
              "         0,  0,  0,  0,  0,  0,  0,  0,  0,  0,  0,  0,  0,  0,  0,  0,  0,  0,  0,  0,  0,  0,  0,  0,  0,  0,  0,  0,  0,  0,  0,  0,  0,  0,  0,  0,  0,  0,  0,  0,  0,  0,  0,  0,  0,  0,  0,\n",
              "         0,  0,  0,  0,  0,  0,  0,  0,  0,  0,  0,  0,  0,  0,  0,  0,  0,  0,  0,  0,  0,  0,  0,  0,  0,  0,  0,  0,  0,  0,  0,  0,  0,  0,  0,  0,  0,  0,  0,  0,  0,  0,  0,  0,  0,  0,  0,\n",
              "         0,  0,  0,  0,  0,  0,  0,  0,  0,  0,  0,  0,  0,  0,  0,  0,  0,  0,  0,  0,  0,  0,  0,  0,  0,  0,  0,  0,  0,  0,  0,  0,  0,  0,  0,  0,  0,  0,  0,  0,  0,  0,  0,  0,  0,  0,  0,\n",
              "         0,  0,  0,  0,  0,  0,  0,  0,  0,  0,  0,  0,  0,  0,  0,  0,  0,  0,  0,  0,  0,  0,  0,  0,  0,  0,  0,  0,  0,  0,  0,  0,  0,  0,  0,  0,  0,  0,  0,  0,  0,  0,  0,  0,  0,  0,  0,\n",
              "         0,  0,  0,  0,  0,  0,  0,  0,  0,  0,  0,  0,  0,  0,  0,  0,  0,  0,  0,  0,  0],\n",
              "       [81, 84, 33, 37, 33, 85, 94, 42, 27, 56, 68, 88, 40, 36, 31, 38, 88, 69, 72, 61, 76, 48, 38,  1,  6,  1, 46, 48, 78, 45, 82, 75, 40, 36, 19, 96, 66, 10, 33, 38, 38, 38, 19, 62, 39, 69, 53,\n",
              "        13, 83, 87, 80, 58, 16, 47, 77, 67, 55, 75, 20, 81, 56, 62, 58, 31, 91, 21, 97, 58, 38, 63, 31, 79, 24, 45, 18, 36, 42, 85, 10, 23, 81, 47, 32, 36,  2, 18, 14,  3, 10, 71, 44, 18, 86, 60,\n",
              "        62, 66, 33, 81, 18, 29, 66,  6, 66, 11, 18, 76, 51, 71, 28, 14, 10, 62, 16, 62, 36, 76, 27, 96, 19,  5, 49, 13,  6, 49, 13, 82, 20, 79, 29,  7, 68, 57, 91, 66, 78, 89, 29, 24, 26, 45, 25,\n",
              "        41,  8, 14, 53, 26, 14, 25, 31, 33, 32, 55, 78, 32, 13, 33, 92,  6, 21, 25, 92,  6, 21, 97, 68,  3, 97, 68,  3, 82,  2,  4, 58, 94,  0,  0,  0,  0,  0,  0,  0,  0,  0,  0,  0,  0,  0,  0,\n",
              "         0,  0,  0,  0,  0,  0,  0,  0,  0,  0,  0,  0,  0,  0,  0,  0,  0,  0,  0,  0,  0,  0,  0,  0,  0,  0,  0,  0,  0,  0,  0,  0,  0,  0,  0,  0,  0,  0,  0,  0,  0,  0,  0,  0,  0,  0,  0,\n",
              "         0,  0,  0,  0,  0,  0,  0,  0,  0,  0,  0,  0,  0,  0,  0,  0,  0,  0,  0,  0,  0,  0,  0,  0,  0,  0,  0,  0,  0,  0,  0,  0,  0,  0,  0,  0,  0,  0,  0,  0,  0,  0,  0,  0,  0,  0,  0,\n",
              "         0,  0,  0,  0,  0,  0,  0,  0,  0,  0,  0,  0,  0,  0,  0,  0,  0,  0,  0,  0,  0,  0,  0,  0,  0,  0,  0,  0,  0,  0,  0,  0,  0,  0,  0,  0,  0,  0,  0,  0,  0,  0,  0,  0,  0,  0,  0,\n",
              "         0,  0,  0,  0,  0,  0,  0,  0,  0,  0,  0,  0,  0,  0,  0,  0,  0,  0,  0,  0,  0],\n",
              "       [52, 76, 61, 84, 25, 13, 13, 61, 30, 88, 37, 39, 52, 52, 32, 25, 29, 25, 50, 82,  8, 41, 92, 58, 54,  3, 37, 84, 56, 10, 52,  4, 50, 43, 61, 35, 92, 61, 48, 90, 30, 78, 71, 60, 82,  1, 61,\n",
              "        90, 80, 47, 71, 60, 46, 46,  6, 60, 68, 88, 76, 78, 11, 80,  9, 99, 46, 91, 82,  1,  0,  0,  0,  0,  0,  0,  0,  0,  0,  0,  0,  0,  0,  0,  0,  0,  0,  0,  0,  0,  0,  0,  0,  0,  0,  0,\n",
              "         0,  0,  0,  0,  0,  0,  0,  0,  0,  0,  0,  0,  0,  0,  0,  0,  0,  0,  0,  0,  0,  0,  0,  0,  0,  0,  0,  0,  0,  0,  0,  0,  0,  0,  0,  0,  0,  0,  0,  0,  0,  0,  0,  0,  0,  0,  0,\n",
              "         0,  0,  0,  0,  0,  0,  0,  0,  0,  0,  0,  0,  0,  0,  0,  0,  0,  0,  0,  0,  0,  0,  0,  0,  0,  0,  0,  0,  0,  0,  0,  0,  0,  0,  0,  0,  0,  0,  0,  0,  0,  0,  0,  0,  0,  0,  0,\n",
              "         0,  0,  0,  0,  0,  0,  0,  0,  0,  0,  0,  0,  0,  0,  0,  0,  0,  0,  0,  0,  0,  0,  0,  0,  0,  0,  0,  0,  0,  0,  0,  0,  0,  0,  0,  0,  0,  0,  0,  0,  0,  0,  0,  0,  0,  0,  0,\n",
              "         0,  0,  0,  0,  0,  0,  0,  0,  0,  0,  0,  0,  0,  0,  0,  0,  0,  0,  0,  0,  0,  0,  0,  0,  0,  0,  0,  0,  0,  0,  0,  0,  0,  0,  0,  0,  0,  0,  0,  0,  0,  0,  0,  0,  0,  0,  0,\n",
              "         0,  0,  0,  0,  0,  0,  0,  0,  0,  0,  0,  0,  0,  0,  0,  0,  0,  0,  0,  0,  0,  0,  0,  0,  0,  0,  0,  0,  0,  0,  0,  0,  0,  0,  0,  0,  0,  0,  0,  0,  0,  0,  0,  0,  0,  0,  0,\n",
              "         0,  0,  0,  0,  0,  0,  0,  0,  0,  0,  0,  0,  0,  0,  0,  0,  0,  0,  0,  0,  0],\n",
              "       [54, 86, 74, 41, 29, 34, 90, 75, 36, 31, 79, 23, 42, 76, 48, 43, 50, 47,  7, 65, 90, 98, 74, 20, 87, 79, 12, 17, 51, 56, 95, 29, 62, 34, 37, 78,  4, 77,  1, 64, 29, 76, 24, 12, 74, 57, 56,\n",
              "        30, 61, 29, 39, 45, 90, 52, 65,  4, 63, 56, 15, 91, 56, 69, 42,  6, 89, 44, 34, 82, 24, 65, 90, 71, 90, 70, 48, 34, 60, 14, 37, 69, 30,  1, 76, 77, 97, 25, 82, 12, 97, 96, 52, 18,  1, 84,\n",
              "        23, 37,  4, 66, 11, 53, 27, 81, 81, 45, 84, 84, 97, 75, 76, 29, 26, 57, 79, 19, 89, 28, 29, 79, 77, 82, 66,  2, 31, 65, 82, 85, 83, 33, 25, 15, 39, 66, 59, 90,  6, 28,  5, 44, 56, 93, 64,\n",
              "        44, 16, 65, 12,  7, 66, 72, 20, 88, 37, 41,  4, 96, 23, 16, 13, 13, 42, 59, 62, 85, 58,  0,  0,  0,  0,  0,  0,  0,  0,  0,  0,  0,  0,  0,  0,  0,  0,  0,  0,  0,  0,  0,  0,  0,  0,  0,\n",
              "         0,  0,  0,  0,  0,  0,  0,  0,  0,  0,  0,  0,  0,  0,  0,  0,  0,  0,  0,  0,  0,  0,  0,  0,  0,  0,  0,  0,  0,  0,  0,  0,  0,  0,  0,  0,  0,  0,  0,  0,  0,  0,  0,  0,  0,  0,  0,\n",
              "         0,  0,  0,  0,  0,  0,  0,  0,  0,  0,  0,  0,  0,  0,  0,  0,  0,  0,  0,  0,  0,  0,  0,  0,  0,  0,  0,  0,  0,  0,  0,  0,  0,  0,  0,  0,  0,  0,  0,  0,  0,  0,  0,  0,  0,  0,  0,\n",
              "         0,  0,  0,  0,  0,  0,  0,  0,  0,  0,  0,  0,  0,  0,  0,  0,  0,  0,  0,  0,  0,  0,  0,  0,  0,  0,  0,  0,  0,  0,  0,  0,  0,  0,  0,  0,  0,  0,  0,  0,  0,  0,  0,  0,  0,  0,  0,\n",
              "         0,  0,  0,  0,  0,  0,  0,  0,  0,  0,  0,  0,  0,  0,  0,  0,  0,  0,  0,  0,  0],\n",
              "       [51, 65, 42, 46, 54,  7, 64, 30, 85, 36, 38, 64, 56, 30, 52, 37,  6, 64, 88,  1, 37, 26, 40, 24, 20, 53, 22, 32, 88, 49, 48, 89,  3, 73, 65, 42, 47, 69, 62, 84, 49, 30, 59, 54, 81, 56, 70,\n",
              "        79,  8, 67, 27, 48, 73, 91, 93, 62, 53, 12, 24,  3, 77,  5, 58, 91, 25, 13, 41,  7, 56,  7, 49, 53,  7, 28, 55, 23, 43, 80,  3,  9, 64, 25, 26, 73, 76, 25, 71,  0,  0,  0,  0,  0,  0,  0,\n",
              "         0,  0,  0,  0,  0,  0,  0,  0,  0,  0,  0,  0,  0,  0,  0,  0,  0,  0,  0,  0,  0,  0,  0,  0,  0,  0,  0,  0,  0,  0,  0,  0,  0,  0,  0,  0,  0,  0,  0,  0,  0,  0,  0,  0,  0,  0,  0,\n",
              "         0,  0,  0,  0,  0,  0,  0,  0,  0,  0,  0,  0,  0,  0,  0,  0,  0,  0,  0,  0,  0,  0,  0,  0,  0,  0,  0,  0,  0,  0,  0,  0,  0,  0,  0,  0,  0,  0,  0,  0,  0,  0,  0,  0,  0,  0,  0,\n",
              "         0,  0,  0,  0,  0,  0,  0,  0,  0,  0,  0,  0,  0,  0,  0,  0,  0,  0,  0,  0,  0,  0,  0,  0,  0,  0,  0,  0,  0,  0,  0,  0,  0,  0,  0,  0,  0,  0,  0,  0,  0,  0,  0,  0,  0,  0,  0,\n",
              "         0,  0,  0,  0,  0,  0,  0,  0,  0,  0,  0,  0,  0,  0,  0,  0,  0,  0,  0,  0,  0,  0,  0,  0,  0,  0,  0,  0,  0,  0,  0,  0,  0,  0,  0,  0,  0,  0,  0,  0,  0,  0,  0,  0,  0,  0,  0,\n",
              "         0,  0,  0,  0,  0,  0,  0,  0,  0,  0,  0,  0,  0,  0,  0,  0,  0,  0,  0,  0,  0,  0,  0,  0,  0,  0,  0,  0,  0,  0,  0,  0,  0,  0,  0,  0,  0,  0,  0,  0,  0,  0,  0,  0,  0,  0,  0,\n",
              "         0,  0,  0,  0,  0,  0,  0,  0,  0,  0,  0,  0,  0,  0,  0,  0,  0,  0,  0,  0,  0],\n",
              "       [ 2, 31, 73, 13, 72, 72, 96, 42, 42, 72, 88, 24, 24, 88, 32, 95, 22, 62, 25, 40, 88, 57, 14, 30, 75, 75, 63, 82, 60, 80, 80, 28, 60, 54, 97, 33, 83, 33, 83,  9, 20, 90, 21, 47, 64, 84, 50,\n",
              "        40, 48, 11, 56, 17, 32, 50, 52, 92, 19, 32, 82, 57, 78, 57, 28,  8, 73, 14, 17, 14, 17, 90, 65, 72, 76, 53, 53, 61, 94, 78, 61, 61, 10, 55, 53, 50, 32, 72, 95, 50, 89,  7, 78, 52, 69, 69,\n",
              "        75, 73, 56, 53, 38, 63, 85, 93, 88, 47, 38, 63, 70, 99, 98, 52, 42, 42, 28, 72, 18, 62, 42, 58, 89, 89, 53, 34, 81, 29, 33, 15, 81, 11, 50,  9, 29, 74,  7, 60, 22, 30, 30, 63, 57, 71, 75,\n",
              "        31, 14, 46, 54, 88, 90, 13, 25, 12, 80, 42, 75, 17, 67, 15, 53, 11, 91, 71,  8,  9, 34, 73,  9, 34, 73,  9, 93, 79, 54, 54, 37, 62, 59, 53, 87, 24, 10, 91, 64, 23, 37, 76, 99, 52, 78, 84,\n",
              "        30, 11, 91, 99, 67, 28, 82, 49, 58,  0,  0,  0,  0,  0,  0,  0,  0,  0,  0,  0,  0,  0,  0,  0,  0,  0,  0,  0,  0,  0,  0,  0,  0,  0,  0,  0,  0,  0,  0,  0,  0,  0,  0,  0,  0,  0,  0,\n",
              "         0,  0,  0,  0,  0,  0,  0,  0,  0,  0,  0,  0,  0,  0,  0,  0,  0,  0,  0,  0,  0,  0,  0,  0,  0,  0,  0,  0,  0,  0,  0,  0,  0,  0,  0,  0,  0,  0,  0,  0,  0,  0,  0,  0,  0,  0,  0,\n",
              "         0,  0,  0,  0,  0,  0,  0,  0,  0,  0,  0,  0,  0,  0,  0,  0,  0,  0,  0,  0,  0,  0,  0,  0,  0,  0,  0,  0,  0,  0,  0,  0,  0,  0,  0,  0,  0,  0,  0,  0,  0,  0,  0,  0,  0,  0,  0,\n",
              "         0,  0,  0,  0,  0,  0,  0,  0,  0,  0,  0,  0,  0,  0,  0,  0,  0,  0,  0,  0,  0],\n",
              "       [75, 83, 80,  4, 17, 28, 49, 50, 28, 15, 58, 54, 36, 97, 51, 12, 89, 99, 97, 38, 60, 77,  0,  0,  0,  0,  0,  0,  0,  0,  0,  0,  0,  0,  0,  0,  0,  0,  0,  0,  0,  0,  0,  0,  0,  0,  0,\n",
              "         0,  0,  0,  0,  0,  0,  0,  0,  0,  0,  0,  0,  0,  0,  0,  0,  0,  0,  0,  0,  0,  0,  0,  0,  0,  0,  0,  0,  0,  0,  0,  0,  0,  0,  0,  0,  0,  0,  0,  0,  0,  0,  0,  0,  0,  0,  0,\n",
              "         0,  0,  0,  0,  0,  0,  0,  0,  0,  0,  0,  0,  0,  0,  0,  0,  0,  0,  0,  0,  0,  0,  0,  0,  0,  0,  0,  0,  0,  0,  0,  0,  0,  0,  0,  0,  0,  0,  0,  0,  0,  0,  0,  0,  0,  0,  0,\n",
              "         0,  0,  0,  0,  0,  0,  0,  0,  0,  0,  0,  0,  0,  0,  0,  0,  0,  0,  0,  0,  0,  0,  0,  0,  0,  0,  0,  0,  0,  0,  0,  0,  0,  0,  0,  0,  0,  0,  0,  0,  0,  0,  0,  0,  0,  0,  0,\n",
              "         0,  0,  0,  0,  0,  0,  0,  0,  0,  0,  0,  0,  0,  0,  0,  0,  0,  0,  0,  0,  0,  0,  0,  0,  0,  0,  0,  0,  0,  0,  0,  0,  0,  0,  0,  0,  0,  0,  0,  0,  0,  0,  0,  0,  0,  0,  0,\n",
              "         0,  0,  0,  0,  0,  0,  0,  0,  0,  0,  0,  0,  0,  0,  0,  0,  0,  0,  0,  0,  0,  0,  0,  0,  0,  0,  0,  0,  0,  0,  0,  0,  0,  0,  0,  0,  0,  0,  0,  0,  0,  0,  0,  0,  0,  0,  0,\n",
              "         0,  0,  0,  0,  0,  0,  0,  0,  0,  0,  0,  0,  0,  0,  0,  0,  0,  0,  0,  0,  0,  0,  0,  0,  0,  0,  0,  0,  0,  0,  0,  0,  0,  0,  0,  0,  0,  0,  0,  0,  0,  0,  0,  0,  0,  0,  0,\n",
              "         0,  0,  0,  0,  0,  0,  0,  0,  0,  0,  0,  0,  0,  0,  0,  0,  0,  0,  0,  0,  0],\n",
              "       [24, 25, 32, 54, 92, 10, 28,  1, 71, 13, 13, 92, 30, 91, 18, 90, 95, 25, 75,  1, 18, 56, 72,  6, 96, 25,  5, 31, 25, 45, 75, 57, 81, 75, 15, 43, 43, 40, 32, 12, 19, 72, 69, 90, 90, 41, 79,\n",
              "        34, 54, 32, 97, 57, 97, 70, 72, 52, 15, 60, 16, 44, 74, 88, 11, 41, 12, 84, 83, 97, 73, 58, 25, 13, 43, 77, 79, 15, 61, 98, 15, 32, 28, 32, 77, 71, 24, 31, 70, 79, 19, 43,  2, 22, 41, 10,\n",
              "        18, 58, 47, 15, 53, 64, 83, 45, 72,  6, 41, 16, 18, 37, 19, 59, 68, 76, 66, 55, 66, 83, 31, 52, 70,  4, 93, 48, 36, 84, 40, 44, 79, 11, 57, 31, 87, 31, 65, 13, 29, 64,  9, 27, 45, 28, 42,\n",
              "        81, 20, 23, 74, 31, 36,  2, 29, 13, 32, 72,  8, 98, 31, 57,  9, 41, 96, 99, 43, 82, 64, 32, 52, 30, 72, 16, 24, 55, 62, 53, 28,  4, 13, 10, 57, 60, 10, 66, 14, 84, 53, 87, 53, 56,  8, 62,\n",
              "        56, 24, 98, 58,  1, 57, 50, 16, 20, 79, 99, 49, 82, 96, 53, 64, 42, 47, 33, 46, 97, 47, 93, 74, 18, 26, 27, 31, 26, 18, 26, 45, 31, 85, 91, 49, 19,  3,  9, 25, 57, 90, 38, 25, 93, 50, 13,\n",
              "        57, 34, 91, 52, 32, 31,  8, 33,  3, 70, 54, 12,  5, 67, 12, 27, 38, 14, 15,  7, 20,  5, 26, 74, 31, 40, 91, 91, 93, 18, 89, 84,  3, 10, 55, 37, 90, 95, 84, 12, 62, 55, 82, 24, 62, 33, 73,\n",
              "        61, 12, 47, 35, 21, 32, 35,  9, 53, 80, 43, 90, 36, 96, 66, 55,  6,  0,  0,  0,  0,  0,  0,  0,  0,  0,  0,  0,  0,  0,  0,  0,  0,  0,  0,  0,  0,  0,  0,  0,  0,  0,  0,  0,  0,  0,  0,\n",
              "         0,  0,  0,  0,  0,  0,  0,  0,  0,  0,  0,  0,  0,  0,  0,  0,  0,  0,  0,  0,  0],\n",
              "       [44, 59, 13, 20, 69, 31, 13, 19, 48, 45, 64, 33, 47, 99, 50, 61, 24, 28, 23, 81, 18, 38, 84, 36, 48, 78, 57, 97, 26, 64, 92, 13, 22, 13, 72, 24, 84,  2, 53, 80, 78, 57, 40, 35, 23, 44, 72,\n",
              "        85, 97, 88, 24, 28, 51, 39, 18, 69, 28, 83, 59, 42,  3, 94, 60, 77, 98, 47, 69, 82,  4, 46, 12, 30, 37, 83, 88, 10, 33, 69, 28, 99, 88, 41, 79, 76, 78, 65, 31, 37, 91, 94, 94, 85, 60, 39,\n",
              "        24, 29, 31, 28, 47, 25, 81, 98, 74, 15, 52, 74, 44, 90, 42, 25, 59, 52, 90,  9, 99, 62, 90, 10, 79, 95, 49, 49, 24, 82, 20, 58, 99, 44, 71, 74, 95, 74, 66, 62, 95, 62, 18,  0,  0,  0,  0,\n",
              "         0,  0,  0,  0,  0,  0,  0,  0,  0,  0,  0,  0,  0,  0,  0,  0,  0,  0,  0,  0,  0,  0,  0,  0,  0,  0,  0,  0,  0,  0,  0,  0,  0,  0,  0,  0,  0,  0,  0,  0,  0,  0,  0,  0,  0,  0,  0,\n",
              "         0,  0,  0,  0,  0,  0,  0,  0,  0,  0,  0,  0,  0,  0,  0,  0,  0,  0,  0,  0,  0,  0,  0,  0,  0,  0,  0,  0,  0,  0,  0,  0,  0,  0,  0,  0,  0,  0,  0,  0,  0,  0,  0,  0,  0,  0,  0,\n",
              "         0,  0,  0,  0,  0,  0,  0,  0,  0,  0,  0,  0,  0,  0,  0,  0,  0,  0,  0,  0,  0,  0,  0,  0,  0,  0,  0,  0,  0,  0,  0,  0,  0,  0,  0,  0,  0,  0,  0,  0,  0,  0,  0,  0,  0,  0,  0,\n",
              "         0,  0,  0,  0,  0,  0,  0,  0,  0,  0,  0,  0,  0,  0,  0,  0,  0,  0,  0,  0,  0,  0,  0,  0,  0,  0,  0,  0,  0,  0,  0,  0,  0,  0,  0,  0,  0,  0,  0,  0,  0,  0,  0,  0,  0,  0,  0,\n",
              "         0,  0,  0,  0,  0,  0,  0,  0,  0,  0,  0,  0,  0,  0,  0,  0,  0,  0,  0,  0,  0],\n",
              "       [61, 14, 70, 79, 11, 67, 54, 22, 61, 91, 19, 14, 93, 45, 43, 17, 32, 14, 67, 47, 25, 30, 87, 83, 70, 62, 62, 30, 70, 73, 97, 75, 24, 86, 77,  6, 20, 56,  5, 16, 79, 39, 66, 84,  0,  0,  0,\n",
              "         0,  0,  0,  0,  0,  0,  0,  0,  0,  0,  0,  0,  0,  0,  0,  0,  0,  0,  0,  0,  0,  0,  0,  0,  0,  0,  0,  0,  0,  0,  0,  0,  0,  0,  0,  0,  0,  0,  0,  0,  0,  0,  0,  0,  0,  0,  0,\n",
              "         0,  0,  0,  0,  0,  0,  0,  0,  0,  0,  0,  0,  0,  0,  0,  0,  0,  0,  0,  0,  0,  0,  0,  0,  0,  0,  0,  0,  0,  0,  0,  0,  0,  0,  0,  0,  0,  0,  0,  0,  0,  0,  0,  0,  0,  0,  0,\n",
              "         0,  0,  0,  0,  0,  0,  0,  0,  0,  0,  0,  0,  0,  0,  0,  0,  0,  0,  0,  0,  0,  0,  0,  0,  0,  0,  0,  0,  0,  0,  0,  0,  0,  0,  0,  0,  0,  0,  0,  0,  0,  0,  0,  0,  0,  0,  0,\n",
              "         0,  0,  0,  0,  0,  0,  0,  0,  0,  0,  0,  0,  0,  0,  0,  0,  0,  0,  0,  0,  0,  0,  0,  0,  0,  0,  0,  0,  0,  0,  0,  0,  0,  0,  0,  0,  0,  0,  0,  0,  0,  0,  0,  0,  0,  0,  0,\n",
              "         0,  0,  0,  0,  0,  0,  0,  0,  0,  0,  0,  0,  0,  0,  0,  0,  0,  0,  0,  0,  0,  0,  0,  0,  0,  0,  0,  0,  0,  0,  0,  0,  0,  0,  0,  0,  0,  0,  0,  0,  0,  0,  0,  0,  0,  0,  0,\n",
              "         0,  0,  0,  0,  0,  0,  0,  0,  0,  0,  0,  0,  0,  0,  0,  0,  0,  0,  0,  0,  0,  0,  0,  0,  0,  0,  0,  0,  0,  0,  0,  0,  0,  0,  0,  0,  0,  0,  0,  0,  0,  0,  0,  0,  0,  0,  0,\n",
              "         0,  0,  0,  0,  0,  0,  0,  0,  0,  0,  0,  0,  0,  0,  0,  0,  0,  0,  0,  0,  0],\n",
              "       [31, 47, 66, 34, 19, 77, 46, 81, 92, 87, 70, 70, 76, 38, 13, 99, 87, 87, 31, 29, 28, 83, 29, 38, 61, 23, 29, 55, 87, 88, 19, 51, 28, 70, 62, 56, 87, 32, 42, 46, 81, 81,  6, 66, 67, 10, 87,\n",
              "        14, 62, 67, 58, 85, 50, 87, 35, 43, 12, 38, 55, 29, 29, 87,  0,  0,  0,  0,  0,  0,  0,  0,  0,  0,  0,  0,  0,  0,  0,  0,  0,  0,  0,  0,  0,  0,  0,  0,  0,  0,  0,  0,  0,  0,  0,  0,\n",
              "         0,  0,  0,  0,  0,  0,  0,  0,  0,  0,  0,  0,  0,  0,  0,  0,  0,  0,  0,  0,  0,  0,  0,  0,  0,  0,  0,  0,  0,  0,  0,  0,  0,  0,  0,  0,  0,  0,  0,  0,  0,  0,  0,  0,  0,  0,  0,\n",
              "         0,  0,  0,  0,  0,  0,  0,  0,  0,  0,  0,  0,  0,  0,  0,  0,  0,  0,  0,  0,  0,  0,  0,  0,  0,  0,  0,  0,  0,  0,  0,  0,  0,  0,  0,  0,  0,  0,  0,  0,  0,  0,  0,  0,  0,  0,  0,\n",
              "         0,  0,  0,  0,  0,  0,  0,  0,  0,  0,  0,  0,  0,  0,  0,  0,  0,  0,  0,  0,  0,  0,  0,  0,  0,  0,  0,  0,  0,  0,  0,  0,  0,  0,  0,  0,  0,  0,  0,  0,  0,  0,  0,  0,  0,  0,  0,\n",
              "         0,  0,  0,  0,  0,  0,  0,  0,  0,  0,  0,  0,  0,  0,  0,  0,  0,  0,  0,  0,  0,  0,  0,  0,  0,  0,  0,  0,  0,  0,  0,  0,  0,  0,  0,  0,  0,  0,  0,  0,  0,  0,  0,  0,  0,  0,  0,\n",
              "         0,  0,  0,  0,  0,  0,  0,  0,  0,  0,  0,  0,  0,  0,  0,  0,  0,  0,  0,  0,  0,  0,  0,  0,  0,  0,  0,  0,  0,  0,  0,  0,  0,  0,  0,  0,  0,  0,  0,  0,  0,  0,  0,  0,  0,  0,  0,\n",
              "         0,  0,  0,  0,  0,  0,  0,  0,  0,  0,  0,  0,  0,  0,  0,  0,  0,  0,  0,  0,  0],\n",
              "       [26, 18, 47, 29, 42, 49, 99, 85,  3,  5, 69, 26, 49, 96, 90, 70,  4, 36, 55, 72, 71, 78,  4, 41, 39, 64, 25, 76,  2,  7, 82,  3,  8, 21, 83, 30, 99, 39, 31, 98, 29, 42, 34, 22, 11, 89, 30,\n",
              "        95, 15, 75, 98, 80, 52,  0,  0,  0,  0,  0,  0,  0,  0,  0,  0,  0,  0,  0,  0,  0,  0,  0,  0,  0,  0,  0,  0,  0,  0,  0,  0,  0,  0,  0,  0,  0,  0,  0,  0,  0,  0,  0,  0,  0,  0,  0,\n",
              "         0,  0,  0,  0,  0,  0,  0,  0,  0,  0,  0,  0,  0,  0,  0,  0,  0,  0,  0,  0,  0,  0,  0,  0,  0,  0,  0,  0,  0,  0,  0,  0,  0,  0,  0,  0,  0,  0,  0,  0,  0,  0,  0,  0,  0,  0,  0,\n",
              "         0,  0,  0,  0,  0,  0,  0,  0,  0,  0,  0,  0,  0,  0,  0,  0,  0,  0,  0,  0,  0,  0,  0,  0,  0,  0,  0,  0,  0,  0,  0,  0,  0,  0,  0,  0,  0,  0,  0,  0,  0,  0,  0,  0,  0,  0,  0,\n",
              "         0,  0,  0,  0,  0,  0,  0,  0,  0,  0,  0,  0,  0,  0,  0,  0,  0,  0,  0,  0,  0,  0,  0,  0,  0,  0,  0,  0,  0,  0,  0,  0,  0,  0,  0,  0,  0,  0,  0,  0,  0,  0,  0,  0,  0,  0,  0,\n",
              "         0,  0,  0,  0,  0,  0,  0,  0,  0,  0,  0,  0,  0,  0,  0,  0,  0,  0,  0,  0,  0,  0,  0,  0,  0,  0,  0,  0,  0,  0,  0,  0,  0,  0,  0,  0,  0,  0,  0,  0,  0,  0,  0,  0,  0,  0,  0,\n",
              "         0,  0,  0,  0,  0,  0,  0,  0,  0,  0,  0,  0,  0,  0,  0,  0,  0,  0,  0,  0,  0,  0,  0,  0,  0,  0,  0,  0,  0,  0,  0,  0,  0,  0,  0,  0,  0,  0,  0,  0,  0,  0,  0,  0,  0,  0,  0,\n",
              "         0,  0,  0,  0,  0,  0,  0,  0,  0,  0,  0,  0,  0,  0,  0,  0,  0,  0,  0,  0,  0],\n",
              "       [28, 84, 38, 33, 91, 90, 80, 50, 88, 54, 43, 91, 82, 96, 98, 17, 13, 38, 57,  7, 83, 69,  2, 39, 14, 58, 15, 51, 96, 76, 96,  7,  5, 38, 45, 15, 66, 52, 43, 57, 48, 39, 26, 26, 90, 81, 70,\n",
              "        45, 73, 37, 55, 14, 84, 83, 85, 32, 56, 20, 30, 60, 52, 47, 69,  5, 11, 88, 47, 86, 15, 34, 43, 96, 37,  2, 98, 31, 12, 42, 59, 58, 56, 32, 32, 37, 22, 55, 37, 57, 91, 98,  7, 70, 64, 89,\n",
              "        22, 30, 38, 32, 10,  7, 91, 29, 59,  8, 28, 67, 16, 88,  3, 52, 17, 85,  0,  0,  0,  0,  0,  0,  0,  0,  0,  0,  0,  0,  0,  0,  0,  0,  0,  0,  0,  0,  0,  0,  0,  0,  0,  0,  0,  0,  0,\n",
              "         0,  0,  0,  0,  0,  0,  0,  0,  0,  0,  0,  0,  0,  0,  0,  0,  0,  0,  0,  0,  0,  0,  0,  0,  0,  0,  0,  0,  0,  0,  0,  0,  0,  0,  0,  0,  0,  0,  0,  0,  0,  0,  0,  0,  0,  0,  0,\n",
              "         0,  0,  0,  0,  0,  0,  0,  0,  0,  0,  0,  0,  0,  0,  0,  0,  0,  0,  0,  0,  0,  0,  0,  0,  0,  0,  0,  0,  0,  0,  0,  0,  0,  0,  0,  0,  0,  0,  0,  0,  0,  0,  0,  0,  0,  0,  0,\n",
              "         0,  0,  0,  0,  0,  0,  0,  0,  0,  0,  0,  0,  0,  0,  0,  0,  0,  0,  0,  0,  0,  0,  0,  0,  0,  0,  0,  0,  0,  0,  0,  0,  0,  0,  0,  0,  0,  0,  0,  0,  0,  0,  0,  0,  0,  0,  0,\n",
              "         0,  0,  0,  0,  0,  0,  0,  0,  0,  0,  0,  0,  0,  0,  0,  0,  0,  0,  0,  0,  0,  0,  0,  0,  0,  0,  0,  0,  0,  0,  0,  0,  0,  0,  0,  0,  0,  0,  0,  0,  0,  0,  0,  0,  0,  0,  0,\n",
              "         0,  0,  0,  0,  0,  0,  0,  0,  0,  0,  0,  0,  0,  0,  0,  0,  0,  0,  0,  0,  0],\n",
              "       [71, 57, 26, 75, 27, 42, 66, 74, 65, 40, 75,  2, 78, 13, 26, 16, 70, 99, 97, 59, 95, 91, 34, 35, 65, 40, 28, 70, 45, 47, 39, 28, 82, 69, 99, 19, 77, 48, 48, 70, 52, 13, 37, 84, 56, 88, 91,\n",
              "         0,  0,  0,  0,  0,  0,  0,  0,  0,  0,  0,  0,  0,  0,  0,  0,  0,  0,  0,  0,  0,  0,  0,  0,  0,  0,  0,  0,  0,  0,  0,  0,  0,  0,  0,  0,  0,  0,  0,  0,  0,  0,  0,  0,  0,  0,  0,\n",
              "         0,  0,  0,  0,  0,  0,  0,  0,  0,  0,  0,  0,  0,  0,  0,  0,  0,  0,  0,  0,  0,  0,  0,  0,  0,  0,  0,  0,  0,  0,  0,  0,  0,  0,  0,  0,  0,  0,  0,  0,  0,  0,  0,  0,  0,  0,  0,\n",
              "         0,  0,  0,  0,  0,  0,  0,  0,  0,  0,  0,  0,  0,  0,  0,  0,  0,  0,  0,  0,  0,  0,  0,  0,  0,  0,  0,  0,  0,  0,  0,  0,  0,  0,  0,  0,  0,  0,  0,  0,  0,  0,  0,  0,  0,  0,  0,\n",
              "         0,  0,  0,  0,  0,  0,  0,  0,  0,  0,  0,  0,  0,  0,  0,  0,  0,  0,  0,  0,  0,  0,  0,  0,  0,  0,  0,  0,  0,  0,  0,  0,  0,  0,  0,  0,  0,  0,  0,  0,  0,  0,  0,  0,  0,  0,  0,\n",
              "         0,  0,  0,  0,  0,  0,  0,  0,  0,  0,  0,  0,  0,  0,  0,  0,  0,  0,  0,  0,  0,  0,  0,  0,  0,  0,  0,  0,  0,  0,  0,  0,  0,  0,  0,  0,  0,  0,  0,  0,  0,  0,  0,  0,  0,  0,  0,\n",
              "         0,  0,  0,  0,  0,  0,  0,  0,  0,  0,  0,  0,  0,  0,  0,  0,  0,  0,  0,  0,  0,  0,  0,  0,  0,  0,  0,  0,  0,  0,  0,  0,  0,  0,  0,  0,  0,  0,  0,  0,  0,  0,  0,  0,  0,  0,  0,\n",
              "         0,  0,  0,  0,  0,  0,  0,  0,  0,  0,  0,  0,  0,  0,  0,  0,  0,  0,  0,  0,  0],\n",
              "       [35, 64, 56,  1, 32, 18, 39, 28, 77, 15, 86, 95, 49, 63,  3, 36, 56, 86,  6, 52, 95, 69, 52, 70,  4, 24,  5, 18,  1, 10, 62, 98, 52, 86, 18, 38, 38, 15, 82, 38, 15, 66, 55, 17, 56, 15, 48,\n",
              "        70, 90, 52, 62, 18, 63,  2, 97, 13, 21,  2, 95, 11, 26, 57,  3, 45, 73, 70, 37, 33, 21, 56,  9, 10, 81, 25,  9, 19,  0,  0,  0,  0,  0,  0,  0,  0,  0,  0,  0,  0,  0,  0,  0,  0,  0,  0,\n",
              "         0,  0,  0,  0,  0,  0,  0,  0,  0,  0,  0,  0,  0,  0,  0,  0,  0,  0,  0,  0,  0,  0,  0,  0,  0,  0,  0,  0,  0,  0,  0,  0,  0,  0,  0,  0,  0,  0,  0,  0,  0,  0,  0,  0,  0,  0,  0,\n",
              "         0,  0,  0,  0,  0,  0,  0,  0,  0,  0,  0,  0,  0,  0,  0,  0,  0,  0,  0,  0,  0,  0,  0,  0,  0,  0,  0,  0,  0,  0,  0,  0,  0,  0,  0,  0,  0,  0,  0,  0,  0,  0,  0,  0,  0,  0,  0,\n",
              "         0,  0,  0,  0,  0,  0,  0,  0,  0,  0,  0,  0,  0,  0,  0,  0,  0,  0,  0,  0,  0,  0,  0,  0,  0,  0,  0,  0,  0,  0,  0,  0,  0,  0,  0,  0,  0,  0,  0,  0,  0,  0,  0,  0,  0,  0,  0,\n",
              "         0,  0,  0,  0,  0,  0,  0,  0,  0,  0,  0,  0,  0,  0,  0,  0,  0,  0,  0,  0,  0,  0,  0,  0,  0,  0,  0,  0,  0,  0,  0,  0,  0,  0,  0,  0,  0,  0,  0,  0,  0,  0,  0,  0,  0,  0,  0,\n",
              "         0,  0,  0,  0,  0,  0,  0,  0,  0,  0,  0,  0,  0,  0,  0,  0,  0,  0,  0,  0,  0,  0,  0,  0,  0,  0,  0,  0,  0,  0,  0,  0,  0,  0,  0,  0,  0,  0,  0,  0,  0,  0,  0,  0,  0,  0,  0,\n",
              "         0,  0,  0,  0,  0,  0,  0,  0,  0,  0,  0,  0,  0,  0,  0,  0,  0,  0,  0,  0,  0],\n",
              "       [31, 60, 84, 25,  4, 23, 42, 54, 75,  4, 23, 42,  3, 74, 10, 59,  4, 23, 73, 62, 34, 16, 23, 25, 12,  4, 23, 32, 32, 47, 78, 12, 31, 36, 94, 84, 25, 54, 75, 61,  0,  0,  0,  0,  0,  0,  0,\n",
              "         0,  0,  0,  0,  0,  0,  0,  0,  0,  0,  0,  0,  0,  0,  0,  0,  0,  0,  0,  0,  0,  0,  0,  0,  0,  0,  0,  0,  0,  0,  0,  0,  0,  0,  0,  0,  0,  0,  0,  0,  0,  0,  0,  0,  0,  0,  0,\n",
              "         0,  0,  0,  0,  0,  0,  0,  0,  0,  0,  0,  0,  0,  0,  0,  0,  0,  0,  0,  0,  0,  0,  0,  0,  0,  0,  0,  0,  0,  0,  0,  0,  0,  0,  0,  0,  0,  0,  0,  0,  0,  0,  0,  0,  0,  0,  0,\n",
              "         0,  0,  0,  0,  0,  0,  0,  0,  0,  0,  0,  0,  0,  0,  0,  0,  0,  0,  0,  0,  0,  0,  0,  0,  0,  0,  0,  0,  0,  0,  0,  0,  0,  0,  0,  0,  0,  0,  0,  0,  0,  0,  0,  0,  0,  0,  0,\n",
              "         0,  0,  0,  0,  0,  0,  0,  0,  0,  0,  0,  0,  0,  0,  0,  0,  0,  0,  0,  0,  0,  0,  0,  0,  0,  0,  0,  0,  0,  0,  0,  0,  0,  0,  0,  0,  0,  0,  0,  0,  0,  0,  0,  0,  0,  0,  0,\n",
              "         0,  0,  0,  0,  0,  0,  0,  0,  0,  0,  0,  0,  0,  0,  0,  0,  0,  0,  0,  0,  0,  0,  0,  0,  0,  0,  0,  0,  0,  0,  0,  0,  0,  0,  0,  0,  0,  0,  0,  0,  0,  0,  0,  0,  0,  0,  0,\n",
              "         0,  0,  0,  0,  0,  0,  0,  0,  0,  0,  0,  0,  0,  0,  0,  0,  0,  0,  0,  0,  0,  0,  0,  0,  0,  0,  0,  0,  0,  0,  0,  0,  0,  0,  0,  0,  0,  0,  0,  0,  0,  0,  0,  0,  0,  0,  0,\n",
              "         0,  0,  0,  0,  0,  0,  0,  0,  0,  0,  0,  0,  0,  0,  0,  0,  0,  0,  0,  0,  0],\n",
              "       [48, 57, 33, 10, 45, 30, 43, 78, 76, 43, 35, 95, 58, 91, 27, 45, 39, 25, 18, 32, 52, 92,  3, 19, 54, 20, 27, 89, 80, 47, 65, 14, 79,  7, 50, 34, 54, 48, 43, 15, 98, 56, 69, 37, 58, 69,  6,\n",
              "        64, 17, 43, 51, 53, 12, 36, 91, 40, 81, 84, 48, 48, 78, 35, 46, 76, 34, 66, 17, 38, 78, 73, 12, 55, 83, 67, 47, 13, 49, 99, 84, 37, 28, 78, 46,  3, 38, 55, 72,  6, 25, 40, 43, 58, 63, 52,\n",
              "        97, 99, 59, 77, 44, 28, 34, 50, 10, 34, 73, 84, 47, 64, 35, 83, 15, 38, 61, 43, 56, 45, 28, 16, 44, 43, 36, 97, 60, 84, 33, 28, 81, 83, 75, 48, 57, 51, 34, 95, 65, 77, 62, 88, 12,  4, 66,\n",
              "        27, 96, 34, 12, 97, 28, 82, 73, 68, 80, 62, 21, 37, 30, 11, 87, 75, 75, 28, 20, 25, 71, 94, 84, 98, 19, 52, 63, 69, 35, 47,  5, 74, 39, 60, 50, 48,  3, 19, 31,  1, 44, 19,  0,  0,  0,  0,\n",
              "         0,  0,  0,  0,  0,  0,  0,  0,  0,  0,  0,  0,  0,  0,  0,  0,  0,  0,  0,  0,  0,  0,  0,  0,  0,  0,  0,  0,  0,  0,  0,  0,  0,  0,  0,  0,  0,  0,  0,  0,  0,  0,  0,  0,  0,  0,  0,\n",
              "         0,  0,  0,  0,  0,  0,  0,  0,  0,  0,  0,  0,  0,  0,  0,  0,  0,  0,  0,  0,  0,  0,  0,  0,  0,  0,  0,  0,  0,  0,  0,  0,  0,  0,  0,  0,  0,  0,  0,  0,  0,  0,  0,  0,  0,  0,  0,\n",
              "         0,  0,  0,  0,  0,  0,  0,  0,  0,  0,  0,  0,  0,  0,  0,  0,  0,  0,  0,  0,  0,  0,  0,  0,  0,  0,  0,  0,  0,  0,  0,  0,  0,  0,  0,  0,  0,  0,  0,  0,  0,  0,  0,  0,  0,  0,  0,\n",
              "         0,  0,  0,  0,  0,  0,  0,  0,  0,  0,  0,  0,  0,  0,  0,  0,  0,  0,  0,  0,  0],\n",
              "       [51, 58, 72, 72, 41, 98, 73, 29, 18, 27, 69, 11, 14, 48, 38, 97,  4, 39, 76, 95, 35, 72, 39, 78, 72, 53, 19, 86, 55, 21, 86, 82, 16, 60,  2,  8, 12, 78, 67, 40, 12, 63, 10, 74, 83, 41,  0,\n",
              "         0,  0,  0,  0,  0,  0,  0,  0,  0,  0,  0,  0,  0,  0,  0,  0,  0,  0,  0,  0,  0,  0,  0,  0,  0,  0,  0,  0,  0,  0,  0,  0,  0,  0,  0,  0,  0,  0,  0,  0,  0,  0,  0,  0,  0,  0,  0,\n",
              "         0,  0,  0,  0,  0,  0,  0,  0,  0,  0,  0,  0,  0,  0,  0,  0,  0,  0,  0,  0,  0,  0,  0,  0,  0,  0,  0,  0,  0,  0,  0,  0,  0,  0,  0,  0,  0,  0,  0,  0,  0,  0,  0,  0,  0,  0,  0,\n",
              "         0,  0,  0,  0,  0,  0,  0,  0,  0,  0,  0,  0,  0,  0,  0,  0,  0,  0,  0,  0,  0,  0,  0,  0,  0,  0,  0,  0,  0,  0,  0,  0,  0,  0,  0,  0,  0,  0,  0,  0,  0,  0,  0,  0,  0,  0,  0,\n",
              "         0,  0,  0,  0,  0,  0,  0,  0,  0,  0,  0,  0,  0,  0,  0,  0,  0,  0,  0,  0,  0,  0,  0,  0,  0,  0,  0,  0,  0,  0,  0,  0,  0,  0,  0,  0,  0,  0,  0,  0,  0,  0,  0,  0,  0,  0,  0,\n",
              "         0,  0,  0,  0,  0,  0,  0,  0,  0,  0,  0,  0,  0,  0,  0,  0,  0,  0,  0,  0,  0,  0,  0,  0,  0,  0,  0,  0,  0,  0,  0,  0,  0,  0,  0,  0,  0,  0,  0,  0,  0,  0,  0,  0,  0,  0,  0,\n",
              "         0,  0,  0,  0,  0,  0,  0,  0,  0,  0,  0,  0,  0,  0,  0,  0,  0,  0,  0,  0,  0,  0,  0,  0,  0,  0,  0,  0,  0,  0,  0,  0,  0,  0,  0,  0,  0,  0,  0,  0,  0,  0,  0,  0,  0,  0,  0,\n",
              "         0,  0,  0,  0,  0,  0,  0,  0,  0,  0,  0,  0,  0,  0,  0,  0,  0,  0,  0,  0,  0],\n",
              "       [28, 99, 89, 90, 81, 99, 32, 25, 64, 62, 48, 68, 86, 88, 76, 92, 55,  8, 53, 69, 19, 90,  2, 83, 73, 19, 20, 42, 92, 94, 50, 20, 39, 68, 79, 60, 69, 25, 62, 74, 19, 13, 14, 87, 46, 89, 65,\n",
              "        31, 54, 96, 26,  0,  0,  0,  0,  0,  0,  0,  0,  0,  0,  0,  0,  0,  0,  0,  0,  0,  0,  0,  0,  0,  0,  0,  0,  0,  0,  0,  0,  0,  0,  0,  0,  0,  0,  0,  0,  0,  0,  0,  0,  0,  0,  0,\n",
              "         0,  0,  0,  0,  0,  0,  0,  0,  0,  0,  0,  0,  0,  0,  0,  0,  0,  0,  0,  0,  0,  0,  0,  0,  0,  0,  0,  0,  0,  0,  0,  0,  0,  0,  0,  0,  0,  0,  0,  0,  0,  0,  0,  0,  0,  0,  0,\n",
              "         0,  0,  0,  0,  0,  0,  0,  0,  0,  0,  0,  0,  0,  0,  0,  0,  0,  0,  0,  0,  0,  0,  0,  0,  0,  0,  0,  0,  0,  0,  0,  0,  0,  0,  0,  0,  0,  0,  0,  0,  0,  0,  0,  0,  0,  0,  0,\n",
              "         0,  0,  0,  0,  0,  0,  0,  0,  0,  0,  0,  0,  0,  0,  0,  0,  0,  0,  0,  0,  0,  0,  0,  0,  0,  0,  0,  0,  0,  0,  0,  0,  0,  0,  0,  0,  0,  0,  0,  0,  0,  0,  0,  0,  0,  0,  0,\n",
              "         0,  0,  0,  0,  0,  0,  0,  0,  0,  0,  0,  0,  0,  0,  0,  0,  0,  0,  0,  0,  0,  0,  0,  0,  0,  0,  0,  0,  0,  0,  0,  0,  0,  0,  0,  0,  0,  0,  0,  0,  0,  0,  0,  0,  0,  0,  0,\n",
              "         0,  0,  0,  0,  0,  0,  0,  0,  0,  0,  0,  0,  0,  0,  0,  0,  0,  0,  0,  0,  0,  0,  0,  0,  0,  0,  0,  0,  0,  0,  0,  0,  0,  0,  0,  0,  0,  0,  0,  0,  0,  0,  0,  0,  0,  0,  0,\n",
              "         0,  0,  0,  0,  0,  0,  0,  0,  0,  0,  0,  0,  0,  0,  0,  0,  0,  0,  0,  0,  0],\n",
              "       [25, 22, 56, 36, 12, 35, 53, 15, 91, 57, 53, 56, 99, 60, 11, 72, 70,  3, 47, 65, 15, 74, 21, 73, 19, 21, 24, 87, 50, 36, 27, 33, 43, 86, 59, 83, 33,  3,  7, 94, 55, 53, 99, 71, 38, 96, 73,\n",
              "        12, 52, 60, 31, 54, 47, 52, 39, 32, 36, 49, 92,  4, 19, 30, 19, 55, 12, 26,  0,  0,  0,  0,  0,  0,  0,  0,  0,  0,  0,  0,  0,  0,  0,  0,  0,  0,  0,  0,  0,  0,  0,  0,  0,  0,  0,  0,\n",
              "         0,  0,  0,  0,  0,  0,  0,  0,  0,  0,  0,  0,  0,  0,  0,  0,  0,  0,  0,  0,  0,  0,  0,  0,  0,  0,  0,  0,  0,  0,  0,  0,  0,  0,  0,  0,  0,  0,  0,  0,  0,  0,  0,  0,  0,  0,  0,\n",
              "         0,  0,  0,  0,  0,  0,  0,  0,  0,  0,  0,  0,  0,  0,  0,  0,  0,  0,  0,  0,  0,  0,  0,  0,  0,  0,  0,  0,  0,  0,  0,  0,  0,  0,  0,  0,  0,  0,  0,  0,  0,  0,  0,  0,  0,  0,  0,\n",
              "         0,  0,  0,  0,  0,  0,  0,  0,  0,  0,  0,  0,  0,  0,  0,  0,  0,  0,  0,  0,  0,  0,  0,  0,  0,  0,  0,  0,  0,  0,  0,  0,  0,  0,  0,  0,  0,  0,  0,  0,  0,  0,  0,  0,  0,  0,  0,\n",
              "         0,  0,  0,  0,  0,  0,  0,  0,  0,  0,  0,  0,  0,  0,  0,  0,  0,  0,  0,  0,  0,  0,  0,  0,  0,  0,  0,  0,  0,  0,  0,  0,  0,  0,  0,  0,  0,  0,  0,  0,  0,  0,  0,  0,  0,  0,  0,\n",
              "         0,  0,  0,  0,  0,  0,  0,  0,  0,  0,  0,  0,  0,  0,  0,  0,  0,  0,  0,  0,  0,  0,  0,  0,  0,  0,  0,  0,  0,  0,  0,  0,  0,  0,  0,  0,  0,  0,  0,  0,  0,  0,  0,  0,  0,  0,  0,\n",
              "         0,  0,  0,  0,  0,  0,  0,  0,  0,  0,  0,  0,  0,  0,  0,  0,  0,  0,  0,  0,  0],\n",
              "       [74, 90, 31, 38, 61, 53, 26, 69, 94, 89, 10, 28,  3, 43, 72, 50, 44, 10, 60, 53, 98, 14, 11, 94, 83, 94, 23, 85, 75, 52, 32, 57, 12, 27, 90, 75, 57, 74, 58, 65, 31, 94, 79, 14, 98, 39,  3,\n",
              "        39, 31, 72, 93,  3, 98, 93,  3, 32, 87, 71, 39, 96, 96, 11, 31, 91, 36, 93, 43, 76, 67,  3, 82, 95,  0,  0,  0,  0,  0,  0,  0,  0,  0,  0,  0,  0,  0,  0,  0,  0,  0,  0,  0,  0,  0,  0,\n",
              "         0,  0,  0,  0,  0,  0,  0,  0,  0,  0,  0,  0,  0,  0,  0,  0,  0,  0,  0,  0,  0,  0,  0,  0,  0,  0,  0,  0,  0,  0,  0,  0,  0,  0,  0,  0,  0,  0,  0,  0,  0,  0,  0,  0,  0,  0,  0,\n",
              "         0,  0,  0,  0,  0,  0,  0,  0,  0,  0,  0,  0,  0,  0,  0,  0,  0,  0,  0,  0,  0,  0,  0,  0,  0,  0,  0,  0,  0,  0,  0,  0,  0,  0,  0,  0,  0,  0,  0,  0,  0,  0,  0,  0,  0,  0,  0,\n",
              "         0,  0,  0,  0,  0,  0,  0,  0,  0,  0,  0,  0,  0,  0,  0,  0,  0,  0,  0,  0,  0,  0,  0,  0,  0,  0,  0,  0,  0,  0,  0,  0,  0,  0,  0,  0,  0,  0,  0,  0,  0,  0,  0,  0,  0,  0,  0,\n",
              "         0,  0,  0,  0,  0,  0,  0,  0,  0,  0,  0,  0,  0,  0,  0,  0,  0,  0,  0,  0,  0,  0,  0,  0,  0,  0,  0,  0,  0,  0,  0,  0,  0,  0,  0,  0,  0,  0,  0,  0,  0,  0,  0,  0,  0,  0,  0,\n",
              "         0,  0,  0,  0,  0,  0,  0,  0,  0,  0,  0,  0,  0,  0,  0,  0,  0,  0,  0,  0,  0,  0,  0,  0,  0,  0,  0,  0,  0,  0,  0,  0,  0,  0,  0,  0,  0,  0,  0,  0,  0,  0,  0,  0,  0,  0,  0,\n",
              "         0,  0,  0,  0,  0,  0,  0,  0,  0,  0,  0,  0,  0,  0,  0,  0,  0,  0,  0,  0,  0],\n",
              "       [48, 42, 42, 78, 83, 32, 83, 63, 56, 14, 62, 16, 15, 87, 54, 60, 46, 31, 30, 74, 82, 63, 27, 71, 60, 79, 86, 81, 32, 25, 30, 48, 42, 38, 90, 74, 92, 20, 78, 52, 30, 56,  3, 47, 41, 10, 88,\n",
              "        60, 95, 70, 57, 47, 73, 35, 84, 58, 18, 44, 21, 82, 96, 28, 28, 75, 14, 43, 39, 51, 96, 82, 45, 48, 42, 74, 62, 21,  6, 86, 97, 76, 23, 59, 31, 67, 29,  9, 81, 26, 43, 25, 46, 12, 32, 84,\n",
              "         3, 58, 47, 56, 21, 24, 62, 21, 87,  8,  6, 48, 42, 62, 85, 48, 76, 89, 65,  4, 56, 53, 63, 48, 91, 92,  5, 72, 59, 63, 14, 78, 15, 89, 90, 96, 12, 88, 96, 59, 31, 29,  2, 19, 25, 52,  0,\n",
              "         0,  0,  0,  0,  0,  0,  0,  0,  0,  0,  0,  0,  0,  0,  0,  0,  0,  0,  0,  0,  0,  0,  0,  0,  0,  0,  0,  0,  0,  0,  0,  0,  0,  0,  0,  0,  0,  0,  0,  0,  0,  0,  0,  0,  0,  0,  0,\n",
              "         0,  0,  0,  0,  0,  0,  0,  0,  0,  0,  0,  0,  0,  0,  0,  0,  0,  0,  0,  0,  0,  0,  0,  0,  0,  0,  0,  0,  0,  0,  0,  0,  0,  0,  0,  0,  0,  0,  0,  0,  0,  0,  0,  0,  0,  0,  0,\n",
              "         0,  0,  0,  0,  0,  0,  0,  0,  0,  0,  0,  0,  0,  0,  0,  0,  0,  0,  0,  0,  0,  0,  0,  0,  0,  0,  0,  0,  0,  0,  0,  0,  0,  0,  0,  0,  0,  0,  0,  0,  0,  0,  0,  0,  0,  0,  0,\n",
              "         0,  0,  0,  0,  0,  0,  0,  0,  0,  0,  0,  0,  0,  0,  0,  0,  0,  0,  0,  0,  0,  0,  0,  0,  0,  0,  0,  0,  0,  0,  0,  0,  0,  0,  0,  0,  0,  0,  0,  0,  0,  0,  0,  0,  0,  0,  0,\n",
              "         0,  0,  0,  0,  0,  0,  0,  0,  0,  0,  0,  0,  0,  0,  0,  0,  0,  0,  0,  0,  0],\n",
              "       [16, 94, 95, 67, 82, 81, 72, 17, 51, 21, 79, 88, 78, 18, 60, 29, 21, 98, 42, 62, 56, 19, 54, 26, 21, 31, 43, 62,  4, 85, 67, 60, 21,  9, 79, 84,  3, 36, 38, 44, 21, 84, 36, 67, 74, 75, 93,\n",
              "        72, 95, 21, 45, 81, 66, 43, 65, 56, 21, 89, 98, 89, 12, 96, 37, 59, 73, 12, 21, 49, 62, 62, 49,  1,  2, 43, 77, 21, 56, 28,  3, 61, 32, 71, 28, 16,  2, 81, 21,  9, 32, 41,  1,  3, 25, 44,\n",
              "        21,  0,  0,  0,  0,  0,  0,  0,  0,  0,  0,  0,  0,  0,  0,  0,  0,  0,  0,  0,  0,  0,  0,  0,  0,  0,  0,  0,  0,  0,  0,  0,  0,  0,  0,  0,  0,  0,  0,  0,  0,  0,  0,  0,  0,  0,  0,\n",
              "         0,  0,  0,  0,  0,  0,  0,  0,  0,  0,  0,  0,  0,  0,  0,  0,  0,  0,  0,  0,  0,  0,  0,  0,  0,  0,  0,  0,  0,  0,  0,  0,  0,  0,  0,  0,  0,  0,  0,  0,  0,  0,  0,  0,  0,  0,  0,\n",
              "         0,  0,  0,  0,  0,  0,  0,  0,  0,  0,  0,  0,  0,  0,  0,  0,  0,  0,  0,  0,  0,  0,  0,  0,  0,  0,  0,  0,  0,  0,  0,  0,  0,  0,  0,  0,  0,  0,  0,  0,  0,  0,  0,  0,  0,  0,  0,\n",
              "         0,  0,  0,  0,  0,  0,  0,  0,  0,  0,  0,  0,  0,  0,  0,  0,  0,  0,  0,  0,  0,  0,  0,  0,  0,  0,  0,  0,  0,  0,  0,  0,  0,  0,  0,  0,  0,  0,  0,  0,  0,  0,  0,  0,  0,  0,  0,\n",
              "         0,  0,  0,  0,  0,  0,  0,  0,  0,  0,  0,  0,  0,  0,  0,  0,  0,  0,  0,  0,  0,  0,  0,  0,  0,  0,  0,  0,  0,  0,  0,  0,  0,  0,  0,  0,  0,  0,  0,  0,  0,  0,  0,  0,  0,  0,  0,\n",
              "         0,  0,  0,  0,  0,  0,  0,  0,  0,  0,  0,  0,  0,  0,  0,  0,  0,  0,  0,  0,  0]], dtype=int32)"
            ]
          },
          "metadata": {
            "tags": []
          },
          "execution_count": 37
        }
      ]
    },
    {
      "cell_type": "code",
      "metadata": {
        "colab": {
          "base_uri": "https://localhost:8080/"
        },
        "id": "lHO0NUA3PyDP",
        "outputId": "1e2803bb-9459-4d1b-c5e9-fa6bf0c56995"
      },
      "source": [
        "y_train"
      ],
      "execution_count": null,
      "outputs": [
        {
          "output_type": "execute_result",
          "data": {
            "text/plain": [
              "array([1, 0, 1, 0, 0, 0, 1, 0, 1, 1, 0, 0, 1, 0, 0, 0, 1, 0, 0, 1, 0, 0, 1, 1, 1])"
            ]
          },
          "metadata": {
            "tags": []
          },
          "execution_count": 38
        }
      ]
    },
    {
      "cell_type": "code",
      "metadata": {
        "colab": {
          "base_uri": "https://localhost:8080/"
        },
        "id": "Be5wELikQRec",
        "outputId": "c7cfca88-8791-4be9-cd2f-e1472000ffe7"
      },
      "source": [
        "X_val"
      ],
      "execution_count": null,
      "outputs": [
        {
          "output_type": "execute_result",
          "data": {
            "text/plain": [
              "array([[89, 38, 96, 38, 95, 42, 18, 55,  3, 58, 95, 12, 78, 12, 78, 11, 57, 64, 95, 33, 59,  9, 52, 58, 56, 60, 42, 30, 77, 24, 71, 84, 11,  2, 18, 25, 65, 62, 39, 50, 38, 42, 79, 24, 52, 98, 95,\n",
              "        95, 38,  8, 86, 42, 29, 42, 29, 96, 22,  8, 85, 26, 81, 41,  3, 26, 92, 53, 53,  5,  0,  0,  0,  0,  0,  0,  0,  0,  0,  0,  0,  0,  0,  0,  0,  0,  0,  0,  0,  0,  0,  0,  0,  0,  0,  0,\n",
              "         0,  0,  0,  0,  0,  0,  0,  0,  0,  0,  0,  0,  0,  0,  0,  0,  0,  0,  0,  0,  0,  0,  0,  0,  0,  0,  0,  0,  0,  0,  0,  0,  0,  0,  0,  0,  0,  0,  0,  0,  0,  0,  0,  0,  0,  0,  0,\n",
              "         0,  0,  0,  0,  0,  0,  0,  0,  0,  0,  0,  0,  0,  0,  0,  0,  0,  0,  0,  0,  0,  0,  0,  0,  0,  0,  0,  0,  0,  0,  0,  0,  0,  0,  0,  0,  0,  0,  0,  0,  0,  0,  0,  0,  0,  0,  0,\n",
              "         0,  0,  0,  0,  0,  0,  0,  0,  0,  0,  0,  0,  0,  0,  0,  0,  0,  0,  0,  0,  0,  0,  0,  0,  0,  0,  0,  0,  0,  0,  0,  0,  0,  0,  0,  0,  0,  0,  0,  0,  0,  0,  0,  0,  0,  0,  0,\n",
              "         0,  0,  0,  0,  0,  0,  0,  0,  0,  0,  0,  0,  0,  0,  0,  0,  0,  0,  0,  0,  0,  0,  0,  0,  0,  0,  0,  0,  0,  0,  0,  0,  0,  0,  0,  0,  0,  0,  0,  0,  0,  0,  0,  0,  0,  0,  0,\n",
              "         0,  0,  0,  0,  0,  0,  0,  0,  0,  0,  0,  0,  0,  0,  0,  0,  0,  0,  0,  0,  0,  0,  0,  0,  0,  0,  0,  0,  0,  0,  0,  0,  0,  0,  0,  0,  0,  0,  0,  0,  0,  0,  0,  0,  0,  0,  0,\n",
              "         0,  0,  0,  0,  0,  0,  0,  0,  0,  0,  0,  0,  0,  0,  0,  0,  0,  0,  0,  0,  0],\n",
              "       [52, 32, 25,  1,  2, 96, 10, 21, 93, 89, 58, 60,  3, 36,  2, 71, 95, 69, 42, 89, 36, 71, 78, 22, 78, 36, 88, 77, 34, 95, 60, 89, 89,  3, 36, 36, 13, 78, 57, 10, 75, 33,  7, 16, 31, 42, 10,\n",
              "        30, 82, 25, 77, 53, 40, 34, 24, 12, 97,  0,  0,  0,  0,  0,  0,  0,  0,  0,  0,  0,  0,  0,  0,  0,  0,  0,  0,  0,  0,  0,  0,  0,  0,  0,  0,  0,  0,  0,  0,  0,  0,  0,  0,  0,  0,  0,\n",
              "         0,  0,  0,  0,  0,  0,  0,  0,  0,  0,  0,  0,  0,  0,  0,  0,  0,  0,  0,  0,  0,  0,  0,  0,  0,  0,  0,  0,  0,  0,  0,  0,  0,  0,  0,  0,  0,  0,  0,  0,  0,  0,  0,  0,  0,  0,  0,\n",
              "         0,  0,  0,  0,  0,  0,  0,  0,  0,  0,  0,  0,  0,  0,  0,  0,  0,  0,  0,  0,  0,  0,  0,  0,  0,  0,  0,  0,  0,  0,  0,  0,  0,  0,  0,  0,  0,  0,  0,  0,  0,  0,  0,  0,  0,  0,  0,\n",
              "         0,  0,  0,  0,  0,  0,  0,  0,  0,  0,  0,  0,  0,  0,  0,  0,  0,  0,  0,  0,  0,  0,  0,  0,  0,  0,  0,  0,  0,  0,  0,  0,  0,  0,  0,  0,  0,  0,  0,  0,  0,  0,  0,  0,  0,  0,  0,\n",
              "         0,  0,  0,  0,  0,  0,  0,  0,  0,  0,  0,  0,  0,  0,  0,  0,  0,  0,  0,  0,  0,  0,  0,  0,  0,  0,  0,  0,  0,  0,  0,  0,  0,  0,  0,  0,  0,  0,  0,  0,  0,  0,  0,  0,  0,  0,  0,\n",
              "         0,  0,  0,  0,  0,  0,  0,  0,  0,  0,  0,  0,  0,  0,  0,  0,  0,  0,  0,  0,  0,  0,  0,  0,  0,  0,  0,  0,  0,  0,  0,  0,  0,  0,  0,  0,  0,  0,  0,  0,  0,  0,  0,  0,  0,  0,  0,\n",
              "         0,  0,  0,  0,  0,  0,  0,  0,  0,  0,  0,  0,  0,  0,  0,  0,  0,  0,  0,  0,  0],\n",
              "       [38, 61, 67, 89, 23, 50, 31, 28, 51, 84, 35, 22, 69, 74,  6, 72, 34, 85, 43, 83, 90, 21, 88, 67, 19, 19, 79, 66, 36, 31,  3, 58, 51, 90, 71, 68, 28, 41, 63, 35, 26, 87, 79, 35, 29, 83, 70,\n",
              "        48, 40, 58, 25, 74, 31, 42, 52, 37, 17, 28,  3, 32, 42, 12, 77, 21, 72, 39, 76, 72,  1, 50, 35,  2, 35, 23, 16, 41, 79, 70, 34, 79, 14, 84, 57,  0,  0,  0,  0,  0,  0,  0,  0,  0,  0,  0,\n",
              "         0,  0,  0,  0,  0,  0,  0,  0,  0,  0,  0,  0,  0,  0,  0,  0,  0,  0,  0,  0,  0,  0,  0,  0,  0,  0,  0,  0,  0,  0,  0,  0,  0,  0,  0,  0,  0,  0,  0,  0,  0,  0,  0,  0,  0,  0,  0,\n",
              "         0,  0,  0,  0,  0,  0,  0,  0,  0,  0,  0,  0,  0,  0,  0,  0,  0,  0,  0,  0,  0,  0,  0,  0,  0,  0,  0,  0,  0,  0,  0,  0,  0,  0,  0,  0,  0,  0,  0,  0,  0,  0,  0,  0,  0,  0,  0,\n",
              "         0,  0,  0,  0,  0,  0,  0,  0,  0,  0,  0,  0,  0,  0,  0,  0,  0,  0,  0,  0,  0,  0,  0,  0,  0,  0,  0,  0,  0,  0,  0,  0,  0,  0,  0,  0,  0,  0,  0,  0,  0,  0,  0,  0,  0,  0,  0,\n",
              "         0,  0,  0,  0,  0,  0,  0,  0,  0,  0,  0,  0,  0,  0,  0,  0,  0,  0,  0,  0,  0,  0,  0,  0,  0,  0,  0,  0,  0,  0,  0,  0,  0,  0,  0,  0,  0,  0,  0,  0,  0,  0,  0,  0,  0,  0,  0,\n",
              "         0,  0,  0,  0,  0,  0,  0,  0,  0,  0,  0,  0,  0,  0,  0,  0,  0,  0,  0,  0,  0,  0,  0,  0,  0,  0,  0,  0,  0,  0,  0,  0,  0,  0,  0,  0,  0,  0,  0,  0,  0,  0,  0,  0,  0,  0,  0,\n",
              "         0,  0,  0,  0,  0,  0,  0,  0,  0,  0,  0,  0,  0,  0,  0,  0,  0,  0,  0,  0,  0],\n",
              "       [64, 35, 18, 51, 73, 96, 74, 25, 92, 32, 20, 78, 56, 81, 20, 38, 49, 93, 32, 94, 77, 94, 60,  9, 20, 23, 14, 25, 38, 14,  0,  0,  0,  0,  0,  0,  0,  0,  0,  0,  0,  0,  0,  0,  0,  0,  0,\n",
              "         0,  0,  0,  0,  0,  0,  0,  0,  0,  0,  0,  0,  0,  0,  0,  0,  0,  0,  0,  0,  0,  0,  0,  0,  0,  0,  0,  0,  0,  0,  0,  0,  0,  0,  0,  0,  0,  0,  0,  0,  0,  0,  0,  0,  0,  0,  0,\n",
              "         0,  0,  0,  0,  0,  0,  0,  0,  0,  0,  0,  0,  0,  0,  0,  0,  0,  0,  0,  0,  0,  0,  0,  0,  0,  0,  0,  0,  0,  0,  0,  0,  0,  0,  0,  0,  0,  0,  0,  0,  0,  0,  0,  0,  0,  0,  0,\n",
              "         0,  0,  0,  0,  0,  0,  0,  0,  0,  0,  0,  0,  0,  0,  0,  0,  0,  0,  0,  0,  0,  0,  0,  0,  0,  0,  0,  0,  0,  0,  0,  0,  0,  0,  0,  0,  0,  0,  0,  0,  0,  0,  0,  0,  0,  0,  0,\n",
              "         0,  0,  0,  0,  0,  0,  0,  0,  0,  0,  0,  0,  0,  0,  0,  0,  0,  0,  0,  0,  0,  0,  0,  0,  0,  0,  0,  0,  0,  0,  0,  0,  0,  0,  0,  0,  0,  0,  0,  0,  0,  0,  0,  0,  0,  0,  0,\n",
              "         0,  0,  0,  0,  0,  0,  0,  0,  0,  0,  0,  0,  0,  0,  0,  0,  0,  0,  0,  0,  0,  0,  0,  0,  0,  0,  0,  0,  0,  0,  0,  0,  0,  0,  0,  0,  0,  0,  0,  0,  0,  0,  0,  0,  0,  0,  0,\n",
              "         0,  0,  0,  0,  0,  0,  0,  0,  0,  0,  0,  0,  0,  0,  0,  0,  0,  0,  0,  0,  0,  0,  0,  0,  0,  0,  0,  0,  0,  0,  0,  0,  0,  0,  0,  0,  0,  0,  0,  0,  0,  0,  0,  0,  0,  0,  0,\n",
              "         0,  0,  0,  0,  0,  0,  0,  0,  0,  0,  0,  0,  0,  0,  0,  0,  0,  0,  0,  0,  0],\n",
              "       [61, 44, 87, 76, 84, 14, 71, 28, 82, 46, 72, 79, 90, 93, 49,  2, 32, 65, 14, 67, 60, 47, 62, 32, 26, 13, 79, 13, 44, 87, 63, 40,  2, 25, 64, 66, 40,  8, 32, 38, 13, 46,  2, 36, 32, 74, 13,\n",
              "        95, 28, 25, 61, 84, 91, 47, 61, 55, 60, 73, 97, 25, 28, 64, 30, 28, 51, 27, 64, 47, 58, 50, 89, 82, 50, 51, 29, 10, 82, 32, 74, 42, 43, 20, 44, 88,  1, 90, 93,  0,  0,  0,  0,  0,  0,  0,\n",
              "         0,  0,  0,  0,  0,  0,  0,  0,  0,  0,  0,  0,  0,  0,  0,  0,  0,  0,  0,  0,  0,  0,  0,  0,  0,  0,  0,  0,  0,  0,  0,  0,  0,  0,  0,  0,  0,  0,  0,  0,  0,  0,  0,  0,  0,  0,  0,\n",
              "         0,  0,  0,  0,  0,  0,  0,  0,  0,  0,  0,  0,  0,  0,  0,  0,  0,  0,  0,  0,  0,  0,  0,  0,  0,  0,  0,  0,  0,  0,  0,  0,  0,  0,  0,  0,  0,  0,  0,  0,  0,  0,  0,  0,  0,  0,  0,\n",
              "         0,  0,  0,  0,  0,  0,  0,  0,  0,  0,  0,  0,  0,  0,  0,  0,  0,  0,  0,  0,  0,  0,  0,  0,  0,  0,  0,  0,  0,  0,  0,  0,  0,  0,  0,  0,  0,  0,  0,  0,  0,  0,  0,  0,  0,  0,  0,\n",
              "         0,  0,  0,  0,  0,  0,  0,  0,  0,  0,  0,  0,  0,  0,  0,  0,  0,  0,  0,  0,  0,  0,  0,  0,  0,  0,  0,  0,  0,  0,  0,  0,  0,  0,  0,  0,  0,  0,  0,  0,  0,  0,  0,  0,  0,  0,  0,\n",
              "         0,  0,  0,  0,  0,  0,  0,  0,  0,  0,  0,  0,  0,  0,  0,  0,  0,  0,  0,  0,  0,  0,  0,  0,  0,  0,  0,  0,  0,  0,  0,  0,  0,  0,  0,  0,  0,  0,  0,  0,  0,  0,  0,  0,  0,  0,  0,\n",
              "         0,  0,  0,  0,  0,  0,  0,  0,  0,  0,  0,  0,  0,  0,  0,  0,  0,  0,  0,  0,  0],\n",
              "       [33, 33, 31, 25, 15, 74, 32,  1, 30, 95,  8, 10, 18, 26, 39, 26, 51, 26, 89, 13, 89, 55, 24, 47, 15, 53, 39,  4, 24, 63, 75, 76, 30, 54, 82, 25, 21, 15, 89,  6, 31, 44, 28, 50, 90, 58, 86,\n",
              "        86, 73, 61, 48, 43, 46, 37,  8, 82,  2, 34,  2, 77, 45, 78, 44, 81, 31,  5, 65, 45, 49, 65, 36,  3, 64, 84, 11, 22, 15, 45, 92, 19, 70, 39, 50, 92,  6, 91, 12, 72, 74, 28, 62, 26, 61, 21,\n",
              "        34,  0,  0,  0,  0,  0,  0,  0,  0,  0,  0,  0,  0,  0,  0,  0,  0,  0,  0,  0,  0,  0,  0,  0,  0,  0,  0,  0,  0,  0,  0,  0,  0,  0,  0,  0,  0,  0,  0,  0,  0,  0,  0,  0,  0,  0,  0,\n",
              "         0,  0,  0,  0,  0,  0,  0,  0,  0,  0,  0,  0,  0,  0,  0,  0,  0,  0,  0,  0,  0,  0,  0,  0,  0,  0,  0,  0,  0,  0,  0,  0,  0,  0,  0,  0,  0,  0,  0,  0,  0,  0,  0,  0,  0,  0,  0,\n",
              "         0,  0,  0,  0,  0,  0,  0,  0,  0,  0,  0,  0,  0,  0,  0,  0,  0,  0,  0,  0,  0,  0,  0,  0,  0,  0,  0,  0,  0,  0,  0,  0,  0,  0,  0,  0,  0,  0,  0,  0,  0,  0,  0,  0,  0,  0,  0,\n",
              "         0,  0,  0,  0,  0,  0,  0,  0,  0,  0,  0,  0,  0,  0,  0,  0,  0,  0,  0,  0,  0,  0,  0,  0,  0,  0,  0,  0,  0,  0,  0,  0,  0,  0,  0,  0,  0,  0,  0,  0,  0,  0,  0,  0,  0,  0,  0,\n",
              "         0,  0,  0,  0,  0,  0,  0,  0,  0,  0,  0,  0,  0,  0,  0,  0,  0,  0,  0,  0,  0,  0,  0,  0,  0,  0,  0,  0,  0,  0,  0,  0,  0,  0,  0,  0,  0,  0,  0,  0,  0,  0,  0,  0,  0,  0,  0,\n",
              "         0,  0,  0,  0,  0,  0,  0,  0,  0,  0,  0,  0,  0,  0,  0,  0,  0,  0,  0,  0,  0],\n",
              "       [18, 23, 23, 27, 29, 53, 90, 62, 42, 24,  8,  1, 61, 19, 14, 17, 64, 18, 83, 12, 64, 97, 29, 40, 92, 79, 62, 99, 82, 70, 82, 88,  5, 33,  1, 95, 63, 66, 29, 15, 23, 92, 20, 52, 46, 35, 39,\n",
              "        46, 87, 81, 45, 60, 55, 60, 99, 11, 59, 24, 76, 33, 57, 26, 27,  4, 66, 99, 56, 96, 35, 98, 72,  0,  0,  0,  0,  0,  0,  0,  0,  0,  0,  0,  0,  0,  0,  0,  0,  0,  0,  0,  0,  0,  0,  0,\n",
              "         0,  0,  0,  0,  0,  0,  0,  0,  0,  0,  0,  0,  0,  0,  0,  0,  0,  0,  0,  0,  0,  0,  0,  0,  0,  0,  0,  0,  0,  0,  0,  0,  0,  0,  0,  0,  0,  0,  0,  0,  0,  0,  0,  0,  0,  0,  0,\n",
              "         0,  0,  0,  0,  0,  0,  0,  0,  0,  0,  0,  0,  0,  0,  0,  0,  0,  0,  0,  0,  0,  0,  0,  0,  0,  0,  0,  0,  0,  0,  0,  0,  0,  0,  0,  0,  0,  0,  0,  0,  0,  0,  0,  0,  0,  0,  0,\n",
              "         0,  0,  0,  0,  0,  0,  0,  0,  0,  0,  0,  0,  0,  0,  0,  0,  0,  0,  0,  0,  0,  0,  0,  0,  0,  0,  0,  0,  0,  0,  0,  0,  0,  0,  0,  0,  0,  0,  0,  0,  0,  0,  0,  0,  0,  0,  0,\n",
              "         0,  0,  0,  0,  0,  0,  0,  0,  0,  0,  0,  0,  0,  0,  0,  0,  0,  0,  0,  0,  0,  0,  0,  0,  0,  0,  0,  0,  0,  0,  0,  0,  0,  0,  0,  0,  0,  0,  0,  0,  0,  0,  0,  0,  0,  0,  0,\n",
              "         0,  0,  0,  0,  0,  0,  0,  0,  0,  0,  0,  0,  0,  0,  0,  0,  0,  0,  0,  0,  0,  0,  0,  0,  0,  0,  0,  0,  0,  0,  0,  0,  0,  0,  0,  0,  0,  0,  0,  0,  0,  0,  0,  0,  0,  0,  0,\n",
              "         0,  0,  0,  0,  0,  0,  0,  0,  0,  0,  0,  0,  0,  0,  0,  0,  0,  0,  0,  0,  0]], dtype=int32)"
            ]
          },
          "metadata": {
            "tags": []
          },
          "execution_count": 39
        }
      ]
    },
    {
      "cell_type": "code",
      "metadata": {
        "colab": {
          "base_uri": "https://localhost:8080/"
        },
        "id": "bPH6kbfJQeEB",
        "outputId": "094fa8dd-b3f7-4e20-abbf-41dcbfbcb0f9"
      },
      "source": [
        "X_test"
      ],
      "execution_count": null,
      "outputs": [
        {
          "output_type": "execute_result",
          "data": {
            "text/plain": [
              "array([[50, 62, 29, 97, 66, 69, 38, 32, 64, 49, 36, 46, 51, 69, 96, 13, 50, 35, 96,  6, 43, 74, 73, 74, 50,  1, 68, 12, 14, 81, 87, 79, 30, 52, 77, 12, 26, 26, 49,  4, 36, 36, 73, 23, 14, 96, 37,\n",
              "        54, 98, 19, 18, 66, 81, 49, 36, 84, 83, 12, 98, 85, 18, 12, 49, 36, 65, 18, 37, 60, 93, 29,  0,  0,  0,  0,  0,  0,  0,  0,  0,  0,  0,  0,  0,  0,  0,  0,  0,  0,  0,  0,  0,  0,  0,  0,\n",
              "         0,  0,  0,  0,  0,  0,  0,  0,  0,  0,  0,  0,  0,  0,  0,  0,  0,  0,  0,  0,  0,  0,  0,  0,  0,  0,  0,  0,  0,  0,  0,  0,  0,  0,  0,  0,  0,  0,  0,  0,  0,  0,  0,  0,  0,  0,  0,\n",
              "         0,  0,  0,  0,  0,  0,  0,  0,  0,  0,  0,  0,  0,  0,  0,  0,  0,  0,  0,  0,  0,  0,  0,  0,  0,  0,  0,  0,  0,  0,  0,  0,  0,  0,  0,  0,  0,  0,  0,  0,  0,  0,  0,  0,  0,  0,  0,\n",
              "         0,  0,  0,  0,  0,  0,  0,  0,  0,  0,  0,  0,  0,  0,  0,  0,  0,  0,  0,  0,  0,  0,  0,  0,  0,  0,  0,  0,  0,  0,  0,  0,  0,  0,  0,  0,  0,  0,  0,  0,  0,  0,  0,  0,  0,  0,  0,\n",
              "         0,  0,  0,  0,  0,  0,  0,  0,  0,  0,  0,  0,  0,  0,  0,  0,  0,  0,  0,  0,  0,  0,  0,  0,  0,  0,  0,  0,  0,  0,  0,  0,  0,  0,  0,  0,  0,  0,  0,  0,  0,  0,  0,  0,  0,  0,  0,\n",
              "         0,  0,  0,  0,  0,  0,  0,  0,  0,  0,  0,  0,  0,  0,  0,  0,  0,  0,  0,  0,  0,  0,  0,  0,  0,  0,  0,  0,  0,  0,  0,  0,  0,  0,  0,  0,  0,  0,  0,  0,  0,  0,  0,  0,  0,  0,  0,\n",
              "         0,  0,  0,  0,  0,  0,  0,  0,  0,  0,  0,  0,  0,  0,  0,  0,  0,  0,  0,  0,  0],\n",
              "       [83, 98, 55, 18, 91, 86, 96, 19, 20, 33, 55,  8, 64, 60, 55, 86,  9, 72, 32, 88, 61, 48, 86, 88, 52, 86, 72, 21,  2, 16, 81, 12, 81, 53, 72, 59, 60, 64, 87, 66, 13,  6, 89, 87, 62, 13,  6,\n",
              "        93, 72, 76, 30, 35, 38, 25, 31, 69, 98, 75,  8, 65, 79, 60, 28, 16, 32, 81, 74, 18, 25,  6, 48, 17, 75, 58,  8, 57, 26, 52, 17, 21, 37, 52,  6, 90,  8, 36, 90, 36,  6, 90,  6, 57, 26, 81,\n",
              "        60, 49, 89, 96, 36, 15,  1, 19, 52, 86, 25, 52, 12, 31, 86, 30, 38, 36, 28, 87, 21, 10,  9, 74, 78, 13, 86,  8, 85, 26, 28, 79, 20, 30, 81, 81, 12, 38, 14, 26, 36, 38, 14,  8, 60, 86, 38,\n",
              "        87,  9, 74, 41,  8, 28, 60, 43, 10, 62, 85, 98, 31, 43, 69, 32, 20, 60, 68, 30, 45, 45, 28, 62, 89,  1, 80, 97, 45, 23, 29, 21, 97, 97, 14, 88, 32, 68, 97, 97, 14, 88,  6, 28, 87,  1, 56,\n",
              "         6, 28, 12, 74, 66, 60, 31, 41,  1, 28, 97, 14, 72, 97, 14, 88, 30, 45, 98, 60, 43, 14,  6, 97, 14, 58, 60, 66, 35, 29, 60, 12, 27, 21, 15, 42, 28, 26, 53, 13, 12, 19, 31, 48, 12, 19, 31,\n",
              "        74, 19, 87, 78, 10, 48, 87,  1, 65, 10, 19, 19, 44, 52, 25, 74, 42, 12,  0,  0,  0,  0,  0,  0,  0,  0,  0,  0,  0,  0,  0,  0,  0,  0,  0,  0,  0,  0,  0,  0,  0,  0,  0,  0,  0,  0,  0,\n",
              "         0,  0,  0,  0,  0,  0,  0,  0,  0,  0,  0,  0,  0,  0,  0,  0,  0,  0,  0,  0,  0,  0,  0,  0,  0,  0,  0,  0,  0,  0,  0,  0,  0,  0,  0,  0,  0,  0,  0,  0,  0,  0,  0,  0,  0,  0,  0,\n",
              "         0,  0,  0,  0,  0,  0,  0,  0,  0,  0,  0,  0,  0,  0,  0,  0,  0,  0,  0,  0,  0],\n",
              "       [25, 59, 58, 78, 25, 75, 60, 70, 14, 75, 53, 31, 70,  3, 25, 35, 32, 88, 81, 55, 55, 75,  4, 15,  2, 79, 65, 25, 41, 42, 19, 31, 77, 92, 29, 70, 40, 26,  5,  3, 84, 26, 73, 41, 83, 74, 51,\n",
              "        25, 29, 16, 55,  7, 28, 61, 53, 46, 20, 86,  3, 20, 40, 84, 85, 15,  0,  0,  0,  0,  0,  0,  0,  0,  0,  0,  0,  0,  0,  0,  0,  0,  0,  0,  0,  0,  0,  0,  0,  0,  0,  0,  0,  0,  0,  0,\n",
              "         0,  0,  0,  0,  0,  0,  0,  0,  0,  0,  0,  0,  0,  0,  0,  0,  0,  0,  0,  0,  0,  0,  0,  0,  0,  0,  0,  0,  0,  0,  0,  0,  0,  0,  0,  0,  0,  0,  0,  0,  0,  0,  0,  0,  0,  0,  0,\n",
              "         0,  0,  0,  0,  0,  0,  0,  0,  0,  0,  0,  0,  0,  0,  0,  0,  0,  0,  0,  0,  0,  0,  0,  0,  0,  0,  0,  0,  0,  0,  0,  0,  0,  0,  0,  0,  0,  0,  0,  0,  0,  0,  0,  0,  0,  0,  0,\n",
              "         0,  0,  0,  0,  0,  0,  0,  0,  0,  0,  0,  0,  0,  0,  0,  0,  0,  0,  0,  0,  0,  0,  0,  0,  0,  0,  0,  0,  0,  0,  0,  0,  0,  0,  0,  0,  0,  0,  0,  0,  0,  0,  0,  0,  0,  0,  0,\n",
              "         0,  0,  0,  0,  0,  0,  0,  0,  0,  0,  0,  0,  0,  0,  0,  0,  0,  0,  0,  0,  0,  0,  0,  0,  0,  0,  0,  0,  0,  0,  0,  0,  0,  0,  0,  0,  0,  0,  0,  0,  0,  0,  0,  0,  0,  0,  0,\n",
              "         0,  0,  0,  0,  0,  0,  0,  0,  0,  0,  0,  0,  0,  0,  0,  0,  0,  0,  0,  0,  0,  0,  0,  0,  0,  0,  0,  0,  0,  0,  0,  0,  0,  0,  0,  0,  0,  0,  0,  0,  0,  0,  0,  0,  0,  0,  0,\n",
              "         0,  0,  0,  0,  0,  0,  0,  0,  0,  0,  0,  0,  0,  0,  0,  0,  0,  0,  0,  0,  0],\n",
              "       [82, 87, 37, 41, 39, 10, 33, 97, 56, 85,  9, 25, 77, 40, 50, 61, 71, 21, 50, 22, 97, 89, 82,  1, 15, 89, 56, 22, 88, 64, 82, 73, 50, 58, 82, 53,  2, 23, 45, 41, 83, 16,  1, 18, 53, 63, 31,\n",
              "        80, 28, 60,  1,  1,  0,  0,  0,  0,  0,  0,  0,  0,  0,  0,  0,  0,  0,  0,  0,  0,  0,  0,  0,  0,  0,  0,  0,  0,  0,  0,  0,  0,  0,  0,  0,  0,  0,  0,  0,  0,  0,  0,  0,  0,  0,  0,\n",
              "         0,  0,  0,  0,  0,  0,  0,  0,  0,  0,  0,  0,  0,  0,  0,  0,  0,  0,  0,  0,  0,  0,  0,  0,  0,  0,  0,  0,  0,  0,  0,  0,  0,  0,  0,  0,  0,  0,  0,  0,  0,  0,  0,  0,  0,  0,  0,\n",
              "         0,  0,  0,  0,  0,  0,  0,  0,  0,  0,  0,  0,  0,  0,  0,  0,  0,  0,  0,  0,  0,  0,  0,  0,  0,  0,  0,  0,  0,  0,  0,  0,  0,  0,  0,  0,  0,  0,  0,  0,  0,  0,  0,  0,  0,  0,  0,\n",
              "         0,  0,  0,  0,  0,  0,  0,  0,  0,  0,  0,  0,  0,  0,  0,  0,  0,  0,  0,  0,  0,  0,  0,  0,  0,  0,  0,  0,  0,  0,  0,  0,  0,  0,  0,  0,  0,  0,  0,  0,  0,  0,  0,  0,  0,  0,  0,\n",
              "         0,  0,  0,  0,  0,  0,  0,  0,  0,  0,  0,  0,  0,  0,  0,  0,  0,  0,  0,  0,  0,  0,  0,  0,  0,  0,  0,  0,  0,  0,  0,  0,  0,  0,  0,  0,  0,  0,  0,  0,  0,  0,  0,  0,  0,  0,  0,\n",
              "         0,  0,  0,  0,  0,  0,  0,  0,  0,  0,  0,  0,  0,  0,  0,  0,  0,  0,  0,  0,  0,  0,  0,  0,  0,  0,  0,  0,  0,  0,  0,  0,  0,  0,  0,  0,  0,  0,  0,  0,  0,  0,  0,  0,  0,  0,  0,\n",
              "         0,  0,  0,  0,  0,  0,  0,  0,  0,  0,  0,  0,  0,  0,  0,  0,  0,  0,  0,  0,  0],\n",
              "       [18, 98, 83, 89, 93, 88, 48, 53,  8, 50, 97, 45, 21, 21, 86, 69, 30, 10, 73, 53, 46, 81, 50, 58, 35, 15, 57, 13, 28, 51, 77,  4, 42, 80, 71, 88, 14, 64,  7,  9, 43, 29, 78,  2, 53, 45, 73,\n",
              "        26, 55, 28, 28, 42, 20, 68, 97, 84, 42, 57, 99, 15, 38, 51, 37,  7, 29, 91, 34, 58, 58, 71, 54, 38, 13, 35, 52, 89, 17, 82,  9, 26, 48, 88, 80, 77, 45, 51, 83, 20, 20, 22, 98, 19, 71, 46,\n",
              "        80, 35, 87, 26, 19, 55, 17, 99, 37, 71, 71, 16, 58, 16, 15, 44, 39, 26, 97, 10, 89, 74, 48,  2, 14, 12, 31, 82, 13, 85, 74, 52, 25, 38, 52, 93, 73, 44,  4, 57, 61, 60, 77, 54, 41, 83, 74,\n",
              "        40, 90, 19, 88, 90,  2, 28, 35, 89, 35,  5, 28, 29, 34, 44, 15, 69, 74, 62, 49, 28, 97, 46, 26, 71, 56, 87, 29, 78, 28, 96, 10, 73, 65, 14, 96, 81, 51, 34, 14, 94, 53, 94, 26, 41, 41, 98,\n",
              "        26, 72, 23, 14, 48, 82, 13,  9, 19, 43, 16, 42, 13, 96, 97, 38, 74, 83,  1, 74, 82, 70, 70, 55, 53, 32, 74, 11, 92, 42, 68, 26,  4, 62,  7, 83,  2, 71, 12, 30,  1, 60, 76, 93, 94, 54, 67,\n",
              "        45, 77, 10, 24, 96, 94,  8, 51, 73, 12, 66, 34, 28, 51,  4, 88, 96,  9, 19, 77, 43, 76, 15, 32, 76, 45, 28, 78, 12, 25, 13, 58, 58,  4,  9, 31, 92, 50, 53, 77, 32, 37, 85, 62, 62, 51, 97,\n",
              "        30, 23, 35, 51, 21, 36, 74, 55, 53, 29, 75, 17, 16, 93, 58, 17, 44, 26, 49,  1, 47,  8, 48, 70, 88, 63, 92, 10, 35, 16, 88, 42,  8, 35, 10, 18, 67, 50, 73, 58, 23, 15, 97, 88, 25, 65, 18,\n",
              "        71,  0,  0,  0,  0,  0,  0,  0,  0,  0,  0,  0,  0,  0,  0,  0,  0,  0,  0,  0,  0],\n",
              "       [41, 81, 25, 35, 56, 81, 29, 37, 96, 47, 59, 36, 16, 55, 55, 38, 41, 92, 18,  1, 47, 54, 16, 84, 25, 45, 84, 60,  8, 81, 54, 44, 50, 28, 46, 40, 23, 93, 13, 78, 82, 49, 88, 37, 84, 85, 46,\n",
              "        96, 97, 14, 93, 77, 23, 14, 25, 93, 12, 84, 84, 84,  1, 47, 81, 22, 71, 53, 86, 28,  2, 28, 29, 46,  8, 45, 72, 56, 46, 45, 72, 39, 65, 29, 41, 34, 52, 85, 41, 29,  1,  3, 34, 17, 89, 67,\n",
              "        31, 34, 42, 50, 98, 67, 74, 10, 76, 41, 41, 53, 51, 51, 14, 67, 73, 51, 51, 25, 19, 15, 24, 48, 36, 56,  9, 85, 65, 76,  2, 25, 10, 51,  9,  9, 47, 45, 85, 41, 22, 30, 71, 14, 50, 62, 23,\n",
              "        88, 90,  0,  0,  0,  0,  0,  0,  0,  0,  0,  0,  0,  0,  0,  0,  0,  0,  0,  0,  0,  0,  0,  0,  0,  0,  0,  0,  0,  0,  0,  0,  0,  0,  0,  0,  0,  0,  0,  0,  0,  0,  0,  0,  0,  0,  0,\n",
              "         0,  0,  0,  0,  0,  0,  0,  0,  0,  0,  0,  0,  0,  0,  0,  0,  0,  0,  0,  0,  0,  0,  0,  0,  0,  0,  0,  0,  0,  0,  0,  0,  0,  0,  0,  0,  0,  0,  0,  0,  0,  0,  0,  0,  0,  0,  0,\n",
              "         0,  0,  0,  0,  0,  0,  0,  0,  0,  0,  0,  0,  0,  0,  0,  0,  0,  0,  0,  0,  0,  0,  0,  0,  0,  0,  0,  0,  0,  0,  0,  0,  0,  0,  0,  0,  0,  0,  0,  0,  0,  0,  0,  0,  0,  0,  0,\n",
              "         0,  0,  0,  0,  0,  0,  0,  0,  0,  0,  0,  0,  0,  0,  0,  0,  0,  0,  0,  0,  0,  0,  0,  0,  0,  0,  0,  0,  0,  0,  0,  0,  0,  0,  0,  0,  0,  0,  0,  0,  0,  0,  0,  0,  0,  0,  0,\n",
              "         0,  0,  0,  0,  0,  0,  0,  0,  0,  0,  0,  0,  0,  0,  0,  0,  0,  0,  0,  0,  0],\n",
              "       [83, 73, 47, 78,  7,  6, 60, 23,  2, 28, 13, 80, 23, 68, 27, 51, 99, 87, 83, 83, 93, 49, 97, 83, 23, 14, 67, 91, 55, 98, 89, 39, 93, 95, 21, 94, 28, 46, 88, 12, 80, 80, 82, 67, 27, 81, 65,\n",
              "        59, 84, 11, 50, 59, 47, 31, 98, 74, 36,  2, 84, 20, 78, 84, 10, 81, 78, 98, 80, 78, 61, 95,  1, 51, 81, 95, 89, 89, 37, 83, 23, 78, 33, 59,  0,  0,  0,  0,  0,  0,  0,  0,  0,  0,  0,  0,\n",
              "         0,  0,  0,  0,  0,  0,  0,  0,  0,  0,  0,  0,  0,  0,  0,  0,  0,  0,  0,  0,  0,  0,  0,  0,  0,  0,  0,  0,  0,  0,  0,  0,  0,  0,  0,  0,  0,  0,  0,  0,  0,  0,  0,  0,  0,  0,  0,\n",
              "         0,  0,  0,  0,  0,  0,  0,  0,  0,  0,  0,  0,  0,  0,  0,  0,  0,  0,  0,  0,  0,  0,  0,  0,  0,  0,  0,  0,  0,  0,  0,  0,  0,  0,  0,  0,  0,  0,  0,  0,  0,  0,  0,  0,  0,  0,  0,\n",
              "         0,  0,  0,  0,  0,  0,  0,  0,  0,  0,  0,  0,  0,  0,  0,  0,  0,  0,  0,  0,  0,  0,  0,  0,  0,  0,  0,  0,  0,  0,  0,  0,  0,  0,  0,  0,  0,  0,  0,  0,  0,  0,  0,  0,  0,  0,  0,\n",
              "         0,  0,  0,  0,  0,  0,  0,  0,  0,  0,  0,  0,  0,  0,  0,  0,  0,  0,  0,  0,  0,  0,  0,  0,  0,  0,  0,  0,  0,  0,  0,  0,  0,  0,  0,  0,  0,  0,  0,  0,  0,  0,  0,  0,  0,  0,  0,\n",
              "         0,  0,  0,  0,  0,  0,  0,  0,  0,  0,  0,  0,  0,  0,  0,  0,  0,  0,  0,  0,  0,  0,  0,  0,  0,  0,  0,  0,  0,  0,  0,  0,  0,  0,  0,  0,  0,  0,  0,  0,  0,  0,  0,  0,  0,  0,  0,\n",
              "         0,  0,  0,  0,  0,  0,  0,  0,  0,  0,  0,  0,  0,  0,  0,  0,  0,  0,  0,  0,  0],\n",
              "       [23, 45, 76, 12, 55, 28, 38, 21, 75, 24, 95, 40,  5, 70, 34, 48, 40, 77, 44, 51, 13, 79, 59, 48,  3, 54, 77, 69, 99, 69, 54, 86, 39, 14, 33, 79, 77, 20, 55, 14, 92, 72,  6, 52, 79, 82, 38,\n",
              "        71, 67, 52, 11, 23, 47, 80, 69, 39, 33, 28, 82,  6, 94, 28, 45, 65, 26, 40, 38, 62, 68, 22, 68, 85, 63, 71, 43, 90, 52, 35, 97, 99, 53, 31, 42, 11, 28, 55, 69, 78, 13, 33, 41, 91, 17, 23,\n",
              "        24,  6, 25, 64,  0,  0,  0,  0,  0,  0,  0,  0,  0,  0,  0,  0,  0,  0,  0,  0,  0,  0,  0,  0,  0,  0,  0,  0,  0,  0,  0,  0,  0,  0,  0,  0,  0,  0,  0,  0,  0,  0,  0,  0,  0,  0,  0,\n",
              "         0,  0,  0,  0,  0,  0,  0,  0,  0,  0,  0,  0,  0,  0,  0,  0,  0,  0,  0,  0,  0,  0,  0,  0,  0,  0,  0,  0,  0,  0,  0,  0,  0,  0,  0,  0,  0,  0,  0,  0,  0,  0,  0,  0,  0,  0,  0,\n",
              "         0,  0,  0,  0,  0,  0,  0,  0,  0,  0,  0,  0,  0,  0,  0,  0,  0,  0,  0,  0,  0,  0,  0,  0,  0,  0,  0,  0,  0,  0,  0,  0,  0,  0,  0,  0,  0,  0,  0,  0,  0,  0,  0,  0,  0,  0,  0,\n",
              "         0,  0,  0,  0,  0,  0,  0,  0,  0,  0,  0,  0,  0,  0,  0,  0,  0,  0,  0,  0,  0,  0,  0,  0,  0,  0,  0,  0,  0,  0,  0,  0,  0,  0,  0,  0,  0,  0,  0,  0,  0,  0,  0,  0,  0,  0,  0,\n",
              "         0,  0,  0,  0,  0,  0,  0,  0,  0,  0,  0,  0,  0,  0,  0,  0,  0,  0,  0,  0,  0,  0,  0,  0,  0,  0,  0,  0,  0,  0,  0,  0,  0,  0,  0,  0,  0,  0,  0,  0,  0,  0,  0,  0,  0,  0,  0,\n",
              "         0,  0,  0,  0,  0,  0,  0,  0,  0,  0,  0,  0,  0,  0,  0,  0,  0,  0,  0,  0,  0],\n",
              "       [16,  3, 34, 28, 68, 28, 68, 73, 51, 81, 38, 77, 50, 68, 55, 97, 10, 15,  3, 44, 64, 68, 55, 38, 14, 87, 15, 45, 60,  6, 65,  0,  0,  0,  0,  0,  0,  0,  0,  0,  0,  0,  0,  0,  0,  0,  0,\n",
              "         0,  0,  0,  0,  0,  0,  0,  0,  0,  0,  0,  0,  0,  0,  0,  0,  0,  0,  0,  0,  0,  0,  0,  0,  0,  0,  0,  0,  0,  0,  0,  0,  0,  0,  0,  0,  0,  0,  0,  0,  0,  0,  0,  0,  0,  0,  0,\n",
              "         0,  0,  0,  0,  0,  0,  0,  0,  0,  0,  0,  0,  0,  0,  0,  0,  0,  0,  0,  0,  0,  0,  0,  0,  0,  0,  0,  0,  0,  0,  0,  0,  0,  0,  0,  0,  0,  0,  0,  0,  0,  0,  0,  0,  0,  0,  0,\n",
              "         0,  0,  0,  0,  0,  0,  0,  0,  0,  0,  0,  0,  0,  0,  0,  0,  0,  0,  0,  0,  0,  0,  0,  0,  0,  0,  0,  0,  0,  0,  0,  0,  0,  0,  0,  0,  0,  0,  0,  0,  0,  0,  0,  0,  0,  0,  0,\n",
              "         0,  0,  0,  0,  0,  0,  0,  0,  0,  0,  0,  0,  0,  0,  0,  0,  0,  0,  0,  0,  0,  0,  0,  0,  0,  0,  0,  0,  0,  0,  0,  0,  0,  0,  0,  0,  0,  0,  0,  0,  0,  0,  0,  0,  0,  0,  0,\n",
              "         0,  0,  0,  0,  0,  0,  0,  0,  0,  0,  0,  0,  0,  0,  0,  0,  0,  0,  0,  0,  0,  0,  0,  0,  0,  0,  0,  0,  0,  0,  0,  0,  0,  0,  0,  0,  0,  0,  0,  0,  0,  0,  0,  0,  0,  0,  0,\n",
              "         0,  0,  0,  0,  0,  0,  0,  0,  0,  0,  0,  0,  0,  0,  0,  0,  0,  0,  0,  0,  0,  0,  0,  0,  0,  0,  0,  0,  0,  0,  0,  0,  0,  0,  0,  0,  0,  0,  0,  0,  0,  0,  0,  0,  0,  0,  0,\n",
              "         0,  0,  0,  0,  0,  0,  0,  0,  0,  0,  0,  0,  0,  0,  0,  0,  0,  0,  0,  0,  0]], dtype=int32)"
            ]
          },
          "metadata": {
            "tags": []
          },
          "execution_count": 40
        }
      ]
    },
    {
      "cell_type": "code",
      "metadata": {
        "id": "cMTWvaII80gS"
      },
      "source": [
        "dim = 41"
      ],
      "execution_count": null,
      "outputs": []
    },
    {
      "cell_type": "markdown",
      "metadata": {
        "id": "-oUVmrR3dr3L"
      },
      "source": [
        "**LSTM model building**"
      ]
    },
    {
      "cell_type": "code",
      "metadata": {
        "colab": {
          "base_uri": "https://localhost:8080/"
        },
        "id": "LhAo0Jyj9E2R",
        "outputId": "8a4303cd-84ce-4730-dfe9-9897b13f2f0a"
      },
      "source": [
        "from keras.models import Sequential, Model\r\n",
        "from keras.layers import Embedding, Dense, Dropout, Activation, Input, LSTM, GRU \r\n",
        "from keras.optimizers import SGD\r\n",
        "from keras.callbacks import TensorBoard\r\n",
        "from keras.callbacks import LambdaCallback\r\n",
        "import tensorflow as tf \r\n",
        "#tf.compat.v1.enable_eager_execution()\r\n",
        "\r\n",
        "model = Sequential()\r\n",
        "model.call = tf.function(model.call)\r\n",
        "model.add(Embedding(vocab_size, dim, input_length=maxlen))\r\n",
        "#model.add(Dropout(.2))\r\n",
        "model.add(LSTM(41,return_sequences=True, input_shape=(vocab_size, dim)))\r\n",
        "#model.add(Dropout(.2))\r\n",
        "model.add(GRU(41))\r\n",
        "model.add(Dense(10,activation='relu'))\r\n",
        "model.add(Dense(1, activation=\"relu\"))\r\n",
        "\r\n",
        "print_weights = LambdaCallback(on_epoch_end=lambda batch, logs: print(model.layers[0].get_weights()))\r\n",
        "opt = SGD(lr=0.01, momentum=0.9)\r\n",
        "model.compile(optimizer= 'adam',loss='binary_crossentropy', metrics= ['accuracy'])#,run_eagerly=True)\r\n",
        "model.summary()"
      ],
      "execution_count": null,
      "outputs": [
        {
          "output_type": "stream",
          "text": [
            "Model: \"sequential_2\"\n",
            "_________________________________________________________________\n",
            "Layer (type)                 Output Shape              Param #   \n",
            "=================================================================\n",
            "embedding_2 (Embedding)      (None, 350, 41)           4100      \n",
            "_________________________________________________________________\n",
            "lstm_2 (LSTM)                (None, 350, 350)          548800    \n",
            "_________________________________________________________________\n",
            "gru_2 (GRU)                  (None, 350)               737100    \n",
            "_________________________________________________________________\n",
            "dense_4 (Dense)              (None, 10)                3510      \n",
            "_________________________________________________________________\n",
            "dense_5 (Dense)              (None, 1)                 11        \n",
            "=================================================================\n",
            "Total params: 1,293,521\n",
            "Trainable params: 1,293,521\n",
            "Non-trainable params: 0\n",
            "_________________________________________________________________\n"
          ],
          "name": "stdout"
        }
      ]
    },
    {
      "cell_type": "markdown",
      "metadata": {
        "id": "bZviGVHXdxR7"
      },
      "source": [
        "**Model Fitting**"
      ]
    },
    {
      "cell_type": "code",
      "metadata": {
        "id": "45ME-6cEsQAj"
      },
      "source": [
        "%%time\r\n",
        "model.fit(X_train,y_train,epochs=20,validation_data= (X_val,y_val),batch_size= 4,callbacks = [print_weights])"
      ],
      "execution_count": null,
      "outputs": []
    },
    {
      "cell_type": "code",
      "metadata": {
        "id": "vCVx47uds43V"
      },
      "source": [
        "\r\n",
        "# Load the TensorBoard notebook extension\r\n",
        "%reload_ext tensorboard\r\n",
        "\r\n",
        "import tensorflow as tf\r\n",
        "import datetime\r\n",
        "\r\n",
        "# Clear any logs from previous runs\r\n",
        "!rm -rf ./logs/ \r\n",
        "\r\n",
        "# Disable V2 behavior\r\n",
        "tf.compat.v1.disable_v2_behavior()\r\n",
        "log_dir = \"logs/fit/\" + datetime.datetime.now().strftime(\"%Y%m%d-%H%M%S\")\r\n",
        "\r\n",
        "tb = tf.compat.v1.keras.callbacks.TensorBoard(log_dir=log_dir, histogram_freq=1, write_grads =True)\r\n",
        "\r\n",
        "#tb = TensorBoard(histogram_freq=1, write_grads=True)\r\n",
        "model.fit(X_train,y_train,epochs=20,validation_data= (X_val,y_val),batch_size= 4,callbacks = [tb])\r\n",
        "\r\n",
        "%tensorboard --logdir logs/fit"
      ],
      "execution_count": null,
      "outputs": []
    },
    {
      "cell_type": "markdown",
      "metadata": {
        "id": "jZBAbNxEd33d"
      },
      "source": [
        "**Confusion Matrix**  "
      ]
    },
    {
      "cell_type": "code",
      "metadata": {
        "colab": {
          "base_uri": "https://localhost:8080/"
        },
        "id": "105zhlo3s8oI",
        "outputId": "9ba36094-2f69-4beb-fcbe-29317a5a6e05"
      },
      "source": [
        "from sklearn.metrics import confusion_matrix\r\n",
        "predictions = (model.predict(X_test))\r\n",
        "predictions = np.round(predictions)\r\n",
        "cm= confusion_matrix(y_test, predictions)\r\n",
        "print(cm)"
      ],
      "execution_count": null,
      "outputs": [
        {
          "output_type": "stream",
          "text": [
            "/usr/local/lib/python3.6/dist-packages/tensorflow/python/keras/engine/training.py:2325: UserWarning: `Model.state_updates` will be removed in a future version. This property should not be used in TensorFlow 2.0, as `updates` are applied automatically.\n",
            "  warnings.warn('`Model.state_updates` will be removed in a future version. '\n"
          ],
          "name": "stderr"
        },
        {
          "output_type": "stream",
          "text": [
            "[[5 0]\n",
            " [4 0]]\n"
          ],
          "name": "stdout"
        }
      ]
    },
    {
      "cell_type": "code",
      "metadata": {
        "colab": {
          "base_uri": "https://localhost:8080/"
        },
        "id": "SpIkSGzGs-yx",
        "outputId": "94056ce6-12df-4821-cfdc-4f9e86a2534f"
      },
      "source": [
        "from sklearn.metrics import accuracy_score\r\n",
        "\r\n",
        "# Getting score metrics from our model\r\n",
        "accuracy_score = model.evaluate(X_test, y_test, verbose=0)\r\n",
        "\r\n",
        "# Displays the accuracy of correct sentiment prediction over test data\r\n",
        "print(\"Accuracy: %.2f%%\" % (accuracy_score[1]*100))"
      ],
      "execution_count": null,
      "outputs": [
        {
          "output_type": "stream",
          "text": [
            "Accuracy: 55.56%\n"
          ],
          "name": "stdout"
        }
      ]
    },
    {
      "cell_type": "code",
      "metadata": {
        "colab": {
          "base_uri": "https://localhost:8080/"
        },
        "id": "sHUsr-U1tCJZ",
        "outputId": "e42c6acd-b507-4f43-9388-b79f08d1d3aa"
      },
      "source": [
        "from sklearn.metrics import classification_report\r\n",
        "target_names = ['poetry','novel']\r\n",
        "print(classification_report(y_test,predictions, target_names=target_names))"
      ],
      "execution_count": null,
      "outputs": [
        {
          "output_type": "stream",
          "text": [
            "              precision    recall  f1-score   support\n",
            "\n",
            "      poetry       0.56      1.00      0.71         5\n",
            "       novel       0.00      0.00      0.00         4\n",
            "\n",
            "    accuracy                           0.56         9\n",
            "   macro avg       0.28      0.50      0.36         9\n",
            "weighted avg       0.31      0.56      0.40         9\n",
            "\n"
          ],
          "name": "stdout"
        },
        {
          "output_type": "stream",
          "text": [
            "/usr/local/lib/python3.6/dist-packages/sklearn/metrics/_classification.py:1272: UndefinedMetricWarning: Precision and F-score are ill-defined and being set to 0.0 in labels with no predicted samples. Use `zero_division` parameter to control this behavior.\n",
            "  _warn_prf(average, modifier, msg_start, len(result))\n"
          ],
          "name": "stderr"
        }
      ]
    },
    {
      "cell_type": "code",
      "metadata": {
        "colab": {
          "base_uri": "https://localhost:8080/",
          "height": 282
        },
        "id": "9nXJWkjAA31x",
        "outputId": "334f673f-5956-4a63-d3bb-e19f666546fc"
      },
      "source": [
        "from sklearn import metrics\r\n",
        "import numpy as np\r\n",
        "import matplotlib.pyplot as plt\r\n",
        "\r\n",
        "#y_true = # true labels\r\n",
        "#y_probas = # predicted results\r\n",
        "fpr, tpr, thresholds = metrics.roc_curve(y_test, predictions)\r\n",
        "\r\n",
        "# Print ROC curve\r\n",
        "plt.plot(fpr,tpr)\r\n",
        "plt.show() \r\n",
        "\r\n",
        "# Print AUC\r\n",
        "auc = np.trapz(tpr,fpr)\r\n",
        "print('AUC:', auc)"
      ],
      "execution_count": null,
      "outputs": [
        {
          "output_type": "display_data",
          "data": {
            "image/png": "[encoded data removed]",
            "text/plain": [
              "<Figure size 432x288 with 1 Axes>"
            ]
          },
          "metadata": {
            "tags": []
          }
        },
        {
          "output_type": "stream",
          "text": [
            "AUC: 0.5\n"
          ],
          "name": "stdout"
        }
      ]
    },
    {
      "cell_type": "code",
      "metadata": {
        "colab": {
          "background_save": true
        },
        "id": "2apViqNP-USD",
        "outputId": "dbf91ea4-d8d0-4177-f334-c2f519597df0"
      },
      "source": [
        "# predict on a sample text without padding.\r\n",
        "# to select the 4th poetry in the dataframe and to predict its category.\r\n",
        "predictions = model.predict(onehot_re[4])\r\n",
        "predictions[4]"
      ],
      "execution_count": null,
      "outputs": [
        {
          "output_type": "error",
          "ename": "ValueError",
          "evalue": "ignored",
          "traceback": [
            "\u001b[0;31m---------------------------------------------------------------------------\u001b[0m",
            "\u001b[0;31mValueError\u001b[0m                                Traceback (most recent call last)",
            "\u001b[0;32m<ipython-input-53-b2b7f0280b74>\u001b[0m in \u001b[0;36m<module>\u001b[0;34m()\u001b[0m\n\u001b[1;32m      1\u001b[0m \u001b[0;31m# predict on a sample text without padding.\u001b[0m\u001b[0;34m\u001b[0m\u001b[0;34m\u001b[0m\u001b[0;34m\u001b[0m\u001b[0m\n\u001b[1;32m      2\u001b[0m \u001b[0;31m# to select the 4th poetry in the dataframe and to predict its category.\u001b[0m\u001b[0;34m\u001b[0m\u001b[0;34m\u001b[0m\u001b[0;34m\u001b[0m\u001b[0m\n\u001b[0;32m----> 3\u001b[0;31m \u001b[0mpredictions\u001b[0m \u001b[0;34m=\u001b[0m \u001b[0mmodel\u001b[0m\u001b[0;34m.\u001b[0m\u001b[0mpredict\u001b[0m\u001b[0;34m(\u001b[0m\u001b[0monehot_re\u001b[0m\u001b[0;34m)\u001b[0m\u001b[0;34m\u001b[0m\u001b[0;34m\u001b[0m\u001b[0m\n\u001b[0m\u001b[1;32m      4\u001b[0m \u001b[0mpredictions\u001b[0m\u001b[0;34m\u001b[0m\u001b[0;34m\u001b[0m\u001b[0m\n",
            "\u001b[0;32m/usr/local/lib/python3.6/dist-packages/tensorflow/python/keras/engine/training_v1.py\u001b[0m in \u001b[0;36mpredict\u001b[0;34m(self, x, batch_size, verbose, steps, callbacks, max_queue_size, workers, use_multiprocessing)\u001b[0m\n\u001b[1;32m    989\u001b[0m         \u001b[0mmax_queue_size\u001b[0m\u001b[0;34m=\u001b[0m\u001b[0mmax_queue_size\u001b[0m\u001b[0;34m,\u001b[0m\u001b[0;34m\u001b[0m\u001b[0;34m\u001b[0m\u001b[0m\n\u001b[1;32m    990\u001b[0m         \u001b[0mworkers\u001b[0m\u001b[0;34m=\u001b[0m\u001b[0mworkers\u001b[0m\u001b[0;34m,\u001b[0m\u001b[0;34m\u001b[0m\u001b[0;34m\u001b[0m\u001b[0m\n\u001b[0;32m--> 991\u001b[0;31m         use_multiprocessing=use_multiprocessing)\n\u001b[0m\u001b[1;32m    992\u001b[0m \u001b[0;34m\u001b[0m\u001b[0m\n\u001b[1;32m    993\u001b[0m   \u001b[0;32mdef\u001b[0m \u001b[0mreset_metrics\u001b[0m\u001b[0;34m(\u001b[0m\u001b[0mself\u001b[0m\u001b[0;34m)\u001b[0m\u001b[0;34m:\u001b[0m\u001b[0;34m\u001b[0m\u001b[0;34m\u001b[0m\u001b[0m\n",
            "\u001b[0;32m/usr/local/lib/python3.6/dist-packages/tensorflow/python/keras/engine/training_arrays_v1.py\u001b[0m in \u001b[0;36mpredict\u001b[0;34m(self, model, x, batch_size, verbose, steps, callbacks, **kwargs)\u001b[0m\n\u001b[1;32m    703\u001b[0m     \u001b[0mbatch_size\u001b[0m \u001b[0;34m=\u001b[0m \u001b[0mmodel\u001b[0m\u001b[0;34m.\u001b[0m\u001b[0m_validate_or_infer_batch_size\u001b[0m\u001b[0;34m(\u001b[0m\u001b[0mbatch_size\u001b[0m\u001b[0;34m,\u001b[0m \u001b[0msteps\u001b[0m\u001b[0;34m,\u001b[0m \u001b[0mx\u001b[0m\u001b[0;34m)\u001b[0m\u001b[0;34m\u001b[0m\u001b[0;34m\u001b[0m\u001b[0m\n\u001b[1;32m    704\u001b[0m     x, _, _ = model._standardize_user_data(\n\u001b[0;32m--> 705\u001b[0;31m         x, check_steps=True, steps_name='steps', steps=steps)\n\u001b[0m\u001b[1;32m    706\u001b[0m     return predict_loop(\n\u001b[1;32m    707\u001b[0m         \u001b[0mmodel\u001b[0m\u001b[0;34m,\u001b[0m\u001b[0;34m\u001b[0m\u001b[0;34m\u001b[0m\u001b[0m\n",
            "\u001b[0;32m/usr/local/lib/python3.6/dist-packages/tensorflow/python/keras/engine/training_v1.py\u001b[0m in \u001b[0;36m_standardize_user_data\u001b[0;34m(self, x, y, sample_weight, class_weight, batch_size, check_steps, steps_name, steps, validation_split, shuffle, extract_tensors_from_dataset)\u001b[0m\n\u001b[1;32m   2334\u001b[0m         \u001b[0mis_dataset\u001b[0m\u001b[0;34m=\u001b[0m\u001b[0mis_dataset\u001b[0m\u001b[0;34m,\u001b[0m\u001b[0;34m\u001b[0m\u001b[0;34m\u001b[0m\u001b[0m\n\u001b[1;32m   2335\u001b[0m         \u001b[0mclass_weight\u001b[0m\u001b[0;34m=\u001b[0m\u001b[0mclass_weight\u001b[0m\u001b[0;34m,\u001b[0m\u001b[0;34m\u001b[0m\u001b[0;34m\u001b[0m\u001b[0m\n\u001b[0;32m-> 2336\u001b[0;31m         batch_size=batch_size)\n\u001b[0m\u001b[1;32m   2337\u001b[0m \u001b[0;34m\u001b[0m\u001b[0m\n\u001b[1;32m   2338\u001b[0m   def _standardize_tensors(self, x, y, sample_weight, run_eagerly, dict_inputs,\n",
            "\u001b[0;32m/usr/local/lib/python3.6/dist-packages/tensorflow/python/keras/engine/training_v1.py\u001b[0m in \u001b[0;36m_standardize_tensors\u001b[0;34m(self, x, y, sample_weight, run_eagerly, dict_inputs, is_dataset, class_weight, batch_size)\u001b[0m\n\u001b[1;32m   2361\u001b[0m           \u001b[0mfeed_input_shapes\u001b[0m\u001b[0;34m,\u001b[0m\u001b[0;34m\u001b[0m\u001b[0;34m\u001b[0m\u001b[0m\n\u001b[1;32m   2362\u001b[0m           \u001b[0mcheck_batch_axis\u001b[0m\u001b[0;34m=\u001b[0m\u001b[0;32mFalse\u001b[0m\u001b[0;34m,\u001b[0m  \u001b[0;31m# Don't enforce the batch size.\u001b[0m\u001b[0;34m\u001b[0m\u001b[0;34m\u001b[0m\u001b[0m\n\u001b[0;32m-> 2363\u001b[0;31m           exception_prefix='input')\n\u001b[0m\u001b[1;32m   2364\u001b[0m \u001b[0;34m\u001b[0m\u001b[0m\n\u001b[1;32m   2365\u001b[0m     \u001b[0;31m# Get typespecs for the input data and sanitize it if necessary.\u001b[0m\u001b[0;34m\u001b[0m\u001b[0;34m\u001b[0m\u001b[0;34m\u001b[0m\u001b[0m\n",
            "\u001b[0;32m/usr/local/lib/python3.6/dist-packages/tensorflow/python/keras/engine/training_utils_v1.py\u001b[0m in \u001b[0;36mstandardize_input_data\u001b[0;34m(data, names, shapes, check_batch_axis, exception_prefix)\u001b[0m\n\u001b[1;32m    538\u001b[0m                              \u001b[0;34m': expected '\u001b[0m \u001b[0;34m+\u001b[0m \u001b[0mnames\u001b[0m\u001b[0;34m[\u001b[0m\u001b[0mi\u001b[0m\u001b[0;34m]\u001b[0m \u001b[0;34m+\u001b[0m \u001b[0;34m' to have shape '\u001b[0m \u001b[0;34m+\u001b[0m\u001b[0;34m\u001b[0m\u001b[0;34m\u001b[0m\u001b[0m\n\u001b[1;32m    539\u001b[0m                              \u001b[0mstr\u001b[0m\u001b[0;34m(\u001b[0m\u001b[0mshape\u001b[0m\u001b[0;34m)\u001b[0m \u001b[0;34m+\u001b[0m \u001b[0;34m' but got array with shape '\u001b[0m \u001b[0;34m+\u001b[0m\u001b[0;34m\u001b[0m\u001b[0;34m\u001b[0m\u001b[0m\n\u001b[0;32m--> 540\u001b[0;31m                              str(data_shape))\n\u001b[0m\u001b[1;32m    541\u001b[0m   \u001b[0;32mreturn\u001b[0m \u001b[0mdata\u001b[0m\u001b[0;34m\u001b[0m\u001b[0;34m\u001b[0m\u001b[0m\n\u001b[1;32m    542\u001b[0m \u001b[0;34m\u001b[0m\u001b[0m\n",
            "\u001b[0;31mValueError\u001b[0m: Error when checking input: expected embedding_2_input to have shape (350,) but got array with shape (1,)"
          ]
        }
      ]
    },
    {
      "cell_type": "code",
      "metadata": {
        "id": "FMqEKSrQed2C"
      },
      "source": [
        "if (predictions[4]>=0.5):\r\n",
        "  print(\"Text is Poetry\")\r\n",
        "else: \r\n",
        "  print(\"Text is Novel \")"
      ],
      "execution_count": null,
      "outputs": []
    }
  ]
}